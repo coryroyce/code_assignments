{
  "nbformat": 4,
  "nbformat_minor": 0,
  "metadata": {
    "colab": {
      "name": "111107_Vector_Space_Model_Wedding_Gown_Cory_Randolph.ipynb",
      "provenance": [],
      "collapsed_sections": [],
      "toc_visible": true,
      "authorship_tag": "ABX9TyO0JhFOkhWOG3dR/uWvNHjr",
      "include_colab_link": true
    },
    "kernelspec": {
      "name": "python3",
      "display_name": "Python 3"
    },
    "language_info": {
      "name": "python"
    }
  },
  "cells": [
    {
      "cell_type": "markdown",
      "metadata": {
        "id": "view-in-github",
        "colab_type": "text"
      },
      "source": [
        "<a href=\"https://colab.research.google.com/github/coryroyce/code_assignments/blob/main/111107_Vector_Space_Model_Wedding_Gown_Cory_Randolph.ipynb\" target=\"_parent\"><img src=\"https://colab.research.google.com/assets/colab-badge.svg\" alt=\"Open In Colab\"/></a>"
      ]
    },
    {
      "cell_type": "markdown",
      "metadata": {
        "id": "u8LmF1GL2kx8"
      },
      "source": [
        "# Vector Space Model - Wedding Gown\n",
        "\n",
        "CMPE 256\n",
        "\n",
        "Cory Randolph\n",
        "\n",
        "11/7/2021\n",
        "\n"
      ]
    },
    {
      "cell_type": "markdown",
      "metadata": {
        "id": "AAYjnlUQ2xwg"
      },
      "source": [
        "# Prompt"
      ]
    },
    {
      "cell_type": "markdown",
      "metadata": {
        "id": "h4XFgkuw2zjV"
      },
      "source": [
        "Learning Objective: Develop Vector Space Model for Wedding Gown\n",
        "\n",
        "d1: User selected Wedding gown.\n",
        "\n",
        "d2: User ordered on-line rose flowers.\n",
        "\n",
        "d3: User searched diamond ring.\n",
        "\n",
        "d4: User selected white wedding gown, online flowers, 3 carat diamond ring.\n"
      ]
    },
    {
      "cell_type": "markdown",
      "metadata": {
        "id": "ARgfSHA2Nod0"
      },
      "source": [
        "# Summary of Analysis"
      ]
    },
    {
      "cell_type": "markdown",
      "metadata": {
        "id": "h4hoeq2DNrAx"
      },
      "source": [
        "This notebook and the below code takes the 4 sample documents and creates a Vector Space Model to which documents are more similar to each other. \n",
        "\n",
        "The end result is this table:"
      ]
    },
    {
      "cell_type": "markdown",
      "metadata": {
        "id": "4gthNKWA-UC5"
      },
      "source": [
        "| document_id   | document                                                                |        d1 |        d2 |        d3 |       d4 |\n",
        "|:--------------|:------------------------------------------------------------------------|----------:|----------:|----------:|---------:|\n",
        "| d1            | User selected Wedding gown.                                             | 1         | 0.0842048 | 0.11745   | 0.552465 |\n",
        "| d2            | User ordered on-line rose flowers.                                      | 0.0842048 | 1         | 0.0776134 | 0.152707 |\n",
        "| d3            | User searched diamond ring.                                             | 0.11745   | 0.0776134 | 1         | 0.361108 |\n",
        "| d4            | User selected white wedding gown, online flowers, 3 carat diamond ring, | 0.552465  | 0.152707  | 0.361108  | 1        |"
      ]
    },
    {
      "cell_type": "markdown",
      "metadata": {
        "id": "J-hFaDbG-XAw"
      },
      "source": [
        "Based on this table we get the below results: \n",
        "\n",
        "*   d1 and d4 are the most similar to each other (cosine similarity of 0.55)\n",
        "*   d3 is somewhat similar to d4 (a cosine similarity of 0.36)\n",
        "*   d2 is weakly similar to d4 (cosine similarity of 0.15)"
      ]
    },
    {
      "cell_type": "markdown",
      "metadata": {
        "id": "YRiHF4Bs3jg1"
      },
      "source": [
        "# Imports"
      ]
    },
    {
      "cell_type": "code",
      "metadata": {
        "id": "uppRKHQf3zKa"
      },
      "source": [
        "import pandas as pd"
      ],
      "execution_count": 27,
      "outputs": []
    },
    {
      "cell_type": "markdown",
      "metadata": {
        "id": "v_s7E8jG3KwA"
      },
      "source": [
        "# Data"
      ]
    },
    {
      "cell_type": "markdown",
      "metadata": {
        "id": "bUdPoJimOcKc"
      },
      "source": [
        "Input the data for the documents manually."
      ]
    },
    {
      "cell_type": "code",
      "metadata": {
        "id": "6d-GeVmZOo4M"
      },
      "source": [
        "data = [\n",
        "        ['d1', 'User selected Wedding gown.'],\n",
        "        ['d2', 'User ordered on-line rose flowers.'],\n",
        "        ['d3', 'User searched diamond ring.'],\n",
        "        ['d4', 'User selected white wedding gown, online flowers, 3 carat diamond ring,'],\n",
        "]\n",
        "\n",
        "columns = ['document_id', 'document']"
      ],
      "execution_count": 28,
      "outputs": []
    },
    {
      "cell_type": "markdown",
      "metadata": {
        "id": "KtvBDJDheGfr"
      },
      "source": [
        "Convert the data into a Pandas Dataframe"
      ]
    },
    {
      "cell_type": "code",
      "metadata": {
        "id": "mvhdPDNdOowb",
        "colab": {
          "base_uri": "https://localhost:8080/",
          "height": 206
        },
        "outputId": "35493bea-4e22-4e43-fca6-685a26267209"
      },
      "source": [
        "df = pd.DataFrame(data = data, columns = columns)\n",
        "\n",
        "# Set the index\n",
        "df.set_index('document_id',inplace = True)\n",
        "\n",
        "# Display the first few rows\n",
        "df.head()"
      ],
      "execution_count": 29,
      "outputs": [
        {
          "output_type": "execute_result",
          "data": {
            "text/html": [
              "<div>\n",
              "<style scoped>\n",
              "    .dataframe tbody tr th:only-of-type {\n",
              "        vertical-align: middle;\n",
              "    }\n",
              "\n",
              "    .dataframe tbody tr th {\n",
              "        vertical-align: top;\n",
              "    }\n",
              "\n",
              "    .dataframe thead th {\n",
              "        text-align: right;\n",
              "    }\n",
              "</style>\n",
              "<table border=\"1\" class=\"dataframe\">\n",
              "  <thead>\n",
              "    <tr style=\"text-align: right;\">\n",
              "      <th></th>\n",
              "      <th>document</th>\n",
              "    </tr>\n",
              "    <tr>\n",
              "      <th>document_id</th>\n",
              "      <th></th>\n",
              "    </tr>\n",
              "  </thead>\n",
              "  <tbody>\n",
              "    <tr>\n",
              "      <th>d1</th>\n",
              "      <td>User selected Wedding gown.</td>\n",
              "    </tr>\n",
              "    <tr>\n",
              "      <th>d2</th>\n",
              "      <td>User ordered on-line rose flowers.</td>\n",
              "    </tr>\n",
              "    <tr>\n",
              "      <th>d3</th>\n",
              "      <td>User searched diamond ring.</td>\n",
              "    </tr>\n",
              "    <tr>\n",
              "      <th>d4</th>\n",
              "      <td>User selected white wedding gown, online flowe...</td>\n",
              "    </tr>\n",
              "  </tbody>\n",
              "</table>\n",
              "</div>"
            ],
            "text/plain": [
              "                                                      document\n",
              "document_id                                                   \n",
              "d1                                 User selected Wedding gown.\n",
              "d2                          User ordered on-line rose flowers.\n",
              "d3                                 User searched diamond ring.\n",
              "d4           User selected white wedding gown, online flowe..."
            ]
          },
          "metadata": {},
          "execution_count": 29
        }
      ]
    },
    {
      "cell_type": "markdown",
      "metadata": {
        "id": "2UOASR79b74x"
      },
      "source": [
        "Apply the bag of words representation to the normalized text."
      ]
    },
    {
      "cell_type": "code",
      "metadata": {
        "id": "A6VrqvvJb74y",
        "colab": {
          "base_uri": "https://localhost:8080/"
        },
        "outputId": "77576992-310b-40ee-cd30-cc1a61bb8a4e"
      },
      "source": [
        "from collections import Counter\n",
        "\n",
        "bag_of_words = (\n",
        "    df['document'].\n",
        "    str.lower().                  # convert all letters to lowercase\n",
        "    str.replace(\"[^\\w\\s]\", \" \").  # replace non-alphanumeric characters by whitespace\n",
        "    str.split()                   # split on whitespace\n",
        ").apply(Counter)\n",
        "\n",
        "bag_of_words"
      ],
      "execution_count": 30,
      "outputs": [
        {
          "output_type": "execute_result",
          "data": {
            "text/plain": [
              "document_id\n",
              "d1    {'user': 1, 'selected': 1, 'wedding': 1, 'gown...\n",
              "d2    {'user': 1, 'ordered': 1, 'on': 1, 'line': 1, ...\n",
              "d3    {'user': 1, 'searched': 1, 'diamond': 1, 'ring...\n",
              "d4    {'user': 1, 'selected': 1, 'white': 1, 'weddin...\n",
              "Name: document, dtype: object"
            ]
          },
          "metadata": {},
          "execution_count": 30
        }
      ]
    },
    {
      "cell_type": "markdown",
      "metadata": {
        "id": "ulJJEt7VW_Z0"
      },
      "source": [
        "Convert the bag of words representation into a term-frequency matrix."
      ]
    },
    {
      "cell_type": "code",
      "metadata": {
        "colab": {
          "base_uri": "https://localhost:8080/",
          "height": 175
        },
        "id": "cMgHCIj9Wg5A",
        "outputId": "3e93903f-939d-4239-9c75-2fe0f6df503e"
      },
      "source": [
        "tf = pd.DataFrame(list(bag_of_words))\n",
        "\n",
        "# Fill the NA's with 0's\n",
        "tf = tf.fillna(0)\n",
        "\n",
        "tf"
      ],
      "execution_count": 31,
      "outputs": [
        {
          "output_type": "execute_result",
          "data": {
            "text/html": [
              "<div>\n",
              "<style scoped>\n",
              "    .dataframe tbody tr th:only-of-type {\n",
              "        vertical-align: middle;\n",
              "    }\n",
              "\n",
              "    .dataframe tbody tr th {\n",
              "        vertical-align: top;\n",
              "    }\n",
              "\n",
              "    .dataframe thead th {\n",
              "        text-align: right;\n",
              "    }\n",
              "</style>\n",
              "<table border=\"1\" class=\"dataframe\">\n",
              "  <thead>\n",
              "    <tr style=\"text-align: right;\">\n",
              "      <th></th>\n",
              "      <th>user</th>\n",
              "      <th>selected</th>\n",
              "      <th>wedding</th>\n",
              "      <th>gown</th>\n",
              "      <th>ordered</th>\n",
              "      <th>on</th>\n",
              "      <th>line</th>\n",
              "      <th>rose</th>\n",
              "      <th>flowers</th>\n",
              "      <th>searched</th>\n",
              "      <th>diamond</th>\n",
              "      <th>ring</th>\n",
              "      <th>white</th>\n",
              "      <th>online</th>\n",
              "      <th>3</th>\n",
              "      <th>carat</th>\n",
              "    </tr>\n",
              "  </thead>\n",
              "  <tbody>\n",
              "    <tr>\n",
              "      <th>0</th>\n",
              "      <td>1</td>\n",
              "      <td>1.0</td>\n",
              "      <td>1.0</td>\n",
              "      <td>1.0</td>\n",
              "      <td>0.0</td>\n",
              "      <td>0.0</td>\n",
              "      <td>0.0</td>\n",
              "      <td>0.0</td>\n",
              "      <td>0.0</td>\n",
              "      <td>0.0</td>\n",
              "      <td>0.0</td>\n",
              "      <td>0.0</td>\n",
              "      <td>0.0</td>\n",
              "      <td>0.0</td>\n",
              "      <td>0.0</td>\n",
              "      <td>0.0</td>\n",
              "    </tr>\n",
              "    <tr>\n",
              "      <th>1</th>\n",
              "      <td>1</td>\n",
              "      <td>0.0</td>\n",
              "      <td>0.0</td>\n",
              "      <td>0.0</td>\n",
              "      <td>1.0</td>\n",
              "      <td>1.0</td>\n",
              "      <td>1.0</td>\n",
              "      <td>1.0</td>\n",
              "      <td>1.0</td>\n",
              "      <td>0.0</td>\n",
              "      <td>0.0</td>\n",
              "      <td>0.0</td>\n",
              "      <td>0.0</td>\n",
              "      <td>0.0</td>\n",
              "      <td>0.0</td>\n",
              "      <td>0.0</td>\n",
              "    </tr>\n",
              "    <tr>\n",
              "      <th>2</th>\n",
              "      <td>1</td>\n",
              "      <td>0.0</td>\n",
              "      <td>0.0</td>\n",
              "      <td>0.0</td>\n",
              "      <td>0.0</td>\n",
              "      <td>0.0</td>\n",
              "      <td>0.0</td>\n",
              "      <td>0.0</td>\n",
              "      <td>0.0</td>\n",
              "      <td>1.0</td>\n",
              "      <td>1.0</td>\n",
              "      <td>1.0</td>\n",
              "      <td>0.0</td>\n",
              "      <td>0.0</td>\n",
              "      <td>0.0</td>\n",
              "      <td>0.0</td>\n",
              "    </tr>\n",
              "    <tr>\n",
              "      <th>3</th>\n",
              "      <td>1</td>\n",
              "      <td>1.0</td>\n",
              "      <td>1.0</td>\n",
              "      <td>1.0</td>\n",
              "      <td>0.0</td>\n",
              "      <td>0.0</td>\n",
              "      <td>0.0</td>\n",
              "      <td>0.0</td>\n",
              "      <td>1.0</td>\n",
              "      <td>0.0</td>\n",
              "      <td>1.0</td>\n",
              "      <td>1.0</td>\n",
              "      <td>1.0</td>\n",
              "      <td>1.0</td>\n",
              "      <td>1.0</td>\n",
              "      <td>1.0</td>\n",
              "    </tr>\n",
              "  </tbody>\n",
              "</table>\n",
              "</div>"
            ],
            "text/plain": [
              "   user  selected  wedding  gown  ordered  ...  ring  white  online    3  carat\n",
              "0     1       1.0      1.0   1.0      0.0  ...   0.0    0.0     0.0  0.0    0.0\n",
              "1     1       0.0      0.0   0.0      1.0  ...   0.0    0.0     0.0  0.0    0.0\n",
              "2     1       0.0      0.0   0.0      0.0  ...   1.0    0.0     0.0  0.0    0.0\n",
              "3     1       1.0      1.0   1.0      0.0  ...   1.0    1.0     1.0  1.0    1.0\n",
              "\n",
              "[4 rows x 16 columns]"
            ]
          },
          "metadata": {},
          "execution_count": 31
        }
      ]
    },
    {
      "cell_type": "markdown",
      "metadata": {
        "id": "emNTxFE4XUbT"
      },
      "source": [
        "# Apply Vector Space Model"
      ]
    },
    {
      "cell_type": "markdown",
      "metadata": {
        "id": "CRj_aMlzXYNg"
      },
      "source": [
        "Use Sklearn to help create and extract the feature (similar to the manual method above)"
      ]
    },
    {
      "cell_type": "code",
      "metadata": {
        "id": "T6sx42neX1G3"
      },
      "source": [
        "from sklearn.feature_extraction.text import CountVectorizer\n",
        "\n",
        "vec = CountVectorizer()\n",
        "vec.fit(df['document'])\n",
        "tf_sparse = vec.transform(df['document'])\n"
      ],
      "execution_count": 32,
      "outputs": []
    },
    {
      "cell_type": "markdown",
      "metadata": {
        "id": "CLXR-TyQYTzc"
      },
      "source": [
        "Convert the sparse representation to a dense one"
      ]
    },
    {
      "cell_type": "code",
      "metadata": {
        "colab": {
          "base_uri": "https://localhost:8080/"
        },
        "id": "F07LENZOYTS8",
        "outputId": "5a1ce3cf-1969-4bfa-e737-d18e10c26931"
      },
      "source": [
        "tf_dense = tf_sparse.todense()\n",
        "tf_dense"
      ],
      "execution_count": 33,
      "outputs": [
        {
          "output_type": "execute_result",
          "data": {
            "text/plain": [
              "matrix([[0, 0, 0, 1, 0, 0, 0, 0, 0, 0, 0, 1, 1, 1, 0],\n",
              "        [0, 0, 1, 0, 1, 1, 0, 1, 0, 1, 0, 0, 1, 0, 0],\n",
              "        [0, 1, 0, 0, 0, 0, 0, 0, 1, 0, 1, 0, 1, 0, 0],\n",
              "        [1, 1, 1, 1, 0, 0, 1, 0, 1, 0, 0, 1, 1, 1, 1]])"
            ]
          },
          "metadata": {},
          "execution_count": 33
        }
      ]
    },
    {
      "cell_type": "markdown",
      "metadata": {
        "id": "c8lE2SzQYd5q"
      },
      "source": [
        "Visualize the matrix as a dataframe"
      ]
    },
    {
      "cell_type": "code",
      "metadata": {
        "colab": {
          "base_uri": "https://localhost:8080/",
          "height": 175
        },
        "id": "rghsjZmBYdpS",
        "outputId": "fd283ebb-bddc-4dfb-ce55-8b6cd9d90286"
      },
      "source": [
        "pd.DataFrame(\n",
        "    tf_dense,\n",
        "    columns=vec.get_feature_names()\n",
        ")"
      ],
      "execution_count": 34,
      "outputs": [
        {
          "output_type": "execute_result",
          "data": {
            "text/html": [
              "<div>\n",
              "<style scoped>\n",
              "    .dataframe tbody tr th:only-of-type {\n",
              "        vertical-align: middle;\n",
              "    }\n",
              "\n",
              "    .dataframe tbody tr th {\n",
              "        vertical-align: top;\n",
              "    }\n",
              "\n",
              "    .dataframe thead th {\n",
              "        text-align: right;\n",
              "    }\n",
              "</style>\n",
              "<table border=\"1\" class=\"dataframe\">\n",
              "  <thead>\n",
              "    <tr style=\"text-align: right;\">\n",
              "      <th></th>\n",
              "      <th>carat</th>\n",
              "      <th>diamond</th>\n",
              "      <th>flowers</th>\n",
              "      <th>gown</th>\n",
              "      <th>line</th>\n",
              "      <th>on</th>\n",
              "      <th>online</th>\n",
              "      <th>ordered</th>\n",
              "      <th>ring</th>\n",
              "      <th>rose</th>\n",
              "      <th>searched</th>\n",
              "      <th>selected</th>\n",
              "      <th>user</th>\n",
              "      <th>wedding</th>\n",
              "      <th>white</th>\n",
              "    </tr>\n",
              "  </thead>\n",
              "  <tbody>\n",
              "    <tr>\n",
              "      <th>0</th>\n",
              "      <td>0</td>\n",
              "      <td>0</td>\n",
              "      <td>0</td>\n",
              "      <td>1</td>\n",
              "      <td>0</td>\n",
              "      <td>0</td>\n",
              "      <td>0</td>\n",
              "      <td>0</td>\n",
              "      <td>0</td>\n",
              "      <td>0</td>\n",
              "      <td>0</td>\n",
              "      <td>1</td>\n",
              "      <td>1</td>\n",
              "      <td>1</td>\n",
              "      <td>0</td>\n",
              "    </tr>\n",
              "    <tr>\n",
              "      <th>1</th>\n",
              "      <td>0</td>\n",
              "      <td>0</td>\n",
              "      <td>1</td>\n",
              "      <td>0</td>\n",
              "      <td>1</td>\n",
              "      <td>1</td>\n",
              "      <td>0</td>\n",
              "      <td>1</td>\n",
              "      <td>0</td>\n",
              "      <td>1</td>\n",
              "      <td>0</td>\n",
              "      <td>0</td>\n",
              "      <td>1</td>\n",
              "      <td>0</td>\n",
              "      <td>0</td>\n",
              "    </tr>\n",
              "    <tr>\n",
              "      <th>2</th>\n",
              "      <td>0</td>\n",
              "      <td>1</td>\n",
              "      <td>0</td>\n",
              "      <td>0</td>\n",
              "      <td>0</td>\n",
              "      <td>0</td>\n",
              "      <td>0</td>\n",
              "      <td>0</td>\n",
              "      <td>1</td>\n",
              "      <td>0</td>\n",
              "      <td>1</td>\n",
              "      <td>0</td>\n",
              "      <td>1</td>\n",
              "      <td>0</td>\n",
              "      <td>0</td>\n",
              "    </tr>\n",
              "    <tr>\n",
              "      <th>3</th>\n",
              "      <td>1</td>\n",
              "      <td>1</td>\n",
              "      <td>1</td>\n",
              "      <td>1</td>\n",
              "      <td>0</td>\n",
              "      <td>0</td>\n",
              "      <td>1</td>\n",
              "      <td>0</td>\n",
              "      <td>1</td>\n",
              "      <td>0</td>\n",
              "      <td>0</td>\n",
              "      <td>1</td>\n",
              "      <td>1</td>\n",
              "      <td>1</td>\n",
              "      <td>1</td>\n",
              "    </tr>\n",
              "  </tbody>\n",
              "</table>\n",
              "</div>"
            ],
            "text/plain": [
              "   carat  diamond  flowers  gown  ...  selected  user  wedding  white\n",
              "0      0        0        0     1  ...         1     1        1      0\n",
              "1      0        0        1     0  ...         0     1        0      0\n",
              "2      0        1        0     0  ...         0     1        0      0\n",
              "3      1        1        1     1  ...         1     1        1      1\n",
              "\n",
              "[4 rows x 15 columns]"
            ]
          },
          "metadata": {},
          "execution_count": 34
        }
      ]
    },
    {
      "cell_type": "markdown",
      "metadata": {
        "id": "R6undXfeZWfb"
      },
      "source": [
        "# Apply TF-IDF"
      ]
    },
    {
      "cell_type": "markdown",
      "metadata": {
        "id": "C1q7DApFZZql"
      },
      "source": [
        "Apply TF-IDF to the document"
      ]
    },
    {
      "cell_type": "code",
      "metadata": {
        "colab": {
          "base_uri": "https://localhost:8080/"
        },
        "id": "opPpXPeZZhrF",
        "outputId": "4ea31ab5-8a29-4d7f-b083-415d53835d53"
      },
      "source": [
        "from sklearn.feature_extraction.text import TfidfVectorizer\n",
        "\n",
        "vec = TfidfVectorizer(norm=None) # Do not normalize.\n",
        "vec.fit(df['document']) # This determines the vocabulary.\n",
        "tf_idf_sparse = vec.transform(df['document'])\n",
        "tf_idf_sparse.data"
      ],
      "execution_count": 35,
      "outputs": [
        {
          "output_type": "execute_result",
          "data": {
            "text/plain": [
              "array([1.51082562, 1.        , 1.51082562, 1.51082562, 1.        ,\n",
              "       1.91629073, 1.91629073, 1.91629073, 1.91629073, 1.51082562,\n",
              "       1.        , 1.91629073, 1.51082562, 1.51082562, 1.91629073,\n",
              "       1.51082562, 1.        , 1.51082562, 1.51082562, 1.91629073,\n",
              "       1.51082562, 1.51082562, 1.51082562, 1.91629073])"
            ]
          },
          "metadata": {},
          "execution_count": 35
        }
      ]
    },
    {
      "cell_type": "markdown",
      "metadata": {
        "id": "KYmQzQMcZzJi"
      },
      "source": [
        "# Apply Cosine Similarity"
      ]
    },
    {
      "cell_type": "markdown",
      "metadata": {
        "id": "LVvgClhHZ2el"
      },
      "source": [
        "Apply Cosine Similarity to compare the vectors"
      ]
    },
    {
      "cell_type": "code",
      "metadata": {
        "colab": {
          "base_uri": "https://localhost:8080/"
        },
        "id": "bu1KKlmYZho8",
        "outputId": "dd1cf92c-ce6b-4713-ae83-fbce75191d34"
      },
      "source": [
        "from sklearn.metrics.pairwise import cosine_similarity, cosine_distances\n",
        "\n",
        "cosine_similarity(tf_idf_sparse)"
      ],
      "execution_count": 36,
      "outputs": [
        {
          "output_type": "execute_result",
          "data": {
            "text/plain": [
              "array([[1.        , 0.08420485, 0.1174499 , 0.55246518],\n",
              "       [0.08420485, 1.        , 0.07761339, 0.15270708],\n",
              "       [0.1174499 , 0.07761339, 1.        , 0.36110824],\n",
              "       [0.55246518, 0.15270708, 0.36110824, 1.        ]])"
            ]
          },
          "metadata": {},
          "execution_count": 36
        }
      ]
    },
    {
      "cell_type": "markdown",
      "metadata": {
        "id": "tR31fzGG6lxi"
      },
      "source": [
        "Convert this to a dataframe for easy visualization."
      ]
    },
    {
      "cell_type": "code",
      "metadata": {
        "colab": {
          "base_uri": "https://localhost:8080/",
          "height": 206
        },
        "id": "6dLrJK6M6pmX",
        "outputId": "b0f33839-3a0b-45ce-9d03-6b19c4bfdb04"
      },
      "source": [
        "df_cos_sim = pd.DataFrame(cosine_similarity(tf_idf_sparse))\n",
        "\n",
        "# Set the index to get the orginal document numbers\n",
        "df_cos_sim.set_index(df.index, drop = True, inplace = True)\n",
        "\n",
        "# Use the document_id as the colum labels\n",
        "df_cos_sim.columns = df.index.to_numpy()\n",
        "df_cos_sim"
      ],
      "execution_count": 37,
      "outputs": [
        {
          "output_type": "execute_result",
          "data": {
            "text/html": [
              "<div>\n",
              "<style scoped>\n",
              "    .dataframe tbody tr th:only-of-type {\n",
              "        vertical-align: middle;\n",
              "    }\n",
              "\n",
              "    .dataframe tbody tr th {\n",
              "        vertical-align: top;\n",
              "    }\n",
              "\n",
              "    .dataframe thead th {\n",
              "        text-align: right;\n",
              "    }\n",
              "</style>\n",
              "<table border=\"1\" class=\"dataframe\">\n",
              "  <thead>\n",
              "    <tr style=\"text-align: right;\">\n",
              "      <th></th>\n",
              "      <th>d1</th>\n",
              "      <th>d2</th>\n",
              "      <th>d3</th>\n",
              "      <th>d4</th>\n",
              "    </tr>\n",
              "    <tr>\n",
              "      <th>document_id</th>\n",
              "      <th></th>\n",
              "      <th></th>\n",
              "      <th></th>\n",
              "      <th></th>\n",
              "    </tr>\n",
              "  </thead>\n",
              "  <tbody>\n",
              "    <tr>\n",
              "      <th>d1</th>\n",
              "      <td>1.000000</td>\n",
              "      <td>0.084205</td>\n",
              "      <td>0.117450</td>\n",
              "      <td>0.552465</td>\n",
              "    </tr>\n",
              "    <tr>\n",
              "      <th>d2</th>\n",
              "      <td>0.084205</td>\n",
              "      <td>1.000000</td>\n",
              "      <td>0.077613</td>\n",
              "      <td>0.152707</td>\n",
              "    </tr>\n",
              "    <tr>\n",
              "      <th>d3</th>\n",
              "      <td>0.117450</td>\n",
              "      <td>0.077613</td>\n",
              "      <td>1.000000</td>\n",
              "      <td>0.361108</td>\n",
              "    </tr>\n",
              "    <tr>\n",
              "      <th>d4</th>\n",
              "      <td>0.552465</td>\n",
              "      <td>0.152707</td>\n",
              "      <td>0.361108</td>\n",
              "      <td>1.000000</td>\n",
              "    </tr>\n",
              "  </tbody>\n",
              "</table>\n",
              "</div>"
            ],
            "text/plain": [
              "                   d1        d2        d3        d4\n",
              "document_id                                        \n",
              "d1           1.000000  0.084205  0.117450  0.552465\n",
              "d2           0.084205  1.000000  0.077613  0.152707\n",
              "d3           0.117450  0.077613  1.000000  0.361108\n",
              "d4           0.552465  0.152707  0.361108  1.000000"
            ]
          },
          "metadata": {},
          "execution_count": 37
        }
      ]
    },
    {
      "cell_type": "markdown",
      "metadata": {
        "id": "k7oFW9HW7sGx"
      },
      "source": [
        "Join the cosine similarity dataframe with the original one\n"
      ]
    },
    {
      "cell_type": "code",
      "metadata": {
        "colab": {
          "base_uri": "https://localhost:8080/",
          "height": 206
        },
        "id": "D9CPaYZD60V1",
        "outputId": "a1d7839b-6177-4b48-d95c-210b80491582"
      },
      "source": [
        "df_final = df.merge(df_cos_sim, on = 'document_id')\n",
        "df_final"
      ],
      "execution_count": 38,
      "outputs": [
        {
          "output_type": "execute_result",
          "data": {
            "text/html": [
              "<div>\n",
              "<style scoped>\n",
              "    .dataframe tbody tr th:only-of-type {\n",
              "        vertical-align: middle;\n",
              "    }\n",
              "\n",
              "    .dataframe tbody tr th {\n",
              "        vertical-align: top;\n",
              "    }\n",
              "\n",
              "    .dataframe thead th {\n",
              "        text-align: right;\n",
              "    }\n",
              "</style>\n",
              "<table border=\"1\" class=\"dataframe\">\n",
              "  <thead>\n",
              "    <tr style=\"text-align: right;\">\n",
              "      <th></th>\n",
              "      <th>document</th>\n",
              "      <th>d1</th>\n",
              "      <th>d2</th>\n",
              "      <th>d3</th>\n",
              "      <th>d4</th>\n",
              "    </tr>\n",
              "    <tr>\n",
              "      <th>document_id</th>\n",
              "      <th></th>\n",
              "      <th></th>\n",
              "      <th></th>\n",
              "      <th></th>\n",
              "      <th></th>\n",
              "    </tr>\n",
              "  </thead>\n",
              "  <tbody>\n",
              "    <tr>\n",
              "      <th>d1</th>\n",
              "      <td>User selected Wedding gown.</td>\n",
              "      <td>1.000000</td>\n",
              "      <td>0.084205</td>\n",
              "      <td>0.117450</td>\n",
              "      <td>0.552465</td>\n",
              "    </tr>\n",
              "    <tr>\n",
              "      <th>d2</th>\n",
              "      <td>User ordered on-line rose flowers.</td>\n",
              "      <td>0.084205</td>\n",
              "      <td>1.000000</td>\n",
              "      <td>0.077613</td>\n",
              "      <td>0.152707</td>\n",
              "    </tr>\n",
              "    <tr>\n",
              "      <th>d3</th>\n",
              "      <td>User searched diamond ring.</td>\n",
              "      <td>0.117450</td>\n",
              "      <td>0.077613</td>\n",
              "      <td>1.000000</td>\n",
              "      <td>0.361108</td>\n",
              "    </tr>\n",
              "    <tr>\n",
              "      <th>d4</th>\n",
              "      <td>User selected white wedding gown, online flowe...</td>\n",
              "      <td>0.552465</td>\n",
              "      <td>0.152707</td>\n",
              "      <td>0.361108</td>\n",
              "      <td>1.000000</td>\n",
              "    </tr>\n",
              "  </tbody>\n",
              "</table>\n",
              "</div>"
            ],
            "text/plain": [
              "                                                      document  ...        d4\n",
              "document_id                                                     ...          \n",
              "d1                                 User selected Wedding gown.  ...  0.552465\n",
              "d2                          User ordered on-line rose flowers.  ...  0.152707\n",
              "d3                                 User searched diamond ring.  ...  0.361108\n",
              "d4           User selected white wedding gown, online flowe...  ...  1.000000\n",
              "\n",
              "[4 rows x 5 columns]"
            ]
          },
          "metadata": {},
          "execution_count": 38
        }
      ]
    },
    {
      "cell_type": "markdown",
      "metadata": {
        "id": "EyMGZ7zv8WFB"
      },
      "source": [
        "Based on this table we get the below results: \n",
        "\n",
        "*   d1 and d4 are the most similar to each other (cosine similarity of 0.55)\n",
        "*   d3 is somewhat similar to d4 (a cosine similarity of 0.36)\n",
        "*   d2 is weakly similar to d4 (cosine similarity of 0.15)"
      ]
    },
    {
      "cell_type": "markdown",
      "metadata": {
        "id": "m8BXz0dGi5OY"
      },
      "source": [
        "# Reference"
      ]
    },
    {
      "cell_type": "markdown",
      "metadata": {
        "id": "_Sb1_DIzi7RL"
      },
      "source": [
        "Example of Vector Space Model [reference](https://colab.research.google.com/github/dlsun/pods/blob/master/10-Textual-Data/10.2%20The%20Vector%20Space%20Model.ipynb#scrollTo=2UOASR79b74x)"
      ]
    },
    {
      "cell_type": "code",
      "metadata": {
        "colab": {
          "base_uri": "https://localhost:8080/",
          "height": 139
        },
        "id": "4Xd8q1e_W3Wo",
        "outputId": "4bac3fc8-0f9f-42f4-98d7-cee19c9916fc"
      },
      "source": [
        "# To turn a dataframe into a markdown:\n",
        "df_final.to_markdown()"
      ],
      "execution_count": 39,
      "outputs": [
        {
          "output_type": "execute_result",
          "data": {
            "application/vnd.google.colaboratory.intrinsic+json": {
              "type": "string"
            },
            "text/plain": [
              "'| document_id   | document                                                                |        d1 |        d2 |        d3 |       d4 |\\n|:--------------|:------------------------------------------------------------------------|----------:|----------:|----------:|---------:|\\n| d1            | User selected Wedding gown.                                             | 1         | 0.0842048 | 0.11745   | 0.552465 |\\n| d2            | User ordered on-line rose flowers.                                      | 0.0842048 | 1         | 0.0776134 | 0.152707 |\\n| d3            | User searched diamond ring.                                             | 0.11745   | 0.0776134 | 1         | 0.361108 |\\n| d4            | User selected white wedding gown, online flowers, 3 carat diamond ring, | 0.552465  | 0.152707  | 0.361108  | 1        |'"
            ]
          },
          "metadata": {},
          "execution_count": 39
        }
      ]
    },
    {
      "cell_type": "markdown",
      "metadata": {
        "id": "1y5gFqe7-RQp"
      },
      "source": [
        "| document_id   | document                                                                |        d1 |        d2 |        d3 |       d4 |\n",
        "|:--------------|:------------------------------------------------------------------------|----------:|----------:|----------:|---------:|\n",
        "| d1            | User selected Wedding gown.                                             | 1         | 0.0842048 | 0.11745   | 0.552465 |\n",
        "| d2            | User ordered on-line rose flowers.                                      | 0.0842048 | 1         | 0.0776134 | 0.152707 |\n",
        "| d3            | User searched diamond ring.                                             | 0.11745   | 0.0776134 | 1         | 0.361108 |\n",
        "| d4            | User selected white wedding gown, online flowers, 3 carat diamond ring, | 0.552465  | 0.152707  | 0.361108  | 1        |"
      ]
    }
  ]
}