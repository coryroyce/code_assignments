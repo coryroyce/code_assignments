{
  "cells": [
    {
      "cell_type": "markdown",
      "metadata": {
        "colab_type": "text",
        "id": "view-in-github"
      },
      "source": [
        "<a href=\"https://colab.research.google.com/github/coryroyce/code_assignments/blob/main/211124_Approximate_Nearest_Neighbor_Search/Approximate_Nearest_Neighbors_Cory_Randolph.ipynb\" target=\"_parent\"><img src=\"https://colab.research.google.com/assets/colab-badge.svg\" alt=\"Open In Colab\"/></a>"
      ]
    },
    {
      "cell_type": "markdown",
      "metadata": {
        "id": "4X-J0Qe4zE4S"
      },
      "source": [
        "# Approximate Nearest Neighbors\n",
        "Cory Randolph\n",
        "\n",
        "11/21/2021"
      ]
    },
    {
      "cell_type": "markdown",
      "metadata": {
        "id": "XoZqF69YzfYv"
      },
      "source": [
        "Goal: Demonstrate several different Approximate Nearest Neighbors Algorithms on letter images.\n",
        "\n"
      ]
    },
    {
      "cell_type": "markdown",
      "metadata": {
        "id": "xndOlf_L2UbM"
      },
      "source": [
        "# Load Packages"
      ]
    },
    {
      "cell_type": "markdown",
      "metadata": {
        "id": "50B0PCYq2X0F"
      },
      "source": [
        "Install needed packages for this project"
      ]
    },
    {
      "cell_type": "code",
      "execution_count": 381,
      "metadata": {
        "id": "RmCxD0yP2boc"
      },
      "outputs": [],
      "source": [
        "# Install the emnist package for loading image data easily\n",
        "!pip install emnist\n",
        "!pip install umap-learn\n",
        "\n",
        "# Clear output for this cell\n",
        "from IPython.display import clear_output\n",
        "clear_output()"
      ]
    },
    {
      "cell_type": "markdown",
      "metadata": {
        "id": "LPijt0Mq6n2g"
      },
      "source": [
        "Import packages used"
      ]
    },
    {
      "cell_type": "code",
      "execution_count": 382,
      "metadata": {
        "id": "acIggr6l6qgi"
      },
      "outputs": [],
      "source": [
        "import numpy as np\n",
        "import pandas as pd\n",
        "import matplotlib.pyplot as plt\n",
        "import umap"
      ]
    },
    {
      "cell_type": "markdown",
      "metadata": {
        "id": "xZekU0K-0WMY"
      },
      "source": [
        "# Load Datasets"
      ]
    },
    {
      "cell_type": "markdown",
      "metadata": {
        "id": "ZRpAZ4Rk1-f5"
      },
      "source": [
        "For this project we are choose to do the EMNIST data set since it is less used in examples and tutorials normally just the numerical 0-9 digits data set.\n",
        "\n"
      ]
    },
    {
      "cell_type": "code",
      "execution_count": 383,
      "metadata": {
        "id": "0sCIUANH3DJ-"
      },
      "outputs": [],
      "source": [
        "import emnist"
      ]
    },
    {
      "cell_type": "markdown",
      "metadata": {
        "id": "hCeuIHb33Gp6"
      },
      "source": [
        "Display the datasets included in emnist"
      ]
    },
    {
      "cell_type": "code",
      "execution_count": 384,
      "metadata": {
        "colab": {
          "base_uri": "https://localhost:8080/"
        },
        "id": "QgiaZVPp3GgC",
        "outputId": "fb85b0e8-cc4d-4365-c7fd-0c7e178def61"
      },
      "outputs": [
        {
          "name": "stdout",
          "output_type": "stream",
          "text": [
            "['balanced', 'byclass', 'bymerge', 'digits', 'letters', 'mnist']\n"
          ]
        }
      ],
      "source": [
        "print(emnist.list_datasets())"
      ]
    },
    {
      "cell_type": "markdown",
      "metadata": {
        "id": "d-wt-4xu30uj"
      },
      "source": [
        "For this project I will focus on just the letters data set with balanced class examples containing 145,600 examples. (Smaller subsets may be taken later for visualization)"
      ]
    },
    {
      "cell_type": "code",
      "execution_count": 385,
      "metadata": {
        "id": "2kHKD0kh3Gd9"
      },
      "outputs": [],
      "source": [
        "x,y = emnist.extract_training_samples('balanced')"
      ]
    },
    {
      "cell_type": "markdown",
      "metadata": {
        "id": "e0Sy0w1O7Cqj"
      },
      "source": [
        "Show that there 26 unique labels"
      ]
    },
    {
      "cell_type": "code",
      "execution_count": 386,
      "metadata": {
        "colab": {
          "base_uri": "https://localhost:8080/"
        },
        "id": "Q6Bql3nT3Gbt",
        "outputId": "3897a5a3-0da0-4aaa-d7fe-8b55e7070e00"
      },
      "outputs": [
        {
          "data": {
            "text/plain": [
              "47"
            ]
          },
          "execution_count": 386,
          "metadata": {},
          "output_type": "execute_result"
        }
      ],
      "source": [
        "len(np.unique(y))"
      ]
    },
    {
      "cell_type": "markdown",
      "metadata": {
        "id": "LrSegm-C7RRl"
      },
      "source": [
        "Create the list of labels rather than the provided integer value"
      ]
    },
    {
      "cell_type": "code",
      "execution_count": 387,
      "metadata": {
        "id": "oEiqVpB57ZIG"
      },
      "outputs": [],
      "source": [
        "labels = ['0', '1', '2', '3', '4', '5', '6', '7', '8', '9',\n",
        "          'A','B','C','D','E','F','G','H','I','J','K','L','M','N','O','P','Q','R','S','T','U','V','W','X','Y','Z',\n",
        "          'a', 'b', 'd', 'e', 'f','g', 'h', 'n', 'q', 'r', 't']\n",
        "\n",
        "labels_dict = {key: value for key, value in enumerate(labels)}\n",
        "\n",
        "# Create a reversed dictionary to help with plotting\n",
        "labels_dict_reversed = {value : key for (key, value) in labels_dict.items()}"
      ]
    },
    {
      "cell_type": "code",
      "execution_count": 388,
      "metadata": {
        "colab": {
          "base_uri": "https://localhost:8080/"
        },
        "id": "8Fx8DZLu4V4M",
        "outputId": "528a3cb6-d2f2-4895-d530-96568684233d"
      },
      "outputs": [
        {
          "data": {
            "text/plain": [
              "47"
            ]
          },
          "execution_count": 388,
          "metadata": {},
          "output_type": "execute_result"
        }
      ],
      "source": [
        "len(labels)"
      ]
    },
    {
      "cell_type": "markdown",
      "metadata": {
        "id": "Hxu7lZH3_4jT"
      },
      "source": [
        "Create a Pandas Dataframe for the data"
      ]
    },
    {
      "cell_type": "code",
      "execution_count": 389,
      "metadata": {
        "id": "M_GinsNI83lR"
      },
      "outputs": [],
      "source": [
        "def create_emnist_df(x,y,labels_dict):\n",
        "  # Define the pixel values as a dataframe\n",
        "  image_vector_size = 28*28\n",
        "  x_flattened = x.reshape(x.shape[0], image_vector_size)\n",
        "  df_features = pd.DataFrame(x_flattened)\n",
        "\n",
        "  # Define the label column\n",
        "  df_labels = pd.DataFrame(y, columns=['label'])\n",
        "  # Map the labels from the integers\n",
        "  df_labels['label'] = df_labels['label'].map(labels_dict)\n",
        "\n",
        "  # Merge the features and labels\n",
        "  # df = pd.merge(df_labels, df_df_features, left_index=True, right_index=True)\n",
        "\n",
        "  return df_features, df_labels"
      ]
    },
    {
      "cell_type": "code",
      "execution_count": 390,
      "metadata": {
        "colab": {
          "base_uri": "https://localhost:8080/",
          "height": 193
        },
        "id": "XUb7ODwWBAdC",
        "outputId": "ee03659e-3586-4f42-b86b-9741f53a5242"
      },
      "outputs": [
        {
          "data": {
            "text/html": [
              "<div>\n",
              "<style scoped>\n",
              "    .dataframe tbody tr th:only-of-type {\n",
              "        vertical-align: middle;\n",
              "    }\n",
              "\n",
              "    .dataframe tbody tr th {\n",
              "        vertical-align: top;\n",
              "    }\n",
              "\n",
              "    .dataframe thead th {\n",
              "        text-align: right;\n",
              "    }\n",
              "</style>\n",
              "<table border=\"1\" class=\"dataframe\">\n",
              "  <thead>\n",
              "    <tr style=\"text-align: right;\">\n",
              "      <th></th>\n",
              "      <th>0</th>\n",
              "      <th>1</th>\n",
              "      <th>2</th>\n",
              "      <th>3</th>\n",
              "      <th>4</th>\n",
              "      <th>5</th>\n",
              "      <th>6</th>\n",
              "      <th>7</th>\n",
              "      <th>8</th>\n",
              "      <th>9</th>\n",
              "      <th>10</th>\n",
              "      <th>11</th>\n",
              "      <th>12</th>\n",
              "      <th>13</th>\n",
              "      <th>14</th>\n",
              "      <th>15</th>\n",
              "      <th>16</th>\n",
              "      <th>17</th>\n",
              "      <th>18</th>\n",
              "      <th>19</th>\n",
              "      <th>20</th>\n",
              "      <th>21</th>\n",
              "      <th>22</th>\n",
              "      <th>23</th>\n",
              "      <th>24</th>\n",
              "      <th>25</th>\n",
              "      <th>26</th>\n",
              "      <th>27</th>\n",
              "      <th>28</th>\n",
              "      <th>29</th>\n",
              "      <th>30</th>\n",
              "      <th>31</th>\n",
              "      <th>32</th>\n",
              "      <th>33</th>\n",
              "      <th>34</th>\n",
              "      <th>35</th>\n",
              "      <th>36</th>\n",
              "      <th>37</th>\n",
              "      <th>38</th>\n",
              "      <th>39</th>\n",
              "      <th>...</th>\n",
              "      <th>744</th>\n",
              "      <th>745</th>\n",
              "      <th>746</th>\n",
              "      <th>747</th>\n",
              "      <th>748</th>\n",
              "      <th>749</th>\n",
              "      <th>750</th>\n",
              "      <th>751</th>\n",
              "      <th>752</th>\n",
              "      <th>753</th>\n",
              "      <th>754</th>\n",
              "      <th>755</th>\n",
              "      <th>756</th>\n",
              "      <th>757</th>\n",
              "      <th>758</th>\n",
              "      <th>759</th>\n",
              "      <th>760</th>\n",
              "      <th>761</th>\n",
              "      <th>762</th>\n",
              "      <th>763</th>\n",
              "      <th>764</th>\n",
              "      <th>765</th>\n",
              "      <th>766</th>\n",
              "      <th>767</th>\n",
              "      <th>768</th>\n",
              "      <th>769</th>\n",
              "      <th>770</th>\n",
              "      <th>771</th>\n",
              "      <th>772</th>\n",
              "      <th>773</th>\n",
              "      <th>774</th>\n",
              "      <th>775</th>\n",
              "      <th>776</th>\n",
              "      <th>777</th>\n",
              "      <th>778</th>\n",
              "      <th>779</th>\n",
              "      <th>780</th>\n",
              "      <th>781</th>\n",
              "      <th>782</th>\n",
              "      <th>783</th>\n",
              "    </tr>\n",
              "  </thead>\n",
              "  <tbody>\n",
              "    <tr>\n",
              "      <th>0</th>\n",
              "      <td>0</td>\n",
              "      <td>0</td>\n",
              "      <td>0</td>\n",
              "      <td>0</td>\n",
              "      <td>0</td>\n",
              "      <td>0</td>\n",
              "      <td>0</td>\n",
              "      <td>0</td>\n",
              "      <td>0</td>\n",
              "      <td>0</td>\n",
              "      <td>0</td>\n",
              "      <td>0</td>\n",
              "      <td>0</td>\n",
              "      <td>0</td>\n",
              "      <td>0</td>\n",
              "      <td>0</td>\n",
              "      <td>0</td>\n",
              "      <td>0</td>\n",
              "      <td>0</td>\n",
              "      <td>0</td>\n",
              "      <td>0</td>\n",
              "      <td>0</td>\n",
              "      <td>0</td>\n",
              "      <td>0</td>\n",
              "      <td>0</td>\n",
              "      <td>0</td>\n",
              "      <td>0</td>\n",
              "      <td>0</td>\n",
              "      <td>0</td>\n",
              "      <td>0</td>\n",
              "      <td>0</td>\n",
              "      <td>0</td>\n",
              "      <td>0</td>\n",
              "      <td>0</td>\n",
              "      <td>0</td>\n",
              "      <td>0</td>\n",
              "      <td>0</td>\n",
              "      <td>0</td>\n",
              "      <td>0</td>\n",
              "      <td>0</td>\n",
              "      <td>...</td>\n",
              "      <td>0</td>\n",
              "      <td>0</td>\n",
              "      <td>0</td>\n",
              "      <td>0</td>\n",
              "      <td>0</td>\n",
              "      <td>0</td>\n",
              "      <td>0</td>\n",
              "      <td>0</td>\n",
              "      <td>0</td>\n",
              "      <td>0</td>\n",
              "      <td>0</td>\n",
              "      <td>0</td>\n",
              "      <td>0</td>\n",
              "      <td>0</td>\n",
              "      <td>0</td>\n",
              "      <td>0</td>\n",
              "      <td>0</td>\n",
              "      <td>0</td>\n",
              "      <td>0</td>\n",
              "      <td>0</td>\n",
              "      <td>0</td>\n",
              "      <td>0</td>\n",
              "      <td>0</td>\n",
              "      <td>0</td>\n",
              "      <td>0</td>\n",
              "      <td>0</td>\n",
              "      <td>0</td>\n",
              "      <td>0</td>\n",
              "      <td>0</td>\n",
              "      <td>0</td>\n",
              "      <td>0</td>\n",
              "      <td>0</td>\n",
              "      <td>0</td>\n",
              "      <td>0</td>\n",
              "      <td>0</td>\n",
              "      <td>0</td>\n",
              "      <td>0</td>\n",
              "      <td>0</td>\n",
              "      <td>0</td>\n",
              "      <td>0</td>\n",
              "    </tr>\n",
              "    <tr>\n",
              "      <th>1</th>\n",
              "      <td>0</td>\n",
              "      <td>0</td>\n",
              "      <td>0</td>\n",
              "      <td>0</td>\n",
              "      <td>0</td>\n",
              "      <td>0</td>\n",
              "      <td>0</td>\n",
              "      <td>0</td>\n",
              "      <td>0</td>\n",
              "      <td>0</td>\n",
              "      <td>0</td>\n",
              "      <td>0</td>\n",
              "      <td>0</td>\n",
              "      <td>0</td>\n",
              "      <td>0</td>\n",
              "      <td>0</td>\n",
              "      <td>0</td>\n",
              "      <td>0</td>\n",
              "      <td>0</td>\n",
              "      <td>0</td>\n",
              "      <td>0</td>\n",
              "      <td>0</td>\n",
              "      <td>0</td>\n",
              "      <td>0</td>\n",
              "      <td>0</td>\n",
              "      <td>0</td>\n",
              "      <td>0</td>\n",
              "      <td>0</td>\n",
              "      <td>0</td>\n",
              "      <td>0</td>\n",
              "      <td>0</td>\n",
              "      <td>0</td>\n",
              "      <td>0</td>\n",
              "      <td>0</td>\n",
              "      <td>0</td>\n",
              "      <td>0</td>\n",
              "      <td>0</td>\n",
              "      <td>0</td>\n",
              "      <td>0</td>\n",
              "      <td>0</td>\n",
              "      <td>...</td>\n",
              "      <td>0</td>\n",
              "      <td>0</td>\n",
              "      <td>0</td>\n",
              "      <td>0</td>\n",
              "      <td>0</td>\n",
              "      <td>0</td>\n",
              "      <td>0</td>\n",
              "      <td>0</td>\n",
              "      <td>0</td>\n",
              "      <td>0</td>\n",
              "      <td>0</td>\n",
              "      <td>0</td>\n",
              "      <td>0</td>\n",
              "      <td>0</td>\n",
              "      <td>0</td>\n",
              "      <td>0</td>\n",
              "      <td>0</td>\n",
              "      <td>0</td>\n",
              "      <td>0</td>\n",
              "      <td>0</td>\n",
              "      <td>0</td>\n",
              "      <td>0</td>\n",
              "      <td>0</td>\n",
              "      <td>0</td>\n",
              "      <td>0</td>\n",
              "      <td>0</td>\n",
              "      <td>0</td>\n",
              "      <td>0</td>\n",
              "      <td>0</td>\n",
              "      <td>0</td>\n",
              "      <td>0</td>\n",
              "      <td>0</td>\n",
              "      <td>0</td>\n",
              "      <td>0</td>\n",
              "      <td>0</td>\n",
              "      <td>0</td>\n",
              "      <td>0</td>\n",
              "      <td>0</td>\n",
              "      <td>0</td>\n",
              "      <td>0</td>\n",
              "    </tr>\n",
              "    <tr>\n",
              "      <th>2</th>\n",
              "      <td>0</td>\n",
              "      <td>0</td>\n",
              "      <td>0</td>\n",
              "      <td>0</td>\n",
              "      <td>0</td>\n",
              "      <td>0</td>\n",
              "      <td>0</td>\n",
              "      <td>0</td>\n",
              "      <td>0</td>\n",
              "      <td>0</td>\n",
              "      <td>0</td>\n",
              "      <td>0</td>\n",
              "      <td>0</td>\n",
              "      <td>0</td>\n",
              "      <td>0</td>\n",
              "      <td>0</td>\n",
              "      <td>0</td>\n",
              "      <td>0</td>\n",
              "      <td>0</td>\n",
              "      <td>0</td>\n",
              "      <td>0</td>\n",
              "      <td>0</td>\n",
              "      <td>0</td>\n",
              "      <td>0</td>\n",
              "      <td>0</td>\n",
              "      <td>0</td>\n",
              "      <td>0</td>\n",
              "      <td>0</td>\n",
              "      <td>0</td>\n",
              "      <td>0</td>\n",
              "      <td>0</td>\n",
              "      <td>0</td>\n",
              "      <td>0</td>\n",
              "      <td>0</td>\n",
              "      <td>0</td>\n",
              "      <td>0</td>\n",
              "      <td>0</td>\n",
              "      <td>0</td>\n",
              "      <td>0</td>\n",
              "      <td>0</td>\n",
              "      <td>...</td>\n",
              "      <td>0</td>\n",
              "      <td>0</td>\n",
              "      <td>0</td>\n",
              "      <td>0</td>\n",
              "      <td>0</td>\n",
              "      <td>0</td>\n",
              "      <td>0</td>\n",
              "      <td>0</td>\n",
              "      <td>0</td>\n",
              "      <td>0</td>\n",
              "      <td>0</td>\n",
              "      <td>0</td>\n",
              "      <td>0</td>\n",
              "      <td>0</td>\n",
              "      <td>0</td>\n",
              "      <td>0</td>\n",
              "      <td>0</td>\n",
              "      <td>0</td>\n",
              "      <td>0</td>\n",
              "      <td>0</td>\n",
              "      <td>0</td>\n",
              "      <td>0</td>\n",
              "      <td>0</td>\n",
              "      <td>0</td>\n",
              "      <td>0</td>\n",
              "      <td>0</td>\n",
              "      <td>0</td>\n",
              "      <td>0</td>\n",
              "      <td>0</td>\n",
              "      <td>0</td>\n",
              "      <td>0</td>\n",
              "      <td>0</td>\n",
              "      <td>0</td>\n",
              "      <td>0</td>\n",
              "      <td>0</td>\n",
              "      <td>0</td>\n",
              "      <td>0</td>\n",
              "      <td>0</td>\n",
              "      <td>0</td>\n",
              "      <td>0</td>\n",
              "    </tr>\n",
              "  </tbody>\n",
              "</table>\n",
              "<p>3 rows × 784 columns</p>\n",
              "</div>"
            ],
            "text/plain": [
              "   0    1    2    3    4    5    6    ...  777  778  779  780  781  782  783\n",
              "0    0    0    0    0    0    0    0  ...    0    0    0    0    0    0    0\n",
              "1    0    0    0    0    0    0    0  ...    0    0    0    0    0    0    0\n",
              "2    0    0    0    0    0    0    0  ...    0    0    0    0    0    0    0\n",
              "\n",
              "[3 rows x 784 columns]"
            ]
          },
          "execution_count": 390,
          "metadata": {},
          "output_type": "execute_result"
        }
      ],
      "source": [
        "df_features, df_labels = create_emnist_df(x,y,labels_dict)\n",
        "df_features.head(3)"
      ]
    },
    {
      "cell_type": "code",
      "execution_count": 391,
      "metadata": {
        "colab": {
          "base_uri": "https://localhost:8080/",
          "height": 143
        },
        "id": "07sxNNqC6h7a",
        "outputId": "12f5885b-bced-437d-f59d-00ef0128ad75"
      },
      "outputs": [
        {
          "data": {
            "text/html": [
              "<div>\n",
              "<style scoped>\n",
              "    .dataframe tbody tr th:only-of-type {\n",
              "        vertical-align: middle;\n",
              "    }\n",
              "\n",
              "    .dataframe tbody tr th {\n",
              "        vertical-align: top;\n",
              "    }\n",
              "\n",
              "    .dataframe thead th {\n",
              "        text-align: right;\n",
              "    }\n",
              "</style>\n",
              "<table border=\"1\" class=\"dataframe\">\n",
              "  <thead>\n",
              "    <tr style=\"text-align: right;\">\n",
              "      <th></th>\n",
              "      <th>label</th>\n",
              "    </tr>\n",
              "  </thead>\n",
              "  <tbody>\n",
              "    <tr>\n",
              "      <th>0</th>\n",
              "      <td>r</td>\n",
              "    </tr>\n",
              "    <tr>\n",
              "      <th>1</th>\n",
              "      <td>a</td>\n",
              "    </tr>\n",
              "    <tr>\n",
              "      <th>2</th>\n",
              "      <td>n</td>\n",
              "    </tr>\n",
              "  </tbody>\n",
              "</table>\n",
              "</div>"
            ],
            "text/plain": [
              "  label\n",
              "0     r\n",
              "1     a\n",
              "2     n"
            ]
          },
          "execution_count": 391,
          "metadata": {},
          "output_type": "execute_result"
        }
      ],
      "source": [
        "df_labels.head(3)"
      ]
    },
    {
      "cell_type": "markdown",
      "metadata": {
        "id": "KN_7z9SFrhic"
      },
      "source": [
        "Create a smaller subset of features since some methods are computationally expensive"
      ]
    },
    {
      "cell_type": "code",
      "execution_count": 392,
      "metadata": {
        "id": "aY49EMMp0XTz"
      },
      "outputs": [],
      "source": [
        "def get_subset_of_image_data(df_features, df_labels):\n",
        "  df_temp = pd.merge(df_labels, df_features, left_index=True, right_index=True)\n",
        "\n",
        "  # Get stratified subset of 100 of each characters\n",
        "  df_sample = df_temp.groupby('label', group_keys = False).apply(lambda x: x.sample(100, random_state = 3))\n",
        "\n",
        "  # Also limit the data set to just Capital Letters\n",
        "  capital_letters = ['A','B','C','D','E','F','G','H','I','J','K','L','M','N','O','P','Q','R','S','T','U','V','W','X','Y','Z']\n",
        "  df_sample = df_sample[df_sample['label'].isin(capital_letters)]\n",
        "\n",
        "  df_sample.reset_index(drop = True, inplace = True)\n",
        "\n",
        "  # Separate features from lables\n",
        "  df_labels_temp = pd.DataFrame(df_sample, columns=['label'])\n",
        "  df_features_temp = df_sample.drop('label', axis = 1)\n",
        "\n",
        "  return df_features_temp, df_labels_temp\n"
      ]
    },
    {
      "cell_type": "code",
      "execution_count": 393,
      "metadata": {
        "colab": {
          "base_uri": "https://localhost:8080/"
        },
        "id": "TBiTczok0oXy",
        "outputId": "1e5aafcf-703b-4e6e-bffe-47be83eef586"
      },
      "outputs": [
        {
          "name": "stdout",
          "output_type": "stream",
          "text": [
            "The sampled dataframes now have 2,600\n"
          ]
        }
      ],
      "source": [
        "# Apply the subset function to reduce the data set to a balanced 2,600 records (100 of each letter)\n",
        "df_features, df_labels = get_subset_of_image_data(df_features, df_labels)\n",
        "\n",
        "print(f'The sampled dataframes now have {df_features.shape[0]:,}')"
      ]
    },
    {
      "cell_type": "markdown",
      "metadata": {
        "id": "gcW3W2CMYuW8"
      },
      "source": [
        "Plot the first data point to verify"
      ]
    },
    {
      "cell_type": "code",
      "execution_count": 394,
      "metadata": {
        "id": "P_RaC6RBF9he"
      },
      "outputs": [],
      "source": [
        "def plot_emnist_image_by_idx(idx, df_features):\n",
        "  plt.figure(figsize=(4,4))\n",
        "  # Reshape the dataframe from 1d to 2d pixel array for given idx (prefer 28 X 28)\n",
        "  grid_data = df_features.loc[idx].values.reshape(28,28)\n",
        "  # Add title\n",
        "  plt.title(f'Label: {df_labels.iat[idx,0]}')\n",
        "  # Remove axes lables and ticks\n",
        "  ax = plt.gca()\n",
        "  ax.axes.xaxis.set_visible(False)\n",
        "  ax.axes.yaxis.set_visible(False)\n",
        "  # Plot above grid image with cmap as gray and interpolation as none\n",
        "  plt.imshow(grid_data, interpolation='none', cmap='gray')\n",
        "\n",
        "  #display plot\n",
        "  plt.show()"
      ]
    },
    {
      "cell_type": "code",
      "execution_count": 395,
      "metadata": {
        "colab": {
          "base_uri": "https://localhost:8080/",
          "height": 303
        },
        "id": "7WtyVMaHZPO3",
        "outputId": "d4880279-84fa-4d4d-c1a9-f57cd344c340"
      },
      "outputs": [
        {
          "name": "stdout",
          "output_type": "stream",
          "text": [
            "label    A\n",
            "Name: 0, dtype: object\n"
          ]
        },
        {
          "data": {
            "image/png": "[encoded data removed]",
            "text/plain": [
              "<Figure size 288x288 with 1 Axes>"
            ]
          },
          "metadata": {
            "needs_background": "light"
          },
          "output_type": "display_data"
        }
      ],
      "source": [
        "idx = 0\n",
        "print(df_labels.iloc[idx])\n",
        "plot_emnist_image_by_idx(idx = idx, df_features = df_features)\n"
      ]
    },
    {
      "cell_type": "markdown",
      "metadata": {
        "id": "fBYU3VAdaDRW"
      },
      "source": [
        "# Data Reduction"
      ]
    },
    {
      "cell_type": "markdown",
      "metadata": {
        "id": "YER4XtJtBLQP"
      },
      "source": [
        "## Uniform Manifold Approximation and Projection (UMAP)"
      ]
    },
    {
      "cell_type": "markdown",
      "metadata": {
        "id": "WUO0dB-GD6Ie"
      },
      "source": [
        "Reduce the data down to 100 columns which will capture about 90-95% of the information while speeding up the run time. From previous work with this data set the UMAP reduction technique had the most separation and is what I will use to reduce/preprocess this dataset."
      ]
    },
    {
      "cell_type": "markdown",
      "metadata": {
        "id": "h-ZlC3PUBTng"
      },
      "source": [
        "Apply UMAP to image dataset"
      ]
    },
    {
      "cell_type": "code",
      "execution_count": 396,
      "metadata": {
        "colab": {
          "base_uri": "https://localhost:8080/"
        },
        "id": "UsnZKQHDFqmd",
        "outputId": "87686e84-ca88-41b8-daf5-2dedff851daa"
      },
      "outputs": [
        {
          "data": {
            "text/plain": [
              "(2600, 100)"
            ]
          },
          "execution_count": 396,
          "metadata": {},
          "output_type": "execute_result"
        }
      ],
      "source": [
        "umap_model = umap.UMAP(n_components=100, random_state = 3)\n",
        "umap_model = umap_model.fit(df_features)\n",
        "umap_fitted = umap_model.transform(df_features)\n",
        "umap_fitted.shape"
      ]
    },
    {
      "cell_type": "markdown",
      "metadata": {
        "id": "VFpL1k5VFqmd"
      },
      "source": [
        "Plot the data using the first two components of the UMAP fitted data."
      ]
    },
    {
      "cell_type": "code",
      "execution_count": 397,
      "metadata": {
        "colab": {
          "base_uri": "https://localhost:8080/",
          "height": 290
        },
        "id": "r75gIR0dFqme",
        "outputId": "5f55b2fb-4f73-424f-f4a5-e36e7894a74b"
      },
      "outputs": [
        {
          "data": {
            "image/png": "[encoded data removed]",
            "text/plain": [
              "<Figure size 432x288 with 2 Axes>"
            ]
          },
          "metadata": {
            "needs_background": "light"
          },
          "output_type": "display_data"
        }
      ],
      "source": [
        "plt.scatter(umap_fitted[:, 0], umap_fitted[:, 1], s= 5, c=df_labels['label'].map(labels_dict_reversed), cmap='Spectral')\n",
        "plt.gca().set_aspect('equal', 'datalim')\n",
        "plt.colorbar(boundaries=np.arange(11)-0.5).set_ticks(np.arange(10))\n",
        "plt.title('UMAP', fontsize=24);"
      ]
    },
    {
      "cell_type": "markdown",
      "metadata": {
        "id": "RweZR6F2Gq7y"
      },
      "source": [
        "Save the ordinal features and update the features to be the reduced ones."
      ]
    },
    {
      "cell_type": "code",
      "execution_count": 401,
      "metadata": {
        "colab": {
          "base_uri": "https://localhost:8080/",
          "height": 193
        },
        "id": "y9R2F9hbGP2r",
        "outputId": "30cd2558-541b-4a79-c370-1504c96c3321"
      },
      "outputs": [
        {
          "data": {
            "text/html": [
              "<div>\n",
              "<style scoped>\n",
              "    .dataframe tbody tr th:only-of-type {\n",
              "        vertical-align: middle;\n",
              "    }\n",
              "\n",
              "    .dataframe tbody tr th {\n",
              "        vertical-align: top;\n",
              "    }\n",
              "\n",
              "    .dataframe thead th {\n",
              "        text-align: right;\n",
              "    }\n",
              "</style>\n",
              "<table border=\"1\" class=\"dataframe\">\n",
              "  <thead>\n",
              "    <tr style=\"text-align: right;\">\n",
              "      <th></th>\n",
              "      <th>0</th>\n",
              "      <th>1</th>\n",
              "      <th>2</th>\n",
              "      <th>3</th>\n",
              "      <th>4</th>\n",
              "      <th>5</th>\n",
              "      <th>6</th>\n",
              "      <th>7</th>\n",
              "      <th>8</th>\n",
              "      <th>9</th>\n",
              "      <th>10</th>\n",
              "      <th>11</th>\n",
              "      <th>12</th>\n",
              "      <th>13</th>\n",
              "      <th>14</th>\n",
              "      <th>15</th>\n",
              "      <th>16</th>\n",
              "      <th>17</th>\n",
              "      <th>18</th>\n",
              "      <th>19</th>\n",
              "      <th>20</th>\n",
              "      <th>21</th>\n",
              "      <th>22</th>\n",
              "      <th>23</th>\n",
              "      <th>24</th>\n",
              "      <th>25</th>\n",
              "      <th>26</th>\n",
              "      <th>27</th>\n",
              "      <th>28</th>\n",
              "      <th>29</th>\n",
              "      <th>30</th>\n",
              "      <th>31</th>\n",
              "      <th>32</th>\n",
              "      <th>33</th>\n",
              "      <th>34</th>\n",
              "      <th>35</th>\n",
              "      <th>36</th>\n",
              "      <th>37</th>\n",
              "      <th>38</th>\n",
              "      <th>39</th>\n",
              "      <th>...</th>\n",
              "      <th>60</th>\n",
              "      <th>61</th>\n",
              "      <th>62</th>\n",
              "      <th>63</th>\n",
              "      <th>64</th>\n",
              "      <th>65</th>\n",
              "      <th>66</th>\n",
              "      <th>67</th>\n",
              "      <th>68</th>\n",
              "      <th>69</th>\n",
              "      <th>70</th>\n",
              "      <th>71</th>\n",
              "      <th>72</th>\n",
              "      <th>73</th>\n",
              "      <th>74</th>\n",
              "      <th>75</th>\n",
              "      <th>76</th>\n",
              "      <th>77</th>\n",
              "      <th>78</th>\n",
              "      <th>79</th>\n",
              "      <th>80</th>\n",
              "      <th>81</th>\n",
              "      <th>82</th>\n",
              "      <th>83</th>\n",
              "      <th>84</th>\n",
              "      <th>85</th>\n",
              "      <th>86</th>\n",
              "      <th>87</th>\n",
              "      <th>88</th>\n",
              "      <th>89</th>\n",
              "      <th>90</th>\n",
              "      <th>91</th>\n",
              "      <th>92</th>\n",
              "      <th>93</th>\n",
              "      <th>94</th>\n",
              "      <th>95</th>\n",
              "      <th>96</th>\n",
              "      <th>97</th>\n",
              "      <th>98</th>\n",
              "      <th>99</th>\n",
              "    </tr>\n",
              "  </thead>\n",
              "  <tbody>\n",
              "    <tr>\n",
              "      <th>0</th>\n",
              "      <td>7.185182</td>\n",
              "      <td>3.606289</td>\n",
              "      <td>5.362865</td>\n",
              "      <td>5.840247</td>\n",
              "      <td>7.453226</td>\n",
              "      <td>3.607499</td>\n",
              "      <td>8.105613</td>\n",
              "      <td>5.615936</td>\n",
              "      <td>5.606811</td>\n",
              "      <td>4.463170</td>\n",
              "      <td>5.268996</td>\n",
              "      <td>6.183116</td>\n",
              "      <td>3.890036</td>\n",
              "      <td>5.504498</td>\n",
              "      <td>4.331462</td>\n",
              "      <td>2.634963</td>\n",
              "      <td>5.172346</td>\n",
              "      <td>3.886459</td>\n",
              "      <td>4.812036</td>\n",
              "      <td>5.514788</td>\n",
              "      <td>3.732816</td>\n",
              "      <td>5.830236</td>\n",
              "      <td>4.449092</td>\n",
              "      <td>4.071497</td>\n",
              "      <td>2.759881</td>\n",
              "      <td>4.704540</td>\n",
              "      <td>5.152747</td>\n",
              "      <td>4.742552</td>\n",
              "      <td>4.120115</td>\n",
              "      <td>5.607279</td>\n",
              "      <td>5.275767</td>\n",
              "      <td>5.430853</td>\n",
              "      <td>5.091730</td>\n",
              "      <td>4.634233</td>\n",
              "      <td>4.639055</td>\n",
              "      <td>4.533196</td>\n",
              "      <td>4.855010</td>\n",
              "      <td>4.593903</td>\n",
              "      <td>4.736841</td>\n",
              "      <td>4.314534</td>\n",
              "      <td>...</td>\n",
              "      <td>5.870656</td>\n",
              "      <td>3.801789</td>\n",
              "      <td>4.781290</td>\n",
              "      <td>5.933755</td>\n",
              "      <td>4.969872</td>\n",
              "      <td>7.307757</td>\n",
              "      <td>4.358011</td>\n",
              "      <td>4.715189</td>\n",
              "      <td>5.568298</td>\n",
              "      <td>6.033731</td>\n",
              "      <td>5.196794</td>\n",
              "      <td>4.683832</td>\n",
              "      <td>5.023990</td>\n",
              "      <td>5.107673</td>\n",
              "      <td>5.323195</td>\n",
              "      <td>5.306134</td>\n",
              "      <td>4.642100</td>\n",
              "      <td>3.646848</td>\n",
              "      <td>5.224270</td>\n",
              "      <td>6.150288</td>\n",
              "      <td>4.731622</td>\n",
              "      <td>5.228973</td>\n",
              "      <td>4.031315</td>\n",
              "      <td>5.891894</td>\n",
              "      <td>5.026829</td>\n",
              "      <td>5.156649</td>\n",
              "      <td>6.098043</td>\n",
              "      <td>5.040883</td>\n",
              "      <td>5.360343</td>\n",
              "      <td>4.248909</td>\n",
              "      <td>6.547519</td>\n",
              "      <td>5.684191</td>\n",
              "      <td>5.215985</td>\n",
              "      <td>5.830408</td>\n",
              "      <td>4.931591</td>\n",
              "      <td>7.178354</td>\n",
              "      <td>4.269628</td>\n",
              "      <td>4.954920</td>\n",
              "      <td>4.935712</td>\n",
              "      <td>4.743643</td>\n",
              "    </tr>\n",
              "    <tr>\n",
              "      <th>1</th>\n",
              "      <td>6.254177</td>\n",
              "      <td>4.898910</td>\n",
              "      <td>5.755785</td>\n",
              "      <td>5.390442</td>\n",
              "      <td>7.614872</td>\n",
              "      <td>3.138251</td>\n",
              "      <td>7.954989</td>\n",
              "      <td>5.527551</td>\n",
              "      <td>5.948588</td>\n",
              "      <td>4.502376</td>\n",
              "      <td>5.202785</td>\n",
              "      <td>6.271161</td>\n",
              "      <td>3.978351</td>\n",
              "      <td>5.347538</td>\n",
              "      <td>4.682009</td>\n",
              "      <td>2.539710</td>\n",
              "      <td>5.342409</td>\n",
              "      <td>3.694661</td>\n",
              "      <td>4.672607</td>\n",
              "      <td>5.496978</td>\n",
              "      <td>3.698822</td>\n",
              "      <td>5.739990</td>\n",
              "      <td>4.238768</td>\n",
              "      <td>3.960038</td>\n",
              "      <td>2.747535</td>\n",
              "      <td>4.696168</td>\n",
              "      <td>5.287100</td>\n",
              "      <td>4.729759</td>\n",
              "      <td>4.133199</td>\n",
              "      <td>5.420434</td>\n",
              "      <td>5.337319</td>\n",
              "      <td>5.404862</td>\n",
              "      <td>5.045880</td>\n",
              "      <td>4.991095</td>\n",
              "      <td>4.391196</td>\n",
              "      <td>4.475754</td>\n",
              "      <td>4.784397</td>\n",
              "      <td>4.659338</td>\n",
              "      <td>4.859806</td>\n",
              "      <td>4.397702</td>\n",
              "      <td>...</td>\n",
              "      <td>6.011288</td>\n",
              "      <td>3.681080</td>\n",
              "      <td>4.651429</td>\n",
              "      <td>5.899705</td>\n",
              "      <td>4.796694</td>\n",
              "      <td>7.401474</td>\n",
              "      <td>4.193929</td>\n",
              "      <td>4.817808</td>\n",
              "      <td>5.487175</td>\n",
              "      <td>6.091983</td>\n",
              "      <td>5.261256</td>\n",
              "      <td>4.650252</td>\n",
              "      <td>5.078653</td>\n",
              "      <td>5.019331</td>\n",
              "      <td>5.143333</td>\n",
              "      <td>5.203433</td>\n",
              "      <td>4.621757</td>\n",
              "      <td>3.586742</td>\n",
              "      <td>5.337954</td>\n",
              "      <td>6.190314</td>\n",
              "      <td>4.749120</td>\n",
              "      <td>5.208131</td>\n",
              "      <td>4.019226</td>\n",
              "      <td>5.782848</td>\n",
              "      <td>5.007174</td>\n",
              "      <td>5.137957</td>\n",
              "      <td>6.112782</td>\n",
              "      <td>5.140783</td>\n",
              "      <td>5.436519</td>\n",
              "      <td>4.359493</td>\n",
              "      <td>6.721016</td>\n",
              "      <td>5.788895</td>\n",
              "      <td>5.264839</td>\n",
              "      <td>5.865114</td>\n",
              "      <td>5.006689</td>\n",
              "      <td>7.182289</td>\n",
              "      <td>4.293230</td>\n",
              "      <td>5.122121</td>\n",
              "      <td>4.910213</td>\n",
              "      <td>4.812302</td>\n",
              "    </tr>\n",
              "    <tr>\n",
              "      <th>2</th>\n",
              "      <td>7.942462</td>\n",
              "      <td>1.809297</td>\n",
              "      <td>5.693624</td>\n",
              "      <td>6.713310</td>\n",
              "      <td>6.461090</td>\n",
              "      <td>4.576018</td>\n",
              "      <td>8.245862</td>\n",
              "      <td>5.216132</td>\n",
              "      <td>4.921800</td>\n",
              "      <td>4.472256</td>\n",
              "      <td>5.079776</td>\n",
              "      <td>5.911037</td>\n",
              "      <td>3.762887</td>\n",
              "      <td>5.490587</td>\n",
              "      <td>4.079948</td>\n",
              "      <td>2.711368</td>\n",
              "      <td>5.088319</td>\n",
              "      <td>4.107653</td>\n",
              "      <td>5.068091</td>\n",
              "      <td>5.313255</td>\n",
              "      <td>3.818480</td>\n",
              "      <td>5.771211</td>\n",
              "      <td>4.802326</td>\n",
              "      <td>4.083671</td>\n",
              "      <td>2.738188</td>\n",
              "      <td>4.709918</td>\n",
              "      <td>5.090091</td>\n",
              "      <td>4.594079</td>\n",
              "      <td>4.217080</td>\n",
              "      <td>5.670704</td>\n",
              "      <td>5.083241</td>\n",
              "      <td>5.488501</td>\n",
              "      <td>5.172731</td>\n",
              "      <td>4.297517</td>\n",
              "      <td>4.838427</td>\n",
              "      <td>4.734004</td>\n",
              "      <td>5.022881</td>\n",
              "      <td>4.575128</td>\n",
              "      <td>4.667206</td>\n",
              "      <td>4.182203</td>\n",
              "      <td>...</td>\n",
              "      <td>5.603981</td>\n",
              "      <td>3.992703</td>\n",
              "      <td>4.887430</td>\n",
              "      <td>5.899548</td>\n",
              "      <td>5.309867</td>\n",
              "      <td>7.184886</td>\n",
              "      <td>4.593929</td>\n",
              "      <td>4.666498</td>\n",
              "      <td>5.588961</td>\n",
              "      <td>5.994713</td>\n",
              "      <td>5.163369</td>\n",
              "      <td>4.677031</td>\n",
              "      <td>4.795810</td>\n",
              "      <td>5.134394</td>\n",
              "      <td>5.537549</td>\n",
              "      <td>5.442891</td>\n",
              "      <td>4.697749</td>\n",
              "      <td>3.836316</td>\n",
              "      <td>5.173416</td>\n",
              "      <td>6.047207</td>\n",
              "      <td>4.667846</td>\n",
              "      <td>5.237530</td>\n",
              "      <td>3.988629</td>\n",
              "      <td>6.058379</td>\n",
              "      <td>5.124163</td>\n",
              "      <td>5.186688</td>\n",
              "      <td>6.089855</td>\n",
              "      <td>4.970739</td>\n",
              "      <td>5.301285</td>\n",
              "      <td>4.138559</td>\n",
              "      <td>6.363461</td>\n",
              "      <td>5.598592</td>\n",
              "      <td>5.158869</td>\n",
              "      <td>5.791121</td>\n",
              "      <td>4.839086</td>\n",
              "      <td>7.245524</td>\n",
              "      <td>4.231586</td>\n",
              "      <td>4.936001</td>\n",
              "      <td>4.988636</td>\n",
              "      <td>4.806703</td>\n",
              "    </tr>\n",
              "  </tbody>\n",
              "</table>\n",
              "<p>3 rows × 100 columns</p>\n",
              "</div>"
            ],
            "text/plain": [
              "         0         1         2   ...        97        98        99\n",
              "0  7.185182  3.606289  5.362865  ...  4.954920  4.935712  4.743643\n",
              "1  6.254177  4.898910  5.755785  ...  5.122121  4.910213  4.812302\n",
              "2  7.942462  1.809297  5.693624  ...  4.936001  4.988636  4.806703\n",
              "\n",
              "[3 rows x 100 columns]"
            ]
          },
          "execution_count": 401,
          "metadata": {},
          "output_type": "execute_result"
        }
      ],
      "source": [
        "df_features_original = df_features.copy()\n",
        "df_features = pd.DataFrame(umap_fitted)\n",
        "df_features.head(3)"
      ]
    },
    {
      "cell_type": "code",
      "execution_count": 402,
      "metadata": {
        "colab": {
          "base_uri": "https://localhost:8080/",
          "height": 143
        },
        "id": "QSMToGfgh1Bo",
        "outputId": "7337ece8-43f6-430e-c90e-ec031ddf9e31"
      },
      "outputs": [
        {
          "data": {
            "text/html": [
              "<div>\n",
              "<style scoped>\n",
              "    .dataframe tbody tr th:only-of-type {\n",
              "        vertical-align: middle;\n",
              "    }\n",
              "\n",
              "    .dataframe tbody tr th {\n",
              "        vertical-align: top;\n",
              "    }\n",
              "\n",
              "    .dataframe thead th {\n",
              "        text-align: right;\n",
              "    }\n",
              "</style>\n",
              "<table border=\"1\" class=\"dataframe\">\n",
              "  <thead>\n",
              "    <tr style=\"text-align: right;\">\n",
              "      <th></th>\n",
              "      <th>label</th>\n",
              "    </tr>\n",
              "  </thead>\n",
              "  <tbody>\n",
              "    <tr>\n",
              "      <th>0</th>\n",
              "      <td>A</td>\n",
              "    </tr>\n",
              "    <tr>\n",
              "      <th>1</th>\n",
              "      <td>A</td>\n",
              "    </tr>\n",
              "    <tr>\n",
              "      <th>2</th>\n",
              "      <td>A</td>\n",
              "    </tr>\n",
              "  </tbody>\n",
              "</table>\n",
              "</div>"
            ],
            "text/plain": [
              "  label\n",
              "0     A\n",
              "1     A\n",
              "2     A"
            ]
          },
          "execution_count": 402,
          "metadata": {},
          "output_type": "execute_result"
        }
      ],
      "source": [
        "df_labels.head(3)"
      ]
    },
    {
      "cell_type": "markdown",
      "metadata": {
        "id": "_kkSGu8hjAW_"
      },
      "source": [
        "Create numpy version of the features and labels for ease of use with future steps."
      ]
    },
    {
      "cell_type": "code",
      "execution_count": 403,
      "metadata": {
        "id": "qedN2aS2jHxO"
      },
      "outputs": [],
      "source": [
        "np_features = df_features.to_numpy()\n",
        "np_labels = df_labels.to_numpy().reshape(1,-1)[0]"
      ]
    },
    {
      "cell_type": "markdown",
      "metadata": {
        "id": "Gdppy-z9KXsm"
      },
      "source": [
        "# Locality Sensitive Hashing (LHS)"
      ]
    },
    {
      "cell_type": "markdown",
      "metadata": {
        "id": "HdptQMfIgL5N"
      },
      "source": [
        "Apply LHS to the reduced letter data."
      ]
    },
    {
      "cell_type": "markdown",
      "metadata": {
        "id": "ZgVqmIuIKnEk"
      },
      "source": [
        "Import the Fiass Library"
      ]
    },
    {
      "cell_type": "code",
      "execution_count": 404,
      "metadata": {
        "id": "wlNKu4pAfID1"
      },
      "outputs": [],
      "source": [
        "!apt install libomp-dev\n",
        "!python -m pip install --upgrade faiss faiss-gpu\n",
        "# Note needed to set an older version of faiss-gpu for it to run in Colab\n",
        "!python -m pip install --upgrade faiss-gpu==1.7.1\n",
        "\n",
        "\n",
        "# Clear output for this cell\n",
        "from IPython.display import clear_output\n",
        "clear_output()"
      ]
    },
    {
      "cell_type": "code",
      "execution_count": 405,
      "metadata": {
        "id": "UgHuNxaMGPz5"
      },
      "outputs": [],
      "source": [
        "import faiss # !pip show faiss-gpu"
      ]
    },
    {
      "cell_type": "markdown",
      "metadata": {
        "id": "SC_Z5Ql7hfe-"
      },
      "source": [
        "Define the FAISS Qunatizer and Index"
      ]
    },
    {
      "cell_type": "code",
      "execution_count": 406,
      "metadata": {
        "id": "MeJPhGrmf6Oz"
      },
      "outputs": [],
      "source": [
        "quantizer_lhs = faiss.IndexFlatL2(np_features.shape[1])\n",
        "index_lhs = faiss.IndexIVFPQ(quantizer_lhs,\n",
        "                         np_features.shape[1], \n",
        "                         100,             # number_of_partition,\n",
        "                         10,              # search_in_x_partitions, \n",
        "                         5)               # subvector_size"
      ]
    },
    {
      "cell_type": "markdown",
      "metadata": {
        "id": "UhDQo1DPhlVj"
      },
      "source": [
        "Build the index"
      ]
    },
    {
      "cell_type": "code",
      "execution_count": 407,
      "metadata": {
        "id": "xahk78YlhnJ9"
      },
      "outputs": [],
      "source": [
        "index_lhs.train(np_features)\n",
        "index_lhs.add(np_features)"
      ]
    },
    {
      "cell_type": "markdown",
      "metadata": {
        "id": "aDog2tQok-sr"
      },
      "source": [
        "Search for similar item based on the first item in the dataset."
      ]
    },
    {
      "cell_type": "code",
      "execution_count": 408,
      "metadata": {
        "id": "_omdETWvhnHo"
      },
      "outputs": [],
      "source": [
        "# Pass in the first three features labeled with A's\n",
        "search_vector_lhs = np_features[0:1]\n",
        "distances_lhs, indices_lhs = index_lhs.search(x = search_vector_lhs,k = 5)"
      ]
    },
    {
      "cell_type": "code",
      "execution_count": 409,
      "metadata": {
        "colab": {
          "base_uri": "https://localhost:8080/"
        },
        "id": "-158iD79SnrY",
        "outputId": "8a20adfb-822f-4466-b6e6-9af253f9d04b"
      },
      "outputs": [
        {
          "data": {
            "text/plain": [
              "array([   0, 1016,   61,   94,   80])"
            ]
          },
          "execution_count": 409,
          "metadata": {},
          "output_type": "execute_result"
        }
      ],
      "source": [
        "indices_lhs[0]"
      ]
    },
    {
      "cell_type": "code",
      "execution_count": 410,
      "metadata": {
        "colab": {
          "base_uri": "https://localhost:8080/"
        },
        "id": "wCfcnTVHkBD9",
        "outputId": "9f6e4f88-c834-4157-9a73-db473d2cf501"
      },
      "outputs": [
        {
          "name": "stdout",
          "output_type": "stream",
          "text": [
            "The most similar letter images to A are:\n",
            "\n",
            "['A', 'K', 'A', 'A', 'A']\n"
          ]
        }
      ],
      "source": [
        "print(f\"The most similar letter images to {np_labels[0]} are:\\n\")\n",
        "print([np_labels[i] for i in indices_lhs[0]])"
      ]
    },
    {
      "cell_type": "markdown",
      "metadata": {
        "id": "6rVecM80G0Bv"
      },
      "source": [
        "Display search result indicies for reference and latter plotting"
      ]
    },
    {
      "cell_type": "code",
      "execution_count": 411,
      "metadata": {
        "colab": {
          "base_uri": "https://localhost:8080/"
        },
        "id": "PH9N4m-YG5jE",
        "outputId": "dcbf4a68-ab8d-44df-ca1b-c9ff51da2af1"
      },
      "outputs": [
        {
          "data": {
            "text/plain": [
              "array([   0, 1016,   61,   94,   80])"
            ]
          },
          "execution_count": 411,
          "metadata": {},
          "output_type": "execute_result"
        }
      ],
      "source": [
        "indices_lhs[0]"
      ]
    },
    {
      "cell_type": "markdown",
      "metadata": {
        "id": "GXxx9sTrJ0_7"
      },
      "source": [
        "# Exhaustive Search"
      ]
    },
    {
      "cell_type": "markdown",
      "metadata": {
        "id": "wlXgMXOmTMBu"
      },
      "source": [
        "Summarize details of the data"
      ]
    },
    {
      "cell_type": "code",
      "execution_count": 412,
      "metadata": {
        "colab": {
          "base_uri": "https://localhost:8080/"
        },
        "id": "QtfH8ck7GPxM",
        "outputId": "d6424fe8-9ad1-480c-e18a-3534e54bcd47"
      },
      "outputs": [
        {
          "data": {
            "text/plain": [
              "['analyzing 2600 vectors of size 100',\n",
              " 'no NaN or Infs in data',\n",
              " 'all vectors are distinct',\n",
              " 'range of L2 norms=[50.3579, 51.2249] (0 null vectors)',\n",
              " 'matrix contains no 0s',\n",
              " 'no constant dimensions',\n",
              " 'no dimension has a too large mean',\n",
              " 'stddevs per dimension are in [0.0251787 1.12453]',\n",
              " '']"
            ]
          },
          "execution_count": 412,
          "metadata": {},
          "output_type": "execute_result"
        }
      ],
      "source": [
        "faiss.MatrixStats(np_features).comments.split(\"\\n\")"
      ]
    },
    {
      "cell_type": "markdown",
      "metadata": {
        "id": "_MbApntzKqVz"
      },
      "source": [
        "Create a Faiss Index"
      ]
    },
    {
      "cell_type": "code",
      "execution_count": 413,
      "metadata": {
        "id": "D73AG_QpTJkm"
      },
      "outputs": [],
      "source": [
        "# Flatten the features and add them to the index\n",
        "index_es = faiss.IndexFlatL2(np_features.shape[1])\n",
        "index_es.add(np_features)"
      ]
    },
    {
      "cell_type": "code",
      "execution_count": 414,
      "metadata": {
        "id": "JTXSl7LITehu"
      },
      "outputs": [],
      "source": [
        "# Pass in the first three features labeled with A's\n",
        "search_vector_es = np_features[0:1]\n",
        "distances_es, indices_es = index_es.search(x = search_vector_es,k = 5)"
      ]
    },
    {
      "cell_type": "code",
      "execution_count": 415,
      "metadata": {
        "colab": {
          "base_uri": "https://localhost:8080/"
        },
        "id": "Ek7FXLv8Sso9",
        "outputId": "97b32b64-e2e9-411b-bfc4-4f3aa5b3d5c3"
      },
      "outputs": [
        {
          "data": {
            "text/plain": [
              "array([   0,   80,   61, 1016,   94])"
            ]
          },
          "execution_count": 415,
          "metadata": {},
          "output_type": "execute_result"
        }
      ],
      "source": [
        "indices_es[0]"
      ]
    },
    {
      "cell_type": "code",
      "execution_count": 416,
      "metadata": {
        "colab": {
          "base_uri": "https://localhost:8080/"
        },
        "id": "v1pUy9OnTef1",
        "outputId": "9b93a2ac-ba2e-4b66-9b27-961ad6be604f"
      },
      "outputs": [
        {
          "name": "stdout",
          "output_type": "stream",
          "text": [
            "The most similar letter images to A are:\n",
            "\n",
            "['A', 'A', 'A', 'K', 'A']\n"
          ]
        }
      ],
      "source": [
        "print(f\"The most similar letter images to {np_labels[0]} are:\\n\")\n",
        "print([np_labels[i] for i in indices_es[0]])"
      ]
    },
    {
      "cell_type": "markdown",
      "metadata": {
        "id": "RaQCLFJ8Upv6"
      },
      "source": [
        "The initial results of this are great since all of the similar items found are all showing 'A' labels. While testing out other parameters like just one search vector, similar labels such as F and P showed up."
      ]
    },
    {
      "cell_type": "markdown",
      "metadata": {
        "id": "I2jEYi0kXT5G"
      },
      "source": [
        "# Product Quantization"
      ]
    },
    {
      "cell_type": "markdown",
      "metadata": {
        "id": "XB5U1JdqsjFF"
      },
      "source": [
        "When applying Product Quantization the parameters are very dataset dependant and need adjustment to fit the data. For example this notebook used 100 columns as reduced data from the original image with 728 column image data and so the number of partitions and the sub vectors need to be multiples of the total number of columns and made small enough to fit into the 8 bit representation."
      ]
    },
    {
      "cell_type": "code",
      "execution_count": 417,
      "metadata": {
        "id": "0coUz26zTedo"
      },
      "outputs": [],
      "source": [
        "quantizer_pq = faiss.IndexFlatL2(np_features.shape[1])\n",
        "index_pq = faiss.IndexIVFPQ(quantizer_pq,\n",
        "                         np_features.shape[1], \n",
        "                         100,             # number_of_partition,\n",
        "                         10,               # search_in_x_partitions, \n",
        "                         5)               # subvector_size"
      ]
    },
    {
      "cell_type": "markdown",
      "metadata": {
        "id": "zZJ8h2rKX31b"
      },
      "source": [
        "Fit the index"
      ]
    },
    {
      "cell_type": "code",
      "execution_count": 418,
      "metadata": {
        "id": "l2jD0kGgX3K1"
      },
      "outputs": [],
      "source": [
        "index_pq.train(np_features)\n",
        "index_pq.add(np_features)"
      ]
    },
    {
      "cell_type": "markdown",
      "metadata": {
        "id": "C4xivYnIX-Rq"
      },
      "source": [
        "Search the vector"
      ]
    },
    {
      "cell_type": "code",
      "execution_count": 419,
      "metadata": {
        "id": "dJFMW8FXYAV7"
      },
      "outputs": [],
      "source": [
        "search_vector_pq = np_features[0:1]\n",
        "distances_pq, indices_pq = index_pq.search(x = search_vector_pq, k = 5)"
      ]
    },
    {
      "cell_type": "markdown",
      "metadata": {
        "id": "t7IypWNiYJ_z"
      },
      "source": [
        "Display results"
      ]
    },
    {
      "cell_type": "code",
      "execution_count": 420,
      "metadata": {
        "colab": {
          "base_uri": "https://localhost:8080/"
        },
        "id": "I_-nFQcdYjli",
        "outputId": "fad34dff-00c0-4a41-f0fc-3e7470ecd6d0"
      },
      "outputs": [
        {
          "data": {
            "text/plain": [
              "array([   0, 1016,   61,   94,   80])"
            ]
          },
          "execution_count": 420,
          "metadata": {},
          "output_type": "execute_result"
        }
      ],
      "source": [
        "indices_pq[0]"
      ]
    },
    {
      "cell_type": "code",
      "execution_count": 421,
      "metadata": {
        "colab": {
          "base_uri": "https://localhost:8080/"
        },
        "id": "cxWweVuRYJvq",
        "outputId": "a9a8ddf1-70c1-42b6-aafc-c1d00024d36e"
      },
      "outputs": [
        {
          "name": "stdout",
          "output_type": "stream",
          "text": [
            "The most similar letter images to A are:\n",
            "\n",
            "['A', 'K', 'A', 'A', 'A']\n",
            "CPU times: user 0 ns, sys: 492 µs, total: 492 µs\n",
            "Wall time: 383 µs\n"
          ]
        }
      ],
      "source": [
        "%%time\n",
        "print(f\"The most similar letter images to {np_labels[0]} are:\\n\")\n",
        "print([np_labels[i] for i in indices_pq[0]])"
      ]
    },
    {
      "cell_type": "markdown",
      "metadata": {
        "id": "mpHK32YCi3ro"
      },
      "source": [
        "The results of the Product Quantization search are very similar to the full FAISS exhaustive search. I noticed that in different runs the were some different indices in the Quantized search results and this is because it is just an approximate search and also the UMAP dimensionality reduction could be different in various fittings."
      ]
    },
    {
      "cell_type": "markdown",
      "metadata": {
        "id": "1KGxz6UPL4ul"
      },
      "source": [
        "# Trees and Graphs"
      ]
    },
    {
      "cell_type": "markdown",
      "metadata": {
        "id": "obTUOW8AOUeT"
      },
      "source": [
        "For tree based search we will apply the Annoy method on the reduced image data"
      ]
    },
    {
      "cell_type": "code",
      "execution_count": 422,
      "metadata": {
        "id": "SYrL_U1AOcjV"
      },
      "outputs": [],
      "source": [
        "!pip install annoy\n",
        "\n",
        "# Clear output for this cell\n",
        "from IPython.display import clear_output\n",
        "clear_output()"
      ]
    },
    {
      "cell_type": "code",
      "execution_count": 423,
      "metadata": {
        "id": "u9HooZG_GPun"
      },
      "outputs": [],
      "source": [
        "import annoy"
      ]
    },
    {
      "cell_type": "markdown",
      "metadata": {
        "id": "HJ80YRCDl2gU"
      },
      "source": [
        "Define the index. Reference tutorial [Trees and Forests](https://github.com/eyaltrabelsi/my-notebooks/blob/master/Lectures/search_in_practice-approximate_nearest_neighbors/Trees%20and%20Forrests.ipynb)"
      ]
    },
    {
      "cell_type": "code",
      "execution_count": 424,
      "metadata": {
        "colab": {
          "base_uri": "https://localhost:8080/"
        },
        "id": "AELWUhX-l2gV",
        "outputId": "c023630d-0141-43ae-cb4a-8f7dbde80522"
      },
      "outputs": [
        {
          "name": "stderr",
          "output_type": "stream",
          "text": [
            "/usr/local/lib/python3.7/dist-packages/ipykernel_launcher.py:1: FutureWarning: The default argument for metric will be removed in future version of Annoy. Please pass metric='angular' explicitly.\n",
            "  \"\"\"Entry point for launching an IPython kernel.\n"
          ]
        }
      ],
      "source": [
        "index_tg =  annoy.AnnoyIndex(np_features.shape[1])"
      ]
    },
    {
      "cell_type": "markdown",
      "metadata": {
        "id": "OGzJ0vXdnZFw"
      },
      "source": [
        "Build the index"
      ]
    },
    {
      "cell_type": "code",
      "execution_count": 425,
      "metadata": {
        "colab": {
          "base_uri": "https://localhost:8080/"
        },
        "id": "4icqw4BjnXxn",
        "outputId": "e94f6719-a9be-4ea5-977c-687411d78eb9"
      },
      "outputs": [
        {
          "data": {
            "text/plain": [
              "True"
            ]
          },
          "execution_count": 425,
          "metadata": {},
          "output_type": "execute_result"
        }
      ],
      "source": [
        "# Add each vector to the index one at a time\n",
        "for i, vec in enumerate(np_features):\n",
        "  index_tg.add_item(i, vec.tolist())\n",
        "\n",
        "index_tg.build(n_trees = 5)"
      ]
    },
    {
      "cell_type": "markdown",
      "metadata": {
        "id": "Ns7Rx41ul2gV"
      },
      "source": [
        "Search for similar item based on the first item in the dataset."
      ]
    },
    {
      "cell_type": "code",
      "execution_count": 426,
      "metadata": {
        "id": "gBp_0Sz8l2gV"
      },
      "outputs": [],
      "source": [
        "# Pass in the first three features labeled with A's\n",
        "search_vector_tg = np_features[0:1].tolist()[0]\n",
        "indices_tg = index_tg.get_nns_by_vector(vector = search_vector_tg,n = 5)"
      ]
    },
    {
      "cell_type": "code",
      "execution_count": 427,
      "metadata": {
        "colab": {
          "base_uri": "https://localhost:8080/"
        },
        "id": "1_sE3fCLSx4H",
        "outputId": "2d9e72e5-dbb5-471e-c4c1-c1eecdc9a9c9"
      },
      "outputs": [
        {
          "data": {
            "text/plain": [
              "[0, 80, 61, 1016, 94]"
            ]
          },
          "execution_count": 427,
          "metadata": {},
          "output_type": "execute_result"
        }
      ],
      "source": [
        "indices_tg"
      ]
    },
    {
      "cell_type": "code",
      "execution_count": 428,
      "metadata": {
        "colab": {
          "base_uri": "https://localhost:8080/"
        },
        "id": "CIduyGHzl2gV",
        "outputId": "6167b6a9-da8a-4d83-884d-9cec80551f1c"
      },
      "outputs": [
        {
          "name": "stdout",
          "output_type": "stream",
          "text": [
            "The most similar letter images to A are:\n",
            "\n",
            "['A', 'A', 'A', 'K', 'A']\n"
          ]
        }
      ],
      "source": [
        "print(f\"The most similar letter images to {np_labels[0]} are:\\n\")\n",
        "print([np_labels[i] for i in indices_tg])"
      ]
    },
    {
      "cell_type": "markdown",
      "metadata": {
        "id": "gHYKPFSUUITH"
      },
      "source": [
        "These Annoy Tree search results are very similar to the exhaustive and product quantized search results."
      ]
    },
    {
      "cell_type": "markdown",
      "metadata": {
        "id": "xD1zhT3CqgrP"
      },
      "source": [
        "# Hierarchical Navigable Small World Graphs (HNSW)"
      ]
    },
    {
      "cell_type": "markdown",
      "metadata": {
        "id": "7NBvyGa6q8FN"
      },
      "source": [
        "For the HNSW search method we will use nmslib"
      ]
    },
    {
      "cell_type": "code",
      "execution_count": 429,
      "metadata": {
        "id": "TG-75YkUUIHB"
      },
      "outputs": [],
      "source": [
        "!pip install nmslib\n",
        "\n",
        "# Clear output for this cell\n",
        "from IPython.display import clear_output\n",
        "clear_output()"
      ]
    },
    {
      "cell_type": "code",
      "execution_count": 430,
      "metadata": {
        "id": "8QMDtFuVUIEw"
      },
      "outputs": [],
      "source": [
        "import nmslib"
      ]
    },
    {
      "cell_type": "markdown",
      "metadata": {
        "id": "rfo3B_6frWTZ"
      },
      "source": [
        "Define the index"
      ]
    },
    {
      "cell_type": "code",
      "execution_count": 431,
      "metadata": {
        "id": "-L7D1FHSrSSp"
      },
      "outputs": [],
      "source": [
        "index_hnsw = nmslib.init(method='hnsw', space='cosinesimil')"
      ]
    },
    {
      "cell_type": "markdown",
      "metadata": {
        "id": "6DX-SdV2rhQ0"
      },
      "source": [
        "Train the index on the image data"
      ]
    },
    {
      "cell_type": "code",
      "execution_count": 432,
      "metadata": {
        "id": "kuLrlu_srSPy"
      },
      "outputs": [],
      "source": [
        "index_hnsw.addDataPointBatch(np_features)\n",
        "index_hnsw.createIndex({'post': 2})"
      ]
    },
    {
      "cell_type": "markdown",
      "metadata": {
        "id": "KqqHUnHIsBdg"
      },
      "source": [
        "Search for similar item based on the first item in the dataset."
      ]
    },
    {
      "cell_type": "code",
      "execution_count": 433,
      "metadata": {
        "id": "HcAfmwvVsCvl"
      },
      "outputs": [],
      "source": [
        "# Pass in the first feature labeled with an A\n",
        "search_vector_hnsw = np_features[0:1]\n",
        "indices_hnsw = index_hnsw.knnQuery(vector = search_vector_hnsw, k = 5)"
      ]
    },
    {
      "cell_type": "code",
      "execution_count": 434,
      "metadata": {
        "colab": {
          "base_uri": "https://localhost:8080/"
        },
        "id": "dHwYJVCdsmZE",
        "outputId": "8aedbc98-3431-431b-f6e1-4ee4e6c2795b"
      },
      "outputs": [
        {
          "data": {
            "text/plain": [
              "array([   0,   80,   61, 1016,   94], dtype=int32)"
            ]
          },
          "execution_count": 434,
          "metadata": {},
          "output_type": "execute_result"
        }
      ],
      "source": [
        "indices_hnsw[0]"
      ]
    },
    {
      "cell_type": "code",
      "execution_count": 435,
      "metadata": {
        "colab": {
          "base_uri": "https://localhost:8080/"
        },
        "id": "uA0556ZMsfGN",
        "outputId": "aeb70858-69b9-48d2-b9e8-ea27af933539"
      },
      "outputs": [
        {
          "name": "stdout",
          "output_type": "stream",
          "text": [
            "The most similar letter images to A are:\n",
            "\n",
            "['A', 'A', 'A', 'K', 'A']\n"
          ]
        }
      ],
      "source": [
        "print(f\"The most similar letter images to {np_labels[0]} are:\\n\")\n",
        "print([np_labels[i] for i in indices_hnsw[0]])"
      ]
    },
    {
      "cell_type": "markdown",
      "metadata": {
        "id": "zZVFS7xhtJbu"
      },
      "source": [
        "Again the search results are very similar to other methods shown above."
      ]
    },
    {
      "cell_type": "markdown",
      "metadata": {
        "id": "gphJghVytSnW"
      },
      "source": [
        "# Summary of Results"
      ]
    },
    {
      "cell_type": "markdown",
      "metadata": {
        "id": "QAG6PWu7TEBp"
      },
      "source": [
        "While testing different random states on the data sampling and also the UMAP dimensionality reduction some of Approximate search methods had differing results. For this example all search methods had the same results but in different orders."
      ]
    },
    {
      "cell_type": "markdown",
      "metadata": {
        "id": "IX90ZZqIUYGu"
      },
      "source": [
        "Create a table of summary search results from each method and sort them for easier visibility."
      ]
    },
    {
      "cell_type": "code",
      "execution_count": 436,
      "metadata": {
        "colab": {
          "base_uri": "https://localhost:8080/",
          "height": 206
        },
        "id": "NgbpKlh7PKIT",
        "outputId": "1951d689-093a-4175-f5a1-368ff8206437"
      },
      "outputs": [
        {
          "data": {
            "text/html": [
              "<div>\n",
              "<style scoped>\n",
              "    .dataframe tbody tr th:only-of-type {\n",
              "        vertical-align: middle;\n",
              "    }\n",
              "\n",
              "    .dataframe tbody tr th {\n",
              "        vertical-align: top;\n",
              "    }\n",
              "\n",
              "    .dataframe thead th {\n",
              "        text-align: right;\n",
              "    }\n",
              "</style>\n",
              "<table border=\"1\" class=\"dataframe\">\n",
              "  <thead>\n",
              "    <tr style=\"text-align: right;\">\n",
              "      <th></th>\n",
              "      <th>LHS</th>\n",
              "      <th>Exhaustive</th>\n",
              "      <th>Product Quantization</th>\n",
              "      <th>Trees and Graphs</th>\n",
              "      <th>HNSW</th>\n",
              "    </tr>\n",
              "  </thead>\n",
              "  <tbody>\n",
              "    <tr>\n",
              "      <th>0</th>\n",
              "      <td>0</td>\n",
              "      <td>0</td>\n",
              "      <td>0</td>\n",
              "      <td>0</td>\n",
              "      <td>0</td>\n",
              "    </tr>\n",
              "    <tr>\n",
              "      <th>1</th>\n",
              "      <td>61</td>\n",
              "      <td>61</td>\n",
              "      <td>61</td>\n",
              "      <td>61</td>\n",
              "      <td>61</td>\n",
              "    </tr>\n",
              "    <tr>\n",
              "      <th>2</th>\n",
              "      <td>80</td>\n",
              "      <td>80</td>\n",
              "      <td>80</td>\n",
              "      <td>80</td>\n",
              "      <td>80</td>\n",
              "    </tr>\n",
              "    <tr>\n",
              "      <th>3</th>\n",
              "      <td>94</td>\n",
              "      <td>94</td>\n",
              "      <td>94</td>\n",
              "      <td>94</td>\n",
              "      <td>94</td>\n",
              "    </tr>\n",
              "    <tr>\n",
              "      <th>4</th>\n",
              "      <td>1016</td>\n",
              "      <td>1016</td>\n",
              "      <td>1016</td>\n",
              "      <td>1016</td>\n",
              "      <td>1016</td>\n",
              "    </tr>\n",
              "  </tbody>\n",
              "</table>\n",
              "</div>"
            ],
            "text/plain": [
              "    LHS  Exhaustive  Product Quantization  Trees and Graphs  HNSW\n",
              "0     0           0                     0                 0     0\n",
              "1    61          61                    61                61    61\n",
              "2    80          80                    80                80    80\n",
              "3    94          94                    94                94    94\n",
              "4  1016        1016                  1016              1016  1016"
            ]
          },
          "execution_count": 436,
          "metadata": {},
          "output_type": "execute_result"
        }
      ],
      "source": [
        "# Dictionary of search results\n",
        "results_dict = {'LHS' :  np.sort(indices_lhs[0]),\n",
        "    'Exhaustive': np.sort(indices_es[0]),\n",
        "    'Product Quantization' : np.sort(indices_pq[0]),\n",
        "    'Trees and Graphs' : np.sort(np.array(indices_tg)),\n",
        "    'HNSW' : np.sort(indices_hnsw[0]),\n",
        " }\n",
        "\n",
        "df_results = pd.DataFrame(results_dict)\n",
        "df_results"
      ]
    },
    {
      "cell_type": "markdown",
      "metadata": {
        "id": "W-mnQoCUXd1q"
      },
      "source": [
        "One interesting result was that each of the various search methods found one wrong label (namely the \"K\" at index 1016). To visually see why lets plot out the various images."
      ]
    },
    {
      "cell_type": "markdown",
      "metadata": {
        "id": "DWMxHvSEXtaq"
      },
      "source": [
        "Plot of original search image/vector:"
      ]
    },
    {
      "cell_type": "code",
      "execution_count": 437,
      "metadata": {
        "colab": {
          "base_uri": "https://localhost:8080/",
          "height": 268
        },
        "id": "Tdb7nDdptQvA",
        "outputId": "5f95d1ef-27c8-42b7-cb9f-1bef0484cff9"
      },
      "outputs": [
        {
          "data": {
            "image/png": "[encoded data removed]",
            "text/plain": [
              "<Figure size 288x288 with 1 Axes>"
            ]
          },
          "metadata": {
            "needs_background": "light"
          },
          "output_type": "display_data"
        }
      ],
      "source": [
        "idx = 0\n",
        "plot_emnist_image_by_idx(idx = idx, df_features = df_features_original)"
      ]
    },
    {
      "cell_type": "markdown",
      "metadata": {
        "id": "tawnjisTbs6j"
      },
      "source": [
        "Plot the 5 images returned from the search results"
      ]
    },
    {
      "cell_type": "code",
      "execution_count": 438,
      "metadata": {
        "colab": {
          "base_uri": "https://localhost:8080/",
          "height": 1000
        },
        "id": "irh8pSDUXLmD",
        "outputId": "4ca58ba6-6676-40a4-8a02-f953801185b9"
      },
      "outputs": [
        {
          "data": {
            "image/png": "[encoded data removed]",
            "text/plain": [
              "<Figure size 288x288 with 1 Axes>"
            ]
          },
          "metadata": {
            "needs_background": "light"
          },
          "output_type": "display_data"
        },
        {
          "data": {
            "image/png": "[encoded data removed]",
            "text/plain": [
              "<Figure size 288x288 with 1 Axes>"
            ]
          },
          "metadata": {
            "needs_background": "light"
          },
          "output_type": "display_data"
        },
        {
          "data": {
            "image/png": "[encoded data removed]",
            "text/plain": [
              "<Figure size 288x288 with 1 Axes>"
            ]
          },
          "metadata": {
            "needs_background": "light"
          },
          "output_type": "display_data"
        },
        {
          "data": {
            "image/png": "[encoded data removed]",
            "text/plain": [
              "<Figure size 288x288 with 1 Axes>"
            ]
          },
          "metadata": {
            "needs_background": "light"
          },
          "output_type": "display_data"
        },
        {
          "data": {
            "image/png": "[encoded data removed]",
            "text/plain": [
              "<Figure size 288x288 with 1 Axes>"
            ]
          },
          "metadata": {
            "needs_background": "light"
          },
          "output_type": "display_data"
        }
      ],
      "source": [
        "for result in np.sort(indices_lhs[0]):\n",
        "  plot_emnist_image_by_idx(idx = result, df_features = df_features_original)"
      ]
    },
    {
      "cell_type": "markdown",
      "metadata": {
        "id": "aZ4ONhlRcQoe"
      },
      "source": [
        "After reviewing the image from the mislabeled \"K\" it's easy to see how this particular image could be similar to a capital A which was the ordinal search vector of each method."
      ]
    }
  ],
  "metadata": {
    "accelerator": "GPU",
    "colab": {
      "authorship_tag": "ABX9TyMt/7Lz2S3Wltsxhpj07Uki",
      "collapsed_sections": [],
      "include_colab_link": true,
      "name": "Approximate_Nearest_Neighbors_Cory_Randolph.ipynb",
      "provenance": [],
      "toc_visible": true
    },
    "kernelspec": {
      "display_name": "Python 3",
      "name": "python3"
    },
    "language_info": {
      "name": "python"
    }
  },
  "nbformat": 4,
  "nbformat_minor": 0
}
