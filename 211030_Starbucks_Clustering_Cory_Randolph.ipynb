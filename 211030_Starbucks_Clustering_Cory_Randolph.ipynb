{
  "nbformat": 4,
  "nbformat_minor": 0,
  "metadata": {
    "colab": {
      "name": "211030_Starbucks_Clustering_Cory_Randolph.ipynb",
      "provenance": [],
      "collapsed_sections": [],
      "toc_visible": true,
      "authorship_tag": "ABX9TyMJPrB3BjpC2a6H9OjN6yh9",
      "include_colab_link": true
    },
    "kernelspec": {
      "name": "python3",
      "display_name": "Python 3"
    },
    "language_info": {
      "name": "python"
    }
  },
  "cells": [
    {
      "cell_type": "markdown",
      "metadata": {
        "id": "view-in-github",
        "colab_type": "text"
      },
      "source": [
        "<a href=\"https://colab.research.google.com/github/coryroyce/code_assignments/blob/main/211030_Starbucks_Clustering_Cory_Randolph.ipynb\" target=\"_parent\"><img src=\"https://colab.research.google.com/assets/colab-badge.svg\" alt=\"Open In Colab\"/></a>"
      ]
    },
    {
      "cell_type": "markdown",
      "metadata": {
        "id": "u8LmF1GL2kx8"
      },
      "source": [
        "# Starbucks Clustering Assignment\n",
        "\n",
        "CMPE 256\n",
        "\n",
        "Cory Randolph\n",
        "\n",
        "10/30/2021\n",
        "\n"
      ]
    },
    {
      "cell_type": "markdown",
      "metadata": {
        "id": "AAYjnlUQ2xwg"
      },
      "source": [
        "# Prompt"
      ]
    },
    {
      "cell_type": "markdown",
      "metadata": {
        "id": "h4XFgkuw2zjV"
      },
      "source": [
        "A newly opened Starbucks coffee shop manager wanted to increase loyal customer to his newly opened shop. As part of increasing customer loyalty, he collected data of sale of hot beverages vs popular times of a typical day - in this case Wednesday. The goal of the manager is to offer a sales coupons to customers based on time visit to the store.\n",
        "\n",
        "He consulted you, data scientist, and wanted you to develop clustering (maximum three popular time slots of the day to offer coupon). How do you approach?\n",
        "\n",
        "Part B: Please upload Cluster Source code & Output for Single Link, Complete Link and Average Link. (10)"
      ]
    },
    {
      "cell_type": "markdown",
      "metadata": {
        "id": "ARgfSHA2Nod0"
      },
      "source": [
        "# Summary of Analysis"
      ]
    },
    {
      "cell_type": "markdown",
      "metadata": {
        "id": "h4hoeq2DNrAx"
      },
      "source": [
        "For this project, I first clustered the various points together to see what times and beverages are most popular.\n",
        "Comparing the Single, Complete and Average Cluster the version that I have chosen for this project is the Average Link method since It would be best to choose 3 coupon times that provide the most customers on average.\n",
        "\n",
        "See Graph:"
      ]
    },
    {
      "cell_type": "markdown",
      "metadata": {
        "id": "7qmgjbW8OQsK"
      },
      "source": [
        "![image.png](data:image/png;base64,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)"
      ]
    },
    {
      "cell_type": "markdown",
      "metadata": {
        "id": "utoM9_urORBk"
      },
      "source": [
        "Point #6, Point #2, and Point #9 have early forming clusters and would capture the most amount of customers for the coupon to apply to and may be easier to have other customers change the time they come to come during that specific time window.\n",
        "\n",
        "See Review results at the end of the code for below lookup information:\n",
        "\n",
        "Point #2 Popular time index is '7am-8am' and Beverage is 'Cafe Americano'\n",
        "\n",
        "Point #6 Popular Time Index is '8am-9am' and beverage is 'Espresso Shot'\n",
        "\n",
        "Point #9 Popular Time index is '9am-10am' and beverage is 'Caramel Macchiato'\n",
        "\n",
        "After reviewing this data, since the primary three clusters chosen are all in the morning I may choose to change one of them to an afternoon coupon to capture more of that grouping."
      ]
    },
    {
      "cell_type": "markdown",
      "metadata": {
        "id": "RnCFpDWbTPPC"
      },
      "source": [
        "**Potential Further Analysis**\n",
        "Potential cluster beverages on Caffeinated or non-caffeinated to see if coupons could be made for particular types of drinks.\n"
      ]
    },
    {
      "cell_type": "markdown",
      "metadata": {
        "id": "YRiHF4Bs3jg1"
      },
      "source": [
        "# Imports"
      ]
    },
    {
      "cell_type": "code",
      "metadata": {
        "id": "uppRKHQf3zKa"
      },
      "source": [
        "import numpy as np\n",
        "import pandas as pd\n",
        "from matplotlib import pyplot as plt "
      ],
      "execution_count": 1,
      "outputs": []
    },
    {
      "cell_type": "markdown",
      "metadata": {
        "id": "v_s7E8jG3KwA"
      },
      "source": [
        "# Data"
      ]
    },
    {
      "cell_type": "markdown",
      "metadata": {
        "id": "bUdPoJimOcKc"
      },
      "source": [
        "Convert the data into list pairs for the Hot Beverage Index and also the Popular Times Index."
      ]
    },
    {
      "cell_type": "code",
      "metadata": {
        "id": "6d-GeVmZOo4M"
      },
      "source": [
        "hot_beverage_index = [\n",
        "  [1,'CoffeeType'],\n",
        "  [2,'Cafe Latte'],\n",
        "  [3,'Cafe Mocha'],\n",
        "  [4,'Cappuccino'],\n",
        "  [5,'Caramel Macchiato'],\n",
        "  [6,'Cafe Americano'],\n",
        "  [7,'Hot Chocolate'],\n",
        "  [8,'Espresso Shot'],\n",
        "  [9,'Coffee Of the Day'],\n",
        "]"
      ],
      "execution_count": 2,
      "outputs": []
    },
    {
      "cell_type": "code",
      "metadata": {
        "id": "mvhdPDNdOowb"
      },
      "source": [
        "popular_times_index = [\n",
        "  [1,'6 am - 7 am'],\n",
        "  [2,'7 am - 8 am'],\n",
        "  [3,'8 am - 9 am'],\n",
        "  [4,'9 am - 10 am'],\n",
        "  [5,'10 am - 12 pm'],\n",
        "  [6,'12 pm - 1 pm'],\n",
        "  [7,'1 pm - 3 pm'],\n",
        "  [8,'3 pm - 4 pm'],\n",
        "  [9,'4 pm - 7 pm'],\n",
        "  [10,'7 pm - 8 pm'],\n",
        "  [11,'8 pm - 9 pm'],\n",
        "]"
      ],
      "execution_count": 3,
      "outputs": []
    },
    {
      "cell_type": "markdown",
      "metadata": {
        "id": "7qt2LvdvOavC"
      },
      "source": [
        "Define the data points collected from the time of day purchases on Wednesday"
      ]
    },
    {
      "cell_type": "code",
      "metadata": {
        "id": "S8sc7iQc2kjX"
      },
      "source": [
        "data_points = [\n",
        "  [1,5],\n",
        "  [1,7],\n",
        "  [2,6],\n",
        "  [2,9],\n",
        "  [3,6],\n",
        "  [3,8],\n",
        "  [3,8],\n",
        "  [3,9],\n",
        "  [4,8],\n",
        "  [4,8],\n",
        "  [3,3],\n",
        "  [5,4],\n",
        "  [7,2],\n",
        "  [5,7],\n",
        "  [4,5],\n",
        "  [6,9],\n",
        "  [7,3],\n",
        "  [7,9],\n",
        "  [8,1],\n",
        "  [8,7],\n",
        "]\n",
        "\n",
        "df = pd.DataFrame(data_points, columns = ['Popular_Times_Index', 'Hot_Beverages_Index'])\n",
        "\n",
        "# Sort and re-index the data so that it goes in chronlocal order based on popular times.\n",
        "# This will make it easier when looling at the cluster dendrograms to have a sense of time order.\n",
        "df = df.sort_values(by=['Popular_Times_Index'])\n",
        "df.reset_index(drop=True, inplace=True)"
      ],
      "execution_count": 19,
      "outputs": []
    },
    {
      "cell_type": "code",
      "metadata": {
        "colab": {
          "base_uri": "https://localhost:8080/",
          "height": 143
        },
        "id": "HdBPWjvISGLO",
        "outputId": "cb6e5e23-c3e2-4237-d43e-6bd20a9f8d11"
      },
      "source": [
        "df.head(3)"
      ],
      "execution_count": 20,
      "outputs": [
        {
          "output_type": "execute_result",
          "data": {
            "text/html": [
              "<div>\n",
              "<style scoped>\n",
              "    .dataframe tbody tr th:only-of-type {\n",
              "        vertical-align: middle;\n",
              "    }\n",
              "\n",
              "    .dataframe tbody tr th {\n",
              "        vertical-align: top;\n",
              "    }\n",
              "\n",
              "    .dataframe thead th {\n",
              "        text-align: right;\n",
              "    }\n",
              "</style>\n",
              "<table border=\"1\" class=\"dataframe\">\n",
              "  <thead>\n",
              "    <tr style=\"text-align: right;\">\n",
              "      <th></th>\n",
              "      <th>Popular_Times_Index</th>\n",
              "      <th>Hot_Beverages_Index</th>\n",
              "    </tr>\n",
              "  </thead>\n",
              "  <tbody>\n",
              "    <tr>\n",
              "      <th>0</th>\n",
              "      <td>1</td>\n",
              "      <td>5</td>\n",
              "    </tr>\n",
              "    <tr>\n",
              "      <th>1</th>\n",
              "      <td>1</td>\n",
              "      <td>7</td>\n",
              "    </tr>\n",
              "    <tr>\n",
              "      <th>2</th>\n",
              "      <td>2</td>\n",
              "      <td>6</td>\n",
              "    </tr>\n",
              "  </tbody>\n",
              "</table>\n",
              "</div>"
            ],
            "text/plain": [
              "   Popular_Times_Index  Hot_Beverages_Index\n",
              "0                    1                    5\n",
              "1                    1                    7\n",
              "2                    2                    6"
            ]
          },
          "metadata": {},
          "execution_count": 20
        }
      ]
    },
    {
      "cell_type": "markdown",
      "metadata": {
        "id": "QWcX4y2uSLYq"
      },
      "source": [
        "Recreate the graph"
      ]
    },
    {
      "cell_type": "code",
      "metadata": {
        "colab": {
          "base_uri": "https://localhost:8080/",
          "height": 297
        },
        "id": "--p7aJAxSPmh",
        "outputId": "30d3190c-2aba-4cd9-9220-fe01ece71587"
      },
      "source": [
        "df.plot.scatter(x = 'Popular_Times_Index', y = 'Hot_Beverages_Index')"
      ],
      "execution_count": 21,
      "outputs": [
        {
          "output_type": "execute_result",
          "data": {
            "text/plain": [
              "<matplotlib.axes._subplots.AxesSubplot at 0x7f2aa205d890>"
            ]
          },
          "metadata": {},
          "execution_count": 21
        },
        {
          "output_type": "display_data",
          "data": {
            "image/png": "[encoded data removed]",
            "text/plain": [
              "<Figure size 432x288 with 1 Axes>"
            ]
          },
          "metadata": {
            "needs_background": "light"
          }
        }
      ]
    },
    {
      "cell_type": "markdown",
      "metadata": {
        "id": "ssEkcPTxTJFD"
      },
      "source": [
        "# Apply Clustering"
      ]
    },
    {
      "cell_type": "markdown",
      "metadata": {
        "id": "bNqedS6HNCkJ"
      },
      "source": [
        "## Single Link Cluster"
      ]
    },
    {
      "cell_type": "markdown",
      "metadata": {
        "id": "3gpD61-NTkip"
      },
      "source": [
        "Use the scipy library for clusering and dendrogram visualization"
      ]
    },
    {
      "cell_type": "code",
      "metadata": {
        "id": "Kf2nDPaFTkiq"
      },
      "source": [
        "from scipy.cluster.hierarchy import dendrogram, linkage\n",
        "from scipy.spatial.distance import squareform\n",
        "from scipy.spatial import distance_matrix"
      ],
      "execution_count": 22,
      "outputs": []
    },
    {
      "cell_type": "markdown",
      "metadata": {
        "id": "fe2cr5UTTkiq"
      },
      "source": [
        "Calcualte the distance matrix"
      ]
    },
    {
      "cell_type": "code",
      "metadata": {
        "id": "-5aHPOQyTkiq"
      },
      "source": [
        "dist_matrix = distance_matrix(df.to_numpy(), df.to_numpy())"
      ],
      "execution_count": 23,
      "outputs": []
    },
    {
      "cell_type": "markdown",
      "metadata": {
        "id": "-v3ze8B2Tkiq"
      },
      "source": [
        "Visualize as pandas dataframe"
      ]
    },
    {
      "cell_type": "code",
      "metadata": {
        "colab": {
          "base_uri": "https://localhost:8080/",
          "height": 226
        },
        "id": "2isR2JAGTkiq",
        "outputId": "d82214f9-bfb7-460e-9fbf-b4f207c74926"
      },
      "source": [
        "pd.DataFrame(dist_matrix).head(5)"
      ],
      "execution_count": 24,
      "outputs": [
        {
          "output_type": "execute_result",
          "data": {
            "text/html": [
              "<div>\n",
              "<style scoped>\n",
              "    .dataframe tbody tr th:only-of-type {\n",
              "        vertical-align: middle;\n",
              "    }\n",
              "\n",
              "    .dataframe tbody tr th {\n",
              "        vertical-align: top;\n",
              "    }\n",
              "\n",
              "    .dataframe thead th {\n",
              "        text-align: right;\n",
              "    }\n",
              "</style>\n",
              "<table border=\"1\" class=\"dataframe\">\n",
              "  <thead>\n",
              "    <tr style=\"text-align: right;\">\n",
              "      <th></th>\n",
              "      <th>0</th>\n",
              "      <th>1</th>\n",
              "      <th>2</th>\n",
              "      <th>3</th>\n",
              "      <th>4</th>\n",
              "      <th>5</th>\n",
              "      <th>6</th>\n",
              "      <th>7</th>\n",
              "      <th>8</th>\n",
              "      <th>9</th>\n",
              "      <th>10</th>\n",
              "      <th>11</th>\n",
              "      <th>12</th>\n",
              "      <th>13</th>\n",
              "      <th>14</th>\n",
              "      <th>15</th>\n",
              "      <th>16</th>\n",
              "      <th>17</th>\n",
              "      <th>18</th>\n",
              "      <th>19</th>\n",
              "    </tr>\n",
              "  </thead>\n",
              "  <tbody>\n",
              "    <tr>\n",
              "      <th>0</th>\n",
              "      <td>0.000000</td>\n",
              "      <td>2.000000</td>\n",
              "      <td>1.414214</td>\n",
              "      <td>4.123106</td>\n",
              "      <td>2.236068</td>\n",
              "      <td>3.605551</td>\n",
              "      <td>3.605551</td>\n",
              "      <td>4.472136</td>\n",
              "      <td>2.828427</td>\n",
              "      <td>3.000000</td>\n",
              "      <td>4.242641</td>\n",
              "      <td>4.242641</td>\n",
              "      <td>4.123106</td>\n",
              "      <td>4.472136</td>\n",
              "      <td>6.403124</td>\n",
              "      <td>6.708204</td>\n",
              "      <td>6.324555</td>\n",
              "      <td>7.211103</td>\n",
              "      <td>8.062258</td>\n",
              "      <td>7.280110</td>\n",
              "    </tr>\n",
              "    <tr>\n",
              "      <th>1</th>\n",
              "      <td>2.000000</td>\n",
              "      <td>0.000000</td>\n",
              "      <td>1.414214</td>\n",
              "      <td>2.236068</td>\n",
              "      <td>2.236068</td>\n",
              "      <td>2.236068</td>\n",
              "      <td>2.236068</td>\n",
              "      <td>2.828427</td>\n",
              "      <td>4.472136</td>\n",
              "      <td>3.605551</td>\n",
              "      <td>3.162278</td>\n",
              "      <td>3.162278</td>\n",
              "      <td>5.000000</td>\n",
              "      <td>4.000000</td>\n",
              "      <td>5.385165</td>\n",
              "      <td>7.810250</td>\n",
              "      <td>7.211103</td>\n",
              "      <td>6.324555</td>\n",
              "      <td>9.219544</td>\n",
              "      <td>7.000000</td>\n",
              "    </tr>\n",
              "    <tr>\n",
              "      <th>2</th>\n",
              "      <td>1.414214</td>\n",
              "      <td>1.414214</td>\n",
              "      <td>0.000000</td>\n",
              "      <td>3.000000</td>\n",
              "      <td>1.000000</td>\n",
              "      <td>2.236068</td>\n",
              "      <td>2.236068</td>\n",
              "      <td>3.162278</td>\n",
              "      <td>3.162278</td>\n",
              "      <td>2.236068</td>\n",
              "      <td>2.828427</td>\n",
              "      <td>2.828427</td>\n",
              "      <td>3.605551</td>\n",
              "      <td>3.162278</td>\n",
              "      <td>5.000000</td>\n",
              "      <td>6.403124</td>\n",
              "      <td>5.830952</td>\n",
              "      <td>5.830952</td>\n",
              "      <td>7.810250</td>\n",
              "      <td>6.082763</td>\n",
              "    </tr>\n",
              "    <tr>\n",
              "      <th>3</th>\n",
              "      <td>4.123106</td>\n",
              "      <td>2.236068</td>\n",
              "      <td>3.000000</td>\n",
              "      <td>0.000000</td>\n",
              "      <td>3.162278</td>\n",
              "      <td>1.414214</td>\n",
              "      <td>1.414214</td>\n",
              "      <td>1.000000</td>\n",
              "      <td>6.082763</td>\n",
              "      <td>4.472136</td>\n",
              "      <td>2.236068</td>\n",
              "      <td>2.236068</td>\n",
              "      <td>5.830952</td>\n",
              "      <td>3.605551</td>\n",
              "      <td>4.000000</td>\n",
              "      <td>8.602325</td>\n",
              "      <td>7.810250</td>\n",
              "      <td>5.000000</td>\n",
              "      <td>10.000000</td>\n",
              "      <td>6.324555</td>\n",
              "    </tr>\n",
              "    <tr>\n",
              "      <th>4</th>\n",
              "      <td>2.236068</td>\n",
              "      <td>2.236068</td>\n",
              "      <td>1.000000</td>\n",
              "      <td>3.162278</td>\n",
              "      <td>0.000000</td>\n",
              "      <td>2.000000</td>\n",
              "      <td>2.000000</td>\n",
              "      <td>3.000000</td>\n",
              "      <td>3.000000</td>\n",
              "      <td>1.414214</td>\n",
              "      <td>2.236068</td>\n",
              "      <td>2.236068</td>\n",
              "      <td>2.828427</td>\n",
              "      <td>2.236068</td>\n",
              "      <td>4.242641</td>\n",
              "      <td>5.656854</td>\n",
              "      <td>5.000000</td>\n",
              "      <td>5.000000</td>\n",
              "      <td>7.071068</td>\n",
              "      <td>5.099020</td>\n",
              "    </tr>\n",
              "  </tbody>\n",
              "</table>\n",
              "</div>"
            ],
            "text/plain": [
              "         0         1         2   ...        17         18        19\n",
              "0  0.000000  2.000000  1.414214  ...  7.211103   8.062258  7.280110\n",
              "1  2.000000  0.000000  1.414214  ...  6.324555   9.219544  7.000000\n",
              "2  1.414214  1.414214  0.000000  ...  5.830952   7.810250  6.082763\n",
              "3  4.123106  2.236068  3.000000  ...  5.000000  10.000000  6.324555\n",
              "4  2.236068  2.236068  1.000000  ...  5.000000   7.071068  5.099020\n",
              "\n",
              "[5 rows x 20 columns]"
            ]
          },
          "metadata": {},
          "execution_count": 24
        }
      ]
    },
    {
      "cell_type": "markdown",
      "metadata": {
        "id": "6m0iwixYTkir"
      },
      "source": [
        "Apply square form to remove the 0's and symetric duplicates"
      ]
    },
    {
      "cell_type": "code",
      "metadata": {
        "id": "rK_c9e0MTkir"
      },
      "source": [
        "distances = squareform(dist_matrix)"
      ],
      "execution_count": 25,
      "outputs": []
    },
    {
      "cell_type": "markdown",
      "metadata": {
        "id": "3JQ7BLxeTkir"
      },
      "source": [
        "Create a single linked cluster"
      ]
    },
    {
      "cell_type": "code",
      "metadata": {
        "id": "OMt1XDWWTkir"
      },
      "source": [
        "linkage_single = linkage(distances, 'single')"
      ],
      "execution_count": 26,
      "outputs": []
    },
    {
      "cell_type": "markdown",
      "metadata": {
        "id": "gPQjbT1mTkis"
      },
      "source": [
        "Create a dendogram to visualize"
      ]
    },
    {
      "cell_type": "code",
      "metadata": {
        "colab": {
          "base_uri": "https://localhost:8080/",
          "height": 284
        },
        "id": "QKMxyDomTkis",
        "outputId": "ecc0a848-86d0-42a1-bb48-70263a7b1b5c"
      },
      "source": [
        "dendrogram(linkage_single)\n",
        "# Label the dendrogram\n",
        "plt.title('Single Link')\n",
        "plt.show()"
      ],
      "execution_count": 27,
      "outputs": [
        {
          "output_type": "display_data",
          "data": {
            "image/png": "[encoded data removed]",
            "text/plain": [
              "<Figure size 432x288 with 1 Axes>"
            ]
          },
          "metadata": {
            "needs_background": "light"
          }
        }
      ]
    },
    {
      "cell_type": "markdown",
      "metadata": {
        "id": "RtIG9iGBH4cF"
      },
      "source": [
        "## Complete Link Cluster"
      ]
    },
    {
      "cell_type": "markdown",
      "metadata": {
        "id": "nZkDJ3pOH4cG"
      },
      "source": [
        "Since the data, distance and labels are all the same we just need to update the last few lines of code to get the other types of linkages."
      ]
    },
    {
      "cell_type": "markdown",
      "metadata": {
        "id": "MZitjA26H4cG"
      },
      "source": [
        "Create an Complete linked cluster"
      ]
    },
    {
      "cell_type": "code",
      "metadata": {
        "id": "9sRNPcHoH4cG"
      },
      "source": [
        "linkage_complete = linkage(distances, 'complete')"
      ],
      "execution_count": 28,
      "outputs": []
    },
    {
      "cell_type": "markdown",
      "metadata": {
        "id": "HdRxp2ViH4cG"
      },
      "source": [
        "Create a dendogram to visualize"
      ]
    },
    {
      "cell_type": "code",
      "metadata": {
        "colab": {
          "base_uri": "https://localhost:8080/",
          "height": 284
        },
        "id": "wtDdyr-eH4cG",
        "outputId": "e526cfa6-5b69-4f3a-ca30-eabd9ea12e3c"
      },
      "source": [
        "dendrogram(linkage_complete)\n",
        "# Label the dendrogram\n",
        "plt.title('Complete Link')\n",
        "plt.show()"
      ],
      "execution_count": 29,
      "outputs": [
        {
          "output_type": "display_data",
          "data": {
            "image/png": "[encoded data removed]",
            "text/plain": [
              "<Figure size 432x288 with 1 Axes>"
            ]
          },
          "metadata": {
            "needs_background": "light"
          }
        }
      ]
    },
    {
      "cell_type": "markdown",
      "metadata": {
        "id": "cYQ6EVu7GZfj"
      },
      "source": [
        "## Average Link Cluster"
      ]
    },
    {
      "cell_type": "markdown",
      "metadata": {
        "id": "pUJ217OaGcq8"
      },
      "source": [
        "Since the data, distance and labels are all the same we just need to update the last few lines of code to get the other types of linkages."
      ]
    },
    {
      "cell_type": "markdown",
      "metadata": {
        "id": "svqLbPpUGpWe"
      },
      "source": [
        "Create an average linked cluster"
      ]
    },
    {
      "cell_type": "code",
      "metadata": {
        "id": "1LPq7OH3GpWf"
      },
      "source": [
        "linkage_average = linkage(distances, 'average')"
      ],
      "execution_count": 30,
      "outputs": []
    },
    {
      "cell_type": "markdown",
      "metadata": {
        "id": "85mTz4sLGpWf"
      },
      "source": [
        "Create a dendogram to visualize"
      ]
    },
    {
      "cell_type": "code",
      "metadata": {
        "colab": {
          "base_uri": "https://localhost:8080/",
          "height": 284
        },
        "id": "PfSwsMLZGpWf",
        "outputId": "32d64b0a-4f36-4471-a093-e15283db895e"
      },
      "source": [
        "dendrogram(linkage_average)\n",
        "# Label the dendrogram\n",
        "plt.title('Average Link')\n",
        "plt.show()"
      ],
      "execution_count": 31,
      "outputs": [
        {
          "output_type": "display_data",
          "data": {
            "image/png": "[encoded data removed]",
            "text/plain": [
              "<Figure size 432x288 with 1 Axes>"
            ]
          },
          "metadata": {
            "needs_background": "light"
          }
        }
      ]
    },
    {
      "cell_type": "markdown",
      "metadata": {
        "id": "rCQgvgDeNg6q"
      },
      "source": [
        "# Rreview Results"
      ]
    },
    {
      "cell_type": "markdown",
      "metadata": {
        "id": "rhKCADOZQGsK"
      },
      "source": [
        "See summary of analysis for full details.\n",
        "\n",
        "Below are the calculations for the selected time slots. \n",
        "Point #6, Point #2, and Point #9"
      ]
    },
    {
      "cell_type": "code",
      "metadata": {
        "colab": {
          "base_uri": "https://localhost:8080/"
        },
        "id": "sBjOTNYNRjbc",
        "outputId": "ec5bbd4e-ac57-4593-fd36-3f05f9d15350"
      },
      "source": [
        "popular_times_index"
      ],
      "execution_count": 38,
      "outputs": [
        {
          "output_type": "execute_result",
          "data": {
            "text/plain": [
              "[[1, '6 am - 7 am'],\n",
              " [2, '7 am - 8 am'],\n",
              " [3, '8 am - 9 am'],\n",
              " [4, '9 am - 10 am'],\n",
              " [5, '10 am - 12 pm'],\n",
              " [6, '12 pm - 1 pm'],\n",
              " [7, '1 pm - 3 pm'],\n",
              " [8, '3 pm - 4 pm'],\n",
              " [9, '4 pm - 7 pm'],\n",
              " [10, '7 pm - 8 pm'],\n",
              " [11, '8 pm - 9 pm']]"
            ]
          },
          "metadata": {},
          "execution_count": 38
        }
      ]
    },
    {
      "cell_type": "code",
      "metadata": {
        "colab": {
          "base_uri": "https://localhost:8080/"
        },
        "id": "_UJVBQnRR9hV",
        "outputId": "955257f8-1633-4b17-910f-306f9ff5407d"
      },
      "source": [
        "hot_beverage_index"
      ],
      "execution_count": 40,
      "outputs": [
        {
          "output_type": "execute_result",
          "data": {
            "text/plain": [
              "[[1, 'CoffeeType'],\n",
              " [2, 'Cafe Latte'],\n",
              " [3, 'Cafe Mocha'],\n",
              " [4, 'Cappuccino'],\n",
              " [5, 'Caramel Macchiato'],\n",
              " [6, 'Cafe Americano'],\n",
              " [7, 'Hot Chocolate'],\n",
              " [8, 'Espresso Shot'],\n",
              " [9, 'Coffee Of the Day']]"
            ]
          },
          "metadata": {},
          "execution_count": 40
        }
      ]
    },
    {
      "cell_type": "code",
      "metadata": {
        "colab": {
          "base_uri": "https://localhost:8080/"
        },
        "id": "NeuvN09FNb1R",
        "outputId": "f12bc1a8-7656-4135-f135-63006d0c84d0"
      },
      "source": [
        "point_2 = df.loc[2]\n",
        "print(point_2)"
      ],
      "execution_count": 36,
      "outputs": [
        {
          "output_type": "stream",
          "name": "stdout",
          "text": [
            "Popular_Times_Index    2\n",
            "Hot_Beverages_Index    6\n",
            "Name: 2, dtype: int64\n"
          ]
        }
      ]
    },
    {
      "cell_type": "markdown",
      "metadata": {
        "id": "Vv69CyxhRIhi"
      },
      "source": [
        "Point #2 Popular time index is '7am-8am' and Beverage is 'Cafe Americano'\n"
      ]
    },
    {
      "cell_type": "code",
      "metadata": {
        "colab": {
          "base_uri": "https://localhost:8080/"
        },
        "id": "mhLTvt-3QkhC",
        "outputId": "24bfd026-c3fb-42a9-b4fe-6b76fdc37579"
      },
      "source": [
        "point_6 = df.loc[6]\n",
        "print(point_6)"
      ],
      "execution_count": 37,
      "outputs": [
        {
          "output_type": "stream",
          "name": "stdout",
          "text": [
            "Popular_Times_Index    3\n",
            "Hot_Beverages_Index    8\n",
            "Name: 6, dtype: int64\n"
          ]
        }
      ]
    },
    {
      "cell_type": "markdown",
      "metadata": {
        "id": "F5YTXar2RW5B"
      },
      "source": [
        "Point #6 Popular Time Index is '8am-9am' and beverage is 'Espresso Shot'"
      ]
    },
    {
      "cell_type": "code",
      "metadata": {
        "colab": {
          "base_uri": "https://localhost:8080/"
        },
        "id": "_RCnVAIxQlsd",
        "outputId": "2294f1f6-539e-476b-bb8b-70c9bf63e37f"
      },
      "source": [
        "point_9 = df.loc[9]\n",
        "print(point_9)\n"
      ],
      "execution_count": 39,
      "outputs": [
        {
          "output_type": "stream",
          "name": "stdout",
          "text": [
            "Popular_Times_Index    4\n",
            "Hot_Beverages_Index    5\n",
            "Name: 9, dtype: int64\n"
          ]
        }
      ]
    },
    {
      "cell_type": "markdown",
      "metadata": {
        "id": "qOhiIaoJR0or"
      },
      "source": [
        "Point #9 Popular Time index is '9am-10am' and beverage is 'Caramel Macchiato'"
      ]
    },
    {
      "cell_type": "code",
      "metadata": {
        "id": "mnJUKXXUQ9lC"
      },
      "source": [
        ""
      ],
      "execution_count": null,
      "outputs": []
    }
  ]
}