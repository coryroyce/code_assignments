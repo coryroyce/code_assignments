{
  "nbformat": 4,
  "nbformat_minor": 0,
  "metadata": {
    "colab": {
      "name": "K_Means_Clustering_Cory_Randolph.ipynb",
      "provenance": [],
      "collapsed_sections": [],
      "toc_visible": true,
      "include_colab_link": true
    },
    "kernelspec": {
      "display_name": "Python 3",
      "name": "python3"
    },
    "language_info": {
      "name": "python"
    }
  },
  "cells": [
    {
      "cell_type": "markdown",
      "metadata": {
        "id": "view-in-github",
        "colab_type": "text"
      },
      "source": [
        "<a href=\"https://colab.research.google.com/github/coryroyce/code_assignments/blob/main/211127_Clustering_Techniques/K_Means_Clustering_Cory_Randolph.ipynb\" target=\"_parent\"><img src=\"https://colab.research.google.com/assets/colab-badge.svg\" alt=\"Open In Colab\"/></a>"
      ]
    },
    {
      "cell_type": "markdown",
      "metadata": {
        "id": "4X-J0Qe4zE4S"
      },
      "source": [
        "# K-Means Clustering\n",
        "Cory Randolph\n",
        "\n",
        "11/27/2021"
      ]
    },
    {
      "cell_type": "markdown",
      "metadata": {
        "id": "XoZqF69YzfYv"
      },
      "source": [
        "Goal: Demonstrate K-Means Clustering without high level library to show the unerlying algorithm.\n",
        "\n"
      ]
    },
    {
      "cell_type": "markdown",
      "metadata": {
        "id": "xndOlf_L2UbM"
      },
      "source": [
        "# Load Packages"
      ]
    },
    {
      "cell_type": "markdown",
      "metadata": {
        "id": "Jr3kjKEPvZw9"
      },
      "source": [
        "Import basic packages for visualization"
      ]
    },
    {
      "cell_type": "code",
      "metadata": {
        "id": "_u1Ta1uJuFeO"
      },
      "source": [
        "%matplotlib inline\n",
        "import matplotlib.pyplot as plt\n",
        "import seaborn as sns; sns.set()  # for plot styling\n",
        "import numpy as np\n",
        "import sklearn"
      ],
      "execution_count": 1,
      "outputs": []
    },
    {
      "cell_type": "markdown",
      "metadata": {
        "id": "lz_m4OjXuFeP"
      },
      "source": [
        "# K-Means Overview"
      ]
    },
    {
      "cell_type": "markdown",
      "metadata": {
        "id": "R-IGymxvwQOm"
      },
      "source": [
        "K-means uses a relativly simple algorith to group and cluster datapoints based on their distances. In particular the overall process can be summarized as:\n",
        "1. Randomly guess (k) cluster centers\n",
        "2. Repeat cluster assignments \n",
        "   * Assign every point to the nearest cluster center\n",
        "   * Recacluate the cluster centers as the new mean "
      ]
    },
    {
      "cell_type": "markdown",
      "metadata": {
        "id": "lUpF6V5ixrSp"
      },
      "source": [
        "The end result of the above algorithm is that all of the points will be clustered into groups based on the original number (k) clusters that were choose."
      ]
    },
    {
      "cell_type": "markdown",
      "metadata": {
        "id": "WL9vhNlMx8Uq"
      },
      "source": [
        "# Create Data"
      ]
    },
    {
      "cell_type": "markdown",
      "metadata": {
        "id": "tCu_tLDnyBrq"
      },
      "source": [
        "Use a sklearn package to create clusters of data. Let's choose 5 clusters for our example."
      ]
    },
    {
      "cell_type": "code",
      "metadata": {
        "colab": {
          "base_uri": "https://localhost:8080/",
          "height": 284
        },
        "id": "Ftbv61oKwP6r",
        "outputId": "5e407ff9-f6eb-40a6-fd39-9ed70cd1b679"
      },
      "source": [
        "from sklearn.datasets import make_blobs\n",
        "\n",
        "# Create cluster values in 2 dimensions\n",
        "X, y_true = make_blobs(n_samples=300, centers=5,\n",
        "                       cluster_std=0.9, random_state=3)\n",
        "\n",
        "# Plot the clusters\n",
        "plt.title('Original Data')\n",
        "plt.scatter(X[:, 0], X[:, 1], s=50);"
      ],
      "execution_count": 2,
      "outputs": [
        {
          "output_type": "display_data",
          "data": {
            "image/png": "[encoded data removed]",
            "text/plain": [
              "<Figure size 432x288 with 1 Axes>"
            ]
          },
          "metadata": {
            "needs_background": "light"
          }
        }
      ]
    },
    {
      "cell_type": "markdown",
      "metadata": {
        "id": "k3iOTP0ozYPK"
      },
      "source": [
        "# Manual K-Means"
      ]
    },
    {
      "cell_type": "markdown",
      "metadata": {
        "id": "DMcX_UbMzdRs"
      },
      "source": [
        "The distinct clusters can easily be seen, but now we will apply the K-Means algorith to show them in defferent colors."
      ]
    },
    {
      "cell_type": "code",
      "metadata": {
        "id": "JyiquXvTzXf-"
      },
      "source": [
        "from sklearn.metrics import pairwise_distances_argmin"
      ],
      "execution_count": 3,
      "outputs": []
    },
    {
      "cell_type": "code",
      "metadata": {
        "id": "jyvz_gl30_8U"
      },
      "source": [
        "def apply_kmeans(X, n_clusters):\n",
        "\n",
        "    # Choose initial cluster centers randomly\n",
        "    rand_idx = np.random.RandomState(3).permutation(X.shape[0])[:n_clusters]\n",
        "    centers = X[rand_idx]\n",
        "    \n",
        "    while True:\n",
        "        # Set labels based on closest cluster center\n",
        "        labels = pairwise_distances_argmin(X, centers)\n",
        "        \n",
        "        # Calculate new centers\n",
        "        new_centers = np.array([X[labels == idx].mean(0) for idx in range(n_clusters)])\n",
        "        \n",
        "        # Check if centers are not changine\n",
        "        if np.all(centers == new_centers):\n",
        "            break\n",
        "        centers = new_centers\n",
        "    \n",
        "    return centers, labels"
      ],
      "execution_count": 4,
      "outputs": []
    },
    {
      "cell_type": "markdown",
      "metadata": {
        "id": "qazNCIy11sX7"
      },
      "source": [
        "Apply our custom K-Means algorith to the dataset."
      ]
    },
    {
      "cell_type": "code",
      "metadata": {
        "id": "RKQ-gu9K0_5D"
      },
      "source": [
        "centers, labels = apply_kmeans(X, 5)"
      ],
      "execution_count": 5,
      "outputs": []
    },
    {
      "cell_type": "markdown",
      "metadata": {
        "id": "BUCzpx40ARou"
      },
      "source": [
        "Plot the graphs"
      ]
    },
    {
      "cell_type": "code",
      "metadata": {
        "colab": {
          "base_uri": "https://localhost:8080/",
          "height": 284
        },
        "id": "bamcbrnyAUuy",
        "outputId": "0f20cf45-5e23-4fcd-9359-b8116820239a"
      },
      "source": [
        "# Plot the data colored by cluster\n",
        "plt.scatter(X[:, 0], X[:, 1], c=labels,\n",
        "            s=50, cmap='viridis');\n",
        "\n",
        "# Add a title\n",
        "plt.title('K-Means Clusters')\n",
        "\n",
        "# Define the cluster centers and plot\n",
        "plt.scatter(centers[:, 0], centers[:, 1], c='black', s=200, alpha=0.5);"
      ],
      "execution_count": 6,
      "outputs": [
        {
          "output_type": "display_data",
          "data": {
            "image/png": "[encoded data removed]",
            "text/plain": [
              "<Figure size 432x288 with 1 Axes>"
            ]
          },
          "metadata": {
            "needs_background": "light"
          }
        }
      ]
    },
    {
      "cell_type": "markdown",
      "metadata": {
        "id": "RWWrrc3lzytx"
      },
      "source": [
        "# K-Means with Sklearn"
      ]
    },
    {
      "cell_type": "markdown",
      "metadata": {
        "id": "RSIqoEdhz3bN"
      },
      "source": [
        "Now that we have the manully calulated K-Means, let's show how easy this can be done within Sklearn."
      ]
    },
    {
      "cell_type": "code",
      "metadata": {
        "id": "tkNWWK_2zyfh"
      },
      "source": [
        "from sklearn.cluster import KMeans\n",
        "\n",
        "# Use the KMeans model\n",
        "kmeans = KMeans(n_clusters=5)\n",
        "\n",
        "# Fit our data to the model\n",
        "kmeans.fit(X)\n",
        "\n",
        "# Store the results\n",
        "y_kmeans = kmeans.predict(X)"
      ],
      "execution_count": 7,
      "outputs": []
    },
    {
      "cell_type": "markdown",
      "metadata": {
        "id": "hn2FI3KA0V4b"
      },
      "source": [
        "Plot the data with clusters colored for reference."
      ]
    },
    {
      "cell_type": "code",
      "metadata": {
        "colab": {
          "base_uri": "https://localhost:8080/",
          "height": 284
        },
        "id": "Web2FnvozydY",
        "outputId": "0685f351-7e66-4cde-c0b5-b2bb13977343"
      },
      "source": [
        "# Define the scatter plot and format\n",
        "plt.scatter(X[:, 0], X[:, 1], c=y_kmeans, s=50, cmap='viridis')\n",
        "\n",
        "# Add Title\n",
        "plt.title('K-Means Clusters')\n",
        "\n",
        "# Define the cluster centers and plot\n",
        "centers = kmeans.cluster_centers_\n",
        "plt.scatter(centers[:, 0], centers[:, 1], c='black', s=200, alpha=0.5);"
      ],
      "execution_count": 8,
      "outputs": [
        {
          "output_type": "display_data",
          "data": {
            "image/png": "[encoded data removed]",
            "text/plain": [
              "<Figure size 432x288 with 1 Axes>"
            ]
          },
          "metadata": {
            "needs_background": "light"
          }
        }
      ]
    },
    {
      "cell_type": "markdown",
      "metadata": {
        "id": "3x0DkonzJPPk"
      },
      "source": [
        "# Clustering Metrics"
      ]
    },
    {
      "cell_type": "markdown",
      "metadata": {
        "id": "ZLWjXsCmJRXb"
      },
      "source": [
        "Apply clustering metrics to get a sense of how good the clustering algorithm is working."
      ]
    },
    {
      "cell_type": "markdown",
      "metadata": {
        "id": "E2IUHFVdJ54I"
      },
      "source": [
        "## Silhouette Score"
      ]
    },
    {
      "cell_type": "markdown",
      "metadata": {
        "id": "ylMgN8o7KCQl"
      },
      "source": [
        "The silhouette Score can be used to measure the didtance between clusters and does not neccessarily need to know the true labels, but by comparing the score of the ground truth to the algorithms clsuters/predictions we get a good understanding."
      ]
    },
    {
      "cell_type": "markdown",
      "metadata": {
        "id": "UeyaW-WpKfJ_"
      },
      "source": [
        "Silhouette score for actual labels"
      ]
    },
    {
      "cell_type": "code",
      "metadata": {
        "colab": {
          "base_uri": "https://localhost:8080/"
        },
        "id": "hnP6CCJJJaPY",
        "outputId": "e5c7c72c-d786-4c00-e052-a6266049191b"
      },
      "source": [
        "silhouette_score_actual = sklearn.metrics.silhouette_score(X = X, labels = y_true, metric='euclidean', sample_size=None, random_state=3)\n",
        "\n",
        "silhouette_score_actual"
      ],
      "execution_count": 9,
      "outputs": [
        {
          "output_type": "execute_result",
          "data": {
            "text/plain": [
              "0.6971581815434948"
            ]
          },
          "metadata": {},
          "execution_count": 9
        }
      ]
    },
    {
      "cell_type": "markdown",
      "metadata": {
        "id": "FN0TGDBXKx4u"
      },
      "source": [
        "Silhouette score for algortithms predictions"
      ]
    },
    {
      "cell_type": "code",
      "metadata": {
        "colab": {
          "base_uri": "https://localhost:8080/"
        },
        "id": "hnQdxzBwKx4u",
        "outputId": "a9f13590-fe80-4ce5-9ff9-2da35c248fb4"
      },
      "source": [
        "silhouette_score_pred = sklearn.metrics.silhouette_score(X = X, labels = y_kmeans, metric='euclidean', sample_size=None, random_state=3)\n",
        "\n",
        "silhouette_score_pred"
      ],
      "execution_count": 10,
      "outputs": [
        {
          "output_type": "execute_result",
          "data": {
            "text/plain": [
              "0.6971581815434948"
            ]
          },
          "metadata": {},
          "execution_count": 10
        }
      ]
    },
    {
      "cell_type": "markdown",
      "metadata": {
        "id": "C1vRkFHQK9Gr"
      },
      "source": [
        "Calculate the ratio of the Silhouette score for the predicted over the actual. (The closer to 1 the better)"
      ]
    },
    {
      "cell_type": "code",
      "metadata": {
        "colab": {
          "base_uri": "https://localhost:8080/"
        },
        "id": "zxMHJdWlLI65",
        "outputId": "daba3855-440d-4a05-e06e-d0b496c30c6d"
      },
      "source": [
        "silhouette_score_ratio = silhouette_score_pred/ silhouette_score_actual\n",
        "\n",
        "silhouette_score_ratio"
      ],
      "execution_count": 11,
      "outputs": [
        {
          "output_type": "execute_result",
          "data": {
            "text/plain": [
              "1.0"
            ]
          },
          "metadata": {},
          "execution_count": 11
        }
      ]
    },
    {
      "cell_type": "markdown",
      "metadata": {
        "id": "DGp1Nx1HLPsC"
      },
      "source": [
        "Note: The score of 1 implies that the algorith did a perfect job (maybe some edge cases)."
      ]
    },
    {
      "cell_type": "markdown",
      "metadata": {
        "id": "iMxqg5kMLZwn"
      },
      "source": [
        "## Adjusted Mutual Information"
      ]
    },
    {
      "cell_type": "markdown",
      "metadata": {
        "id": "eQi9x-ahLfJh"
      },
      "source": [
        "Adjusted Mutual Information score measure the infomration between clusters. And \"adjusted\" means that 1 is a perfect score."
      ]
    },
    {
      "cell_type": "code",
      "metadata": {
        "colab": {
          "base_uri": "https://localhost:8080/"
        },
        "id": "u24qejELLI4m",
        "outputId": "8aadbea9-46d2-44e4-cc6c-8018ca05d6c4"
      },
      "source": [
        "sklearn.metrics.adjusted_mutual_info_score(labels_true = y_true, labels_pred = y_kmeans)"
      ],
      "execution_count": 12,
      "outputs": [
        {
          "output_type": "execute_result",
          "data": {
            "text/plain": [
              "1.0"
            ]
          },
          "metadata": {},
          "execution_count": 12
        }
      ]
    },
    {
      "cell_type": "markdown",
      "metadata": {
        "id": "QAXwC4SiMlDJ"
      },
      "source": [
        "Note: We get a perfect score in this example"
      ]
    },
    {
      "cell_type": "markdown",
      "metadata": {
        "id": "Ao-oPXzEMoZw"
      },
      "source": [
        "## Accuracy and Overall Classification"
      ]
    },
    {
      "cell_type": "markdown",
      "metadata": {
        "id": "iXQoXMx_OA_u"
      },
      "source": [
        "Classification report provide summary statistics about the correct lables"
      ]
    },
    {
      "cell_type": "markdown",
      "metadata": {
        "id": "mXqXE3PuOd6b"
      },
      "source": [
        "Map the clusters to correct labels to fist the classification report. Create a custom function."
      ]
    },
    {
      "cell_type": "code",
      "metadata": {
        "id": "T3jvaeS5TlE2"
      },
      "source": [
        "def get_label_mapping(y_true, y_pred):\n",
        "  temp_list = []\n",
        "\n",
        "  for pair in zip(y_pred, y_true):\n",
        "    if pair in temp_list:\n",
        "      continue\n",
        "    else:\n",
        "      temp_list.append(pair)\n",
        "\n",
        "  dict_label_mapping = dict(temp_list)\n",
        "\n",
        "  return dict_label_mapping"
      ],
      "execution_count": 13,
      "outputs": []
    },
    {
      "cell_type": "code",
      "metadata": {
        "colab": {
          "base_uri": "https://localhost:8080/"
        },
        "id": "_2lG5V5TOlHJ",
        "outputId": "38903652-2aa5-441c-e036-162241a8eca4"
      },
      "source": [
        "# Manually figure out what labels need to be remapped to\n",
        "label_dict = get_label_mapping(y_true = y_true, y_pred = y_kmeans)\n",
        "\n",
        "# Convert the predicted values by mapping each label from the dictionary defined above\n",
        "y_kmeans_mapped = np.vectorize(label_dict.get)(y_kmeans)\n",
        "\n",
        "print(sklearn.metrics.classification_report(y_true = y_true, y_pred = y_kmeans_mapped))"
      ],
      "execution_count": 14,
      "outputs": [
        {
          "output_type": "stream",
          "name": "stdout",
          "text": [
            "              precision    recall  f1-score   support\n",
            "\n",
            "           0       1.00      1.00      1.00        60\n",
            "           1       1.00      1.00      1.00        60\n",
            "           2       1.00      1.00      1.00        60\n",
            "           3       1.00      1.00      1.00        60\n",
            "           4       1.00      1.00      1.00        60\n",
            "\n",
            "    accuracy                           1.00       300\n",
            "   macro avg       1.00      1.00      1.00       300\n",
            "weighted avg       1.00      1.00      1.00       300\n",
            "\n"
          ]
        }
      ]
    },
    {
      "cell_type": "markdown",
      "metadata": {
        "id": "dNGkSyg6MqOc"
      },
      "source": [
        "Accuracy is how many clusters are correctly predicted and is a good initial rating, but doesn't get into the intracacies of clustering."
      ]
    },
    {
      "cell_type": "code",
      "metadata": {
        "colab": {
          "base_uri": "https://localhost:8080/"
        },
        "id": "aPBlRBaKMkx5",
        "outputId": "29a58152-d2bb-4e7e-81c7-9d5f01fedaab"
      },
      "source": [
        "sklearn.metrics.accuracy_score(y_true = y_true, y_pred = y_kmeans_mapped)"
      ],
      "execution_count": 15,
      "outputs": [
        {
          "output_type": "execute_result",
          "data": {
            "text/plain": [
              "1.0"
            ]
          },
          "metadata": {},
          "execution_count": 15
        }
      ]
    },
    {
      "cell_type": "markdown",
      "metadata": {
        "id": "ALATWJ1WNVNb"
      },
      "source": [
        "The accuracy is 100% once values are correctly mapped"
      ]
    },
    {
      "cell_type": "markdown",
      "metadata": {
        "id": "I_FMydeOvpdi"
      },
      "source": [
        "# Reference"
      ]
    },
    {
      "cell_type": "markdown",
      "metadata": {
        "id": "DWRNFDt8vr9Y"
      },
      "source": [
        "Majority of this notebook was based off of an excerpt from the [Python Data Science Handbook](http://shop.oreilly.com/product/0636920034919.do) by Jake VanderPlas; the content is available [on GitHub](https://github.com/jakevdp/PythonDataScienceHandbook). [Notebook](https://colab.research.google.com/github/jakevdp/PythonDataScienceHandbook/blob/master/notebooks/05.11-K-Means.ipynb#scrollTo=_u1Ta1uJuFeO)\n",
        "\n",
        "Performance metrics on clustering [Performance Metrics in Machine Learning ](https://towardsdatascience.com/performance-metrics-in-machine-learning-part-3-clustering-d69550662dc6)"
      ]
    },
    {
      "cell_type": "code",
      "metadata": {
        "id": "Od162wdkOeQC"
      },
      "source": [
        ""
      ],
      "execution_count": 15,
      "outputs": []
    }
  ]
}