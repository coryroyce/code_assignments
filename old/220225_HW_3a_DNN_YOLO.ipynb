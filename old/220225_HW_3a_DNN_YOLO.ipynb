{
  "nbformat": 4,
  "nbformat_minor": 0,
  "metadata": {
    "colab": {
      "name": "220225_HW_3a_DNN_YOLO.ipynb",
      "provenance": [],
      "collapsed_sections": [],
      "authorship_tag": "ABX9TyOaz5jRtQTGrpayNa3ur3IB",
      "include_colab_link": true
    },
    "kernelspec": {
      "name": "python3",
      "display_name": "Python 3"
    },
    "language_info": {
      "name": "python"
    },
    "accelerator": "GPU"
  },
  "cells": [
    {
      "cell_type": "markdown",
      "metadata": {
        "id": "view-in-github",
        "colab_type": "text"
      },
      "source": [
        "<a href=\"https://colab.research.google.com/github/coryroyce/code_assignments/blob/main/220225_HW_3a_DNN_YOLO.ipynb\" target=\"_parent\"><img src=\"https://colab.research.google.com/assets/colab-badge.svg\" alt=\"Open In Colab\"/></a>"
      ]
    },
    {
      "cell_type": "markdown",
      "metadata": {
        "id": "u8LmF1GL2kx8"
      },
      "source": [
        "# Neural Network"
      ]
    },
    {
      "cell_type": "markdown",
      "source": [
        "\n",
        "\n",
        "CMPE 252 HW 3a\n",
        "\n",
        "Cory Randolph\n",
        "\n",
        "2/25/2022"
      ],
      "metadata": {
        "id": "o69yQnyo7Na7"
      }
    },
    {
      "cell_type": "markdown",
      "metadata": {
        "id": "AAYjnlUQ2xwg"
      },
      "source": [
        "# Prompt"
      ]
    },
    {
      "cell_type": "markdown",
      "source": [
        "1. Assume you receive real-estate data for 1000 samples as input and each sample has 25 different features/attributes. Make fake data like this. Then design a 3 layers fully connected network to predict the value of a house for sale (test section).  Assign 90 to 10 ratio for splitting train and test sets. Include at least one sort of regularization and apply 1000 iterations for your training step. Besides these, as a designer, feel free to set the rest of your network hyperparameters as you wish."
      ],
      "metadata": {
        "id": "SS8NoWkLzuhS"
      }
    },
    {
      "cell_type": "markdown",
      "metadata": {
        "id": "npDyNpPkdIil"
      },
      "source": [
        "# Imports"
      ]
    },
    {
      "cell_type": "markdown",
      "metadata": {
        "id": "3Qu2scC5dTrO"
      },
      "source": [
        "Import other needed packages"
      ]
    },
    {
      "cell_type": "code",
      "metadata": {
        "id": "aWQOUjDYczmz"
      },
      "source": [
        "import numpy as np\n",
        "import pandas as pd\n",
        "import matplotlib.pyplot as plt\n",
        "\n",
        "import tensorflow as tf\n",
        "from tensorflow.keras.models import Sequential\n",
        "from tensorflow.keras.layers import Dense, Dropout\n",
        "\n",
        "from sklearn.datasets import make_regression\n",
        "from sklearn.model_selection import train_test_split"
      ],
      "execution_count": null,
      "outputs": []
    },
    {
      "cell_type": "markdown",
      "metadata": {
        "id": "BG_FoilAdcQ6"
      },
      "source": [
        "# Data"
      ]
    },
    {
      "cell_type": "markdown",
      "metadata": {
        "id": "cc9lOtsqRSgX"
      },
      "source": [
        "## Create Data"
      ]
    },
    {
      "cell_type": "markdown",
      "metadata": {
        "id": "8FJ2CWtCdpqk"
      },
      "source": [
        "Create fake real estate data that has 1,000 samples and 25 features. Since we are trying to predict housing prices this will be a regression problem.\n",
        "\n",
        "Note, to explore only make 20 of the features informative"
      ]
    },
    {
      "cell_type": "code",
      "metadata": {
        "id": "6d-GeVmZOo4M"
      },
      "source": [
        "X, y = make_regression(n_samples=1000, n_features=25, n_informative=20, n_targets=1, shuffle=True, random_state= 3, noise= 0.05)"
      ],
      "execution_count": null,
      "outputs": []
    },
    {
      "cell_type": "markdown",
      "source": [
        "Since the output of Y is inbetween -1,000 and 1,000, let's modify it to look more like house prices ~$500,000 on average"
      ],
      "metadata": {
        "id": "h8mjby0PDB-M"
      }
    },
    {
      "cell_type": "code",
      "source": [
        "y = (y + 1000)*500"
      ],
      "metadata": {
        "id": "lFgWUz-tDLyT"
      },
      "execution_count": null,
      "outputs": []
    },
    {
      "cell_type": "markdown",
      "source": [
        "Convert to dataframe"
      ],
      "metadata": {
        "id": "RvLJYFHECSs_"
      }
    },
    {
      "cell_type": "code",
      "source": [
        "df = pd.DataFrame(X)\n",
        "df['house_price'] = pd.DataFrame(y)\n",
        "\n",
        "df.head()"
      ],
      "metadata": {
        "colab": {
          "base_uri": "https://localhost:8080/",
          "height": 206
        },
        "id": "ycaBYUEFCU6F",
        "outputId": "c5af8c8a-5250-46c6-a322-582efae11bfa"
      },
      "execution_count": null,
      "outputs": [
        {
          "output_type": "execute_result",
          "data": {
            "text/html": [
              "\n",
              "  <div id=\"df-70804b2e-6499-45c7-8920-765f18e82122\">\n",
              "    <div class=\"colab-df-container\">\n",
              "      <div>\n",
              "<style scoped>\n",
              "    .dataframe tbody tr th:only-of-type {\n",
              "        vertical-align: middle;\n",
              "    }\n",
              "\n",
              "    .dataframe tbody tr th {\n",
              "        vertical-align: top;\n",
              "    }\n",
              "\n",
              "    .dataframe thead th {\n",
              "        text-align: right;\n",
              "    }\n",
              "</style>\n",
              "<table border=\"1\" class=\"dataframe\">\n",
              "  <thead>\n",
              "    <tr style=\"text-align: right;\">\n",
              "      <th></th>\n",
              "      <th>0</th>\n",
              "      <th>1</th>\n",
              "      <th>2</th>\n",
              "      <th>3</th>\n",
              "      <th>4</th>\n",
              "      <th>5</th>\n",
              "      <th>6</th>\n",
              "      <th>7</th>\n",
              "      <th>8</th>\n",
              "      <th>9</th>\n",
              "      <th>10</th>\n",
              "      <th>11</th>\n",
              "      <th>12</th>\n",
              "      <th>13</th>\n",
              "      <th>14</th>\n",
              "      <th>15</th>\n",
              "      <th>16</th>\n",
              "      <th>17</th>\n",
              "      <th>18</th>\n",
              "      <th>19</th>\n",
              "      <th>20</th>\n",
              "      <th>21</th>\n",
              "      <th>22</th>\n",
              "      <th>23</th>\n",
              "      <th>24</th>\n",
              "      <th>house_price</th>\n",
              "    </tr>\n",
              "  </thead>\n",
              "  <tbody>\n",
              "    <tr>\n",
              "      <th>0</th>\n",
              "      <td>0.658475</td>\n",
              "      <td>1.027337</td>\n",
              "      <td>-1.410353</td>\n",
              "      <td>0.879219</td>\n",
              "      <td>-0.225630</td>\n",
              "      <td>-1.173882</td>\n",
              "      <td>2.523388</td>\n",
              "      <td>0.668982</td>\n",
              "      <td>-1.229245</td>\n",
              "      <td>1.588026</td>\n",
              "      <td>-1.034465</td>\n",
              "      <td>-0.969529</td>\n",
              "      <td>-1.016559</td>\n",
              "      <td>0.560920</td>\n",
              "      <td>-0.679864</td>\n",
              "      <td>0.150396</td>\n",
              "      <td>-1.278707</td>\n",
              "      <td>-2.286373</td>\n",
              "      <td>1.616082</td>\n",
              "      <td>1.037195</td>\n",
              "      <td>-0.574020</td>\n",
              "      <td>-0.892467</td>\n",
              "      <td>-1.257064</td>\n",
              "      <td>-0.756587</td>\n",
              "      <td>0.124945</td>\n",
              "      <td>263040.520944</td>\n",
              "    </tr>\n",
              "    <tr>\n",
              "      <th>1</th>\n",
              "      <td>0.785161</td>\n",
              "      <td>0.782816</td>\n",
              "      <td>-0.191103</td>\n",
              "      <td>-0.883377</td>\n",
              "      <td>-1.588342</td>\n",
              "      <td>0.754636</td>\n",
              "      <td>1.033975</td>\n",
              "      <td>-1.359998</td>\n",
              "      <td>-1.286592</td>\n",
              "      <td>-0.163189</td>\n",
              "      <td>0.003409</td>\n",
              "      <td>-0.031168</td>\n",
              "      <td>-0.243750</td>\n",
              "      <td>-0.144286</td>\n",
              "      <td>0.892890</td>\n",
              "      <td>0.841959</td>\n",
              "      <td>0.218460</td>\n",
              "      <td>0.286210</td>\n",
              "      <td>-0.166528</td>\n",
              "      <td>-0.512314</td>\n",
              "      <td>1.717876</td>\n",
              "      <td>0.350189</td>\n",
              "      <td>-1.984783</td>\n",
              "      <td>-0.367703</td>\n",
              "      <td>1.219917</td>\n",
              "      <td>456953.944640</td>\n",
              "    </tr>\n",
              "    <tr>\n",
              "      <th>2</th>\n",
              "      <td>0.957803</td>\n",
              "      <td>2.150810</td>\n",
              "      <td>-0.533007</td>\n",
              "      <td>-0.721971</td>\n",
              "      <td>1.119839</td>\n",
              "      <td>0.108555</td>\n",
              "      <td>1.490593</td>\n",
              "      <td>-0.752021</td>\n",
              "      <td>-1.118422</td>\n",
              "      <td>-0.967979</td>\n",
              "      <td>-1.172553</td>\n",
              "      <td>-0.170576</td>\n",
              "      <td>-0.216147</td>\n",
              "      <td>0.822723</td>\n",
              "      <td>-0.301390</td>\n",
              "      <td>1.472188</td>\n",
              "      <td>-1.011320</td>\n",
              "      <td>-0.716906</td>\n",
              "      <td>0.188618</td>\n",
              "      <td>-1.849944</td>\n",
              "      <td>0.379008</td>\n",
              "      <td>-0.292085</td>\n",
              "      <td>-1.891182</td>\n",
              "      <td>-1.178911</td>\n",
              "      <td>-1.522164</td>\n",
              "      <td>338272.393217</td>\n",
              "    </tr>\n",
              "    <tr>\n",
              "      <th>3</th>\n",
              "      <td>-0.651358</td>\n",
              "      <td>0.813502</td>\n",
              "      <td>0.037347</td>\n",
              "      <td>0.543407</td>\n",
              "      <td>1.806811</td>\n",
              "      <td>-0.013874</td>\n",
              "      <td>0.661915</td>\n",
              "      <td>0.764996</td>\n",
              "      <td>-0.691025</td>\n",
              "      <td>-1.980066</td>\n",
              "      <td>0.310284</td>\n",
              "      <td>-2.728440</td>\n",
              "      <td>-0.699344</td>\n",
              "      <td>-0.642795</td>\n",
              "      <td>1.358414</td>\n",
              "      <td>0.668516</td>\n",
              "      <td>-0.756497</td>\n",
              "      <td>-0.006734</td>\n",
              "      <td>0.452107</td>\n",
              "      <td>-0.001039</td>\n",
              "      <td>-0.777902</td>\n",
              "      <td>0.950342</td>\n",
              "      <td>-1.191599</td>\n",
              "      <td>1.001141</td>\n",
              "      <td>-1.133366</td>\n",
              "      <td>255036.586139</td>\n",
              "    </tr>\n",
              "    <tr>\n",
              "      <th>4</th>\n",
              "      <td>0.972487</td>\n",
              "      <td>0.941787</td>\n",
              "      <td>-0.115327</td>\n",
              "      <td>-0.512469</td>\n",
              "      <td>-0.065553</td>\n",
              "      <td>-0.552614</td>\n",
              "      <td>-0.746836</td>\n",
              "      <td>1.349885</td>\n",
              "      <td>0.378931</td>\n",
              "      <td>1.366856</td>\n",
              "      <td>-0.557192</td>\n",
              "      <td>-0.536774</td>\n",
              "      <td>1.375796</td>\n",
              "      <td>-1.798806</td>\n",
              "      <td>0.757385</td>\n",
              "      <td>2.282416</td>\n",
              "      <td>0.070678</td>\n",
              "      <td>1.084318</td>\n",
              "      <td>-0.519793</td>\n",
              "      <td>1.148174</td>\n",
              "      <td>0.443723</td>\n",
              "      <td>0.401171</td>\n",
              "      <td>-1.994043</td>\n",
              "      <td>-0.287858</td>\n",
              "      <td>-0.440960</td>\n",
              "      <td>569296.707701</td>\n",
              "    </tr>\n",
              "  </tbody>\n",
              "</table>\n",
              "</div>\n",
              "      <button class=\"colab-df-convert\" onclick=\"convertToInteractive('df-70804b2e-6499-45c7-8920-765f18e82122')\"\n",
              "              title=\"Convert this dataframe to an interactive table.\"\n",
              "              style=\"display:none;\">\n",
              "        \n",
              "  <svg xmlns=\"http://www.w3.org/2000/svg\" height=\"24px\"viewBox=\"0 0 24 24\"\n",
              "       width=\"24px\">\n",
              "    <path d=\"M0 0h24v24H0V0z\" fill=\"none\"/>\n",
              "    <path d=\"M18.56 5.44l.94 2.06.94-2.06 2.06-.94-2.06-.94-.94-2.06-.94 2.06-2.06.94zm-11 1L8.5 8.5l.94-2.06 2.06-.94-2.06-.94L8.5 2.5l-.94 2.06-2.06.94zm10 10l.94 2.06.94-2.06 2.06-.94-2.06-.94-.94-2.06-.94 2.06-2.06.94z\"/><path d=\"M17.41 7.96l-1.37-1.37c-.4-.4-.92-.59-1.43-.59-.52 0-1.04.2-1.43.59L10.3 9.45l-7.72 7.72c-.78.78-.78 2.05 0 2.83L4 21.41c.39.39.9.59 1.41.59.51 0 1.02-.2 1.41-.59l7.78-7.78 2.81-2.81c.8-.78.8-2.07 0-2.86zM5.41 20L4 18.59l7.72-7.72 1.47 1.35L5.41 20z\"/>\n",
              "  </svg>\n",
              "      </button>\n",
              "      \n",
              "  <style>\n",
              "    .colab-df-container {\n",
              "      display:flex;\n",
              "      flex-wrap:wrap;\n",
              "      gap: 12px;\n",
              "    }\n",
              "\n",
              "    .colab-df-convert {\n",
              "      background-color: #E8F0FE;\n",
              "      border: none;\n",
              "      border-radius: 50%;\n",
              "      cursor: pointer;\n",
              "      display: none;\n",
              "      fill: #1967D2;\n",
              "      height: 32px;\n",
              "      padding: 0 0 0 0;\n",
              "      width: 32px;\n",
              "    }\n",
              "\n",
              "    .colab-df-convert:hover {\n",
              "      background-color: #E2EBFA;\n",
              "      box-shadow: 0px 1px 2px rgba(60, 64, 67, 0.3), 0px 1px 3px 1px rgba(60, 64, 67, 0.15);\n",
              "      fill: #174EA6;\n",
              "    }\n",
              "\n",
              "    [theme=dark] .colab-df-convert {\n",
              "      background-color: #3B4455;\n",
              "      fill: #D2E3FC;\n",
              "    }\n",
              "\n",
              "    [theme=dark] .colab-df-convert:hover {\n",
              "      background-color: #434B5C;\n",
              "      box-shadow: 0px 1px 3px 1px rgba(0, 0, 0, 0.15);\n",
              "      filter: drop-shadow(0px 1px 2px rgba(0, 0, 0, 0.3));\n",
              "      fill: #FFFFFF;\n",
              "    }\n",
              "  </style>\n",
              "\n",
              "      <script>\n",
              "        const buttonEl =\n",
              "          document.querySelector('#df-70804b2e-6499-45c7-8920-765f18e82122 button.colab-df-convert');\n",
              "        buttonEl.style.display =\n",
              "          google.colab.kernel.accessAllowed ? 'block' : 'none';\n",
              "\n",
              "        async function convertToInteractive(key) {\n",
              "          const element = document.querySelector('#df-70804b2e-6499-45c7-8920-765f18e82122');\n",
              "          const dataTable =\n",
              "            await google.colab.kernel.invokeFunction('convertToInteractive',\n",
              "                                                     [key], {});\n",
              "          if (!dataTable) return;\n",
              "\n",
              "          const docLinkHtml = 'Like what you see? Visit the ' +\n",
              "            '<a target=\"_blank\" href=https://colab.research.google.com/notebooks/data_table.ipynb>data table notebook</a>'\n",
              "            + ' to learn more about interactive tables.';\n",
              "          element.innerHTML = '';\n",
              "          dataTable['output_type'] = 'display_data';\n",
              "          await google.colab.output.renderOutput(dataTable, element);\n",
              "          const docLink = document.createElement('div');\n",
              "          docLink.innerHTML = docLinkHtml;\n",
              "          element.appendChild(docLink);\n",
              "        }\n",
              "      </script>\n",
              "    </div>\n",
              "  </div>\n",
              "  "
            ],
            "text/plain": [
              "          0         1         2  ...        23        24    house_price\n",
              "0  0.658475  1.027337 -1.410353  ... -0.756587  0.124945  263040.520944\n",
              "1  0.785161  0.782816 -0.191103  ... -0.367703  1.219917  456953.944640\n",
              "2  0.957803  2.150810 -0.533007  ... -1.178911 -1.522164  338272.393217\n",
              "3 -0.651358  0.813502  0.037347  ...  1.001141 -1.133366  255036.586139\n",
              "4  0.972487  0.941787 -0.115327  ... -0.287858 -0.440960  569296.707701\n",
              "\n",
              "[5 rows x 26 columns]"
            ]
          },
          "metadata": {},
          "execution_count": 4
        }
      ]
    },
    {
      "cell_type": "markdown",
      "source": [
        "Show Overall Stats"
      ],
      "metadata": {
        "id": "DTGjo61-Bj4r"
      }
    },
    {
      "cell_type": "code",
      "source": [
        "df.describe()"
      ],
      "metadata": {
        "colab": {
          "base_uri": "https://localhost:8080/",
          "height": 364
        },
        "id": "b32k3Xw1BqdI",
        "outputId": "a9805013-765f-4c17-c1e1-bbf4a2d5c405"
      },
      "execution_count": null,
      "outputs": [
        {
          "output_type": "execute_result",
          "data": {
            "text/html": [
              "\n",
              "  <div id=\"df-5691f47f-bc67-4031-a9e9-111174bed9df\">\n",
              "    <div class=\"colab-df-container\">\n",
              "      <div>\n",
              "<style scoped>\n",
              "    .dataframe tbody tr th:only-of-type {\n",
              "        vertical-align: middle;\n",
              "    }\n",
              "\n",
              "    .dataframe tbody tr th {\n",
              "        vertical-align: top;\n",
              "    }\n",
              "\n",
              "    .dataframe thead th {\n",
              "        text-align: right;\n",
              "    }\n",
              "</style>\n",
              "<table border=\"1\" class=\"dataframe\">\n",
              "  <thead>\n",
              "    <tr style=\"text-align: right;\">\n",
              "      <th></th>\n",
              "      <th>0</th>\n",
              "      <th>1</th>\n",
              "      <th>2</th>\n",
              "      <th>3</th>\n",
              "      <th>4</th>\n",
              "      <th>5</th>\n",
              "      <th>6</th>\n",
              "      <th>7</th>\n",
              "      <th>8</th>\n",
              "      <th>9</th>\n",
              "      <th>10</th>\n",
              "      <th>11</th>\n",
              "      <th>12</th>\n",
              "      <th>13</th>\n",
              "      <th>14</th>\n",
              "      <th>15</th>\n",
              "      <th>16</th>\n",
              "      <th>17</th>\n",
              "      <th>18</th>\n",
              "      <th>19</th>\n",
              "      <th>20</th>\n",
              "      <th>21</th>\n",
              "      <th>22</th>\n",
              "      <th>23</th>\n",
              "      <th>24</th>\n",
              "      <th>house_price</th>\n",
              "    </tr>\n",
              "  </thead>\n",
              "  <tbody>\n",
              "    <tr>\n",
              "      <th>count</th>\n",
              "      <td>1000.000000</td>\n",
              "      <td>1000.000000</td>\n",
              "      <td>1000.000000</td>\n",
              "      <td>1000.000000</td>\n",
              "      <td>1000.000000</td>\n",
              "      <td>1000.000000</td>\n",
              "      <td>1000.000000</td>\n",
              "      <td>1000.000000</td>\n",
              "      <td>1000.000000</td>\n",
              "      <td>1000.000000</td>\n",
              "      <td>1000.000000</td>\n",
              "      <td>1000.000000</td>\n",
              "      <td>1000.000000</td>\n",
              "      <td>1000.000000</td>\n",
              "      <td>1000.000000</td>\n",
              "      <td>1000.000000</td>\n",
              "      <td>1000.000000</td>\n",
              "      <td>1000.000000</td>\n",
              "      <td>1000.000000</td>\n",
              "      <td>1000.000000</td>\n",
              "      <td>1000.000000</td>\n",
              "      <td>1000.000000</td>\n",
              "      <td>1000.000000</td>\n",
              "      <td>1000.000000</td>\n",
              "      <td>1000.000000</td>\n",
              "      <td>1000.000000</td>\n",
              "    </tr>\n",
              "    <tr>\n",
              "      <th>mean</th>\n",
              "      <td>-0.007323</td>\n",
              "      <td>-0.030115</td>\n",
              "      <td>0.002106</td>\n",
              "      <td>0.005301</td>\n",
              "      <td>0.034134</td>\n",
              "      <td>-0.008539</td>\n",
              "      <td>-0.052424</td>\n",
              "      <td>-0.018478</td>\n",
              "      <td>0.009649</td>\n",
              "      <td>-0.005526</td>\n",
              "      <td>-0.003360</td>\n",
              "      <td>-0.004894</td>\n",
              "      <td>0.007974</td>\n",
              "      <td>0.014160</td>\n",
              "      <td>-0.012833</td>\n",
              "      <td>-0.047898</td>\n",
              "      <td>0.004983</td>\n",
              "      <td>-0.018633</td>\n",
              "      <td>-0.011072</td>\n",
              "      <td>0.021578</td>\n",
              "      <td>-0.054856</td>\n",
              "      <td>-0.024439</td>\n",
              "      <td>-0.019126</td>\n",
              "      <td>-0.028136</td>\n",
              "      <td>-0.017363</td>\n",
              "      <td>495172.851642</td>\n",
              "    </tr>\n",
              "    <tr>\n",
              "      <th>std</th>\n",
              "      <td>1.031326</td>\n",
              "      <td>1.018773</td>\n",
              "      <td>0.985067</td>\n",
              "      <td>0.994970</td>\n",
              "      <td>0.988567</td>\n",
              "      <td>0.987167</td>\n",
              "      <td>0.988329</td>\n",
              "      <td>1.003447</td>\n",
              "      <td>1.006092</td>\n",
              "      <td>0.977518</td>\n",
              "      <td>0.976472</td>\n",
              "      <td>1.000110</td>\n",
              "      <td>0.960119</td>\n",
              "      <td>1.014333</td>\n",
              "      <td>1.009463</td>\n",
              "      <td>1.015364</td>\n",
              "      <td>0.980976</td>\n",
              "      <td>1.004224</td>\n",
              "      <td>0.993400</td>\n",
              "      <td>0.974670</td>\n",
              "      <td>0.992476</td>\n",
              "      <td>1.033312</td>\n",
              "      <td>1.022895</td>\n",
              "      <td>0.957434</td>\n",
              "      <td>1.007289</td>\n",
              "      <td>124018.218901</td>\n",
              "    </tr>\n",
              "    <tr>\n",
              "      <th>min</th>\n",
              "      <td>-3.749941</td>\n",
              "      <td>-2.935881</td>\n",
              "      <td>-3.083502</td>\n",
              "      <td>-4.602975</td>\n",
              "      <td>-3.088873</td>\n",
              "      <td>-3.709327</td>\n",
              "      <td>-2.909921</td>\n",
              "      <td>-3.096727</td>\n",
              "      <td>-2.937027</td>\n",
              "      <td>-2.894803</td>\n",
              "      <td>-3.031649</td>\n",
              "      <td>-3.555050</td>\n",
              "      <td>-2.980150</td>\n",
              "      <td>-3.864673</td>\n",
              "      <td>-3.539109</td>\n",
              "      <td>-3.197139</td>\n",
              "      <td>-3.103761</td>\n",
              "      <td>-2.990175</td>\n",
              "      <td>-2.910933</td>\n",
              "      <td>-3.511154</td>\n",
              "      <td>-2.873760</td>\n",
              "      <td>-3.173982</td>\n",
              "      <td>-3.260924</td>\n",
              "      <td>-2.744894</td>\n",
              "      <td>-3.027048</td>\n",
              "      <td>18649.890634</td>\n",
              "    </tr>\n",
              "    <tr>\n",
              "      <th>25%</th>\n",
              "      <td>-0.679897</td>\n",
              "      <td>-0.710534</td>\n",
              "      <td>-0.640792</td>\n",
              "      <td>-0.684997</td>\n",
              "      <td>-0.629317</td>\n",
              "      <td>-0.674977</td>\n",
              "      <td>-0.717840</td>\n",
              "      <td>-0.711550</td>\n",
              "      <td>-0.616775</td>\n",
              "      <td>-0.688180</td>\n",
              "      <td>-0.660656</td>\n",
              "      <td>-0.658688</td>\n",
              "      <td>-0.628597</td>\n",
              "      <td>-0.644720</td>\n",
              "      <td>-0.694287</td>\n",
              "      <td>-0.783802</td>\n",
              "      <td>-0.672443</td>\n",
              "      <td>-0.694432</td>\n",
              "      <td>-0.682956</td>\n",
              "      <td>-0.659791</td>\n",
              "      <td>-0.778766</td>\n",
              "      <td>-0.713417</td>\n",
              "      <td>-0.754044</td>\n",
              "      <td>-0.674077</td>\n",
              "      <td>-0.738710</td>\n",
              "      <td>408577.244542</td>\n",
              "    </tr>\n",
              "    <tr>\n",
              "      <th>50%</th>\n",
              "      <td>0.041892</td>\n",
              "      <td>0.009455</td>\n",
              "      <td>0.022659</td>\n",
              "      <td>0.008510</td>\n",
              "      <td>0.030574</td>\n",
              "      <td>0.019748</td>\n",
              "      <td>-0.076187</td>\n",
              "      <td>-0.040663</td>\n",
              "      <td>0.033924</td>\n",
              "      <td>0.049738</td>\n",
              "      <td>0.016572</td>\n",
              "      <td>-0.031653</td>\n",
              "      <td>0.024478</td>\n",
              "      <td>0.008495</td>\n",
              "      <td>0.002458</td>\n",
              "      <td>-0.004804</td>\n",
              "      <td>0.027105</td>\n",
              "      <td>-0.019875</td>\n",
              "      <td>-0.025970</td>\n",
              "      <td>0.028555</td>\n",
              "      <td>-0.046170</td>\n",
              "      <td>-0.019105</td>\n",
              "      <td>-0.029871</td>\n",
              "      <td>-0.054082</td>\n",
              "      <td>-0.004681</td>\n",
              "      <td>496081.170940</td>\n",
              "    </tr>\n",
              "    <tr>\n",
              "      <th>75%</th>\n",
              "      <td>0.721743</td>\n",
              "      <td>0.646576</td>\n",
              "      <td>0.677690</td>\n",
              "      <td>0.663917</td>\n",
              "      <td>0.684880</td>\n",
              "      <td>0.643584</td>\n",
              "      <td>0.563612</td>\n",
              "      <td>0.669215</td>\n",
              "      <td>0.706165</td>\n",
              "      <td>0.679777</td>\n",
              "      <td>0.649925</td>\n",
              "      <td>0.646002</td>\n",
              "      <td>0.633010</td>\n",
              "      <td>0.680691</td>\n",
              "      <td>0.664313</td>\n",
              "      <td>0.658769</td>\n",
              "      <td>0.691412</td>\n",
              "      <td>0.655669</td>\n",
              "      <td>0.702164</td>\n",
              "      <td>0.694310</td>\n",
              "      <td>0.609797</td>\n",
              "      <td>0.668017</td>\n",
              "      <td>0.695797</td>\n",
              "      <td>0.613013</td>\n",
              "      <td>0.649009</td>\n",
              "      <td>577351.875810</td>\n",
              "    </tr>\n",
              "    <tr>\n",
              "      <th>max</th>\n",
              "      <td>3.505557</td>\n",
              "      <td>3.255997</td>\n",
              "      <td>2.533155</td>\n",
              "      <td>3.100487</td>\n",
              "      <td>3.625287</td>\n",
              "      <td>3.097583</td>\n",
              "      <td>3.702458</td>\n",
              "      <td>2.987673</td>\n",
              "      <td>3.398161</td>\n",
              "      <td>3.314304</td>\n",
              "      <td>2.836876</td>\n",
              "      <td>3.283285</td>\n",
              "      <td>3.226925</td>\n",
              "      <td>4.091393</td>\n",
              "      <td>3.666283</td>\n",
              "      <td>2.885745</td>\n",
              "      <td>2.932865</td>\n",
              "      <td>3.010803</td>\n",
              "      <td>4.366930</td>\n",
              "      <td>2.870743</td>\n",
              "      <td>3.045780</td>\n",
              "      <td>2.987198</td>\n",
              "      <td>2.914951</td>\n",
              "      <td>3.137289</td>\n",
              "      <td>3.372637</td>\n",
              "      <td>940425.143463</td>\n",
              "    </tr>\n",
              "  </tbody>\n",
              "</table>\n",
              "</div>\n",
              "      <button class=\"colab-df-convert\" onclick=\"convertToInteractive('df-5691f47f-bc67-4031-a9e9-111174bed9df')\"\n",
              "              title=\"Convert this dataframe to an interactive table.\"\n",
              "              style=\"display:none;\">\n",
              "        \n",
              "  <svg xmlns=\"http://www.w3.org/2000/svg\" height=\"24px\"viewBox=\"0 0 24 24\"\n",
              "       width=\"24px\">\n",
              "    <path d=\"M0 0h24v24H0V0z\" fill=\"none\"/>\n",
              "    <path d=\"M18.56 5.44l.94 2.06.94-2.06 2.06-.94-2.06-.94-.94-2.06-.94 2.06-2.06.94zm-11 1L8.5 8.5l.94-2.06 2.06-.94-2.06-.94L8.5 2.5l-.94 2.06-2.06.94zm10 10l.94 2.06.94-2.06 2.06-.94-2.06-.94-.94-2.06-.94 2.06-2.06.94z\"/><path d=\"M17.41 7.96l-1.37-1.37c-.4-.4-.92-.59-1.43-.59-.52 0-1.04.2-1.43.59L10.3 9.45l-7.72 7.72c-.78.78-.78 2.05 0 2.83L4 21.41c.39.39.9.59 1.41.59.51 0 1.02-.2 1.41-.59l7.78-7.78 2.81-2.81c.8-.78.8-2.07 0-2.86zM5.41 20L4 18.59l7.72-7.72 1.47 1.35L5.41 20z\"/>\n",
              "  </svg>\n",
              "      </button>\n",
              "      \n",
              "  <style>\n",
              "    .colab-df-container {\n",
              "      display:flex;\n",
              "      flex-wrap:wrap;\n",
              "      gap: 12px;\n",
              "    }\n",
              "\n",
              "    .colab-df-convert {\n",
              "      background-color: #E8F0FE;\n",
              "      border: none;\n",
              "      border-radius: 50%;\n",
              "      cursor: pointer;\n",
              "      display: none;\n",
              "      fill: #1967D2;\n",
              "      height: 32px;\n",
              "      padding: 0 0 0 0;\n",
              "      width: 32px;\n",
              "    }\n",
              "\n",
              "    .colab-df-convert:hover {\n",
              "      background-color: #E2EBFA;\n",
              "      box-shadow: 0px 1px 2px rgba(60, 64, 67, 0.3), 0px 1px 3px 1px rgba(60, 64, 67, 0.15);\n",
              "      fill: #174EA6;\n",
              "    }\n",
              "\n",
              "    [theme=dark] .colab-df-convert {\n",
              "      background-color: #3B4455;\n",
              "      fill: #D2E3FC;\n",
              "    }\n",
              "\n",
              "    [theme=dark] .colab-df-convert:hover {\n",
              "      background-color: #434B5C;\n",
              "      box-shadow: 0px 1px 3px 1px rgba(0, 0, 0, 0.15);\n",
              "      filter: drop-shadow(0px 1px 2px rgba(0, 0, 0, 0.3));\n",
              "      fill: #FFFFFF;\n",
              "    }\n",
              "  </style>\n",
              "\n",
              "      <script>\n",
              "        const buttonEl =\n",
              "          document.querySelector('#df-5691f47f-bc67-4031-a9e9-111174bed9df button.colab-df-convert');\n",
              "        buttonEl.style.display =\n",
              "          google.colab.kernel.accessAllowed ? 'block' : 'none';\n",
              "\n",
              "        async function convertToInteractive(key) {\n",
              "          const element = document.querySelector('#df-5691f47f-bc67-4031-a9e9-111174bed9df');\n",
              "          const dataTable =\n",
              "            await google.colab.kernel.invokeFunction('convertToInteractive',\n",
              "                                                     [key], {});\n",
              "          if (!dataTable) return;\n",
              "\n",
              "          const docLinkHtml = 'Like what you see? Visit the ' +\n",
              "            '<a target=\"_blank\" href=https://colab.research.google.com/notebooks/data_table.ipynb>data table notebook</a>'\n",
              "            + ' to learn more about interactive tables.';\n",
              "          element.innerHTML = '';\n",
              "          dataTable['output_type'] = 'display_data';\n",
              "          await google.colab.output.renderOutput(dataTable, element);\n",
              "          const docLink = document.createElement('div');\n",
              "          docLink.innerHTML = docLinkHtml;\n",
              "          element.appendChild(docLink);\n",
              "        }\n",
              "      </script>\n",
              "    </div>\n",
              "  </div>\n",
              "  "
            ],
            "text/plain": [
              "                 0            1  ...           24    house_price\n",
              "count  1000.000000  1000.000000  ...  1000.000000    1000.000000\n",
              "mean     -0.007323    -0.030115  ...    -0.017363  495172.851642\n",
              "std       1.031326     1.018773  ...     1.007289  124018.218901\n",
              "min      -3.749941    -2.935881  ...    -3.027048   18649.890634\n",
              "25%      -0.679897    -0.710534  ...    -0.738710  408577.244542\n",
              "50%       0.041892     0.009455  ...    -0.004681  496081.170940\n",
              "75%       0.721743     0.646576  ...     0.649009  577351.875810\n",
              "max       3.505557     3.255997  ...     3.372637  940425.143463\n",
              "\n",
              "[8 rows x 26 columns]"
            ]
          },
          "metadata": {},
          "execution_count": 5
        }
      ]
    },
    {
      "cell_type": "markdown",
      "source": [
        "## Prepare Data"
      ],
      "metadata": {
        "id": "F_w6gAesSyDs"
      }
    },
    {
      "cell_type": "markdown",
      "source": [
        "Split the data into train and test sets (90-10 ratio)"
      ],
      "metadata": {
        "id": "IUBaPa6jS_pK"
      }
    },
    {
      "cell_type": "code",
      "source": [
        "y = df['house_price']\t\t\t\t\t        # labels\n",
        "X = df.drop(['house_price'],axis=1)   # features\n",
        "\n",
        "\n",
        "# Apply train and test splits \n",
        "X_train, X_test, y_train, y_test = train_test_split(X, y, test_size = 0.1, random_state = 3)"
      ],
      "metadata": {
        "id": "dv2xk0O8TC7v"
      },
      "execution_count": null,
      "outputs": []
    },
    {
      "cell_type": "markdown",
      "metadata": {
        "id": "PtKvfLesRyoL"
      },
      "source": [
        "# Create ML Model"
      ]
    },
    {
      "cell_type": "markdown",
      "metadata": {
        "id": "ZMygp_5btuNx"
      },
      "source": [
        "Create the Layers model"
      ]
    },
    {
      "cell_type": "code",
      "metadata": {
        "id": "uqo6rgaItt56"
      },
      "source": [
        "# Creating a Sequential Model and adding the layers\n",
        "model = Sequential()\n",
        "model.add(Dense(16, input_dim=25, kernel_initializer='normal', activation='relu'))\n",
        "model.add(Dropout(0.2))\n",
        "model.add(Dense(32, activation='relu'))\n",
        "model.add(Dropout(0.2))\n",
        "model.add(Dense(1))"
      ],
      "execution_count": null,
      "outputs": []
    },
    {
      "cell_type": "markdown",
      "metadata": {
        "id": "cSFjRnVj0K1Z"
      },
      "source": [
        "Display model architecture"
      ]
    },
    {
      "cell_type": "code",
      "metadata": {
        "colab": {
          "base_uri": "https://localhost:8080/",
          "height": 644
        },
        "id": "Vd1b0WH60NVp",
        "outputId": "fba95b52-d8de-4d0a-95db-bf73508cc6c2"
      },
      "source": [
        "tf.keras.utils.plot_model(model, show_shapes=True)#), rankdir=\"LR\")"
      ],
      "execution_count": null,
      "outputs": [
        {
          "output_type": "execute_result",
          "data": {
            "image/png": "[encoded data removed]",
            "text/plain": [
              "<IPython.core.display.Image object>"
            ]
          },
          "metadata": {},
          "execution_count": 8
        }
      ]
    },
    {
      "cell_type": "code",
      "source": [
        "model.summary()"
      ],
      "metadata": {
        "colab": {
          "base_uri": "https://localhost:8080/"
        },
        "id": "BGOwURSI7512",
        "outputId": "4165d812-6b8a-427b-d9a1-0cda85614487"
      },
      "execution_count": null,
      "outputs": [
        {
          "output_type": "stream",
          "name": "stdout",
          "text": [
            "Model: \"sequential\"\n",
            "_________________________________________________________________\n",
            " Layer (type)                Output Shape              Param #   \n",
            "=================================================================\n",
            " dense (Dense)               (None, 16)                416       \n",
            "                                                                 \n",
            " dropout (Dropout)           (None, 16)                0         \n",
            "                                                                 \n",
            " dense_1 (Dense)             (None, 32)                544       \n",
            "                                                                 \n",
            " dropout_1 (Dropout)         (None, 32)                0         \n",
            "                                                                 \n",
            " dense_2 (Dense)             (None, 1)                 33        \n",
            "                                                                 \n",
            "=================================================================\n",
            "Total params: 993\n",
            "Trainable params: 993\n",
            "Non-trainable params: 0\n",
            "_________________________________________________________________\n"
          ]
        }
      ]
    },
    {
      "cell_type": "markdown",
      "metadata": {
        "id": "Fno93Tq7R468"
      },
      "source": [
        "## Fit Model"
      ]
    },
    {
      "cell_type": "markdown",
      "metadata": {
        "id": "Cn1igYZ2uLA2"
      },
      "source": [
        "Compile and Fit Model with 1000 training steps."
      ]
    },
    {
      "cell_type": "code",
      "metadata": {
        "id": "JUp6W-Jk1hVj"
      },
      "source": [
        "model.compile(loss='mean_absolute_error',\n",
        "                optimizer=tf.keras.optimizers.Adam(learning_rate = 0.001))"
      ],
      "execution_count": null,
      "outputs": []
    },
    {
      "cell_type": "code",
      "metadata": {
        "id": "okQAQPCzpkV5"
      },
      "source": [
        "history = model.fit(x = X_train,\n",
        "                    y = y_train,\n",
        "                    validation_data = (X_test, y_test),\n",
        "                    epochs= 1000)\n",
        "\n",
        "\n",
        "# Clear output for this cell\n",
        "from IPython.display import clear_output\n",
        "clear_output()"
      ],
      "execution_count": null,
      "outputs": []
    },
    {
      "cell_type": "markdown",
      "metadata": {
        "id": "NvP2SqTvR-y1"
      },
      "source": [
        "## Review Metrics"
      ]
    },
    {
      "cell_type": "markdown",
      "metadata": {
        "id": "635KOVwY2BIE"
      },
      "source": [
        "Display the overall results"
      ]
    },
    {
      "cell_type": "code",
      "metadata": {
        "id": "aYqGbTg32Av1"
      },
      "source": [
        "# history.history"
      ],
      "execution_count": null,
      "outputs": []
    },
    {
      "cell_type": "markdown",
      "metadata": {
        "id": "n0HXiC5c3GfS"
      },
      "source": [
        "Plot Training History"
      ]
    },
    {
      "cell_type": "code",
      "metadata": {
        "colab": {
          "base_uri": "https://localhost:8080/",
          "height": 295
        },
        "id": "oN3aSgp13Ir9",
        "outputId": "68809399-90f0-4a86-c031-aa1c62e2979d"
      },
      "source": [
        "# Plot history: Loss\n",
        "plt.plot(history.history['loss'], label='Loss (training data)')\n",
        "plt.plot(history.history['val_loss'], label='Loss (validation data)')\n",
        "plt.title('Loss for Letter Training')\n",
        "plt.ylabel('Loss value')\n",
        "plt.xlabel('No. epoch')\n",
        "plt.legend(['Training', 'Validation'], loc=\"upper left\")\n",
        "plt.show()"
      ],
      "execution_count": null,
      "outputs": [
        {
          "output_type": "display_data",
          "data": {
            "image/png": "[encoded data removed]",
            "text/plain": [
              "<Figure size 432x288 with 1 Axes>"
            ]
          },
          "metadata": {
            "needs_background": "light"
          }
        }
      ]
    },
    {
      "cell_type": "markdown",
      "metadata": {
        "id": "Rsvf4AXMYjx1"
      },
      "source": [
        "Plot metrics"
      ]
    },
    {
      "cell_type": "code",
      "metadata": {
        "id": "mXPQm0i8YV1k"
      },
      "source": [
        "# Create predictions for the whole test set and convert them to labels (A,B,C...)\n",
        "y_test_preds = model.predict(X_test)"
      ],
      "execution_count": null,
      "outputs": []
    },
    {
      "cell_type": "code",
      "source": [
        "a = plt.axes(aspect='equal')\n",
        "plt.scatter(y_test, y_test_preds)\n",
        "plt.xlabel('True House Prices')\n",
        "plt.ylabel('Predicted House Prices')\n"
      ],
      "metadata": {
        "colab": {
          "base_uri": "https://localhost:8080/",
          "height": 296
        },
        "id": "7H3f4WU1Ex3g",
        "outputId": "e3d904ff-9396-4cd4-d845-4601b6f912b5"
      },
      "execution_count": null,
      "outputs": [
        {
          "output_type": "execute_result",
          "data": {
            "text/plain": [
              "Text(0, 0.5, 'Predicted House Prices')"
            ]
          },
          "metadata": {},
          "execution_count": 15
        },
        {
          "output_type": "display_data",
          "data": {
            "image/png": "[encoded data removed]",
            "text/plain": [
              "<Figure size 432x288 with 1 Axes>"
            ]
          },
          "metadata": {
            "needs_background": "light"
          }
        }
      ]
    }
  ]
}