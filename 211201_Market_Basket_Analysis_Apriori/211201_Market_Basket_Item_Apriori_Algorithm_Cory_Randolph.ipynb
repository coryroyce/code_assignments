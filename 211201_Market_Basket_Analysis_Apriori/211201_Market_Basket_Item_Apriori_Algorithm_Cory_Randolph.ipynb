{
  "nbformat": 4,
  "nbformat_minor": 0,
  "metadata": {
    "colab": {
      "name": "211201_Market_Basket_Item_Apriori_Algorithm_Cory_Randolph.ipynb",
      "provenance": [],
      "collapsed_sections": [],
      "toc_visible": true,
      "authorship_tag": "ABX9TyNVI5w9GTjeG3vpv6vENDGy",
      "include_colab_link": true
    },
    "kernelspec": {
      "name": "python3",
      "display_name": "Python 3"
    },
    "language_info": {
      "name": "python"
    }
  },
  "cells": [
    {
      "cell_type": "markdown",
      "metadata": {
        "id": "view-in-github",
        "colab_type": "text"
      },
      "source": [
        "<a href=\"https://colab.research.google.com/github/coryroyce/code_assignments/blob/main/211201_Market_Basket_Analysis_Apriori/211201_Market_Basket_Item_Apriori_Algorithm_Cory_Randolph.ipynb\" target=\"_parent\"><img src=\"https://colab.research.google.com/assets/colab-badge.svg\" alt=\"Open In Colab\"/></a>"
      ]
    },
    {
      "cell_type": "markdown",
      "metadata": {
        "id": "u8LmF1GL2kx8"
      },
      "source": [
        "# Market Basket Item Apriori Algorithm\n",
        "\n",
        "CMPE 256\n",
        "\n",
        "Cory Randolph\n",
        "\n",
        "12/01/2021\n",
        "\n"
      ]
    },
    {
      "cell_type": "markdown",
      "metadata": {
        "id": "AAYjnlUQ2xwg"
      },
      "source": [
        "# Prompt"
      ]
    },
    {
      "cell_type": "markdown",
      "metadata": {
        "id": "h4XFgkuw2zjV"
      },
      "source": [
        "Learning Objective: Apply Apriori algorithm to generate association rules and predict the next basket item.\n",
        "\n",
        "Dataset: Excel Dataset contains Order ID, User ID, Product Item name.\n",
        "\n",
        "Consider Order ID as Transaction ID and group items by order id. \n",
        "\n",
        "Generate Association rules MIN_SUP: 0.0045\n",
        "\n",
        "Train Dataset:TRAIN-ARULES.csv\n",
        "\n",
        "Test Dataset: testarules.csv\n"
      ]
    },
    {
      "cell_type": "markdown",
      "metadata": {
        "id": "npDyNpPkdIil"
      },
      "source": [
        "# Imports"
      ]
    },
    {
      "cell_type": "markdown",
      "metadata": {
        "id": "37CmpgO6dKOW"
      },
      "source": [
        "Install needed packages"
      ]
    },
    {
      "cell_type": "code",
      "metadata": {
        "id": "AB-hjC2fczpO"
      },
      "source": [
        "!pip install apyori\n",
        "\n",
        "# Clear output for this cell\n",
        "from IPython.display import clear_output\n",
        "clear_output()"
      ],
      "execution_count": 148,
      "outputs": []
    },
    {
      "cell_type": "markdown",
      "metadata": {
        "id": "3Qu2scC5dTrO"
      },
      "source": [
        "Import other needed packages"
      ]
    },
    {
      "cell_type": "code",
      "metadata": {
        "id": "aWQOUjDYczmz"
      },
      "source": [
        "import numpy as np\n",
        "import matplotlib.pyplot as plt\n",
        "import pandas as pd\n",
        "from apyori import apriori"
      ],
      "execution_count": 149,
      "outputs": []
    },
    {
      "cell_type": "markdown",
      "metadata": {
        "id": "BG_FoilAdcQ6"
      },
      "source": [
        "# Data"
      ]
    },
    {
      "cell_type": "markdown",
      "metadata": {
        "id": "cc9lOtsqRSgX"
      },
      "source": [
        "## Load Data"
      ]
    },
    {
      "cell_type": "markdown",
      "metadata": {
        "id": "8FJ2CWtCdpqk"
      },
      "source": [
        "Load the data into Colab from a local CSV.\n",
        "\n",
        "Load the TRAIN-ARULES.csv"
      ]
    },
    {
      "cell_type": "code",
      "metadata": {
        "id": "CRLb95x5czkT"
      },
      "source": [
        "# Uncomment to load TRAIN-ARULES.csv data from local folder\n",
        "# from google.colab import files\n",
        "# files.upload()"
      ],
      "execution_count": 150,
      "outputs": []
    },
    {
      "cell_type": "markdown",
      "metadata": {
        "id": "XzvwUd7ldtQJ"
      },
      "source": [
        "Note: The files can also be dragged and dropped into the folder tab in Colabs left hand side bar menu."
      ]
    },
    {
      "cell_type": "markdown",
      "metadata": {
        "id": "njyEZHvSer1R"
      },
      "source": [
        "Load the data into Dataframes"
      ]
    },
    {
      "cell_type": "code",
      "metadata": {
        "colab": {
          "base_uri": "https://localhost:8080/",
          "height": 206
        },
        "id": "eFZCB9WtcziV",
        "outputId": "5a09e501-3836-4463-9cc3-460e8ea7dca9"
      },
      "source": [
        "# If file loaded into Colab directly:\n",
        "# df = pd.read_csv('TRAIN-ARULES.csv')\n",
        "\n",
        "url_github_data = 'https://raw.githubusercontent.com/coryroyce/code_assignments/main/211201_Market_Basket_Analysis_Apriori/data/TRAIN-ARULES.csv'\n",
        "df = pd.read_csv(url_github_data)\n",
        "\n",
        "df.head()"
      ],
      "execution_count": 151,
      "outputs": [
        {
          "output_type": "execute_result",
          "data": {
            "text/html": [
              "<div>\n",
              "<style scoped>\n",
              "    .dataframe tbody tr th:only-of-type {\n",
              "        vertical-align: middle;\n",
              "    }\n",
              "\n",
              "    .dataframe tbody tr th {\n",
              "        vertical-align: top;\n",
              "    }\n",
              "\n",
              "    .dataframe thead th {\n",
              "        text-align: right;\n",
              "    }\n",
              "</style>\n",
              "<table border=\"1\" class=\"dataframe\">\n",
              "  <thead>\n",
              "    <tr style=\"text-align: right;\">\n",
              "      <th></th>\n",
              "      <th>order_id</th>\n",
              "      <th>user_id</th>\n",
              "      <th>product_name</th>\n",
              "    </tr>\n",
              "  </thead>\n",
              "  <tbody>\n",
              "    <tr>\n",
              "      <th>0</th>\n",
              "      <td>1483</td>\n",
              "      <td>90</td>\n",
              "      <td>Organic Pink Lemonade Bunny Fruit Snacks</td>\n",
              "    </tr>\n",
              "    <tr>\n",
              "      <th>1</th>\n",
              "      <td>1483</td>\n",
              "      <td>90</td>\n",
              "      <td>Dark Chocolate Minis</td>\n",
              "    </tr>\n",
              "    <tr>\n",
              "      <th>2</th>\n",
              "      <td>1483</td>\n",
              "      <td>90</td>\n",
              "      <td>Sparkling Water, Natural Mango Essenced</td>\n",
              "    </tr>\n",
              "    <tr>\n",
              "      <th>3</th>\n",
              "      <td>1483</td>\n",
              "      <td>90</td>\n",
              "      <td>Peach-Pear Sparkling Water</td>\n",
              "    </tr>\n",
              "    <tr>\n",
              "      <th>4</th>\n",
              "      <td>1483</td>\n",
              "      <td>90</td>\n",
              "      <td>Organic Heritage Flakes Cereal</td>\n",
              "    </tr>\n",
              "  </tbody>\n",
              "</table>\n",
              "</div>"
            ],
            "text/plain": [
              "   order_id  user_id                              product_name\n",
              "0      1483       90  Organic Pink Lemonade Bunny Fruit Snacks\n",
              "1      1483       90                      Dark Chocolate Minis\n",
              "2      1483       90   Sparkling Water, Natural Mango Essenced\n",
              "3      1483       90                Peach-Pear Sparkling Water\n",
              "4      1483       90            Organic Heritage Flakes Cereal"
            ]
          },
          "metadata": {},
          "execution_count": 151
        }
      ]
    },
    {
      "cell_type": "markdown",
      "metadata": {
        "id": "TXXFWgOURs7d"
      },
      "source": [
        "## Describe Data"
      ]
    },
    {
      "cell_type": "markdown",
      "metadata": {
        "id": "YMtFh4nxfLOE"
      },
      "source": [
        "Quick data overview. Note that we convert the dataframe to strings since the Order ID and User ID are categorical and not nuperical so mean and other stats don't apply to our data."
      ]
    },
    {
      "cell_type": "code",
      "metadata": {
        "colab": {
          "base_uri": "https://localhost:8080/",
          "height": 175
        },
        "id": "MxqS5C9Jczfw",
        "outputId": "491668f5-c1bf-4fc0-c372-9a0954291360"
      },
      "source": [
        "df.astype(str).describe(include = 'all')"
      ],
      "execution_count": 152,
      "outputs": [
        {
          "output_type": "execute_result",
          "data": {
            "text/html": [
              "<div>\n",
              "<style scoped>\n",
              "    .dataframe tbody tr th:only-of-type {\n",
              "        vertical-align: middle;\n",
              "    }\n",
              "\n",
              "    .dataframe tbody tr th {\n",
              "        vertical-align: top;\n",
              "    }\n",
              "\n",
              "    .dataframe thead th {\n",
              "        text-align: right;\n",
              "    }\n",
              "</style>\n",
              "<table border=\"1\" class=\"dataframe\">\n",
              "  <thead>\n",
              "    <tr style=\"text-align: right;\">\n",
              "      <th></th>\n",
              "      <th>order_id</th>\n",
              "      <th>user_id</th>\n",
              "      <th>product_name</th>\n",
              "    </tr>\n",
              "  </thead>\n",
              "  <tbody>\n",
              "    <tr>\n",
              "      <th>count</th>\n",
              "      <td>12963</td>\n",
              "      <td>12963</td>\n",
              "      <td>12963</td>\n",
              "    </tr>\n",
              "    <tr>\n",
              "      <th>unique</th>\n",
              "      <td>1418</td>\n",
              "      <td>100</td>\n",
              "      <td>3541</td>\n",
              "    </tr>\n",
              "    <tr>\n",
              "      <th>top</th>\n",
              "      <td>68288</td>\n",
              "      <td>27</td>\n",
              "      <td>Bag of Organic Bananas</td>\n",
              "    </tr>\n",
              "    <tr>\n",
              "      <th>freq</th>\n",
              "      <td>46</td>\n",
              "      <td>768</td>\n",
              "      <td>188</td>\n",
              "    </tr>\n",
              "  </tbody>\n",
              "</table>\n",
              "</div>"
            ],
            "text/plain": [
              "       order_id user_id            product_name\n",
              "count     12963   12963                   12963\n",
              "unique     1418     100                    3541\n",
              "top       68288      27  Bag of Organic Bananas\n",
              "freq         46     768                     188"
            ]
          },
          "metadata": {},
          "execution_count": 152
        }
      ]
    },
    {
      "cell_type": "markdown",
      "metadata": {
        "id": "xxWmIQKtRywl"
      },
      "source": [
        "## Clean Data"
      ]
    },
    {
      "cell_type": "markdown",
      "metadata": {
        "id": "RgUKVduLhUaH"
      },
      "source": [
        "Group the data by order ID so that we can start to get the data in a format that works well for the apriori library/package. Note: Uncomment the print statements to see the logical progression of the data transformation."
      ]
    },
    {
      "cell_type": "code",
      "metadata": {
        "id": "1r1P0Xjlczd_"
      },
      "source": [
        "def transform_data(df):\n",
        "  # Make a copy of the input data frame\n",
        "  df_temp = df.copy()\n",
        "  # print(df_temp.head())\n",
        "\n",
        "  # Group the data by the order id (make a list of product item sets for each order)\n",
        "  df_grouped = df_temp.groupby(by = ['order_id'])['product_name'].apply(list).reset_index(name='product_item_set')\n",
        "  # print(df_grouped.head())\n",
        "\n",
        "  # Unpack the list of product items into their own columns\n",
        "  df_grouped = df_grouped['product_item_set'].apply(pd.Series)\n",
        "  # print(df_grouped.head())\n",
        "\n",
        "  # Replace the Nan values with 0's\n",
        "  df_grouped.fillna(0,inplace=True)\n",
        "\n",
        "  # Convert the grouped dataframe into a lists of lists to work with the apriori package\n",
        "  data = df_grouped.astype(str).values.tolist()\n",
        "\n",
        "  # Remvove 0's from each \"row\"\n",
        "  data = [[ele for ele in sub if ele != '0'] for sub in data]\n",
        "\n",
        "  return data"
      ],
      "execution_count": 153,
      "outputs": []
    },
    {
      "cell_type": "code",
      "metadata": {
        "colab": {
          "base_uri": "https://localhost:8080/"
        },
        "id": "M5Q-7wjqNEbS",
        "outputId": "1eb3d480-5509-459e-e5b5-ca6227c6d055"
      },
      "source": [
        "data = transform_data(df)\n",
        "\n",
        "# Display the first few rows of data for reference\n",
        "print(data[0:2])\n",
        "print(f'Number of item transactions: {len(data)}')\n"
      ],
      "execution_count": 154,
      "outputs": [
        {
          "output_type": "stream",
          "name": "stdout",
          "text": [
            "[['Organic Pink Lemonade Bunny Fruit Snacks', 'Dark Chocolate Minis', 'Sparkling Water, Natural Mango Essenced', 'Peach-Pear Sparkling Water', 'Organic Heritage Flakes Cereal', 'Popped Salted Caramel Granola Bars', 'Healthy Grains Granola Bar, Vanilla Blueberry', 'Flax Plus Organic Pumpkin Flax Granola', 'Sweet & Salty Nut Almond Granola Bars', 'Cool Mint Chocolate Energy Bar', 'Chocolate Chip Energy Bars', 'Trail Mix Fruit & Nut Chewy Granola Bars'], ['Creme De Menthe Thins', 'Milk Chocolate English Toffee Miniatures Candy Bars', \"Baker's Pure Cane Ultrafine Sugar\", 'Plain Bagels', 'Cinnamon Bread']]\n",
            "Number of item transactions: 1418\n"
          ]
        }
      ]
    },
    {
      "cell_type": "markdown",
      "metadata": {
        "id": "Dazfxz5zR3LC"
      },
      "source": [
        "# Apriori Algorithm"
      ]
    },
    {
      "cell_type": "markdown",
      "metadata": {
        "id": "O6cIK7DaUU-K"
      },
      "source": [
        "Apply the apriori library to the data in order to generate the association rules.\n",
        "\n",
        "From the assignment prompt we need to pass in the additional parameters of min_support = 0.0045. "
      ]
    },
    {
      "cell_type": "code",
      "metadata": {
        "id": "o00ElMeJKeTq",
        "colab": {
          "base_uri": "https://localhost:8080/"
        },
        "outputId": "e26f2ab4-1d49-4faf-a811-241d34de73de"
      },
      "source": [
        "%%time\n",
        "\n",
        "# Note: Added a min_lenght argument so that it was not just a single item\n",
        "association_rules = apriori(transactions = data, min_support=0.0045)#, min_length=3) \n",
        "association_results = list(association_rules)\n",
        "df_results = pd.DataFrame(association_results)"
      ],
      "execution_count": 155,
      "outputs": [
        {
          "output_type": "stream",
          "name": "stdout",
          "text": [
            "CPU times: user 27.1 s, sys: 66.7 ms, total: 27.1 s\n",
            "Wall time: 27.2 s\n"
          ]
        }
      ]
    },
    {
      "cell_type": "markdown",
      "metadata": {
        "id": "vjMT8OCMXHLE"
      },
      "source": [
        "See how many total rules were created"
      ]
    },
    {
      "cell_type": "code",
      "metadata": {
        "colab": {
          "base_uri": "https://localhost:8080/"
        },
        "id": "KwVG3PjPXPDB",
        "outputId": "aeabead2-e29c-441f-9f34-e676ef851b54"
      },
      "source": [
        "print(len(association_results))"
      ],
      "execution_count": 156,
      "outputs": [
        {
          "output_type": "stream",
          "name": "stdout",
          "text": [
            "1492\n"
          ]
        }
      ]
    },
    {
      "cell_type": "markdown",
      "metadata": {
        "id": "a5AkhRh1Z5a9"
      },
      "source": [
        "Review the first result"
      ]
    },
    {
      "cell_type": "code",
      "metadata": {
        "colab": {
          "base_uri": "https://localhost:8080/"
        },
        "id": "QA7Hj-MDXPAQ",
        "outputId": "6b51e47e-aad7-404d-9af5-e6f97e5f34f9"
      },
      "source": [
        "print(association_results[0])"
      ],
      "execution_count": 157,
      "outputs": [
        {
          "output_type": "stream",
          "name": "stdout",
          "text": [
            "RelationRecord(items=frozenset({'0% Greek Strained Yogurt'}), support=0.009873060648801129, ordered_statistics=[OrderedStatistic(items_base=frozenset(), items_add=frozenset({'0% Greek Strained Yogurt'}), confidence=0.009873060648801129, lift=1.0)])\n"
          ]
        }
      ]
    },
    {
      "cell_type": "markdown",
      "metadata": {
        "id": "Heuihmct5tfk"
      },
      "source": [
        "View first few results"
      ]
    },
    {
      "cell_type": "code",
      "metadata": {
        "colab": {
          "base_uri": "https://localhost:8080/",
          "height": 206
        },
        "id": "64yJdIjA5tLd",
        "outputId": "5a0e795d-37e9-4b82-ac02-abf3a98c2e07"
      },
      "source": [
        "df_results.head()"
      ],
      "execution_count": 158,
      "outputs": [
        {
          "output_type": "execute_result",
          "data": {
            "text/html": [
              "<div>\n",
              "<style scoped>\n",
              "    .dataframe tbody tr th:only-of-type {\n",
              "        vertical-align: middle;\n",
              "    }\n",
              "\n",
              "    .dataframe tbody tr th {\n",
              "        vertical-align: top;\n",
              "    }\n",
              "\n",
              "    .dataframe thead th {\n",
              "        text-align: right;\n",
              "    }\n",
              "</style>\n",
              "<table border=\"1\" class=\"dataframe\">\n",
              "  <thead>\n",
              "    <tr style=\"text-align: right;\">\n",
              "      <th></th>\n",
              "      <th>items</th>\n",
              "      <th>support</th>\n",
              "      <th>ordered_statistics</th>\n",
              "    </tr>\n",
              "  </thead>\n",
              "  <tbody>\n",
              "    <tr>\n",
              "      <th>0</th>\n",
              "      <td>(0% Greek Strained Yogurt)</td>\n",
              "      <td>0.009873</td>\n",
              "      <td>[((), (0% Greek Strained Yogurt), 0.0098730606...</td>\n",
              "    </tr>\n",
              "    <tr>\n",
              "      <th>1</th>\n",
              "      <td>(100% Juice, Variety Pack)</td>\n",
              "      <td>0.004937</td>\n",
              "      <td>[((), (100% Juice, Variety Pack), 0.0049365303...</td>\n",
              "    </tr>\n",
              "    <tr>\n",
              "      <th>2</th>\n",
              "      <td>(100% Premium Select Not From Concentrate Pure...</td>\n",
              "      <td>0.009168</td>\n",
              "      <td>[((), (100% Premium Select Not From Concentrat...</td>\n",
              "    </tr>\n",
              "    <tr>\n",
              "      <th>3</th>\n",
              "      <td>(100% Recycled Paper Towels)</td>\n",
              "      <td>0.005642</td>\n",
              "      <td>[((), (100% Recycled Paper Towels), 0.00564174...</td>\n",
              "    </tr>\n",
              "    <tr>\n",
              "      <th>4</th>\n",
              "      <td>(1500 Pale Ale)</td>\n",
              "      <td>0.014810</td>\n",
              "      <td>[((), (1500 Pale Ale), 0.014809590973201692, 1...</td>\n",
              "    </tr>\n",
              "  </tbody>\n",
              "</table>\n",
              "</div>"
            ],
            "text/plain": [
              "                                               items  ...                                 ordered_statistics\n",
              "0                         (0% Greek Strained Yogurt)  ...  [((), (0% Greek Strained Yogurt), 0.0098730606...\n",
              "1                         (100% Juice, Variety Pack)  ...  [((), (100% Juice, Variety Pack), 0.0049365303...\n",
              "2  (100% Premium Select Not From Concentrate Pure...  ...  [((), (100% Premium Select Not From Concentrat...\n",
              "3                       (100% Recycled Paper Towels)  ...  [((), (100% Recycled Paper Towels), 0.00564174...\n",
              "4                                    (1500 Pale Ale)  ...  [((), (1500 Pale Ale), 0.014809590973201692, 1...\n",
              "\n",
              "[5 rows x 3 columns]"
            ]
          },
          "metadata": {},
          "execution_count": 158
        }
      ]
    },
    {
      "cell_type": "markdown",
      "metadata": {
        "id": "sn2HPUZHcR6T"
      },
      "source": [
        "What are the sizes of the item sets?"
      ]
    },
    {
      "cell_type": "code",
      "metadata": {
        "colab": {
          "base_uri": "https://localhost:8080/"
        },
        "id": "_SXbOB04b1oo",
        "outputId": "f377b55d-5e48-448e-871f-fe4c0f9e91a2"
      },
      "source": [
        "unique_item_set_lenghts = df_results['items'].apply(len).unique()\n",
        "unique_item_set_lenghts"
      ],
      "execution_count": 159,
      "outputs": [
        {
          "output_type": "execute_result",
          "data": {
            "text/plain": [
              "array([1, 2, 3, 4, 5, 6])"
            ]
          },
          "metadata": {},
          "execution_count": 159
        }
      ]
    },
    {
      "cell_type": "markdown",
      "metadata": {
        "id": "jh-IQnnI34XB"
      },
      "source": [
        "# Additional Example"
      ]
    },
    {
      "cell_type": "markdown",
      "metadata": {
        "id": "ZDirMmT_37xZ"
      },
      "source": [
        "Apply the Apriori algorithm to the simple dataset that was calculated by hand."
      ]
    },
    {
      "cell_type": "code",
      "metadata": {
        "id": "KfgZw3etXO4t"
      },
      "source": [
        "data_simple = [\n",
        "               ['Noodles', 'Pickles', 'Milk'],\n",
        "               ['Noodles', 'Cheese'],\n",
        "               ['Cheese', 'Shoes'],\n",
        "               ['Noodles', 'Pickles', 'Cheese'],\n",
        "               ['Noodles', 'Pickles', 'Clothes', 'Cheese', 'Milk'],\n",
        "               ['Pickles', 'Clothes', 'Milk'],\n",
        "               ['Pickles', 'Clothes', 'Milk'],\n",
        "]"
      ],
      "execution_count": 160,
      "outputs": []
    },
    {
      "cell_type": "markdown",
      "metadata": {
        "id": "4MLzw8DP5BrB"
      },
      "source": [
        "Apply the algorithm to the simple data set."
      ]
    },
    {
      "cell_type": "code",
      "metadata": {
        "colab": {
          "base_uri": "https://localhost:8080/"
        },
        "id": "JGgloaI9XOzu",
        "outputId": "3ed0a615-ace9-4a6b-9628-65c2400cec18"
      },
      "source": [
        "%%time\n",
        "\n",
        "# Note: Added a min_lenght argument so that it was not just a single item\n",
        "association_rules_simple = apriori(transactions = data_simple, min_support=0.30, min_confidence = 0.80, min_length=3) \n",
        "association_results_simple = list(association_rules_simple)\n",
        "df_results_simple = pd.DataFrame(association_results_simple)"
      ],
      "execution_count": 161,
      "outputs": [
        {
          "output_type": "stream",
          "name": "stdout",
          "text": [
            "CPU times: user 2.29 ms, sys: 0 ns, total: 2.29 ms\n",
            "Wall time: 2.31 ms\n"
          ]
        }
      ]
    },
    {
      "cell_type": "markdown",
      "metadata": {
        "id": "9E6pYrmJ62Kk"
      },
      "source": [
        "View all rules that meet the criteria"
      ]
    },
    {
      "cell_type": "code",
      "metadata": {
        "colab": {
          "base_uri": "https://localhost:8080/",
          "height": 175
        },
        "id": "e38WnmSO65hA",
        "outputId": "8f3aa0be-4dd6-40ab-e998-53b36c8aa439"
      },
      "source": [
        "df_results_simple"
      ],
      "execution_count": 162,
      "outputs": [
        {
          "output_type": "execute_result",
          "data": {
            "text/html": [
              "<div>\n",
              "<style scoped>\n",
              "    .dataframe tbody tr th:only-of-type {\n",
              "        vertical-align: middle;\n",
              "    }\n",
              "\n",
              "    .dataframe tbody tr th {\n",
              "        vertical-align: top;\n",
              "    }\n",
              "\n",
              "    .dataframe thead th {\n",
              "        text-align: right;\n",
              "    }\n",
              "</style>\n",
              "<table border=\"1\" class=\"dataframe\">\n",
              "  <thead>\n",
              "    <tr style=\"text-align: right;\">\n",
              "      <th></th>\n",
              "      <th>items</th>\n",
              "      <th>support</th>\n",
              "      <th>ordered_statistics</th>\n",
              "    </tr>\n",
              "  </thead>\n",
              "  <tbody>\n",
              "    <tr>\n",
              "      <th>0</th>\n",
              "      <td>(Milk, Clothes)</td>\n",
              "      <td>0.428571</td>\n",
              "      <td>[((Clothes), (Milk), 1.0, 1.75)]</td>\n",
              "    </tr>\n",
              "    <tr>\n",
              "      <th>1</th>\n",
              "      <td>(Clothes, Pickles)</td>\n",
              "      <td>0.428571</td>\n",
              "      <td>[((Clothes), (Pickles), 1.0, 1.4)]</td>\n",
              "    </tr>\n",
              "    <tr>\n",
              "      <th>2</th>\n",
              "      <td>(Milk, Pickles)</td>\n",
              "      <td>0.571429</td>\n",
              "      <td>[((Milk), (Pickles), 1.0, 1.4)]</td>\n",
              "    </tr>\n",
              "    <tr>\n",
              "      <th>3</th>\n",
              "      <td>(Milk, Clothes, Pickles)</td>\n",
              "      <td>0.428571</td>\n",
              "      <td>[((Clothes), (Milk, Pickles), 1.0, 1.75), ((Mi...</td>\n",
              "    </tr>\n",
              "  </tbody>\n",
              "</table>\n",
              "</div>"
            ],
            "text/plain": [
              "                      items  ...                                 ordered_statistics\n",
              "0           (Milk, Clothes)  ...                   [((Clothes), (Milk), 1.0, 1.75)]\n",
              "1        (Clothes, Pickles)  ...                 [((Clothes), (Pickles), 1.0, 1.4)]\n",
              "2           (Milk, Pickles)  ...                    [((Milk), (Pickles), 1.0, 1.4)]\n",
              "3  (Milk, Clothes, Pickles)  ...  [((Clothes), (Milk, Pickles), 1.0, 1.75), ((Mi...\n",
              "\n",
              "[4 rows x 3 columns]"
            ]
          },
          "metadata": {},
          "execution_count": 162
        }
      ]
    },
    {
      "cell_type": "markdown",
      "metadata": {
        "id": "CTLbJ_1qT8l4"
      },
      "source": [
        "View the details of the triple item set."
      ]
    },
    {
      "cell_type": "code",
      "metadata": {
        "id": "5-D8MIKHKeSC",
        "colab": {
          "base_uri": "https://localhost:8080/"
        },
        "outputId": "c684572d-ba4d-4483-a9fd-6eac701de957"
      },
      "source": [
        "df_results_simple.iloc[3,2]"
      ],
      "execution_count": 163,
      "outputs": [
        {
          "output_type": "execute_result",
          "data": {
            "text/plain": [
              "[OrderedStatistic(items_base=frozenset({'Clothes'}), items_add=frozenset({'Milk', 'Pickles'}), confidence=1.0, lift=1.75),\n",
              " OrderedStatistic(items_base=frozenset({'Milk', 'Clothes'}), items_add=frozenset({'Pickles'}), confidence=1.0, lift=1.4),\n",
              " OrderedStatistic(items_base=frozenset({'Clothes', 'Pickles'}), items_add=frozenset({'Milk'}), confidence=1.0, lift=1.75)]"
            ]
          },
          "metadata": {},
          "execution_count": 163
        }
      ]
    },
    {
      "cell_type": "markdown",
      "metadata": {
        "id": "m8BXz0dGi5OY"
      },
      "source": [
        "# Reference"
      ]
    },
    {
      "cell_type": "markdown",
      "metadata": {
        "id": "_Sb1_DIzi7RL"
      },
      "source": [
        "Example of Apriori with code snippets [reference](https://stackabuse.com/association-rule-mining-via-apriori-algorithm-in-python/)\n",
        "\n",
        "Example Apriori article [Article](https://towardsdatascience.com/market-basket-analysis-using-associative-data-mining-and-apriori-algorithm-bddd07c6a71a)\n",
        "\n",
        "[Apriori Library](https://github.com/ymoch/apyori)"
      ]
    }
  ]
}