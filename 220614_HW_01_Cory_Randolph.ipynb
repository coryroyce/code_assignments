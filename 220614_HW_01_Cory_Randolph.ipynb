{
  "nbformat": 4,
  "nbformat_minor": 0,
  "metadata": {
    "colab": {
      "name": "220614_HW_01_Cory_Randolph.ipynb",
      "provenance": [],
      "collapsed_sections": [],
      "toc_visible": true
    },
    "kernelspec": {
      "name": "python3",
      "display_name": "Python 3"
    },
    "language_info": {
      "name": "python"
    }
  },
  "cells": [
    {
      "cell_type": "markdown",
      "metadata": {
        "id": "u8LmF1GL2kx8"
      },
      "source": [
        "# Homework #1 - Matrices and Data\n",
        "Cory Randolph\n",
        "\n",
        "6/14/2022\n",
        "\n",
        "CMPE 257"
      ]
    },
    {
      "cell_type": "markdown",
      "metadata": {
        "id": "47c0f908"
      },
      "source": [
        "# 1 Matrices and Numpy"
      ]
    },
    {
      "cell_type": "markdown",
      "metadata": {
        "id": "f9c687c3"
      },
      "source": [
        "## 1.1 Matrices Theory"
      ]
    },
    {
      "cell_type": "markdown",
      "metadata": {
        "id": "99dcc604"
      },
      "source": [
        "### 1.1.1 Write properties of matrices"
      ]
    },
    {
      "cell_type": "markdown",
      "source": [
        "Matrices from a high level are a way of storing data (mostly numerical) in a structured way that allows for various computations/manipulations.\n",
        "\n",
        "In particular the most common form of a matrix is a nxm (n = rows, m = columns) that holds 2 dimensional numerical data."
      ],
      "metadata": {
        "id": "CVdMSK9PgQpP"
      }
    },
    {
      "cell_type": "markdown",
      "source": [
        "Specific Properties of Matrices:\n",
        "\n",
        "1.   Non-commutative property\n",
        "  - AB != BA\n",
        "2.   Associative Property\n",
        "  - (AB)C=A(BC)\n",
        "3.   Distributive properties \n",
        "  - A(B+C)=AB+AC\n",
        "4.   Multiplicative identity property\n",
        "  - AI=A (Where I is the identity matrix)\n",
        "5.   Multiplicative property of zero\n",
        "  - OA = O (Where O is the zero matrix)\n",
        "6.   Dimension Property\n",
        "  - The dimensions of an m x n times n x k matrix is a m x k matrix\n",
        "\n",
        "\n",
        "See reference section for details"
      ],
      "metadata": {
        "id": "naA_wdhPoy7a"
      }
    },
    {
      "cell_type": "markdown",
      "metadata": {
        "id": "eb0eeb06"
      },
      "source": [
        "### 1.1.2 Write a python function to get a matrix from user"
      ]
    },
    {
      "cell_type": "code",
      "source": [
        "import ast"
      ],
      "metadata": {
        "id": "2UzIQ8PHyMOk"
      },
      "execution_count": 1,
      "outputs": []
    },
    {
      "cell_type": "code",
      "source": [
        "def get_user_matrix() -> list:\n",
        "  # Get users input\n",
        "  A: list = input(f\"Please input your matrix in the form of a 2 dimensional list:\")\n",
        "  \n",
        "  # Create a default matrix if the user input is empty\n",
        "  if not A:\n",
        "      A = \"[[1,2],[3,4]]\"\n",
        "\n",
        "  # Make sure the users input is read converted to a python list\n",
        "  A = ast.literal_eval(A)\n",
        "\n",
        "  return A"
      ],
      "metadata": {
        "id": "mMWFnY7Nrpub"
      },
      "execution_count": 2,
      "outputs": []
    },
    {
      "cell_type": "code",
      "source": [
        "def pretty_print_matrix(A: list = [[1,2], [3,4]]):\n",
        "  # Loop through each row and column and print out the matrix is a way that\n",
        "  # looks nicer than the array version.\n",
        "  # (Ref: https://www.codegrepper.com/code-examples/python/how+to+print+2d+array+in+python)\n",
        "  for row in A:\n",
        "      for column in row:\n",
        "          print(column,end = \" \")\n",
        "      print()\n",
        "\n",
        "  return\n"
      ],
      "metadata": {
        "id": "D3_gTTl9vvzY"
      },
      "execution_count": 3,
      "outputs": []
    },
    {
      "cell_type": "markdown",
      "source": [
        "Call the function to get the users input"
      ],
      "metadata": {
        "id": "YmD6Y_8VtE_Q"
      }
    },
    {
      "cell_type": "code",
      "source": [
        "# Assign the users input to the variable A\n",
        "A = get_user_matrix()\n",
        "\n",
        "# Print out the users matrix A\n",
        "pretty_print_matrix(A)"
      ],
      "metadata": {
        "id": "m68eE7L9sYvy",
        "colab": {
          "base_uri": "https://localhost:8080/",
          "height": 0
        },
        "outputId": "d9986326-350b-4ea5-c265-3230a27c5397"
      },
      "execution_count": 4,
      "outputs": [
        {
          "output_type": "stream",
          "name": "stdout",
          "text": [
            "Please input your matrix in the form of a 2 dimensional list:\n",
            "1 2 \n",
            "3 4 \n"
          ]
        }
      ]
    },
    {
      "cell_type": "markdown",
      "metadata": {
        "id": "1e9509eb"
      },
      "source": [
        "### 1.1.3 Get two matrices from the user and give them names A and B"
      ]
    },
    {
      "cell_type": "markdown",
      "source": [
        "Use the same function from above but now call it twice and assign the input to A and B."
      ],
      "metadata": {
        "id": "K2wgVN88uo0V"
      }
    },
    {
      "cell_type": "code",
      "source": [
        "print(f\"For the first matrix A:\")\n",
        "A: list = get_user_matrix()\n",
        "\n",
        "print(f\"For the second matrix B:\")\n",
        "B: list = get_user_matrix()"
      ],
      "metadata": {
        "colab": {
          "base_uri": "https://localhost:8080/",
          "height": 0
        },
        "id": "ybaiHTjIuwuQ",
        "outputId": "360f0ef0-348c-4a02-c246-5261d2833b19"
      },
      "execution_count": 5,
      "outputs": [
        {
          "name": "stdout",
          "output_type": "stream",
          "text": [
            "For the first matrix A:\n",
            "Please input your matrix in the form of a 2 dimensional list:\n",
            "For the second matrix B:\n",
            "Please input your matrix in the form of a 2 dimensional list:\n"
          ]
        }
      ]
    },
    {
      "cell_type": "markdown",
      "source": [
        "Print out both matrices:"
      ],
      "metadata": {
        "id": "Q4NmSTT_vADx"
      }
    },
    {
      "cell_type": "code",
      "source": [
        "print(f\"Matrix A:\")\n",
        "pretty_print_matrix(A)\n",
        "\n",
        "print(f\"Matrix B:\")\n",
        "pretty_print_matrix(B)"
      ],
      "metadata": {
        "colab": {
          "base_uri": "https://localhost:8080/",
          "height": 0
        },
        "id": "8IN3TmROvEjN",
        "outputId": "2642dad1-85eb-4a6e-fc17-03acb2e5b56f"
      },
      "execution_count": 6,
      "outputs": [
        {
          "output_type": "stream",
          "name": "stdout",
          "text": [
            "Matrix A:\n",
            "1 2 \n",
            "3 4 \n",
            "Matrix B:\n",
            "1 2 \n",
            "3 4 \n"
          ]
        }
      ]
    },
    {
      "cell_type": "markdown",
      "metadata": {
        "id": "c22f308a"
      },
      "source": [
        "## 1.2 Matrix manipulation without using Numpy"
      ]
    },
    {
      "cell_type": "markdown",
      "source": [
        "For all of these functions I will assume a 2x2 matrix, but most formulas should work for nxn."
      ],
      "metadata": {
        "id": "GUwFtKoHKgEQ"
      }
    },
    {
      "cell_type": "markdown",
      "metadata": {
        "id": "9508bb2e"
      },
      "source": [
        "### 1.2.1 Perform A^n (n is a user entered values)"
      ]
    },
    {
      "cell_type": "markdown",
      "source": [
        "First create a matrix multiplication function so that I could call that on A recursively n times"
      ],
      "metadata": {
        "id": "N4i2lKaxKpt_"
      }
    },
    {
      "cell_type": "code",
      "source": [
        "def matrix_multiplication(A: list, B: list) -> list:\n",
        "  # First verify that the dimensions of A and B are compatible. i.e. m x n and n x k\n",
        "  if len(A) <1 or len(B[0]) < 1:\n",
        "    raise Exception(\"Matrices provided do not have enough rows or columns\") \n",
        "\n",
        "  if len(A) != len(B[0]):\n",
        "    raise Exception(\"The number of columns from matrix A must match the number of rows in Matrix B.\")\n",
        "\n",
        "  # Write out the matrix multiplication\n",
        "  AxB = []\n",
        "  # Create the empty matrix with the correct m x k size\n",
        "  for i in range(len(A)):\n",
        "    row = []\n",
        "    for j in range(len(B[0])):\n",
        "        row.append(0)\n",
        "    AxB.append(row)\n",
        " \n",
        "  # Apply Matrix multiplication\n",
        "  for i in range(len(A)): # Number of rows in A\n",
        "    for j in range(len(B[0])): # Number of columns in B\n",
        "      AxB[i][j] = 0 # Create a 0 matrix of m x k \n",
        "      for k in range(len(B)): # number of Rows in B\n",
        "        AxB[i][j] += A[i][k] * B[k][j]\n",
        "\n",
        "  return AxB"
      ],
      "metadata": {
        "id": "sqF6N2BWKqLA"
      },
      "execution_count": 7,
      "outputs": []
    },
    {
      "cell_type": "markdown",
      "source": [
        "Test out the custom matrix multiplication function."
      ],
      "metadata": {
        "id": "wPWfb8rEK3gE"
      }
    },
    {
      "cell_type": "code",
      "source": [
        "# Define A and B matrix if not provide by the user\n",
        "if A is None:\n",
        "  A = [\n",
        "      [1,2],\n",
        "      [3,4],\n",
        "  ]\n",
        "\n",
        "if B is None:\n",
        "  B = [\n",
        "      [5,6],\n",
        "      [7,8],\n",
        "  ]\n"
      ],
      "metadata": {
        "id": "gNQVxl1rK8P1"
      },
      "execution_count": 8,
      "outputs": []
    },
    {
      "cell_type": "code",
      "source": [
        "print(matrix_multiplication(A,B))"
      ],
      "metadata": {
        "colab": {
          "base_uri": "https://localhost:8080/",
          "height": 0
        },
        "id": "CxoSjB4fLEqH",
        "outputId": "f4a07312-db45-492c-a515-7ec5d5857894"
      },
      "execution_count": 9,
      "outputs": [
        {
          "output_type": "stream",
          "name": "stdout",
          "text": [
            "[[19, 22], [43, 50]]\n"
          ]
        }
      ]
    },
    {
      "cell_type": "code",
      "source": [
        "pretty_print_matrix(matrix_multiplication(A,B))"
      ],
      "metadata": {
        "colab": {
          "base_uri": "https://localhost:8080/",
          "height": 0
        },
        "id": "Lx92v6qbQJrF",
        "outputId": "6b6b911c-4f55-40dc-b0d6-cb6d6b5b27cc"
      },
      "execution_count": 10,
      "outputs": [
        {
          "output_type": "stream",
          "name": "stdout",
          "text": [
            "19 22 \n",
            "43 50 \n"
          ]
        }
      ]
    },
    {
      "cell_type": "markdown",
      "source": [
        "Now use the matrix multiplication to create the raised to n function. Also define some smaller functions like idenity and copy that will be used later"
      ],
      "metadata": {
        "id": "7O5B51UdQOWD"
      }
    },
    {
      "cell_type": "code",
      "source": [
        "def matrix_identity(A: list) -> list:\n",
        "  # First define the identity matrix\n",
        "  identity_matrix = []\n",
        "  for i in range(len(A)):\n",
        "    row = []\n",
        "    for j in range(len(A[0])):\n",
        "        if i == j:\n",
        "          row.append(1)\n",
        "        else:\n",
        "          row.append(0)\n",
        "    identity_matrix.append(row)\n",
        "\n",
        "  return identity_matrix"
      ],
      "metadata": {
        "id": "Q4MjThDSawQA"
      },
      "execution_count": 90,
      "outputs": []
    },
    {
      "cell_type": "code",
      "source": [
        "matrix_identity(A)"
      ],
      "metadata": {
        "colab": {
          "base_uri": "https://localhost:8080/",
          "height": 0
        },
        "id": "tAoiaHE5e7au",
        "outputId": "500b79ff-144e-48bf-aa39-8bdcecd7aa6d"
      },
      "execution_count": 123,
      "outputs": [
        {
          "output_type": "execute_result",
          "data": {
            "text/plain": [
              "[[1, 0], [0, 1]]"
            ]
          },
          "metadata": {},
          "execution_count": 123
        }
      ]
    },
    {
      "cell_type": "code",
      "source": [
        "def matrix_copy(A: list) -> list:\n",
        "  A_copy = []\n",
        "  for i in range(len(A)):\n",
        "    row = []\n",
        "    for j in range(len(A[0])):\n",
        "        row.append(A[i][j])\n",
        "    A_copy.append(row)\n",
        "  return A_copy"
      ],
      "metadata": {
        "id": "pMlD4fczeWLQ"
      },
      "execution_count": 122,
      "outputs": []
    },
    {
      "cell_type": "code",
      "source": [
        "matrix_copy(A)"
      ],
      "metadata": {
        "colab": {
          "base_uri": "https://localhost:8080/",
          "height": 0
        },
        "id": "x4h1EEuLfAz_",
        "outputId": "313c5e19-63f1-48a9-c5df-bed8d4deaa21"
      },
      "execution_count": 124,
      "outputs": [
        {
          "output_type": "execute_result",
          "data": {
            "text/plain": [
              "[[1, 2], [3, 4]]"
            ]
          },
          "metadata": {},
          "execution_count": 124
        }
      ]
    },
    {
      "cell_type": "code",
      "source": [
        "def matrix_raise_to_n(A: list, n: str) -> list:\n",
        "  # Cover base case when n = 0\n",
        "  if n == 0:\n",
        "    # Return the identity matrix when n = 0\n",
        "    return matrix_identity(A)\n",
        "\n",
        "\n",
        "  # Initiate result as the input matrix\n",
        "  result = matrix_copy(A)\n",
        "\n",
        "  # Multiply the previous result n-1 times\n",
        "  for i in range(n-1):\n",
        "    result = matrix_multiplication(result, A)\n",
        "\n",
        "  return result"
      ],
      "metadata": {
        "id": "p7mi4wj2K_NA"
      },
      "execution_count": 125,
      "outputs": []
    },
    {
      "cell_type": "markdown",
      "source": [
        "Apply A^3 as example"
      ],
      "metadata": {
        "id": "cqQnBRU8lhiR"
      }
    },
    {
      "cell_type": "code",
      "source": [
        "pretty_print_matrix(matrix_raise_to_n(A, n=3))"
      ],
      "metadata": {
        "colab": {
          "base_uri": "https://localhost:8080/",
          "height": 0
        },
        "id": "TvvNiHKMlg5I",
        "outputId": "98c0b570-7bf7-4594-a69d-7cc642105d4a"
      },
      "execution_count": 161,
      "outputs": [
        {
          "output_type": "stream",
          "name": "stdout",
          "text": [
            "37 54 \n",
            "81 118 \n"
          ]
        }
      ]
    },
    {
      "cell_type": "markdown",
      "source": [
        "Apply the raise to n function to a simple matrix"
      ],
      "metadata": {
        "id": "9qnQRRPYR3tB"
      }
    },
    {
      "cell_type": "code",
      "source": [
        "C = [[2,0],[0,2]]"
      ],
      "metadata": {
        "id": "uWpmlcWjR-Jk"
      },
      "execution_count": 126,
      "outputs": []
    },
    {
      "cell_type": "code",
      "source": [
        "matrix_raise_to_n(A = C, n=3)"
      ],
      "metadata": {
        "colab": {
          "base_uri": "https://localhost:8080/",
          "height": 0
        },
        "id": "yKELTCc1Qul4",
        "outputId": "4a7c24ad-926a-4c9b-86c1-f1f6daca4c72"
      },
      "execution_count": 127,
      "outputs": [
        {
          "output_type": "execute_result",
          "data": {
            "text/plain": [
              "[[8, 0], [0, 8]]"
            ]
          },
          "metadata": {},
          "execution_count": 127
        }
      ]
    },
    {
      "cell_type": "markdown",
      "source": [
        "Show that it works with a larger matrix"
      ],
      "metadata": {
        "id": "Gl9WSX7rSEvC"
      }
    },
    {
      "cell_type": "code",
      "source": [
        "D = [\n",
        "     [2,0,0,0],\n",
        "     [0,2,0,0],\n",
        "     [0,0,2,0],\n",
        "     [0,0,0,2],\n",
        "     ]"
      ],
      "metadata": {
        "id": "3Si8L-tGSHPE"
      },
      "execution_count": 29,
      "outputs": []
    },
    {
      "cell_type": "code",
      "source": [
        "pretty_print_matrix(matrix_raise_to_n(A = D, n=3))"
      ],
      "metadata": {
        "colab": {
          "base_uri": "https://localhost:8080/",
          "height": 0
        },
        "id": "t6HfF1P6SHMv",
        "outputId": "aaccac18-31b6-4af4-8eeb-1e172c87dcbd"
      },
      "execution_count": 30,
      "outputs": [
        {
          "output_type": "stream",
          "name": "stdout",
          "text": [
            "8 0 0 0 \n",
            "0 8 0 0 \n",
            "0 0 8 0 \n",
            "0 0 0 8 \n"
          ]
        }
      ]
    },
    {
      "cell_type": "markdown",
      "metadata": {
        "id": "37557ddc"
      },
      "source": [
        "### 1.2.2 Perform A Transpose"
      ]
    },
    {
      "cell_type": "code",
      "source": [
        "def matrix_transpose(A: list) -> list:\n",
        "  # Create an empty transpose matrix/list\n",
        "  A_transpose = []\n",
        "\n",
        "  # Fill the values by transposing rows and column index (similar to matrix \n",
        "  # multiplication above)\n",
        "  for j in range(len(A[0])):\n",
        "    row = []\n",
        "    for i in range(len(A)):\n",
        "      row.append(A[i][j])\n",
        "    A_transpose.append(row)\n",
        "\n",
        "  return A_transpose\n"
      ],
      "metadata": {
        "id": "s8PgIR-xSnBW"
      },
      "execution_count": 128,
      "outputs": []
    },
    {
      "cell_type": "markdown",
      "source": [
        "Apply the transpose to A"
      ],
      "metadata": {
        "id": "kg_h_XVylyp9"
      }
    },
    {
      "cell_type": "code",
      "source": [
        "print(f\"Original Matrix A:\")\n",
        "pretty_print_matrix(A)\n",
        "print()\n",
        "\n",
        "print(f\"Matrix A Transposed:\")\n",
        "pretty_print_matrix(matrix_transpose(A))"
      ],
      "metadata": {
        "colab": {
          "base_uri": "https://localhost:8080/",
          "height": 0
        },
        "id": "wgjv5wJclyeU",
        "outputId": "ecd3132a-5441-4e38-af72-886870759ec4"
      },
      "execution_count": 162,
      "outputs": [
        {
          "output_type": "stream",
          "name": "stdout",
          "text": [
            "Orginal Matrix A:\n",
            "1 2 \n",
            "3 4 \n",
            "\n",
            "Matrix A Transposed:\n",
            "1 3 \n",
            "2 4 \n"
          ]
        }
      ]
    },
    {
      "cell_type": "markdown",
      "source": [
        "Apply the transpose to an additional example matrix"
      ],
      "metadata": {
        "id": "1saM7Z-8Wrlq"
      }
    },
    {
      "cell_type": "code",
      "source": [
        "E = [\n",
        "     [1, 2, 5],\n",
        "     [3, 4, 6],\n",
        "    ]"
      ],
      "metadata": {
        "id": "z0QuJzI1T_ox"
      },
      "execution_count": 163,
      "outputs": []
    },
    {
      "cell_type": "code",
      "source": [
        "print(f\"Original Matrix E:\")\n",
        "pretty_print_matrix(E)\n",
        "print()\n",
        "\n",
        "print(f\"Matrix E Transposed:\")\n",
        "pretty_print_matrix(matrix_transpose(E))"
      ],
      "metadata": {
        "colab": {
          "base_uri": "https://localhost:8080/",
          "height": 0
        },
        "id": "DR3KAaYaS_yB",
        "outputId": "34cd7b54-89f9-4e41-c590-8d093c0d1bbd"
      },
      "execution_count": 164,
      "outputs": [
        {
          "output_type": "stream",
          "name": "stdout",
          "text": [
            "Orginal Matrix E:\n",
            "1 2 5 \n",
            "3 4 6 \n",
            "\n",
            "Matrix E Transposed:\n",
            "1 3 \n",
            "2 4 \n",
            "5 6 \n"
          ]
        }
      ]
    },
    {
      "cell_type": "markdown",
      "metadata": {
        "id": "2e25f652"
      },
      "source": [
        "### 1.2.3 Calculate Determinant of A"
      ]
    },
    {
      "cell_type": "markdown",
      "source": [
        "Start with the simpler example of taking the determinant of a 2x2 matrix."
      ],
      "metadata": {
        "id": "mSlUDb5hYdtf"
      }
    },
    {
      "cell_type": "markdown",
      "source": [
        "Determinant formula for 2x2 Matrix:\n",
        "\n",
        "${∣}A{∣} = a_{11}⋅a_{22} − a_{21}⋅a_{12}$\n",
        "​\n"
      ],
      "metadata": {
        "id": "nN6yr-QNWyQU"
      }
    },
    {
      "cell_type": "code",
      "source": [
        "def determinant_2x2(A: list) -> float:\n",
        "  det_A = A[0][0]*A[1][1] - A[1][0]*A[0][1]\n",
        "  return det_A"
      ],
      "metadata": {
        "id": "fuh-LuDmYsVZ"
      },
      "execution_count": 165,
      "outputs": []
    },
    {
      "cell_type": "code",
      "source": [
        "print(f\"Original Matrix A:\")\n",
        "pretty_print_matrix(A)\n",
        "print()\n",
        "\n",
        "print(f\"Determinant of A:\")\n",
        "print(determinant_2x2(A))"
      ],
      "metadata": {
        "colab": {
          "base_uri": "https://localhost:8080/",
          "height": 0
        },
        "id": "bQWkgaPWZGAc",
        "outputId": "75a70a1c-451b-46e9-80f0-6c68216c6d6f"
      },
      "execution_count": 166,
      "outputs": [
        {
          "output_type": "stream",
          "name": "stdout",
          "text": [
            "Orginal Matrix A:\n",
            "1 2 \n",
            "3 4 \n",
            "\n",
            "Determinant of A:\n",
            "-2\n"
          ]
        }
      ]
    },
    {
      "cell_type": "markdown",
      "source": [
        "Now create a more generalized determinant function."
      ],
      "metadata": {
        "id": "rDhodyB-TVKc"
      }
    },
    {
      "cell_type": "code",
      "source": [
        "def determinant_of_matrix(A: list)-> float:\n",
        "  # Handle the base case of 2x2\n",
        "  if len(A) == 2 and len(A[0]) == 2:\n",
        "        return determinant_2x2(A)\n",
        "\n",
        "  # Calculate the determinant\n",
        "  det = 0\n",
        "  for i in range(len(A)):\n",
        "    A_diag = matrix_copy(A)\n",
        "    A_diag = A_diag[1:] # Remove first row\n",
        "\n",
        "    for j in range(len(A_diag)):\n",
        "      A_diag[j] = A_diag[j][0:i] + A_diag[j][i+1:]\n",
        "\n",
        "    # Set the sign (+/-)\n",
        "    sign = (-1) ** (i % 2)\n",
        "    # Recursively call the determinant function\n",
        "    sub_det = determinant_of_matrix(A_diag)\n",
        "    det += A[0][i] * sign * sub_det\n",
        "\n",
        "  return det"
      ],
      "metadata": {
        "id": "kFkN0VEwTnvF"
      },
      "execution_count": 129,
      "outputs": []
    },
    {
      "cell_type": "code",
      "source": [
        "determinant_of_matrix(D)"
      ],
      "metadata": {
        "colab": {
          "base_uri": "https://localhost:8080/",
          "height": 0
        },
        "id": "nP852iN4WiCO",
        "outputId": "683f9a64-7664-4685-8a56-3442b726e5c1"
      },
      "execution_count": 130,
      "outputs": [
        {
          "output_type": "execute_result",
          "data": {
            "text/plain": [
              "16"
            ]
          },
          "metadata": {},
          "execution_count": 130
        }
      ]
    },
    {
      "cell_type": "markdown",
      "metadata": {
        "id": "d82f51f0"
      },
      "source": [
        "### 1.2.4 Calculate A Inverse (If not possible code should give relevant reason)"
      ]
    },
    {
      "cell_type": "code",
      "source": [
        "def inverse_of_matrix(A: list) -> list:\n",
        "  # Check base case conditions\n",
        "  # Check if A is a square matrix\n",
        "  if len(A) != len(A[0]):\n",
        "    print(f\"The input matrix is not square!\")\n",
        "    return None\n",
        "    # raise Exception(f\"The input matrix is not square!\")\n",
        "\n",
        "  # Check non-singular\n",
        "  if determinant_of_matrix(A) == 0:\n",
        "    print(f\"The input matrix is not non-singular!\")\n",
        "    return None\n",
        "    # raise Exception(f\"The input matrix is not non-singular!\")\n",
        "\n",
        "  # Make copies of the input matrices for manipulation\n",
        "  A_temp = matrix_copy(A)\n",
        "  I = matrix_identity(A)\n",
        "  I_temp = matrix_copy(I)\n",
        "\n",
        "  # Perform the row operations\n",
        "  for fd in range(len(A)): # fd stands for focus diagonal\n",
        "      fdScaler = 1.0 / A_temp[fd][fd]\n",
        "      # FIRST: scale fd row with fd inverse. \n",
        "      for j in range(len(A)): # Use j to indicate column looping.\n",
        "          A_temp[fd][j] *= fdScaler\n",
        "          I_temp[fd][j] *= fdScaler\n",
        "      # SECOND: operate on all rows except fd row as follows:\n",
        "      for i in list(range(len(A)))[0:fd] + list(range(len(A)))[fd+1:]: \n",
        "          # *** skip row with fd in it.\n",
        "          crScaler = A_temp[i][fd] # cr stands for \"current row\".\n",
        "          for j in range(len(A)): \n",
        "              # cr - crScaler * fdRow, but one element at a tI_tempe.\n",
        "              A_temp[i][j] = A_temp[i][j] - crScaler * A_temp[fd][j]\n",
        "              I_temp[i][j] = I_temp[i][j] - crScaler * I_temp[fd][j]\n",
        "\n",
        "  return I_temp\n"
      ],
      "metadata": {
        "id": "TIVZaFZZRJrK"
      },
      "execution_count": 167,
      "outputs": []
    },
    {
      "cell_type": "markdown",
      "source": [
        "Apply to A"
      ],
      "metadata": {
        "id": "hL8xWMQCmI75"
      }
    },
    {
      "cell_type": "code",
      "source": [
        "pretty_print_matrix(inverse_of_matrix(A))"
      ],
      "metadata": {
        "colab": {
          "base_uri": "https://localhost:8080/",
          "height": 0
        },
        "id": "q0PrSnG9mHMb",
        "outputId": "fd24b73c-5b50-46bd-9d19-1be2cddbdd30"
      },
      "execution_count": 169,
      "outputs": [
        {
          "output_type": "stream",
          "name": "stdout",
          "text": [
            "-2.0 1.0 \n",
            "1.5 -0.5 \n"
          ]
        }
      ]
    },
    {
      "cell_type": "markdown",
      "source": [
        "Verify that $A*A^{-1} = I$\n"
      ],
      "metadata": {
        "id": "7YsE1jM7ftCo"
      }
    },
    {
      "cell_type": "code",
      "source": [
        "pretty_print_matrix(matrix_multiplication(A, inverse_of_matrix(A)))"
      ],
      "metadata": {
        "colab": {
          "base_uri": "https://localhost:8080/",
          "height": 0
        },
        "id": "InCBcJAvf2wt",
        "outputId": "adb5e53e-13e5-4c6b-a5fc-a012461ce230"
      },
      "execution_count": 170,
      "outputs": [
        {
          "output_type": "stream",
          "name": "stdout",
          "text": [
            "1.0 0.0 \n",
            "0.0 1.0 \n"
          ]
        }
      ]
    },
    {
      "cell_type": "markdown",
      "source": [
        "The result is the identity matrix (Note, may a slight rounding error example -1.387e-16  is approximately 0)"
      ],
      "metadata": {
        "id": "4S1H7QJ1gTjf"
      }
    },
    {
      "cell_type": "markdown",
      "metadata": {
        "id": "308f8844"
      },
      "source": [
        "### 1.2.5 Calculate A*B (If not possible, code should give relevant reason)"
      ]
    },
    {
      "cell_type": "markdown",
      "source": [
        "See above code in section 1.2.1. See below example to verify"
      ],
      "metadata": {
        "id": "AEziT6zegmIr"
      }
    },
    {
      "cell_type": "code",
      "source": [
        "pretty_print_matrix(matrix_multiplication(A,B))"
      ],
      "metadata": {
        "colab": {
          "base_uri": "https://localhost:8080/",
          "height": 0
        },
        "id": "1nLu00NCmaBc",
        "outputId": "218b4866-e101-4ede-b969-9a8ac5d177b7"
      },
      "execution_count": 171,
      "outputs": [
        {
          "output_type": "stream",
          "name": "stdout",
          "text": [
            "19 22 \n",
            "43 50 \n"
          ]
        }
      ]
    },
    {
      "cell_type": "markdown",
      "source": [
        "An Additional example"
      ],
      "metadata": {
        "id": "oDac1so5mYTO"
      }
    },
    {
      "cell_type": "code",
      "source": [
        "A_1 = [[1,2],[3,4]]\n",
        "A_2 = [[5,6],[7,8]]\n",
        "\n",
        "pretty_print_matrix(matrix_multiplication(A_1,A_2))"
      ],
      "metadata": {
        "colab": {
          "base_uri": "https://localhost:8080/",
          "height": 0
        },
        "id": "jiACxpMEgp-b",
        "outputId": "c2144f7f-c1e7-4c7c-e789-c5627df85a69"
      },
      "execution_count": 140,
      "outputs": [
        {
          "output_type": "stream",
          "name": "stdout",
          "text": [
            "19 22 \n",
            "43 50 \n"
          ]
        }
      ]
    },
    {
      "cell_type": "markdown",
      "metadata": {
        "id": "cfc40ab4"
      },
      "source": [
        "### 1.2.6 Calculate A+B (If not possible, code should give relevant reason)"
      ]
    },
    {
      "cell_type": "code",
      "source": [
        "def matrix_addition(A: list, B: list) -> list:\n",
        "  # First verify that the dimensions of A and B are compatible. i.e. m x n and m x n\n",
        "  if len(A) != len(B) or len(A[0]) != len(B[0]):\n",
        "    print(f\"Matrices provided are not the same shape\")\n",
        "    return None\n",
        "    # raise Exception(f\"Matrices provided are not the same shape\") \n",
        "\n",
        "\n",
        "  # Write out the matrix addition\n",
        "  A_plus_B = []\n",
        "  # Create the empty matrix with the correct m x k size\n",
        "  for i in range(len(A)):\n",
        "    row = []\n",
        "    for j in range(len(A[0])):\n",
        "        # Add each element of each matrix one-by-one\n",
        "        row.append(A[i][j] +B[i][j])\n",
        "    A_plus_B.append(row)\n",
        " \n",
        "\n",
        "  return A_plus_B"
      ],
      "metadata": {
        "id": "VgJ9mD-GhEAW"
      },
      "execution_count": 145,
      "outputs": []
    },
    {
      "cell_type": "markdown",
      "source": [
        "Apply to A and B"
      ],
      "metadata": {
        "id": "QuearA3Imf0M"
      }
    },
    {
      "cell_type": "code",
      "source": [
        "pretty_print_matrix(matrix_addition(A, B))"
      ],
      "metadata": {
        "colab": {
          "base_uri": "https://localhost:8080/",
          "height": 0
        },
        "id": "OkCjUpnUmfbP",
        "outputId": "a47975cd-3412-4c5f-f784-cf3b31f787e5"
      },
      "execution_count": 172,
      "outputs": [
        {
          "output_type": "stream",
          "name": "stdout",
          "text": [
            "6 8 \n",
            "10 12 \n"
          ]
        }
      ]
    },
    {
      "cell_type": "markdown",
      "source": [
        "Additional example"
      ],
      "metadata": {
        "id": "D3a0d9-PmmMB"
      }
    },
    {
      "cell_type": "code",
      "source": [
        "A_1 = [[1,1,1],[2,2,2]]\n",
        "A_2 = [[3,3,3],[4,4,4]]\n",
        "\n",
        "pretty_print_matrix(matrix_addition(A_1, A_2))"
      ],
      "metadata": {
        "colab": {
          "base_uri": "https://localhost:8080/",
          "height": 0
        },
        "id": "kh4Hs7XaiIU0",
        "outputId": "f8223987-5dd4-4cab-f8e1-6ecacbda84c2"
      },
      "execution_count": 173,
      "outputs": [
        {
          "output_type": "stream",
          "name": "stdout",
          "text": [
            "4 4 4 \n",
            "6 6 6 \n"
          ]
        }
      ]
    },
    {
      "cell_type": "markdown",
      "metadata": {
        "id": "f61c91ab"
      },
      "source": [
        "## 1.3 Matrix manipulation using Numpy\n"
      ]
    },
    {
      "cell_type": "markdown",
      "metadata": {
        "id": "07374ed1"
      },
      "source": [
        "### 1.3.1 Perform all the operations in the previous question using Numpy"
      ]
    },
    {
      "cell_type": "code",
      "source": [
        "import numpy as np"
      ],
      "metadata": {
        "id": "0HvOBH4yilE8"
      },
      "execution_count": 147,
      "outputs": []
    },
    {
      "cell_type": "markdown",
      "source": [
        "Convert the previously defined A and B into Numpy Arrays"
      ],
      "metadata": {
        "id": "N1PqQ9UBj75r"
      }
    },
    {
      "cell_type": "code",
      "source": [
        "A = np.array(A)\n",
        "B = np.array(B)\n",
        "print(A)\n",
        "print(B)"
      ],
      "metadata": {
        "colab": {
          "base_uri": "https://localhost:8080/",
          "height": 0
        },
        "id": "ofbnYqp9j7m4",
        "outputId": "9ad054f3-6fea-4386-ce84-08e62560a41f"
      },
      "execution_count": 174,
      "outputs": [
        {
          "output_type": "stream",
          "name": "stdout",
          "text": [
            "[[1 2]\n",
            " [3 4]]\n",
            "[[5 6]\n",
            " [7 8]]\n"
          ]
        }
      ]
    },
    {
      "cell_type": "markdown",
      "source": [
        "Perform A^n (n is a user entered values)"
      ],
      "metadata": {
        "id": "gbzlNUuQinyF"
      }
    },
    {
      "cell_type": "code",
      "source": [
        "np.linalg.matrix_power(A,3)"
      ],
      "metadata": {
        "colab": {
          "base_uri": "https://localhost:8080/",
          "height": 0
        },
        "id": "ObWPbwuXjCaf",
        "outputId": "04d5e326-9245-4eaf-84bb-577f1aecd8cc"
      },
      "execution_count": 175,
      "outputs": [
        {
          "output_type": "execute_result",
          "data": {
            "text/plain": [
              "array([[ 37,  54],\n",
              "       [ 81, 118]])"
            ]
          },
          "metadata": {},
          "execution_count": 175
        }
      ]
    },
    {
      "cell_type": "markdown",
      "source": [
        "Perform A Transpose"
      ],
      "metadata": {
        "id": "AW9Hg9HJiwsW"
      }
    },
    {
      "cell_type": "code",
      "source": [
        "np.matrix.transpose(A)"
      ],
      "metadata": {
        "colab": {
          "base_uri": "https://localhost:8080/",
          "height": 0
        },
        "id": "M52NcXqajC3g",
        "outputId": "290cea8b-0ee5-47eb-d488-d99c2bce870e"
      },
      "execution_count": 176,
      "outputs": [
        {
          "output_type": "execute_result",
          "data": {
            "text/plain": [
              "array([[1, 3],\n",
              "       [2, 4]])"
            ]
          },
          "metadata": {},
          "execution_count": 176
        }
      ]
    },
    {
      "cell_type": "markdown",
      "source": [
        "Calculate Determinant of A"
      ],
      "metadata": {
        "id": "3eJ7Tcnviwqn"
      }
    },
    {
      "cell_type": "code",
      "source": [
        "np.linalg.det(A)"
      ],
      "metadata": {
        "colab": {
          "base_uri": "https://localhost:8080/",
          "height": 0
        },
        "id": "d0pRihjvjDQN",
        "outputId": "f04873d9-394c-4140-a6df-751e2db812d0"
      },
      "execution_count": 177,
      "outputs": [
        {
          "output_type": "execute_result",
          "data": {
            "text/plain": [
              "-2.0000000000000004"
            ]
          },
          "metadata": {},
          "execution_count": 177
        }
      ]
    },
    {
      "cell_type": "markdown",
      "source": [
        "Calculate the inverse of A"
      ],
      "metadata": {
        "id": "q29f2yLliwnL"
      }
    },
    {
      "cell_type": "code",
      "source": [
        "np.linalg.inv(A)"
      ],
      "metadata": {
        "colab": {
          "base_uri": "https://localhost:8080/",
          "height": 0
        },
        "id": "emk5AUn_jD32",
        "outputId": "51228a1b-80fb-4fb4-ad76-1b278ffde36c"
      },
      "execution_count": 178,
      "outputs": [
        {
          "output_type": "execute_result",
          "data": {
            "text/plain": [
              "array([[-2. ,  1. ],\n",
              "       [ 1.5, -0.5]])"
            ]
          },
          "metadata": {},
          "execution_count": 178
        }
      ]
    },
    {
      "cell_type": "markdown",
      "source": [
        "Calculate A*B"
      ],
      "metadata": {
        "id": "GdPa3UKviwkS"
      }
    },
    {
      "cell_type": "code",
      "source": [
        "np.matmul(A,B)"
      ],
      "metadata": {
        "colab": {
          "base_uri": "https://localhost:8080/",
          "height": 0
        },
        "id": "qMEyFki5kozP",
        "outputId": "02e4ddb0-3ae6-4465-9692-70d47e52d3a0"
      },
      "execution_count": 180,
      "outputs": [
        {
          "output_type": "execute_result",
          "data": {
            "text/plain": [
              "array([[19, 22],\n",
              "       [43, 50]])"
            ]
          },
          "metadata": {},
          "execution_count": 180
        }
      ]
    },
    {
      "cell_type": "markdown",
      "source": [
        "Calculate A+B"
      ],
      "metadata": {
        "id": "AQ-9OX0giwWL"
      }
    },
    {
      "cell_type": "code",
      "source": [
        "np.add(A,B)"
      ],
      "metadata": {
        "colab": {
          "base_uri": "https://localhost:8080/",
          "height": 0
        },
        "id": "8ackwiYDnGpy",
        "outputId": "9cf7b8b2-90c8-4463-f337-c526d8d9257b"
      },
      "execution_count": 181,
      "outputs": [
        {
          "output_type": "execute_result",
          "data": {
            "text/plain": [
              "array([[ 6,  8],\n",
              "       [10, 12]])"
            ]
          },
          "metadata": {},
          "execution_count": 181
        }
      ]
    },
    {
      "cell_type": "markdown",
      "metadata": {
        "id": "68858b57"
      },
      "source": [
        "### 1.3.2 Perform following operations in Numpy: Reduced Mean, Reduced Sum, Argmax, Zip and One Hot Encoding"
      ]
    },
    {
      "cell_type": "markdown",
      "source": [
        "Define a simple 2 dimensional numpy matrix to work with."
      ],
      "metadata": {
        "id": "spCcOIw3nkMD"
      }
    },
    {
      "cell_type": "code",
      "source": [
        "A_stats = np.array([[1,2],[3,4]])"
      ],
      "metadata": {
        "id": "MtjRjKOjnoh5"
      },
      "execution_count": 186,
      "outputs": []
    },
    {
      "cell_type": "code",
      "source": [
        "print(A_stats)"
      ],
      "metadata": {
        "colab": {
          "base_uri": "https://localhost:8080/",
          "height": 0
        },
        "id": "1waMCk-_ooS8",
        "outputId": "dc3aee81-38c4-4942-cde8-9c3bbfea7802"
      },
      "execution_count": 194,
      "outputs": [
        {
          "output_type": "stream",
          "name": "stdout",
          "text": [
            "[[1 2]\n",
            " [3 4]]\n"
          ]
        }
      ]
    },
    {
      "cell_type": "markdown",
      "source": [
        "Reduced mean"
      ],
      "metadata": {
        "id": "RhJc7iw6nR_l"
      }
    },
    {
      "cell_type": "code",
      "source": [
        "np.mean(A_stats,axis = 1) # Axis = 1 is column wise calculations"
      ],
      "metadata": {
        "colab": {
          "base_uri": "https://localhost:8080/",
          "height": 0
        },
        "id": "ySjOAD10nzlR",
        "outputId": "0e954db0-32d3-4d1d-91bb-0a0ced9d60e4"
      },
      "execution_count": 188,
      "outputs": [
        {
          "output_type": "execute_result",
          "data": {
            "text/plain": [
              "array([1.5, 3.5])"
            ]
          },
          "metadata": {},
          "execution_count": 188
        }
      ]
    },
    {
      "cell_type": "markdown",
      "source": [
        "Reduced sum"
      ],
      "metadata": {
        "id": "aw8MfCvFodcx"
      }
    },
    {
      "cell_type": "code",
      "source": [
        "np.sum(A_stats,axis = 1)"
      ],
      "metadata": {
        "colab": {
          "base_uri": "https://localhost:8080/",
          "height": 0
        },
        "id": "pNFFaT0ToRg9",
        "outputId": "ee792cd7-1fb9-4230-adb2-9d4df3cfbba8"
      },
      "execution_count": 189,
      "outputs": [
        {
          "output_type": "execute_result",
          "data": {
            "text/plain": [
              "array([3, 7])"
            ]
          },
          "metadata": {},
          "execution_count": 189
        }
      ]
    },
    {
      "cell_type": "markdown",
      "source": [
        "Argmax"
      ],
      "metadata": {
        "id": "Te_ZmQWwosnd"
      }
    },
    {
      "cell_type": "code",
      "source": [
        "np.argmax(A_stats, axis = 1)"
      ],
      "metadata": {
        "colab": {
          "base_uri": "https://localhost:8080/",
          "height": 0
        },
        "id": "ymZf-n1vouYS",
        "outputId": "c4f44601-9f69-404e-fb48-90c27c72a53b"
      },
      "execution_count": 196,
      "outputs": [
        {
          "output_type": "execute_result",
          "data": {
            "text/plain": [
              "array([1, 1])"
            ]
          },
          "metadata": {},
          "execution_count": 196
        }
      ]
    },
    {
      "cell_type": "markdown",
      "source": [
        "Zip"
      ],
      "metadata": {
        "id": "gR69X-QXpII-"
      }
    },
    {
      "cell_type": "code",
      "source": [
        "np.array(list(zip(A,A)))"
      ],
      "metadata": {
        "colab": {
          "base_uri": "https://localhost:8080/",
          "height": 0
        },
        "id": "k4fxSU84pUye",
        "outputId": "667ffb88-fd42-4f92-8472-cdafe1834c4f"
      },
      "execution_count": 197,
      "outputs": [
        {
          "output_type": "execute_result",
          "data": {
            "text/plain": [
              "array([[[1, 2],\n",
              "        [1, 2]],\n",
              "\n",
              "       [[3, 4],\n",
              "        [3, 4]]])"
            ]
          },
          "metadata": {},
          "execution_count": 197
        }
      ]
    },
    {
      "cell_type": "code",
      "source": [
        "np.stack((A_stats,A_stats), axis = 1)"
      ],
      "metadata": {
        "colab": {
          "base_uri": "https://localhost:8080/",
          "height": 0
        },
        "id": "DpnI5hUMpdkc",
        "outputId": "a63d0fef-0eef-4f12-a0c4-2377f2fff7ff"
      },
      "execution_count": 198,
      "outputs": [
        {
          "output_type": "execute_result",
          "data": {
            "text/plain": [
              "array([[[1, 2],\n",
              "        [1, 2]],\n",
              "\n",
              "       [[3, 4],\n",
              "        [3, 4]]])"
            ]
          },
          "metadata": {},
          "execution_count": 198
        }
      ]
    },
    {
      "cell_type": "markdown",
      "source": [
        "One-Hot Encoding"
      ],
      "metadata": {
        "id": "h-U7dFthppLs"
      }
    },
    {
      "cell_type": "markdown",
      "source": [
        "Note: This can also be done easily in Pandas or ScikitLearn"
      ],
      "metadata": {
        "id": "l2ovTw_Pp4Ha"
      }
    },
    {
      "cell_type": "code",
      "source": [
        "array_with_duplicates = np.array([1,2,3,2,2,1,4,3])\n",
        "print(array_with_duplicates)"
      ],
      "metadata": {
        "colab": {
          "base_uri": "https://localhost:8080/",
          "height": 0
        },
        "id": "UPc6HG5Tp_wz",
        "outputId": "3e433247-3715-4779-f847-0bd49c3c3c6e"
      },
      "execution_count": 208,
      "outputs": [
        {
          "output_type": "stream",
          "name": "stdout",
          "text": [
            "[1 2 3 2 2 1 4 3]\n"
          ]
        }
      ]
    },
    {
      "cell_type": "code",
      "source": [
        "# Apply One-hot encoding\n",
        "A_stats_one_hot = np.zeros((array_with_duplicates.size, array_with_duplicates.max()+1))\n",
        "A_stats_one_hot[np.arange(array_with_duplicates.size),array_with_duplicates] = 1\n",
        "print(A_stats_one_hot)"
      ],
      "metadata": {
        "colab": {
          "base_uri": "https://localhost:8080/",
          "height": 0
        },
        "id": "uUCiwE69po1C",
        "outputId": "7885b717-0bae-4d91-dd56-238fbc62cc5e"
      },
      "execution_count": 209,
      "outputs": [
        {
          "output_type": "stream",
          "name": "stdout",
          "text": [
            "[[0. 1. 0. 0. 0.]\n",
            " [0. 0. 1. 0. 0.]\n",
            " [0. 0. 0. 1. 0.]\n",
            " [0. 0. 1. 0. 0.]\n",
            " [0. 0. 1. 0. 0.]\n",
            " [0. 1. 0. 0. 0.]\n",
            " [0. 0. 0. 0. 1.]\n",
            " [0. 0. 0. 1. 0.]]\n"
          ]
        }
      ]
    },
    {
      "cell_type": "markdown",
      "metadata": {
        "id": "625e59f7"
      },
      "source": [
        "# 2 Pandas"
      ]
    },
    {
      "cell_type": "markdown",
      "metadata": {
        "id": "6f63d216"
      },
      "source": [
        "## 2.1 read a csv data to pandas dataframe (data 1)"
      ]
    },
    {
      "cell_type": "markdown",
      "source": [
        "Import the csv using pandas"
      ],
      "metadata": {
        "id": "b3artumIzc5I"
      }
    },
    {
      "cell_type": "code",
      "source": [
        "import pandas as pd"
      ],
      "metadata": {
        "id": "qt1dw3I6zRMn"
      },
      "execution_count": 1,
      "outputs": []
    },
    {
      "cell_type": "markdown",
      "source": [
        "Add headers and call them x and y"
      ],
      "metadata": {
        "id": "GM798l_0z1bR"
      }
    },
    {
      "cell_type": "code",
      "source": [
        "df_01 = pd.read_csv(\"/content/data_1.csv\", names=[\"x\", \"y\"])"
      ],
      "metadata": {
        "id": "yWSAJkGizTg0"
      },
      "execution_count": 7,
      "outputs": []
    },
    {
      "cell_type": "code",
      "source": [
        "df_01.head()"
      ],
      "metadata": {
        "colab": {
          "base_uri": "https://localhost:8080/",
          "height": 206
        },
        "id": "31y5ZnCtzZII",
        "outputId": "085c6432-3e9b-40bc-ec8b-f4bc44e53193"
      },
      "execution_count": 8,
      "outputs": [
        {
          "output_type": "execute_result",
          "data": {
            "text/plain": [
              "          x         y\n",
              "0 -0.752400 -1.992827\n",
              "1 -0.702025 -1.935445\n",
              "2  0.058185 -1.020321\n",
              "3 -0.097662 -1.857889\n",
              "4 -0.369050  0.209050"
            ],
            "text/html": [
              "\n",
              "  <div id=\"df-da1e47dd-c8ca-4544-b7ff-77628b654220\">\n",
              "    <div class=\"colab-df-container\">\n",
              "      <div>\n",
              "<style scoped>\n",
              "    .dataframe tbody tr th:only-of-type {\n",
              "        vertical-align: middle;\n",
              "    }\n",
              "\n",
              "    .dataframe tbody tr th {\n",
              "        vertical-align: top;\n",
              "    }\n",
              "\n",
              "    .dataframe thead th {\n",
              "        text-align: right;\n",
              "    }\n",
              "</style>\n",
              "<table border=\"1\" class=\"dataframe\">\n",
              "  <thead>\n",
              "    <tr style=\"text-align: right;\">\n",
              "      <th></th>\n",
              "      <th>x</th>\n",
              "      <th>y</th>\n",
              "    </tr>\n",
              "  </thead>\n",
              "  <tbody>\n",
              "    <tr>\n",
              "      <th>0</th>\n",
              "      <td>-0.752400</td>\n",
              "      <td>-1.992827</td>\n",
              "    </tr>\n",
              "    <tr>\n",
              "      <th>1</th>\n",
              "      <td>-0.702025</td>\n",
              "      <td>-1.935445</td>\n",
              "    </tr>\n",
              "    <tr>\n",
              "      <th>2</th>\n",
              "      <td>0.058185</td>\n",
              "      <td>-1.020321</td>\n",
              "    </tr>\n",
              "    <tr>\n",
              "      <th>3</th>\n",
              "      <td>-0.097662</td>\n",
              "      <td>-1.857889</td>\n",
              "    </tr>\n",
              "    <tr>\n",
              "      <th>4</th>\n",
              "      <td>-0.369050</td>\n",
              "      <td>0.209050</td>\n",
              "    </tr>\n",
              "  </tbody>\n",
              "</table>\n",
              "</div>\n",
              "      <button class=\"colab-df-convert\" onclick=\"convertToInteractive('df-da1e47dd-c8ca-4544-b7ff-77628b654220')\"\n",
              "              title=\"Convert this dataframe to an interactive table.\"\n",
              "              style=\"display:none;\">\n",
              "        \n",
              "  <svg xmlns=\"http://www.w3.org/2000/svg\" height=\"24px\"viewBox=\"0 0 24 24\"\n",
              "       width=\"24px\">\n",
              "    <path d=\"M0 0h24v24H0V0z\" fill=\"none\"/>\n",
              "    <path d=\"M18.56 5.44l.94 2.06.94-2.06 2.06-.94-2.06-.94-.94-2.06-.94 2.06-2.06.94zm-11 1L8.5 8.5l.94-2.06 2.06-.94-2.06-.94L8.5 2.5l-.94 2.06-2.06.94zm10 10l.94 2.06.94-2.06 2.06-.94-2.06-.94-.94-2.06-.94 2.06-2.06.94z\"/><path d=\"M17.41 7.96l-1.37-1.37c-.4-.4-.92-.59-1.43-.59-.52 0-1.04.2-1.43.59L10.3 9.45l-7.72 7.72c-.78.78-.78 2.05 0 2.83L4 21.41c.39.39.9.59 1.41.59.51 0 1.02-.2 1.41-.59l7.78-7.78 2.81-2.81c.8-.78.8-2.07 0-2.86zM5.41 20L4 18.59l7.72-7.72 1.47 1.35L5.41 20z\"/>\n",
              "  </svg>\n",
              "      </button>\n",
              "      \n",
              "  <style>\n",
              "    .colab-df-container {\n",
              "      display:flex;\n",
              "      flex-wrap:wrap;\n",
              "      gap: 12px;\n",
              "    }\n",
              "\n",
              "    .colab-df-convert {\n",
              "      background-color: #E8F0FE;\n",
              "      border: none;\n",
              "      border-radius: 50%;\n",
              "      cursor: pointer;\n",
              "      display: none;\n",
              "      fill: #1967D2;\n",
              "      height: 32px;\n",
              "      padding: 0 0 0 0;\n",
              "      width: 32px;\n",
              "    }\n",
              "\n",
              "    .colab-df-convert:hover {\n",
              "      background-color: #E2EBFA;\n",
              "      box-shadow: 0px 1px 2px rgba(60, 64, 67, 0.3), 0px 1px 3px 1px rgba(60, 64, 67, 0.15);\n",
              "      fill: #174EA6;\n",
              "    }\n",
              "\n",
              "    [theme=dark] .colab-df-convert {\n",
              "      background-color: #3B4455;\n",
              "      fill: #D2E3FC;\n",
              "    }\n",
              "\n",
              "    [theme=dark] .colab-df-convert:hover {\n",
              "      background-color: #434B5C;\n",
              "      box-shadow: 0px 1px 3px 1px rgba(0, 0, 0, 0.15);\n",
              "      filter: drop-shadow(0px 1px 2px rgba(0, 0, 0, 0.3));\n",
              "      fill: #FFFFFF;\n",
              "    }\n",
              "  </style>\n",
              "\n",
              "      <script>\n",
              "        const buttonEl =\n",
              "          document.querySelector('#df-da1e47dd-c8ca-4544-b7ff-77628b654220 button.colab-df-convert');\n",
              "        buttonEl.style.display =\n",
              "          google.colab.kernel.accessAllowed ? 'block' : 'none';\n",
              "\n",
              "        async function convertToInteractive(key) {\n",
              "          const element = document.querySelector('#df-da1e47dd-c8ca-4544-b7ff-77628b654220');\n",
              "          const dataTable =\n",
              "            await google.colab.kernel.invokeFunction('convertToInteractive',\n",
              "                                                     [key], {});\n",
              "          if (!dataTable) return;\n",
              "\n",
              "          const docLinkHtml = 'Like what you see? Visit the ' +\n",
              "            '<a target=\"_blank\" href=https://colab.research.google.com/notebooks/data_table.ipynb>data table notebook</a>'\n",
              "            + ' to learn more about interactive tables.';\n",
              "          element.innerHTML = '';\n",
              "          dataTable['output_type'] = 'display_data';\n",
              "          await google.colab.output.renderOutput(dataTable, element);\n",
              "          const docLink = document.createElement('div');\n",
              "          docLink.innerHTML = docLinkHtml;\n",
              "          element.appendChild(docLink);\n",
              "        }\n",
              "      </script>\n",
              "    </div>\n",
              "  </div>\n",
              "  "
            ]
          },
          "metadata": {},
          "execution_count": 8
        }
      ]
    },
    {
      "cell_type": "markdown",
      "metadata": {
        "id": "ed00daa4"
      },
      "source": [
        "## 2.2 Demonstrate any 5 functions from the following link on the loaded dataset\n",
        "\n",
        "https://pandas.pydata.org/docs/reference/general_functions.html"
      ]
    },
    {
      "cell_type": "markdown",
      "source": [
        "Unique"
      ],
      "metadata": {
        "id": "_FyBZoLhzr32"
      }
    },
    {
      "cell_type": "code",
      "source": [
        "pd.unique(df_01[\"x\"])"
      ],
      "metadata": {
        "colab": {
          "base_uri": "https://localhost:8080/",
          "height": 0
        },
        "id": "T9RTblaX0g0D",
        "outputId": "3408588a-9329-4754-90ab-5450bafae648"
      },
      "execution_count": 12,
      "outputs": [
        {
          "output_type": "execute_result",
          "data": {
            "text/plain": [
              "array([-0.75240029, -0.70202519,  0.05818474, ...,  1.35851447,\n",
              "        0.66805519,  0.19084289])"
            ]
          },
          "metadata": {},
          "execution_count": 12
        }
      ]
    },
    {
      "cell_type": "markdown",
      "source": [
        "Cut - Puts the provided data in a number of bins"
      ],
      "metadata": {
        "id": "gmXHXM7T1grF"
      }
    },
    {
      "cell_type": "code",
      "source": [
        "pd.cut(df_01[\"x\"],bins = 10)"
      ],
      "metadata": {
        "colab": {
          "base_uri": "https://localhost:8080/",
          "height": 0
        },
        "id": "fC_rdqq20gxF",
        "outputId": "514e4e7d-7eb5-4ae1-aa2a-5a1733d6f8a1"
      },
      "execution_count": 15,
      "outputs": [
        {
          "output_type": "execute_result",
          "data": {
            "text/plain": [
              "0       (-0.936, -0.183]\n",
              "1       (-0.936, -0.183]\n",
              "2         (-0.183, 0.57]\n",
              "3         (-0.183, 0.57]\n",
              "4       (-0.936, -0.183]\n",
              "              ...       \n",
              "9995      (-0.183, 0.57]\n",
              "9996    (-0.936, -0.183]\n",
              "9997      (1.324, 2.077]\n",
              "9998       (0.57, 1.324]\n",
              "9999      (-0.183, 0.57]\n",
              "Name: x, Length: 10000, dtype: category\n",
              "Categories (10, interval[float64, right]): [(-3.957, -3.196] < (-3.196, -2.443] < (-2.443, -1.69] <\n",
              "                                            (-1.69, -0.936] ... (0.57, 1.324] < (1.324, 2.077] <\n",
              "                                            (2.077, 2.83] < (2.83, 3.583]]"
            ]
          },
          "metadata": {},
          "execution_count": 15
        }
      ]
    },
    {
      "cell_type": "markdown",
      "source": [
        "Show that the number of bins above is actually 10"
      ],
      "metadata": {
        "id": "JHnziJmr13pu"
      }
    },
    {
      "cell_type": "code",
      "source": [
        "pd.unique(pd.cut(df_01[\"x\"],bins = 10))"
      ],
      "metadata": {
        "colab": {
          "base_uri": "https://localhost:8080/",
          "height": 0
        },
        "id": "Ac8x_C2e0guY",
        "outputId": "dde74ede-d6a6-4428-cfea-d76aa1ffe35e"
      },
      "execution_count": 16,
      "outputs": [
        {
          "output_type": "execute_result",
          "data": {
            "text/plain": [
              "[(-0.936, -0.183], (-0.183, 0.57], (1.324, 2.077], (0.57, 1.324], (-2.443, -1.69], (-1.69, -0.936], (2.077, 2.83], (2.83, 3.583], (-3.196, -2.443], (-3.957, -3.196]]\n",
              "Categories (10, interval[float64, right]): [(-3.957, -3.196] < (-3.196, -2.443] < (-2.443, -1.69] <\n",
              "                                            (-1.69, -0.936] ... (0.57, 1.324] < (1.324, 2.077] <\n",
              "                                            (2.077, 2.83] < (2.83, 3.583]]"
            ]
          },
          "metadata": {},
          "execution_count": 16
        }
      ]
    },
    {
      "cell_type": "markdown",
      "source": [
        "qcut - Cuting with quantiles"
      ],
      "metadata": {
        "id": "YsSc6pgN2J64"
      }
    },
    {
      "cell_type": "code",
      "source": [
        "y_qcut = pd.qcut(df_01[\"y\"], 3, labels=[\"good\", \"medium\", \"bad\"])\n",
        "y_qcut"
      ],
      "metadata": {
        "colab": {
          "base_uri": "https://localhost:8080/",
          "height": 0
        },
        "id": "I9pFGb9p0gr-",
        "outputId": "2811cae0-3e43-45aa-c25a-873ce01eeed4"
      },
      "execution_count": 18,
      "outputs": [
        {
          "output_type": "execute_result",
          "data": {
            "text/plain": [
              "0         good\n",
              "1         good\n",
              "2       medium\n",
              "3         good\n",
              "4       medium\n",
              "         ...  \n",
              "9995      good\n",
              "9996      good\n",
              "9997       bad\n",
              "9998       bad\n",
              "9999       bad\n",
              "Name: y, Length: 10000, dtype: category\n",
              "Categories (3, object): ['good' < 'medium' < 'bad']"
            ]
          },
          "metadata": {},
          "execution_count": 18
        }
      ]
    },
    {
      "cell_type": "markdown",
      "source": [
        "Get dummies - Apply this to the 3 categories created above. \n",
        "\n",
        "Note this is the same as the one-hot-encoding we did above"
      ],
      "metadata": {
        "id": "nGzrVK912fe1"
      }
    },
    {
      "cell_type": "code",
      "source": [
        "pd.get_dummies(y_qcut, dummy_na=True)"
      ],
      "metadata": {
        "colab": {
          "base_uri": "https://localhost:8080/",
          "height": 424
        },
        "id": "YK9P6scN2fx_",
        "outputId": "c1f6283a-2d9e-45cb-9281-d20ae267c483"
      },
      "execution_count": 19,
      "outputs": [
        {
          "output_type": "execute_result",
          "data": {
            "text/plain": [
              "      good  medium  bad  NaN\n",
              "0        1       0    0    0\n",
              "1        1       0    0    0\n",
              "2        0       1    0    0\n",
              "3        1       0    0    0\n",
              "4        0       1    0    0\n",
              "...    ...     ...  ...  ...\n",
              "9995     1       0    0    0\n",
              "9996     1       0    0    0\n",
              "9997     0       0    1    0\n",
              "9998     0       0    1    0\n",
              "9999     0       0    1    0\n",
              "\n",
              "[10000 rows x 4 columns]"
            ],
            "text/html": [
              "\n",
              "  <div id=\"df-47aaf9be-9c2c-4541-bce4-6dabe1b08570\">\n",
              "    <div class=\"colab-df-container\">\n",
              "      <div>\n",
              "<style scoped>\n",
              "    .dataframe tbody tr th:only-of-type {\n",
              "        vertical-align: middle;\n",
              "    }\n",
              "\n",
              "    .dataframe tbody tr th {\n",
              "        vertical-align: top;\n",
              "    }\n",
              "\n",
              "    .dataframe thead th {\n",
              "        text-align: right;\n",
              "    }\n",
              "</style>\n",
              "<table border=\"1\" class=\"dataframe\">\n",
              "  <thead>\n",
              "    <tr style=\"text-align: right;\">\n",
              "      <th></th>\n",
              "      <th>good</th>\n",
              "      <th>medium</th>\n",
              "      <th>bad</th>\n",
              "      <th>NaN</th>\n",
              "    </tr>\n",
              "  </thead>\n",
              "  <tbody>\n",
              "    <tr>\n",
              "      <th>0</th>\n",
              "      <td>1</td>\n",
              "      <td>0</td>\n",
              "      <td>0</td>\n",
              "      <td>0</td>\n",
              "    </tr>\n",
              "    <tr>\n",
              "      <th>1</th>\n",
              "      <td>1</td>\n",
              "      <td>0</td>\n",
              "      <td>0</td>\n",
              "      <td>0</td>\n",
              "    </tr>\n",
              "    <tr>\n",
              "      <th>2</th>\n",
              "      <td>0</td>\n",
              "      <td>1</td>\n",
              "      <td>0</td>\n",
              "      <td>0</td>\n",
              "    </tr>\n",
              "    <tr>\n",
              "      <th>3</th>\n",
              "      <td>1</td>\n",
              "      <td>0</td>\n",
              "      <td>0</td>\n",
              "      <td>0</td>\n",
              "    </tr>\n",
              "    <tr>\n",
              "      <th>4</th>\n",
              "      <td>0</td>\n",
              "      <td>1</td>\n",
              "      <td>0</td>\n",
              "      <td>0</td>\n",
              "    </tr>\n",
              "    <tr>\n",
              "      <th>...</th>\n",
              "      <td>...</td>\n",
              "      <td>...</td>\n",
              "      <td>...</td>\n",
              "      <td>...</td>\n",
              "    </tr>\n",
              "    <tr>\n",
              "      <th>9995</th>\n",
              "      <td>1</td>\n",
              "      <td>0</td>\n",
              "      <td>0</td>\n",
              "      <td>0</td>\n",
              "    </tr>\n",
              "    <tr>\n",
              "      <th>9996</th>\n",
              "      <td>1</td>\n",
              "      <td>0</td>\n",
              "      <td>0</td>\n",
              "      <td>0</td>\n",
              "    </tr>\n",
              "    <tr>\n",
              "      <th>9997</th>\n",
              "      <td>0</td>\n",
              "      <td>0</td>\n",
              "      <td>1</td>\n",
              "      <td>0</td>\n",
              "    </tr>\n",
              "    <tr>\n",
              "      <th>9998</th>\n",
              "      <td>0</td>\n",
              "      <td>0</td>\n",
              "      <td>1</td>\n",
              "      <td>0</td>\n",
              "    </tr>\n",
              "    <tr>\n",
              "      <th>9999</th>\n",
              "      <td>0</td>\n",
              "      <td>0</td>\n",
              "      <td>1</td>\n",
              "      <td>0</td>\n",
              "    </tr>\n",
              "  </tbody>\n",
              "</table>\n",
              "<p>10000 rows × 4 columns</p>\n",
              "</div>\n",
              "      <button class=\"colab-df-convert\" onclick=\"convertToInteractive('df-47aaf9be-9c2c-4541-bce4-6dabe1b08570')\"\n",
              "              title=\"Convert this dataframe to an interactive table.\"\n",
              "              style=\"display:none;\">\n",
              "        \n",
              "  <svg xmlns=\"http://www.w3.org/2000/svg\" height=\"24px\"viewBox=\"0 0 24 24\"\n",
              "       width=\"24px\">\n",
              "    <path d=\"M0 0h24v24H0V0z\" fill=\"none\"/>\n",
              "    <path d=\"M18.56 5.44l.94 2.06.94-2.06 2.06-.94-2.06-.94-.94-2.06-.94 2.06-2.06.94zm-11 1L8.5 8.5l.94-2.06 2.06-.94-2.06-.94L8.5 2.5l-.94 2.06-2.06.94zm10 10l.94 2.06.94-2.06 2.06-.94-2.06-.94-.94-2.06-.94 2.06-2.06.94z\"/><path d=\"M17.41 7.96l-1.37-1.37c-.4-.4-.92-.59-1.43-.59-.52 0-1.04.2-1.43.59L10.3 9.45l-7.72 7.72c-.78.78-.78 2.05 0 2.83L4 21.41c.39.39.9.59 1.41.59.51 0 1.02-.2 1.41-.59l7.78-7.78 2.81-2.81c.8-.78.8-2.07 0-2.86zM5.41 20L4 18.59l7.72-7.72 1.47 1.35L5.41 20z\"/>\n",
              "  </svg>\n",
              "      </button>\n",
              "      \n",
              "  <style>\n",
              "    .colab-df-container {\n",
              "      display:flex;\n",
              "      flex-wrap:wrap;\n",
              "      gap: 12px;\n",
              "    }\n",
              "\n",
              "    .colab-df-convert {\n",
              "      background-color: #E8F0FE;\n",
              "      border: none;\n",
              "      border-radius: 50%;\n",
              "      cursor: pointer;\n",
              "      display: none;\n",
              "      fill: #1967D2;\n",
              "      height: 32px;\n",
              "      padding: 0 0 0 0;\n",
              "      width: 32px;\n",
              "    }\n",
              "\n",
              "    .colab-df-convert:hover {\n",
              "      background-color: #E2EBFA;\n",
              "      box-shadow: 0px 1px 2px rgba(60, 64, 67, 0.3), 0px 1px 3px 1px rgba(60, 64, 67, 0.15);\n",
              "      fill: #174EA6;\n",
              "    }\n",
              "\n",
              "    [theme=dark] .colab-df-convert {\n",
              "      background-color: #3B4455;\n",
              "      fill: #D2E3FC;\n",
              "    }\n",
              "\n",
              "    [theme=dark] .colab-df-convert:hover {\n",
              "      background-color: #434B5C;\n",
              "      box-shadow: 0px 1px 3px 1px rgba(0, 0, 0, 0.15);\n",
              "      filter: drop-shadow(0px 1px 2px rgba(0, 0, 0, 0.3));\n",
              "      fill: #FFFFFF;\n",
              "    }\n",
              "  </style>\n",
              "\n",
              "      <script>\n",
              "        const buttonEl =\n",
              "          document.querySelector('#df-47aaf9be-9c2c-4541-bce4-6dabe1b08570 button.colab-df-convert');\n",
              "        buttonEl.style.display =\n",
              "          google.colab.kernel.accessAllowed ? 'block' : 'none';\n",
              "\n",
              "        async function convertToInteractive(key) {\n",
              "          const element = document.querySelector('#df-47aaf9be-9c2c-4541-bce4-6dabe1b08570');\n",
              "          const dataTable =\n",
              "            await google.colab.kernel.invokeFunction('convertToInteractive',\n",
              "                                                     [key], {});\n",
              "          if (!dataTable) return;\n",
              "\n",
              "          const docLinkHtml = 'Like what you see? Visit the ' +\n",
              "            '<a target=\"_blank\" href=https://colab.research.google.com/notebooks/data_table.ipynb>data table notebook</a>'\n",
              "            + ' to learn more about interactive tables.';\n",
              "          element.innerHTML = '';\n",
              "          dataTable['output_type'] = 'display_data';\n",
              "          await google.colab.output.renderOutput(dataTable, element);\n",
              "          const docLink = document.createElement('div');\n",
              "          docLink.innerHTML = docLinkHtml;\n",
              "          element.appendChild(docLink);\n",
              "        }\n",
              "      </script>\n",
              "    </div>\n",
              "  </div>\n",
              "  "
            ]
          },
          "metadata": {},
          "execution_count": 19
        }
      ]
    },
    {
      "cell_type": "markdown",
      "source": [
        "isna - Check if any values are missing"
      ],
      "metadata": {
        "id": "O3bMlvKU3AEx"
      }
    },
    {
      "cell_type": "code",
      "source": [
        "pd.isna(df_01)"
      ],
      "metadata": {
        "colab": {
          "base_uri": "https://localhost:8080/",
          "height": 424
        },
        "id": "Paj0f4ur3C3L",
        "outputId": "e7e08cfe-e8ad-4278-b2d9-668e9f95f177"
      },
      "execution_count": 20,
      "outputs": [
        {
          "output_type": "execute_result",
          "data": {
            "text/plain": [
              "          x      y\n",
              "0     False  False\n",
              "1     False  False\n",
              "2     False  False\n",
              "3     False  False\n",
              "4     False  False\n",
              "...     ...    ...\n",
              "9995  False  False\n",
              "9996  False  False\n",
              "9997  False  False\n",
              "9998  False  False\n",
              "9999  False  False\n",
              "\n",
              "[10000 rows x 2 columns]"
            ],
            "text/html": [
              "\n",
              "  <div id=\"df-0685d994-15a9-4634-84ab-09d2d9a2d425\">\n",
              "    <div class=\"colab-df-container\">\n",
              "      <div>\n",
              "<style scoped>\n",
              "    .dataframe tbody tr th:only-of-type {\n",
              "        vertical-align: middle;\n",
              "    }\n",
              "\n",
              "    .dataframe tbody tr th {\n",
              "        vertical-align: top;\n",
              "    }\n",
              "\n",
              "    .dataframe thead th {\n",
              "        text-align: right;\n",
              "    }\n",
              "</style>\n",
              "<table border=\"1\" class=\"dataframe\">\n",
              "  <thead>\n",
              "    <tr style=\"text-align: right;\">\n",
              "      <th></th>\n",
              "      <th>x</th>\n",
              "      <th>y</th>\n",
              "    </tr>\n",
              "  </thead>\n",
              "  <tbody>\n",
              "    <tr>\n",
              "      <th>0</th>\n",
              "      <td>False</td>\n",
              "      <td>False</td>\n",
              "    </tr>\n",
              "    <tr>\n",
              "      <th>1</th>\n",
              "      <td>False</td>\n",
              "      <td>False</td>\n",
              "    </tr>\n",
              "    <tr>\n",
              "      <th>2</th>\n",
              "      <td>False</td>\n",
              "      <td>False</td>\n",
              "    </tr>\n",
              "    <tr>\n",
              "      <th>3</th>\n",
              "      <td>False</td>\n",
              "      <td>False</td>\n",
              "    </tr>\n",
              "    <tr>\n",
              "      <th>4</th>\n",
              "      <td>False</td>\n",
              "      <td>False</td>\n",
              "    </tr>\n",
              "    <tr>\n",
              "      <th>...</th>\n",
              "      <td>...</td>\n",
              "      <td>...</td>\n",
              "    </tr>\n",
              "    <tr>\n",
              "      <th>9995</th>\n",
              "      <td>False</td>\n",
              "      <td>False</td>\n",
              "    </tr>\n",
              "    <tr>\n",
              "      <th>9996</th>\n",
              "      <td>False</td>\n",
              "      <td>False</td>\n",
              "    </tr>\n",
              "    <tr>\n",
              "      <th>9997</th>\n",
              "      <td>False</td>\n",
              "      <td>False</td>\n",
              "    </tr>\n",
              "    <tr>\n",
              "      <th>9998</th>\n",
              "      <td>False</td>\n",
              "      <td>False</td>\n",
              "    </tr>\n",
              "    <tr>\n",
              "      <th>9999</th>\n",
              "      <td>False</td>\n",
              "      <td>False</td>\n",
              "    </tr>\n",
              "  </tbody>\n",
              "</table>\n",
              "<p>10000 rows × 2 columns</p>\n",
              "</div>\n",
              "      <button class=\"colab-df-convert\" onclick=\"convertToInteractive('df-0685d994-15a9-4634-84ab-09d2d9a2d425')\"\n",
              "              title=\"Convert this dataframe to an interactive table.\"\n",
              "              style=\"display:none;\">\n",
              "        \n",
              "  <svg xmlns=\"http://www.w3.org/2000/svg\" height=\"24px\"viewBox=\"0 0 24 24\"\n",
              "       width=\"24px\">\n",
              "    <path d=\"M0 0h24v24H0V0z\" fill=\"none\"/>\n",
              "    <path d=\"M18.56 5.44l.94 2.06.94-2.06 2.06-.94-2.06-.94-.94-2.06-.94 2.06-2.06.94zm-11 1L8.5 8.5l.94-2.06 2.06-.94-2.06-.94L8.5 2.5l-.94 2.06-2.06.94zm10 10l.94 2.06.94-2.06 2.06-.94-2.06-.94-.94-2.06-.94 2.06-2.06.94z\"/><path d=\"M17.41 7.96l-1.37-1.37c-.4-.4-.92-.59-1.43-.59-.52 0-1.04.2-1.43.59L10.3 9.45l-7.72 7.72c-.78.78-.78 2.05 0 2.83L4 21.41c.39.39.9.59 1.41.59.51 0 1.02-.2 1.41-.59l7.78-7.78 2.81-2.81c.8-.78.8-2.07 0-2.86zM5.41 20L4 18.59l7.72-7.72 1.47 1.35L5.41 20z\"/>\n",
              "  </svg>\n",
              "      </button>\n",
              "      \n",
              "  <style>\n",
              "    .colab-df-container {\n",
              "      display:flex;\n",
              "      flex-wrap:wrap;\n",
              "      gap: 12px;\n",
              "    }\n",
              "\n",
              "    .colab-df-convert {\n",
              "      background-color: #E8F0FE;\n",
              "      border: none;\n",
              "      border-radius: 50%;\n",
              "      cursor: pointer;\n",
              "      display: none;\n",
              "      fill: #1967D2;\n",
              "      height: 32px;\n",
              "      padding: 0 0 0 0;\n",
              "      width: 32px;\n",
              "    }\n",
              "\n",
              "    .colab-df-convert:hover {\n",
              "      background-color: #E2EBFA;\n",
              "      box-shadow: 0px 1px 2px rgba(60, 64, 67, 0.3), 0px 1px 3px 1px rgba(60, 64, 67, 0.15);\n",
              "      fill: #174EA6;\n",
              "    }\n",
              "\n",
              "    [theme=dark] .colab-df-convert {\n",
              "      background-color: #3B4455;\n",
              "      fill: #D2E3FC;\n",
              "    }\n",
              "\n",
              "    [theme=dark] .colab-df-convert:hover {\n",
              "      background-color: #434B5C;\n",
              "      box-shadow: 0px 1px 3px 1px rgba(0, 0, 0, 0.15);\n",
              "      filter: drop-shadow(0px 1px 2px rgba(0, 0, 0, 0.3));\n",
              "      fill: #FFFFFF;\n",
              "    }\n",
              "  </style>\n",
              "\n",
              "      <script>\n",
              "        const buttonEl =\n",
              "          document.querySelector('#df-0685d994-15a9-4634-84ab-09d2d9a2d425 button.colab-df-convert');\n",
              "        buttonEl.style.display =\n",
              "          google.colab.kernel.accessAllowed ? 'block' : 'none';\n",
              "\n",
              "        async function convertToInteractive(key) {\n",
              "          const element = document.querySelector('#df-0685d994-15a9-4634-84ab-09d2d9a2d425');\n",
              "          const dataTable =\n",
              "            await google.colab.kernel.invokeFunction('convertToInteractive',\n",
              "                                                     [key], {});\n",
              "          if (!dataTable) return;\n",
              "\n",
              "          const docLinkHtml = 'Like what you see? Visit the ' +\n",
              "            '<a target=\"_blank\" href=https://colab.research.google.com/notebooks/data_table.ipynb>data table notebook</a>'\n",
              "            + ' to learn more about interactive tables.';\n",
              "          element.innerHTML = '';\n",
              "          dataTable['output_type'] = 'display_data';\n",
              "          await google.colab.output.renderOutput(dataTable, element);\n",
              "          const docLink = document.createElement('div');\n",
              "          docLink.innerHTML = docLinkHtml;\n",
              "          element.appendChild(docLink);\n",
              "        }\n",
              "      </script>\n",
              "    </div>\n",
              "  </div>\n",
              "  "
            ]
          },
          "metadata": {},
          "execution_count": 20
        }
      ]
    },
    {
      "cell_type": "markdown",
      "source": [
        "info"
      ],
      "metadata": {
        "id": "QH3_NI7e3GaT"
      }
    },
    {
      "cell_type": "code",
      "source": [
        "df_01.info()"
      ],
      "metadata": {
        "colab": {
          "base_uri": "https://localhost:8080/",
          "height": 0
        },
        "id": "Zm2W8fS33Jez",
        "outputId": "c627f221-6133-4d97-857d-0fe9b89d4225"
      },
      "execution_count": 21,
      "outputs": [
        {
          "output_type": "stream",
          "name": "stdout",
          "text": [
            "<class 'pandas.core.frame.DataFrame'>\n",
            "RangeIndex: 10000 entries, 0 to 9999\n",
            "Data columns (total 2 columns):\n",
            " #   Column  Non-Null Count  Dtype  \n",
            "---  ------  --------------  -----  \n",
            " 0   x       10000 non-null  float64\n",
            " 1   y       10000 non-null  float64\n",
            "dtypes: float64(2)\n",
            "memory usage: 156.4 KB\n"
          ]
        }
      ]
    },
    {
      "cell_type": "markdown",
      "source": [
        "describe"
      ],
      "metadata": {
        "id": "TMSz7Ud73MIF"
      }
    },
    {
      "cell_type": "code",
      "source": [
        "df_01.describe()"
      ],
      "metadata": {
        "colab": {
          "base_uri": "https://localhost:8080/",
          "height": 300
        },
        "id": "atJU1k3W3OQU",
        "outputId": "ff78be2f-be39-406b-c817-d31c03546239"
      },
      "execution_count": 22,
      "outputs": [
        {
          "output_type": "execute_result",
          "data": {
            "text/plain": [
              "                  x             y\n",
              "count  10000.000000  10000.000000\n",
              "mean      -0.005583     -0.010167\n",
              "std        0.996368      3.138516\n",
              "min       -3.949464    -13.892867\n",
              "25%       -0.681029     -2.098090\n",
              "50%       -0.007239     -0.029824\n",
              "75%        0.669408      2.086372\n",
              "max        3.583412     12.279487"
            ],
            "text/html": [
              "\n",
              "  <div id=\"df-3ebcdee4-c223-4e76-b7c9-d95c0043e2d9\">\n",
              "    <div class=\"colab-df-container\">\n",
              "      <div>\n",
              "<style scoped>\n",
              "    .dataframe tbody tr th:only-of-type {\n",
              "        vertical-align: middle;\n",
              "    }\n",
              "\n",
              "    .dataframe tbody tr th {\n",
              "        vertical-align: top;\n",
              "    }\n",
              "\n",
              "    .dataframe thead th {\n",
              "        text-align: right;\n",
              "    }\n",
              "</style>\n",
              "<table border=\"1\" class=\"dataframe\">\n",
              "  <thead>\n",
              "    <tr style=\"text-align: right;\">\n",
              "      <th></th>\n",
              "      <th>x</th>\n",
              "      <th>y</th>\n",
              "    </tr>\n",
              "  </thead>\n",
              "  <tbody>\n",
              "    <tr>\n",
              "      <th>count</th>\n",
              "      <td>10000.000000</td>\n",
              "      <td>10000.000000</td>\n",
              "    </tr>\n",
              "    <tr>\n",
              "      <th>mean</th>\n",
              "      <td>-0.005583</td>\n",
              "      <td>-0.010167</td>\n",
              "    </tr>\n",
              "    <tr>\n",
              "      <th>std</th>\n",
              "      <td>0.996368</td>\n",
              "      <td>3.138516</td>\n",
              "    </tr>\n",
              "    <tr>\n",
              "      <th>min</th>\n",
              "      <td>-3.949464</td>\n",
              "      <td>-13.892867</td>\n",
              "    </tr>\n",
              "    <tr>\n",
              "      <th>25%</th>\n",
              "      <td>-0.681029</td>\n",
              "      <td>-2.098090</td>\n",
              "    </tr>\n",
              "    <tr>\n",
              "      <th>50%</th>\n",
              "      <td>-0.007239</td>\n",
              "      <td>-0.029824</td>\n",
              "    </tr>\n",
              "    <tr>\n",
              "      <th>75%</th>\n",
              "      <td>0.669408</td>\n",
              "      <td>2.086372</td>\n",
              "    </tr>\n",
              "    <tr>\n",
              "      <th>max</th>\n",
              "      <td>3.583412</td>\n",
              "      <td>12.279487</td>\n",
              "    </tr>\n",
              "  </tbody>\n",
              "</table>\n",
              "</div>\n",
              "      <button class=\"colab-df-convert\" onclick=\"convertToInteractive('df-3ebcdee4-c223-4e76-b7c9-d95c0043e2d9')\"\n",
              "              title=\"Convert this dataframe to an interactive table.\"\n",
              "              style=\"display:none;\">\n",
              "        \n",
              "  <svg xmlns=\"http://www.w3.org/2000/svg\" height=\"24px\"viewBox=\"0 0 24 24\"\n",
              "       width=\"24px\">\n",
              "    <path d=\"M0 0h24v24H0V0z\" fill=\"none\"/>\n",
              "    <path d=\"M18.56 5.44l.94 2.06.94-2.06 2.06-.94-2.06-.94-.94-2.06-.94 2.06-2.06.94zm-11 1L8.5 8.5l.94-2.06 2.06-.94-2.06-.94L8.5 2.5l-.94 2.06-2.06.94zm10 10l.94 2.06.94-2.06 2.06-.94-2.06-.94-.94-2.06-.94 2.06-2.06.94z\"/><path d=\"M17.41 7.96l-1.37-1.37c-.4-.4-.92-.59-1.43-.59-.52 0-1.04.2-1.43.59L10.3 9.45l-7.72 7.72c-.78.78-.78 2.05 0 2.83L4 21.41c.39.39.9.59 1.41.59.51 0 1.02-.2 1.41-.59l7.78-7.78 2.81-2.81c.8-.78.8-2.07 0-2.86zM5.41 20L4 18.59l7.72-7.72 1.47 1.35L5.41 20z\"/>\n",
              "  </svg>\n",
              "      </button>\n",
              "      \n",
              "  <style>\n",
              "    .colab-df-container {\n",
              "      display:flex;\n",
              "      flex-wrap:wrap;\n",
              "      gap: 12px;\n",
              "    }\n",
              "\n",
              "    .colab-df-convert {\n",
              "      background-color: #E8F0FE;\n",
              "      border: none;\n",
              "      border-radius: 50%;\n",
              "      cursor: pointer;\n",
              "      display: none;\n",
              "      fill: #1967D2;\n",
              "      height: 32px;\n",
              "      padding: 0 0 0 0;\n",
              "      width: 32px;\n",
              "    }\n",
              "\n",
              "    .colab-df-convert:hover {\n",
              "      background-color: #E2EBFA;\n",
              "      box-shadow: 0px 1px 2px rgba(60, 64, 67, 0.3), 0px 1px 3px 1px rgba(60, 64, 67, 0.15);\n",
              "      fill: #174EA6;\n",
              "    }\n",
              "\n",
              "    [theme=dark] .colab-df-convert {\n",
              "      background-color: #3B4455;\n",
              "      fill: #D2E3FC;\n",
              "    }\n",
              "\n",
              "    [theme=dark] .colab-df-convert:hover {\n",
              "      background-color: #434B5C;\n",
              "      box-shadow: 0px 1px 3px 1px rgba(0, 0, 0, 0.15);\n",
              "      filter: drop-shadow(0px 1px 2px rgba(0, 0, 0, 0.3));\n",
              "      fill: #FFFFFF;\n",
              "    }\n",
              "  </style>\n",
              "\n",
              "      <script>\n",
              "        const buttonEl =\n",
              "          document.querySelector('#df-3ebcdee4-c223-4e76-b7c9-d95c0043e2d9 button.colab-df-convert');\n",
              "        buttonEl.style.display =\n",
              "          google.colab.kernel.accessAllowed ? 'block' : 'none';\n",
              "\n",
              "        async function convertToInteractive(key) {\n",
              "          const element = document.querySelector('#df-3ebcdee4-c223-4e76-b7c9-d95c0043e2d9');\n",
              "          const dataTable =\n",
              "            await google.colab.kernel.invokeFunction('convertToInteractive',\n",
              "                                                     [key], {});\n",
              "          if (!dataTable) return;\n",
              "\n",
              "          const docLinkHtml = 'Like what you see? Visit the ' +\n",
              "            '<a target=\"_blank\" href=https://colab.research.google.com/notebooks/data_table.ipynb>data table notebook</a>'\n",
              "            + ' to learn more about interactive tables.';\n",
              "          element.innerHTML = '';\n",
              "          dataTable['output_type'] = 'display_data';\n",
              "          await google.colab.output.renderOutput(dataTable, element);\n",
              "          const docLink = document.createElement('div');\n",
              "          docLink.innerHTML = docLinkHtml;\n",
              "          element.appendChild(docLink);\n",
              "        }\n",
              "      </script>\n",
              "    </div>\n",
              "  </div>\n",
              "  "
            ]
          },
          "metadata": {},
          "execution_count": 22
        }
      ]
    },
    {
      "cell_type": "markdown",
      "metadata": {
        "id": "887f85ee"
      },
      "source": [
        "# 3 Plotting"
      ]
    },
    {
      "cell_type": "markdown",
      "metadata": {
        "id": "b11fb4e0"
      },
      "source": [
        "## 3.1 read a csv data to pandas dataframe (data 2)"
      ]
    },
    {
      "cell_type": "markdown",
      "metadata": {
        "id": "f7e75b66"
      },
      "source": [
        "## 3.2 plot the above dataset using matplotlib"
      ]
    },
    {
      "cell_type": "code",
      "source": [
        "df_02 = pd.read_csv(\"/content/data_2.csv\", names=[\"x\", \"y\"])"
      ],
      "metadata": {
        "id": "tMIApxMw3Xq6"
      },
      "execution_count": 26,
      "outputs": []
    },
    {
      "cell_type": "code",
      "source": [
        "df_02.head()"
      ],
      "metadata": {
        "colab": {
          "base_uri": "https://localhost:8080/",
          "height": 206
        },
        "id": "yw8L8D6f3ad3",
        "outputId": "6e64506c-9653-4585-ca62-d335c96f6801"
      },
      "execution_count": 27,
      "outputs": [
        {
          "output_type": "execute_result",
          "data": {
            "text/plain": [
              "          x         y\n",
              "0 -6.283185  0.043487\n",
              "1 -6.281929  0.084347\n",
              "2 -6.280672 -0.028693\n",
              "3 -6.279415  0.021445\n",
              "4 -6.278158  0.020871"
            ],
            "text/html": [
              "\n",
              "  <div id=\"df-ff5e2366-ef74-454e-9c4e-ded16efee993\">\n",
              "    <div class=\"colab-df-container\">\n",
              "      <div>\n",
              "<style scoped>\n",
              "    .dataframe tbody tr th:only-of-type {\n",
              "        vertical-align: middle;\n",
              "    }\n",
              "\n",
              "    .dataframe tbody tr th {\n",
              "        vertical-align: top;\n",
              "    }\n",
              "\n",
              "    .dataframe thead th {\n",
              "        text-align: right;\n",
              "    }\n",
              "</style>\n",
              "<table border=\"1\" class=\"dataframe\">\n",
              "  <thead>\n",
              "    <tr style=\"text-align: right;\">\n",
              "      <th></th>\n",
              "      <th>x</th>\n",
              "      <th>y</th>\n",
              "    </tr>\n",
              "  </thead>\n",
              "  <tbody>\n",
              "    <tr>\n",
              "      <th>0</th>\n",
              "      <td>-6.283185</td>\n",
              "      <td>0.043487</td>\n",
              "    </tr>\n",
              "    <tr>\n",
              "      <th>1</th>\n",
              "      <td>-6.281929</td>\n",
              "      <td>0.084347</td>\n",
              "    </tr>\n",
              "    <tr>\n",
              "      <th>2</th>\n",
              "      <td>-6.280672</td>\n",
              "      <td>-0.028693</td>\n",
              "    </tr>\n",
              "    <tr>\n",
              "      <th>3</th>\n",
              "      <td>-6.279415</td>\n",
              "      <td>0.021445</td>\n",
              "    </tr>\n",
              "    <tr>\n",
              "      <th>4</th>\n",
              "      <td>-6.278158</td>\n",
              "      <td>0.020871</td>\n",
              "    </tr>\n",
              "  </tbody>\n",
              "</table>\n",
              "</div>\n",
              "      <button class=\"colab-df-convert\" onclick=\"convertToInteractive('df-ff5e2366-ef74-454e-9c4e-ded16efee993')\"\n",
              "              title=\"Convert this dataframe to an interactive table.\"\n",
              "              style=\"display:none;\">\n",
              "        \n",
              "  <svg xmlns=\"http://www.w3.org/2000/svg\" height=\"24px\"viewBox=\"0 0 24 24\"\n",
              "       width=\"24px\">\n",
              "    <path d=\"M0 0h24v24H0V0z\" fill=\"none\"/>\n",
              "    <path d=\"M18.56 5.44l.94 2.06.94-2.06 2.06-.94-2.06-.94-.94-2.06-.94 2.06-2.06.94zm-11 1L8.5 8.5l.94-2.06 2.06-.94-2.06-.94L8.5 2.5l-.94 2.06-2.06.94zm10 10l.94 2.06.94-2.06 2.06-.94-2.06-.94-.94-2.06-.94 2.06-2.06.94z\"/><path d=\"M17.41 7.96l-1.37-1.37c-.4-.4-.92-.59-1.43-.59-.52 0-1.04.2-1.43.59L10.3 9.45l-7.72 7.72c-.78.78-.78 2.05 0 2.83L4 21.41c.39.39.9.59 1.41.59.51 0 1.02-.2 1.41-.59l7.78-7.78 2.81-2.81c.8-.78.8-2.07 0-2.86zM5.41 20L4 18.59l7.72-7.72 1.47 1.35L5.41 20z\"/>\n",
              "  </svg>\n",
              "      </button>\n",
              "      \n",
              "  <style>\n",
              "    .colab-df-container {\n",
              "      display:flex;\n",
              "      flex-wrap:wrap;\n",
              "      gap: 12px;\n",
              "    }\n",
              "\n",
              "    .colab-df-convert {\n",
              "      background-color: #E8F0FE;\n",
              "      border: none;\n",
              "      border-radius: 50%;\n",
              "      cursor: pointer;\n",
              "      display: none;\n",
              "      fill: #1967D2;\n",
              "      height: 32px;\n",
              "      padding: 0 0 0 0;\n",
              "      width: 32px;\n",
              "    }\n",
              "\n",
              "    .colab-df-convert:hover {\n",
              "      background-color: #E2EBFA;\n",
              "      box-shadow: 0px 1px 2px rgba(60, 64, 67, 0.3), 0px 1px 3px 1px rgba(60, 64, 67, 0.15);\n",
              "      fill: #174EA6;\n",
              "    }\n",
              "\n",
              "    [theme=dark] .colab-df-convert {\n",
              "      background-color: #3B4455;\n",
              "      fill: #D2E3FC;\n",
              "    }\n",
              "\n",
              "    [theme=dark] .colab-df-convert:hover {\n",
              "      background-color: #434B5C;\n",
              "      box-shadow: 0px 1px 3px 1px rgba(0, 0, 0, 0.15);\n",
              "      filter: drop-shadow(0px 1px 2px rgba(0, 0, 0, 0.3));\n",
              "      fill: #FFFFFF;\n",
              "    }\n",
              "  </style>\n",
              "\n",
              "      <script>\n",
              "        const buttonEl =\n",
              "          document.querySelector('#df-ff5e2366-ef74-454e-9c4e-ded16efee993 button.colab-df-convert');\n",
              "        buttonEl.style.display =\n",
              "          google.colab.kernel.accessAllowed ? 'block' : 'none';\n",
              "\n",
              "        async function convertToInteractive(key) {\n",
              "          const element = document.querySelector('#df-ff5e2366-ef74-454e-9c4e-ded16efee993');\n",
              "          const dataTable =\n",
              "            await google.colab.kernel.invokeFunction('convertToInteractive',\n",
              "                                                     [key], {});\n",
              "          if (!dataTable) return;\n",
              "\n",
              "          const docLinkHtml = 'Like what you see? Visit the ' +\n",
              "            '<a target=\"_blank\" href=https://colab.research.google.com/notebooks/data_table.ipynb>data table notebook</a>'\n",
              "            + ' to learn more about interactive tables.';\n",
              "          element.innerHTML = '';\n",
              "          dataTable['output_type'] = 'display_data';\n",
              "          await google.colab.output.renderOutput(dataTable, element);\n",
              "          const docLink = document.createElement('div');\n",
              "          docLink.innerHTML = docLinkHtml;\n",
              "          element.appendChild(docLink);\n",
              "        }\n",
              "      </script>\n",
              "    </div>\n",
              "  </div>\n",
              "  "
            ]
          },
          "metadata": {},
          "execution_count": 27
        }
      ]
    },
    {
      "cell_type": "markdown",
      "source": [
        "Get the quick summary level data for reference"
      ],
      "metadata": {
        "id": "fRXcVJP73hB1"
      }
    },
    {
      "cell_type": "code",
      "source": [
        "df_02.describe()"
      ],
      "metadata": {
        "colab": {
          "base_uri": "https://localhost:8080/",
          "height": 300
        },
        "id": "PemkQWfN3jlf",
        "outputId": "ad0e115f-b3b7-4496-f2f4-b248d4f6c33d"
      },
      "execution_count": 29,
      "outputs": [
        {
          "output_type": "execute_result",
          "data": {
            "text/plain": [
              "                  x             y\n",
              "count  1.000000e+04  10000.000000\n",
              "mean   5.456968e-16      0.000141\n",
              "std    3.628143e+00      0.709152\n",
              "min   -6.283185e+00     -1.151122\n",
              "25%   -3.141593e+00     -0.704131\n",
              "50%    4.440892e-16     -0.002135\n",
              "75%    3.141593e+00      0.701588\n",
              "max    6.283185e+00      1.145402"
            ],
            "text/html": [
              "\n",
              "  <div id=\"df-0ed0aed1-36d9-4022-ba15-fb319ad8e07a\">\n",
              "    <div class=\"colab-df-container\">\n",
              "      <div>\n",
              "<style scoped>\n",
              "    .dataframe tbody tr th:only-of-type {\n",
              "        vertical-align: middle;\n",
              "    }\n",
              "\n",
              "    .dataframe tbody tr th {\n",
              "        vertical-align: top;\n",
              "    }\n",
              "\n",
              "    .dataframe thead th {\n",
              "        text-align: right;\n",
              "    }\n",
              "</style>\n",
              "<table border=\"1\" class=\"dataframe\">\n",
              "  <thead>\n",
              "    <tr style=\"text-align: right;\">\n",
              "      <th></th>\n",
              "      <th>x</th>\n",
              "      <th>y</th>\n",
              "    </tr>\n",
              "  </thead>\n",
              "  <tbody>\n",
              "    <tr>\n",
              "      <th>count</th>\n",
              "      <td>1.000000e+04</td>\n",
              "      <td>10000.000000</td>\n",
              "    </tr>\n",
              "    <tr>\n",
              "      <th>mean</th>\n",
              "      <td>5.456968e-16</td>\n",
              "      <td>0.000141</td>\n",
              "    </tr>\n",
              "    <tr>\n",
              "      <th>std</th>\n",
              "      <td>3.628143e+00</td>\n",
              "      <td>0.709152</td>\n",
              "    </tr>\n",
              "    <tr>\n",
              "      <th>min</th>\n",
              "      <td>-6.283185e+00</td>\n",
              "      <td>-1.151122</td>\n",
              "    </tr>\n",
              "    <tr>\n",
              "      <th>25%</th>\n",
              "      <td>-3.141593e+00</td>\n",
              "      <td>-0.704131</td>\n",
              "    </tr>\n",
              "    <tr>\n",
              "      <th>50%</th>\n",
              "      <td>4.440892e-16</td>\n",
              "      <td>-0.002135</td>\n",
              "    </tr>\n",
              "    <tr>\n",
              "      <th>75%</th>\n",
              "      <td>3.141593e+00</td>\n",
              "      <td>0.701588</td>\n",
              "    </tr>\n",
              "    <tr>\n",
              "      <th>max</th>\n",
              "      <td>6.283185e+00</td>\n",
              "      <td>1.145402</td>\n",
              "    </tr>\n",
              "  </tbody>\n",
              "</table>\n",
              "</div>\n",
              "      <button class=\"colab-df-convert\" onclick=\"convertToInteractive('df-0ed0aed1-36d9-4022-ba15-fb319ad8e07a')\"\n",
              "              title=\"Convert this dataframe to an interactive table.\"\n",
              "              style=\"display:none;\">\n",
              "        \n",
              "  <svg xmlns=\"http://www.w3.org/2000/svg\" height=\"24px\"viewBox=\"0 0 24 24\"\n",
              "       width=\"24px\">\n",
              "    <path d=\"M0 0h24v24H0V0z\" fill=\"none\"/>\n",
              "    <path d=\"M18.56 5.44l.94 2.06.94-2.06 2.06-.94-2.06-.94-.94-2.06-.94 2.06-2.06.94zm-11 1L8.5 8.5l.94-2.06 2.06-.94-2.06-.94L8.5 2.5l-.94 2.06-2.06.94zm10 10l.94 2.06.94-2.06 2.06-.94-2.06-.94-.94-2.06-.94 2.06-2.06.94z\"/><path d=\"M17.41 7.96l-1.37-1.37c-.4-.4-.92-.59-1.43-.59-.52 0-1.04.2-1.43.59L10.3 9.45l-7.72 7.72c-.78.78-.78 2.05 0 2.83L4 21.41c.39.39.9.59 1.41.59.51 0 1.02-.2 1.41-.59l7.78-7.78 2.81-2.81c.8-.78.8-2.07 0-2.86zM5.41 20L4 18.59l7.72-7.72 1.47 1.35L5.41 20z\"/>\n",
              "  </svg>\n",
              "      </button>\n",
              "      \n",
              "  <style>\n",
              "    .colab-df-container {\n",
              "      display:flex;\n",
              "      flex-wrap:wrap;\n",
              "      gap: 12px;\n",
              "    }\n",
              "\n",
              "    .colab-df-convert {\n",
              "      background-color: #E8F0FE;\n",
              "      border: none;\n",
              "      border-radius: 50%;\n",
              "      cursor: pointer;\n",
              "      display: none;\n",
              "      fill: #1967D2;\n",
              "      height: 32px;\n",
              "      padding: 0 0 0 0;\n",
              "      width: 32px;\n",
              "    }\n",
              "\n",
              "    .colab-df-convert:hover {\n",
              "      background-color: #E2EBFA;\n",
              "      box-shadow: 0px 1px 2px rgba(60, 64, 67, 0.3), 0px 1px 3px 1px rgba(60, 64, 67, 0.15);\n",
              "      fill: #174EA6;\n",
              "    }\n",
              "\n",
              "    [theme=dark] .colab-df-convert {\n",
              "      background-color: #3B4455;\n",
              "      fill: #D2E3FC;\n",
              "    }\n",
              "\n",
              "    [theme=dark] .colab-df-convert:hover {\n",
              "      background-color: #434B5C;\n",
              "      box-shadow: 0px 1px 3px 1px rgba(0, 0, 0, 0.15);\n",
              "      filter: drop-shadow(0px 1px 2px rgba(0, 0, 0, 0.3));\n",
              "      fill: #FFFFFF;\n",
              "    }\n",
              "  </style>\n",
              "\n",
              "      <script>\n",
              "        const buttonEl =\n",
              "          document.querySelector('#df-0ed0aed1-36d9-4022-ba15-fb319ad8e07a button.colab-df-convert');\n",
              "        buttonEl.style.display =\n",
              "          google.colab.kernel.accessAllowed ? 'block' : 'none';\n",
              "\n",
              "        async function convertToInteractive(key) {\n",
              "          const element = document.querySelector('#df-0ed0aed1-36d9-4022-ba15-fb319ad8e07a');\n",
              "          const dataTable =\n",
              "            await google.colab.kernel.invokeFunction('convertToInteractive',\n",
              "                                                     [key], {});\n",
              "          if (!dataTable) return;\n",
              "\n",
              "          const docLinkHtml = 'Like what you see? Visit the ' +\n",
              "            '<a target=\"_blank\" href=https://colab.research.google.com/notebooks/data_table.ipynb>data table notebook</a>'\n",
              "            + ' to learn more about interactive tables.';\n",
              "          element.innerHTML = '';\n",
              "          dataTable['output_type'] = 'display_data';\n",
              "          await google.colab.output.renderOutput(dataTable, element);\n",
              "          const docLink = document.createElement('div');\n",
              "          docLink.innerHTML = docLinkHtml;\n",
              "          element.appendChild(docLink);\n",
              "        }\n",
              "      </script>\n",
              "    </div>\n",
              "  </div>\n",
              "  "
            ]
          },
          "metadata": {},
          "execution_count": 29
        }
      ]
    },
    {
      "cell_type": "markdown",
      "source": [
        "Based on these values a scatter plot would work well"
      ],
      "metadata": {
        "id": "Qm3z0fNl3mRP"
      }
    },
    {
      "cell_type": "code",
      "source": [
        "%matplotlib inline\n",
        "import matplotlib.pyplot as plt\n",
        "plt.style.use('seaborn-whitegrid')"
      ],
      "metadata": {
        "id": "irxdim2t3zRk"
      },
      "execution_count": 30,
      "outputs": []
    },
    {
      "cell_type": "code",
      "source": [
        "plt.scatter(df_02[\"x\"], df_02[\"y\"],\n",
        "            marker='o',\n",
        "            );"
      ],
      "metadata": {
        "colab": {
          "base_uri": "https://localhost:8080/",
          "height": 262
        },
        "id": "JeR4e2f23zKc",
        "outputId": "de67ee65-30a7-46c2-a6b2-09f45e3b9764"
      },
      "execution_count": 35,
      "outputs": [
        {
          "output_type": "display_data",
          "data": {
            "text/plain": [
              "<Figure size 432x288 with 1 Axes>"
            ],
            "image/png": "[encoded data removed]"
          },
          "metadata": {}
        }
      ]
    },
    {
      "cell_type": "markdown",
      "metadata": {
        "id": "4afadc8a"
      },
      "source": [
        "## 3.3 load the tips dataset from seaborn"
      ]
    },
    {
      "cell_type": "code",
      "source": [
        "import seaborn as sns"
      ],
      "metadata": {
        "id": "TurUDmqJ4yep"
      },
      "execution_count": 42,
      "outputs": []
    },
    {
      "cell_type": "code",
      "source": [
        "df_tips = sns.load_dataset('tips')\n",
        "df_tips.head()"
      ],
      "metadata": {
        "colab": {
          "base_uri": "https://localhost:8080/",
          "height": 206
        },
        "id": "-XVOOyzV4ju1",
        "outputId": "71802b85-d79a-403e-8d6d-ad0a770b88d2"
      },
      "execution_count": 43,
      "outputs": [
        {
          "output_type": "execute_result",
          "data": {
            "text/plain": [
              "   total_bill   tip     sex smoker  day    time  size\n",
              "0       16.99  1.01  Female     No  Sun  Dinner     2\n",
              "1       10.34  1.66    Male     No  Sun  Dinner     3\n",
              "2       21.01  3.50    Male     No  Sun  Dinner     3\n",
              "3       23.68  3.31    Male     No  Sun  Dinner     2\n",
              "4       24.59  3.61  Female     No  Sun  Dinner     4"
            ],
            "text/html": [
              "\n",
              "  <div id=\"df-ad4dbb2d-ac45-4fca-9777-3542c1c69564\">\n",
              "    <div class=\"colab-df-container\">\n",
              "      <div>\n",
              "<style scoped>\n",
              "    .dataframe tbody tr th:only-of-type {\n",
              "        vertical-align: middle;\n",
              "    }\n",
              "\n",
              "    .dataframe tbody tr th {\n",
              "        vertical-align: top;\n",
              "    }\n",
              "\n",
              "    .dataframe thead th {\n",
              "        text-align: right;\n",
              "    }\n",
              "</style>\n",
              "<table border=\"1\" class=\"dataframe\">\n",
              "  <thead>\n",
              "    <tr style=\"text-align: right;\">\n",
              "      <th></th>\n",
              "      <th>total_bill</th>\n",
              "      <th>tip</th>\n",
              "      <th>sex</th>\n",
              "      <th>smoker</th>\n",
              "      <th>day</th>\n",
              "      <th>time</th>\n",
              "      <th>size</th>\n",
              "    </tr>\n",
              "  </thead>\n",
              "  <tbody>\n",
              "    <tr>\n",
              "      <th>0</th>\n",
              "      <td>16.99</td>\n",
              "      <td>1.01</td>\n",
              "      <td>Female</td>\n",
              "      <td>No</td>\n",
              "      <td>Sun</td>\n",
              "      <td>Dinner</td>\n",
              "      <td>2</td>\n",
              "    </tr>\n",
              "    <tr>\n",
              "      <th>1</th>\n",
              "      <td>10.34</td>\n",
              "      <td>1.66</td>\n",
              "      <td>Male</td>\n",
              "      <td>No</td>\n",
              "      <td>Sun</td>\n",
              "      <td>Dinner</td>\n",
              "      <td>3</td>\n",
              "    </tr>\n",
              "    <tr>\n",
              "      <th>2</th>\n",
              "      <td>21.01</td>\n",
              "      <td>3.50</td>\n",
              "      <td>Male</td>\n",
              "      <td>No</td>\n",
              "      <td>Sun</td>\n",
              "      <td>Dinner</td>\n",
              "      <td>3</td>\n",
              "    </tr>\n",
              "    <tr>\n",
              "      <th>3</th>\n",
              "      <td>23.68</td>\n",
              "      <td>3.31</td>\n",
              "      <td>Male</td>\n",
              "      <td>No</td>\n",
              "      <td>Sun</td>\n",
              "      <td>Dinner</td>\n",
              "      <td>2</td>\n",
              "    </tr>\n",
              "    <tr>\n",
              "      <th>4</th>\n",
              "      <td>24.59</td>\n",
              "      <td>3.61</td>\n",
              "      <td>Female</td>\n",
              "      <td>No</td>\n",
              "      <td>Sun</td>\n",
              "      <td>Dinner</td>\n",
              "      <td>4</td>\n",
              "    </tr>\n",
              "  </tbody>\n",
              "</table>\n",
              "</div>\n",
              "      <button class=\"colab-df-convert\" onclick=\"convertToInteractive('df-ad4dbb2d-ac45-4fca-9777-3542c1c69564')\"\n",
              "              title=\"Convert this dataframe to an interactive table.\"\n",
              "              style=\"display:none;\">\n",
              "        \n",
              "  <svg xmlns=\"http://www.w3.org/2000/svg\" height=\"24px\"viewBox=\"0 0 24 24\"\n",
              "       width=\"24px\">\n",
              "    <path d=\"M0 0h24v24H0V0z\" fill=\"none\"/>\n",
              "    <path d=\"M18.56 5.44l.94 2.06.94-2.06 2.06-.94-2.06-.94-.94-2.06-.94 2.06-2.06.94zm-11 1L8.5 8.5l.94-2.06 2.06-.94-2.06-.94L8.5 2.5l-.94 2.06-2.06.94zm10 10l.94 2.06.94-2.06 2.06-.94-2.06-.94-.94-2.06-.94 2.06-2.06.94z\"/><path d=\"M17.41 7.96l-1.37-1.37c-.4-.4-.92-.59-1.43-.59-.52 0-1.04.2-1.43.59L10.3 9.45l-7.72 7.72c-.78.78-.78 2.05 0 2.83L4 21.41c.39.39.9.59 1.41.59.51 0 1.02-.2 1.41-.59l7.78-7.78 2.81-2.81c.8-.78.8-2.07 0-2.86zM5.41 20L4 18.59l7.72-7.72 1.47 1.35L5.41 20z\"/>\n",
              "  </svg>\n",
              "      </button>\n",
              "      \n",
              "  <style>\n",
              "    .colab-df-container {\n",
              "      display:flex;\n",
              "      flex-wrap:wrap;\n",
              "      gap: 12px;\n",
              "    }\n",
              "\n",
              "    .colab-df-convert {\n",
              "      background-color: #E8F0FE;\n",
              "      border: none;\n",
              "      border-radius: 50%;\n",
              "      cursor: pointer;\n",
              "      display: none;\n",
              "      fill: #1967D2;\n",
              "      height: 32px;\n",
              "      padding: 0 0 0 0;\n",
              "      width: 32px;\n",
              "    }\n",
              "\n",
              "    .colab-df-convert:hover {\n",
              "      background-color: #E2EBFA;\n",
              "      box-shadow: 0px 1px 2px rgba(60, 64, 67, 0.3), 0px 1px 3px 1px rgba(60, 64, 67, 0.15);\n",
              "      fill: #174EA6;\n",
              "    }\n",
              "\n",
              "    [theme=dark] .colab-df-convert {\n",
              "      background-color: #3B4455;\n",
              "      fill: #D2E3FC;\n",
              "    }\n",
              "\n",
              "    [theme=dark] .colab-df-convert:hover {\n",
              "      background-color: #434B5C;\n",
              "      box-shadow: 0px 1px 3px 1px rgba(0, 0, 0, 0.15);\n",
              "      filter: drop-shadow(0px 1px 2px rgba(0, 0, 0, 0.3));\n",
              "      fill: #FFFFFF;\n",
              "    }\n",
              "  </style>\n",
              "\n",
              "      <script>\n",
              "        const buttonEl =\n",
              "          document.querySelector('#df-ad4dbb2d-ac45-4fca-9777-3542c1c69564 button.colab-df-convert');\n",
              "        buttonEl.style.display =\n",
              "          google.colab.kernel.accessAllowed ? 'block' : 'none';\n",
              "\n",
              "        async function convertToInteractive(key) {\n",
              "          const element = document.querySelector('#df-ad4dbb2d-ac45-4fca-9777-3542c1c69564');\n",
              "          const dataTable =\n",
              "            await google.colab.kernel.invokeFunction('convertToInteractive',\n",
              "                                                     [key], {});\n",
              "          if (!dataTable) return;\n",
              "\n",
              "          const docLinkHtml = 'Like what you see? Visit the ' +\n",
              "            '<a target=\"_blank\" href=https://colab.research.google.com/notebooks/data_table.ipynb>data table notebook</a>'\n",
              "            + ' to learn more about interactive tables.';\n",
              "          element.innerHTML = '';\n",
              "          dataTable['output_type'] = 'display_data';\n",
              "          await google.colab.output.renderOutput(dataTable, element);\n",
              "          const docLink = document.createElement('div');\n",
              "          docLink.innerHTML = docLinkHtml;\n",
              "          element.appendChild(docLink);\n",
              "        }\n",
              "      </script>\n",
              "    </div>\n",
              "  </div>\n",
              "  "
            ]
          },
          "metadata": {},
          "execution_count": 43
        }
      ]
    },
    {
      "cell_type": "markdown",
      "source": [
        "Also show the high-level data summary for this dataset"
      ],
      "metadata": {
        "id": "PSSmEx2g46ks"
      }
    },
    {
      "cell_type": "code",
      "source": [
        "df_tips.info()"
      ],
      "metadata": {
        "colab": {
          "base_uri": "https://localhost:8080/",
          "height": 0
        },
        "id": "nuNb53oV4_tP",
        "outputId": "4e516869-ee78-46d7-9289-f56e7a7c9b73"
      },
      "execution_count": 39,
      "outputs": [
        {
          "output_type": "stream",
          "name": "stdout",
          "text": [
            "<class 'pandas.core.frame.DataFrame'>\n",
            "RangeIndex: 244 entries, 0 to 243\n",
            "Data columns (total 7 columns):\n",
            " #   Column      Non-Null Count  Dtype   \n",
            "---  ------      --------------  -----   \n",
            " 0   total_bill  244 non-null    float64 \n",
            " 1   tip         244 non-null    float64 \n",
            " 2   sex         244 non-null    category\n",
            " 3   smoker      244 non-null    category\n",
            " 4   day         244 non-null    category\n",
            " 5   time        244 non-null    category\n",
            " 6   size        244 non-null    int64   \n",
            "dtypes: category(4), float64(2), int64(1)\n",
            "memory usage: 7.4 KB\n"
          ]
        }
      ]
    },
    {
      "cell_type": "code",
      "source": [
        "df_tips.describe()"
      ],
      "metadata": {
        "colab": {
          "base_uri": "https://localhost:8080/",
          "height": 300
        },
        "id": "Ypk5SL255CS2",
        "outputId": "06424878-92e9-4016-b1a1-74ab3c8af0c3"
      },
      "execution_count": 40,
      "outputs": [
        {
          "output_type": "execute_result",
          "data": {
            "text/plain": [
              "       total_bill         tip        size\n",
              "count  244.000000  244.000000  244.000000\n",
              "mean    19.785943    2.998279    2.569672\n",
              "std      8.902412    1.383638    0.951100\n",
              "min      3.070000    1.000000    1.000000\n",
              "25%     13.347500    2.000000    2.000000\n",
              "50%     17.795000    2.900000    2.000000\n",
              "75%     24.127500    3.562500    3.000000\n",
              "max     50.810000   10.000000    6.000000"
            ],
            "text/html": [
              "\n",
              "  <div id=\"df-4ec10272-54f4-4013-824f-1249d73307dd\">\n",
              "    <div class=\"colab-df-container\">\n",
              "      <div>\n",
              "<style scoped>\n",
              "    .dataframe tbody tr th:only-of-type {\n",
              "        vertical-align: middle;\n",
              "    }\n",
              "\n",
              "    .dataframe tbody tr th {\n",
              "        vertical-align: top;\n",
              "    }\n",
              "\n",
              "    .dataframe thead th {\n",
              "        text-align: right;\n",
              "    }\n",
              "</style>\n",
              "<table border=\"1\" class=\"dataframe\">\n",
              "  <thead>\n",
              "    <tr style=\"text-align: right;\">\n",
              "      <th></th>\n",
              "      <th>total_bill</th>\n",
              "      <th>tip</th>\n",
              "      <th>size</th>\n",
              "    </tr>\n",
              "  </thead>\n",
              "  <tbody>\n",
              "    <tr>\n",
              "      <th>count</th>\n",
              "      <td>244.000000</td>\n",
              "      <td>244.000000</td>\n",
              "      <td>244.000000</td>\n",
              "    </tr>\n",
              "    <tr>\n",
              "      <th>mean</th>\n",
              "      <td>19.785943</td>\n",
              "      <td>2.998279</td>\n",
              "      <td>2.569672</td>\n",
              "    </tr>\n",
              "    <tr>\n",
              "      <th>std</th>\n",
              "      <td>8.902412</td>\n",
              "      <td>1.383638</td>\n",
              "      <td>0.951100</td>\n",
              "    </tr>\n",
              "    <tr>\n",
              "      <th>min</th>\n",
              "      <td>3.070000</td>\n",
              "      <td>1.000000</td>\n",
              "      <td>1.000000</td>\n",
              "    </tr>\n",
              "    <tr>\n",
              "      <th>25%</th>\n",
              "      <td>13.347500</td>\n",
              "      <td>2.000000</td>\n",
              "      <td>2.000000</td>\n",
              "    </tr>\n",
              "    <tr>\n",
              "      <th>50%</th>\n",
              "      <td>17.795000</td>\n",
              "      <td>2.900000</td>\n",
              "      <td>2.000000</td>\n",
              "    </tr>\n",
              "    <tr>\n",
              "      <th>75%</th>\n",
              "      <td>24.127500</td>\n",
              "      <td>3.562500</td>\n",
              "      <td>3.000000</td>\n",
              "    </tr>\n",
              "    <tr>\n",
              "      <th>max</th>\n",
              "      <td>50.810000</td>\n",
              "      <td>10.000000</td>\n",
              "      <td>6.000000</td>\n",
              "    </tr>\n",
              "  </tbody>\n",
              "</table>\n",
              "</div>\n",
              "      <button class=\"colab-df-convert\" onclick=\"convertToInteractive('df-4ec10272-54f4-4013-824f-1249d73307dd')\"\n",
              "              title=\"Convert this dataframe to an interactive table.\"\n",
              "              style=\"display:none;\">\n",
              "        \n",
              "  <svg xmlns=\"http://www.w3.org/2000/svg\" height=\"24px\"viewBox=\"0 0 24 24\"\n",
              "       width=\"24px\">\n",
              "    <path d=\"M0 0h24v24H0V0z\" fill=\"none\"/>\n",
              "    <path d=\"M18.56 5.44l.94 2.06.94-2.06 2.06-.94-2.06-.94-.94-2.06-.94 2.06-2.06.94zm-11 1L8.5 8.5l.94-2.06 2.06-.94-2.06-.94L8.5 2.5l-.94 2.06-2.06.94zm10 10l.94 2.06.94-2.06 2.06-.94-2.06-.94-.94-2.06-.94 2.06-2.06.94z\"/><path d=\"M17.41 7.96l-1.37-1.37c-.4-.4-.92-.59-1.43-.59-.52 0-1.04.2-1.43.59L10.3 9.45l-7.72 7.72c-.78.78-.78 2.05 0 2.83L4 21.41c.39.39.9.59 1.41.59.51 0 1.02-.2 1.41-.59l7.78-7.78 2.81-2.81c.8-.78.8-2.07 0-2.86zM5.41 20L4 18.59l7.72-7.72 1.47 1.35L5.41 20z\"/>\n",
              "  </svg>\n",
              "      </button>\n",
              "      \n",
              "  <style>\n",
              "    .colab-df-container {\n",
              "      display:flex;\n",
              "      flex-wrap:wrap;\n",
              "      gap: 12px;\n",
              "    }\n",
              "\n",
              "    .colab-df-convert {\n",
              "      background-color: #E8F0FE;\n",
              "      border: none;\n",
              "      border-radius: 50%;\n",
              "      cursor: pointer;\n",
              "      display: none;\n",
              "      fill: #1967D2;\n",
              "      height: 32px;\n",
              "      padding: 0 0 0 0;\n",
              "      width: 32px;\n",
              "    }\n",
              "\n",
              "    .colab-df-convert:hover {\n",
              "      background-color: #E2EBFA;\n",
              "      box-shadow: 0px 1px 2px rgba(60, 64, 67, 0.3), 0px 1px 3px 1px rgba(60, 64, 67, 0.15);\n",
              "      fill: #174EA6;\n",
              "    }\n",
              "\n",
              "    [theme=dark] .colab-df-convert {\n",
              "      background-color: #3B4455;\n",
              "      fill: #D2E3FC;\n",
              "    }\n",
              "\n",
              "    [theme=dark] .colab-df-convert:hover {\n",
              "      background-color: #434B5C;\n",
              "      box-shadow: 0px 1px 3px 1px rgba(0, 0, 0, 0.15);\n",
              "      filter: drop-shadow(0px 1px 2px rgba(0, 0, 0, 0.3));\n",
              "      fill: #FFFFFF;\n",
              "    }\n",
              "  </style>\n",
              "\n",
              "      <script>\n",
              "        const buttonEl =\n",
              "          document.querySelector('#df-4ec10272-54f4-4013-824f-1249d73307dd button.colab-df-convert');\n",
              "        buttonEl.style.display =\n",
              "          google.colab.kernel.accessAllowed ? 'block' : 'none';\n",
              "\n",
              "        async function convertToInteractive(key) {\n",
              "          const element = document.querySelector('#df-4ec10272-54f4-4013-824f-1249d73307dd');\n",
              "          const dataTable =\n",
              "            await google.colab.kernel.invokeFunction('convertToInteractive',\n",
              "                                                     [key], {});\n",
              "          if (!dataTable) return;\n",
              "\n",
              "          const docLinkHtml = 'Like what you see? Visit the ' +\n",
              "            '<a target=\"_blank\" href=https://colab.research.google.com/notebooks/data_table.ipynb>data table notebook</a>'\n",
              "            + ' to learn more about interactive tables.';\n",
              "          element.innerHTML = '';\n",
              "          dataTable['output_type'] = 'display_data';\n",
              "          await google.colab.output.renderOutput(dataTable, element);\n",
              "          const docLink = document.createElement('div');\n",
              "          docLink.innerHTML = docLinkHtml;\n",
              "          element.appendChild(docLink);\n",
              "        }\n",
              "      </script>\n",
              "    </div>\n",
              "  </div>\n",
              "  "
            ]
          },
          "metadata": {},
          "execution_count": 40
        }
      ]
    },
    {
      "cell_type": "markdown",
      "metadata": {
        "id": "a897f23c"
      },
      "source": [
        "## 3.4 plot pairplot, jointplot, catplot, displot, and HeatMap for the above dataset and give your comments on each plot"
      ]
    },
    {
      "cell_type": "markdown",
      "source": [
        "Pairplot"
      ],
      "metadata": {
        "id": "ggsi80-15HPo"
      }
    },
    {
      "cell_type": "code",
      "source": [
        "sns.pairplot(data = df_tips,\n",
        "             hue='sex',\n",
        "             size=2.5);"
      ],
      "metadata": {
        "colab": {
          "base_uri": "https://localhost:8080/",
          "height": 585
        },
        "id": "5zYWbF9h6LTI",
        "outputId": "3022221f-3bd0-49fd-e90a-97214c9a0813"
      },
      "execution_count": 51,
      "outputs": [
        {
          "output_type": "stream",
          "name": "stderr",
          "text": [
            "/usr/local/lib/python3.7/dist-packages/seaborn/axisgrid.py:2076: UserWarning: The `size` parameter has been renamed to `height`; please update your code.\n",
            "  warnings.warn(msg, UserWarning)\n"
          ]
        },
        {
          "output_type": "display_data",
          "data": {
            "text/plain": [
              "<Figure size 609.375x540 with 12 Axes>"
            ],
            "image/png": "[encoded data removed]"
          },
          "metadata": {}
        }
      ]
    },
    {
      "cell_type": "markdown",
      "source": [
        "Comment: The pair plot allows for a simple way to investigate one variable (i.e. hue = \"sex\") against all of the other variables in the dataset.\n",
        "\n",
        "While this data doesn't seem to show any obvious differences in total bills/tips between Male and Female, the plots are easy to create and useful for exploratory data analysis."
      ],
      "metadata": {
        "id": "Ayb4kYxK7N_y"
      }
    },
    {
      "cell_type": "markdown",
      "source": [
        "Jointplot"
      ],
      "metadata": {
        "id": "xoW1R_2M5Mxc"
      }
    },
    {
      "cell_type": "code",
      "source": [
        "sns.jointplot(data=df_tips,\n",
        "              x = \"total_bill\",\n",
        "              y = \"tip\",\n",
        "              kind='reg');"
      ],
      "metadata": {
        "colab": {
          "base_uri": "https://localhost:8080/",
          "height": 441
        },
        "id": "E9ZYzxSr5Mb5",
        "outputId": "4407ffd1-73ea-4ff5-e4b3-3ef50cf30444"
      },
      "execution_count": 46,
      "outputs": [
        {
          "output_type": "display_data",
          "data": {
            "text/plain": [
              "<Figure size 432x432 with 3 Axes>"
            ],
            "image/png": "[encoded data removed]"
          },
          "metadata": {}
        }
      ]
    },
    {
      "cell_type": "markdown",
      "source": [
        "Comments: This joint plot is showing that there is a correlation between the total bill increasing and the tip amount increasing.\n",
        "\n",
        "Also, the histograms on the axises help show where the majority of the distribution lies."
      ],
      "metadata": {
        "id": "JLtdNwv96Pst"
      }
    },
    {
      "cell_type": "markdown",
      "source": [
        "Catplot"
      ],
      "metadata": {
        "id": "NGxw2QQ_5PJ5"
      }
    },
    {
      "cell_type": "code",
      "source": [
        "sns.catplot(data=df_tips, x = \"size\", y=\"tip\", kind=\"box\");"
      ],
      "metadata": {
        "colab": {
          "base_uri": "https://localhost:8080/",
          "height": 369
        },
        "id": "s-Yv45iB_blM",
        "outputId": "da0eafc7-4bc4-473d-d759-35ba10435254"
      },
      "execution_count": 66,
      "outputs": [
        {
          "output_type": "display_data",
          "data": {
            "text/plain": [
              "<Figure size 360x360 with 1 Axes>"
            ],
            "image/png": "[encoded data removed]"
          },
          "metadata": {}
        }
      ]
    },
    {
      "cell_type": "code",
      "source": [
        "sns.catplot(data=df_tips, x = \"size\", y=\"tip\", kind=\"violin\");"
      ],
      "metadata": {
        "colab": {
          "base_uri": "https://localhost:8080/",
          "height": 369
        },
        "id": "RetKCxEMAOTI",
        "outputId": "37494946-2375-4f63-9b38-3271ea96e811"
      },
      "execution_count": 67,
      "outputs": [
        {
          "output_type": "display_data",
          "data": {
            "text/plain": [
              "<Figure size 360x360 with 1 Axes>"
            ],
            "image/png": "[encoded data removed]"
          },
          "metadata": {}
        }
      ]
    },
    {
      "cell_type": "markdown",
      "source": [
        "Comment: This cat plot shows that there is a different spread in the tip size based on the size (or number of people) of the group leaving the tip."
      ],
      "metadata": {
        "id": "7x2qLLpZ8wlq"
      }
    },
    {
      "cell_type": "markdown",
      "source": [
        "Distplot"
      ],
      "metadata": {
        "id": "pWmTfH595R3A"
      }
    },
    {
      "cell_type": "code",
      "source": [
        "sns.distplot(df_tips['total_bill'])\n",
        "sns.distplot(df_tips['tip']);"
      ],
      "metadata": {
        "colab": {
          "base_uri": "https://localhost:8080/",
          "height": 365
        },
        "id": "1zA9HSWA5XSx",
        "outputId": "c4f72ad0-ed76-408b-e662-1ef6f95f1f4c"
      },
      "execution_count": 59,
      "outputs": [
        {
          "output_type": "stream",
          "name": "stderr",
          "text": [
            "/usr/local/lib/python3.7/dist-packages/seaborn/distributions.py:2619: FutureWarning: `distplot` is a deprecated function and will be removed in a future version. Please adapt your code to use either `displot` (a figure-level function with similar flexibility) or `histplot` (an axes-level function for histograms).\n",
            "  warnings.warn(msg, FutureWarning)\n",
            "/usr/local/lib/python3.7/dist-packages/seaborn/distributions.py:2619: FutureWarning: `distplot` is a deprecated function and will be removed in a future version. Please adapt your code to use either `displot` (a figure-level function with similar flexibility) or `histplot` (an axes-level function for histograms).\n",
            "  warnings.warn(msg, FutureWarning)\n"
          ]
        },
        {
          "output_type": "display_data",
          "data": {
            "text/plain": [
              "<Figure size 432x288 with 1 Axes>"
            ],
            "image/png": "[encoded data removed]"
          },
          "metadata": {}
        }
      ]
    },
    {
      "cell_type": "markdown",
      "source": [
        "Comment: This distplot shows the distribution of each of the columns and is easy to overlap with each other. Provides a very simple way to compare distributions visually."
      ],
      "metadata": {
        "id": "yUnQ0ms_-Jrg"
      }
    },
    {
      "cell_type": "markdown",
      "source": [
        "HeatMap\n"
      ],
      "metadata": {
        "id": "ZLjGQ9XR5RuD"
      }
    },
    {
      "cell_type": "code",
      "source": [
        "# prep the data for Days so they can be numerical\n",
        "df_tips[\"day_numeric\"] = df_tips[\"day\"].astype(\"category\").cat.codes"
      ],
      "metadata": {
        "id": "tQo30Mb5B_Tt"
      },
      "execution_count": 86,
      "outputs": []
    },
    {
      "cell_type": "code",
      "source": [
        "ax = sns.heatmap(data = df_tips[[\"tip\", \"day_numeric\"]]);"
      ],
      "metadata": {
        "colab": {
          "base_uri": "https://localhost:8080/",
          "height": 266
        },
        "id": "FXCSJRb65XuX",
        "outputId": "05657ef9-7130-4c39-ab9b-95ad99636a48"
      },
      "execution_count": 87,
      "outputs": [
        {
          "output_type": "display_data",
          "data": {
            "text/plain": [
              "<Figure size 432x288 with 2 Axes>"
            ],
            "image/png": "[encoded data removed]"
          },
          "metadata": {}
        }
      ]
    },
    {
      "cell_type": "markdown",
      "source": [
        "Comment: This heat map is not showing much interesting patterns between the tips and the days of the week other than the amount of tips received is slightly different on different days of the week."
      ],
      "metadata": {
        "id": "OXo4LMBI5RSy"
      }
    },
    {
      "cell_type": "markdown",
      "source": [
        "# Reference"
      ],
      "metadata": {
        "id": "tDFBlkIXpNwZ"
      }
    },
    {
      "cell_type": "markdown",
      "source": [
        "“Properties of Matrix Multiplication (Article).” Khan Academy, Khan Academy, https://www.khanacademy.org/math/precalculus/x9e81a4f98389efdf:matrices/x9e81a4f98389efdf:properties-of-matrix-multiplication/a/properties-of-matrix-multiplication. "
      ],
      "metadata": {
        "id": "BGMkll2ApP1z"
      }
    },
    {
      "cell_type": "markdown",
      "source": [
        "Published by Thom Ives on November 1, and Thom Ives. “Simple Matrix Inversion in Pure Python without Numpy or Scipy.” Integrated Machine Learning and Artificial Intelligence, 1 Nov. 2018, https://integratedmlai.com/matrixinverse/. \n"
      ],
      "metadata": {
        "id": "FaBWtILXZeB_"
      }
    },
    {
      "cell_type": "markdown",
      "source": [
        "“Statistical Data Visualization.” Seaborn, https://seaborn.pydata.org/index.html. "
      ],
      "metadata": {
        "id": "lHMPLVl2DjBL"
      }
    }
  ]
}