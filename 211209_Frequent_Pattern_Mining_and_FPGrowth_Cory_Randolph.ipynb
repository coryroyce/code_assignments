{
  "nbformat": 4,
  "nbformat_minor": 0,
  "metadata": {
    "accelerator": "GPU",
    "colab": {
      "name": "Frequent_Pattern_Mining_and_FPGrowth_Cory_Randolph.ipynb",
      "provenance": [],
      "collapsed_sections": [],
      "toc_visible": true,
      "include_colab_link": true
    },
    "kernelspec": {
      "display_name": "Python 3",
      "name": "python3"
    },
    "language_info": {
      "name": "python"
    }
  },
  "cells": [
    {
      "cell_type": "markdown",
      "metadata": {
        "id": "view-in-github",
        "colab_type": "text"
      },
      "source": [
        "<a href=\"https://colab.research.google.com/github/coryroyce/code_assignments/blob/main/211209_Frequent_Pattern_Mining_and_FPGrowth_Cory_Randolph.ipynb\" target=\"_parent\"><img src=\"https://colab.research.google.com/assets/colab-badge.svg\" alt=\"Open In Colab\"/></a>"
      ]
    },
    {
      "cell_type": "markdown",
      "metadata": {
        "id": "4X-J0Qe4zE4S"
      },
      "source": [
        "# Frequent Pattern Mining and FP Growth\n",
        "Cory Randolph\n",
        "\n",
        "12/9/2021"
      ]
    },
    {
      "cell_type": "markdown",
      "metadata": {
        "id": "XoZqF69YzfYv"
      },
      "source": [
        "Goal: Demonstrate Frequent Pattern Mining and also FGGrowth techniques\n",
        "\n"
      ]
    },
    {
      "cell_type": "markdown",
      "metadata": {
        "id": "xndOlf_L2UbM"
      },
      "source": [
        "# Load Packages"
      ]
    },
    {
      "cell_type": "markdown",
      "metadata": {
        "id": "Jr3kjKEPvZw9"
      },
      "source": [
        "Import basic packages for visualization"
      ]
    },
    {
      "cell_type": "code",
      "source": [
        "!pip install mlxtend\n",
        "!pip install mlxtend --upgrade\n",
        "\n",
        "# Clear output for this cell\n",
        "from IPython.display import clear_output\n",
        "clear_output()"
      ],
      "metadata": {
        "id": "4SYnpuMvZDi5"
      },
      "execution_count": 1,
      "outputs": []
    },
    {
      "cell_type": "code",
      "metadata": {
        "id": "_u1Ta1uJuFeO"
      },
      "source": [
        "%matplotlib inline\n",
        "import numpy as np\n",
        "import pandas as pd\n",
        "import matplotlib.pyplot as plt\n",
        "import seaborn as sns; sns.set()\n",
        "from mlxtend.preprocessing import TransactionEncoder\n",
        "from mlxtend.frequent_patterns import apriori,association_rules"
      ],
      "execution_count": 2,
      "outputs": []
    },
    {
      "cell_type": "markdown",
      "metadata": {
        "id": "lz_m4OjXuFeP"
      },
      "source": [
        "# Frequent Pattern Mining and FPGrowth Overview"
      ]
    },
    {
      "cell_type": "markdown",
      "metadata": {
        "id": "R-IGymxvwQOm"
      },
      "source": [
        "One common goal of Frequent Pattern Mining is to find rules showing the relations between various item sets. In particular we may ant to know how often two items from a grocery store are purchased together and some information around it.\n",
        "\n",
        "Blow is a picture of common association rules/metrics:"
      ]
    },
    {
      "cell_type": "markdown",
      "source": [
        "![image.png](data:image/png;base64,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)"
      ],
      "metadata": {
        "id": "ZPBTNmN4YGon"
      }
    },
    {
      "cell_type": "markdown",
      "source": [
        "[Reference for picture](https://www.researchgate.net/publication/337999958_Patterns_of_User_Involvement_in_Experiment-Driven_Software_Development/figures?lo=1)"
      ],
      "metadata": {
        "id": "_j1e453qY16z"
      }
    },
    {
      "cell_type": "markdown",
      "source": [
        "#Data"
      ],
      "metadata": {
        "id": "wqpBkEVHcdvd"
      }
    },
    {
      "cell_type": "markdown",
      "source": [
        "## Load Data"
      ],
      "metadata": {
        "id": "ooWpSgBnde-u"
      }
    },
    {
      "cell_type": "markdown",
      "source": [
        "For this project we will be using the [Kaggle Groceries dataset](https://www.kaggle.com/irfanasrullah/groceries?select=groceries+-+groceries.csv)"
      ],
      "metadata": {
        "id": "n7PpghmnchkK"
      }
    },
    {
      "cell_type": "code",
      "source": [
        "df = pd.read_csv('https://raw.githubusercontent.com/coryroyce/code_assignments/main/211201_Market_Basket_Analysis_Apriori/data/groceries%20-%20groceries.csv')\n",
        "df.head(3)"
      ],
      "metadata": {
        "colab": {
          "base_uri": "https://localhost:8080/",
          "height": 250
        },
        "id": "S0oZ2NgPcQvU",
        "outputId": "d22fec25-e0c5-465b-85c6-302f406c2d75"
      },
      "execution_count": 3,
      "outputs": [
        {
          "output_type": "execute_result",
          "data": {
            "text/html": [
              "<div>\n",
              "<style scoped>\n",
              "    .dataframe tbody tr th:only-of-type {\n",
              "        vertical-align: middle;\n",
              "    }\n",
              "\n",
              "    .dataframe tbody tr th {\n",
              "        vertical-align: top;\n",
              "    }\n",
              "\n",
              "    .dataframe thead th {\n",
              "        text-align: right;\n",
              "    }\n",
              "</style>\n",
              "<table border=\"1\" class=\"dataframe\">\n",
              "  <thead>\n",
              "    <tr style=\"text-align: right;\">\n",
              "      <th></th>\n",
              "      <th>Item(s)</th>\n",
              "      <th>Item 1</th>\n",
              "      <th>Item 2</th>\n",
              "      <th>Item 3</th>\n",
              "      <th>Item 4</th>\n",
              "      <th>Item 5</th>\n",
              "      <th>Item 6</th>\n",
              "      <th>Item 7</th>\n",
              "      <th>Item 8</th>\n",
              "      <th>Item 9</th>\n",
              "      <th>Item 10</th>\n",
              "      <th>Item 11</th>\n",
              "      <th>Item 12</th>\n",
              "      <th>Item 13</th>\n",
              "      <th>Item 14</th>\n",
              "      <th>Item 15</th>\n",
              "      <th>Item 16</th>\n",
              "      <th>Item 17</th>\n",
              "      <th>Item 18</th>\n",
              "      <th>Item 19</th>\n",
              "      <th>Item 20</th>\n",
              "      <th>Item 21</th>\n",
              "      <th>Item 22</th>\n",
              "      <th>Item 23</th>\n",
              "      <th>Item 24</th>\n",
              "      <th>Item 25</th>\n",
              "      <th>Item 26</th>\n",
              "      <th>Item 27</th>\n",
              "      <th>Item 28</th>\n",
              "      <th>Item 29</th>\n",
              "      <th>Item 30</th>\n",
              "      <th>Item 31</th>\n",
              "      <th>Item 32</th>\n",
              "    </tr>\n",
              "  </thead>\n",
              "  <tbody>\n",
              "    <tr>\n",
              "      <th>0</th>\n",
              "      <td>4</td>\n",
              "      <td>citrus fruit</td>\n",
              "      <td>semi-finished bread</td>\n",
              "      <td>margarine</td>\n",
              "      <td>ready soups</td>\n",
              "      <td>NaN</td>\n",
              "      <td>NaN</td>\n",
              "      <td>NaN</td>\n",
              "      <td>NaN</td>\n",
              "      <td>NaN</td>\n",
              "      <td>NaN</td>\n",
              "      <td>NaN</td>\n",
              "      <td>NaN</td>\n",
              "      <td>NaN</td>\n",
              "      <td>NaN</td>\n",
              "      <td>NaN</td>\n",
              "      <td>NaN</td>\n",
              "      <td>NaN</td>\n",
              "      <td>NaN</td>\n",
              "      <td>NaN</td>\n",
              "      <td>NaN</td>\n",
              "      <td>NaN</td>\n",
              "      <td>NaN</td>\n",
              "      <td>NaN</td>\n",
              "      <td>NaN</td>\n",
              "      <td>NaN</td>\n",
              "      <td>NaN</td>\n",
              "      <td>NaN</td>\n",
              "      <td>NaN</td>\n",
              "      <td>NaN</td>\n",
              "      <td>NaN</td>\n",
              "      <td>NaN</td>\n",
              "      <td>NaN</td>\n",
              "    </tr>\n",
              "    <tr>\n",
              "      <th>1</th>\n",
              "      <td>3</td>\n",
              "      <td>tropical fruit</td>\n",
              "      <td>yogurt</td>\n",
              "      <td>coffee</td>\n",
              "      <td>NaN</td>\n",
              "      <td>NaN</td>\n",
              "      <td>NaN</td>\n",
              "      <td>NaN</td>\n",
              "      <td>NaN</td>\n",
              "      <td>NaN</td>\n",
              "      <td>NaN</td>\n",
              "      <td>NaN</td>\n",
              "      <td>NaN</td>\n",
              "      <td>NaN</td>\n",
              "      <td>NaN</td>\n",
              "      <td>NaN</td>\n",
              "      <td>NaN</td>\n",
              "      <td>NaN</td>\n",
              "      <td>NaN</td>\n",
              "      <td>NaN</td>\n",
              "      <td>NaN</td>\n",
              "      <td>NaN</td>\n",
              "      <td>NaN</td>\n",
              "      <td>NaN</td>\n",
              "      <td>NaN</td>\n",
              "      <td>NaN</td>\n",
              "      <td>NaN</td>\n",
              "      <td>NaN</td>\n",
              "      <td>NaN</td>\n",
              "      <td>NaN</td>\n",
              "      <td>NaN</td>\n",
              "      <td>NaN</td>\n",
              "      <td>NaN</td>\n",
              "    </tr>\n",
              "    <tr>\n",
              "      <th>2</th>\n",
              "      <td>1</td>\n",
              "      <td>whole milk</td>\n",
              "      <td>NaN</td>\n",
              "      <td>NaN</td>\n",
              "      <td>NaN</td>\n",
              "      <td>NaN</td>\n",
              "      <td>NaN</td>\n",
              "      <td>NaN</td>\n",
              "      <td>NaN</td>\n",
              "      <td>NaN</td>\n",
              "      <td>NaN</td>\n",
              "      <td>NaN</td>\n",
              "      <td>NaN</td>\n",
              "      <td>NaN</td>\n",
              "      <td>NaN</td>\n",
              "      <td>NaN</td>\n",
              "      <td>NaN</td>\n",
              "      <td>NaN</td>\n",
              "      <td>NaN</td>\n",
              "      <td>NaN</td>\n",
              "      <td>NaN</td>\n",
              "      <td>NaN</td>\n",
              "      <td>NaN</td>\n",
              "      <td>NaN</td>\n",
              "      <td>NaN</td>\n",
              "      <td>NaN</td>\n",
              "      <td>NaN</td>\n",
              "      <td>NaN</td>\n",
              "      <td>NaN</td>\n",
              "      <td>NaN</td>\n",
              "      <td>NaN</td>\n",
              "      <td>NaN</td>\n",
              "      <td>NaN</td>\n",
              "    </tr>\n",
              "  </tbody>\n",
              "</table>\n",
              "</div>"
            ],
            "text/plain": [
              "   Item(s)          Item 1               Item 2  ... Item 30 Item 31 Item 32\n",
              "0        4    citrus fruit  semi-finished bread  ...     NaN     NaN     NaN\n",
              "1        3  tropical fruit               yogurt  ...     NaN     NaN     NaN\n",
              "2        1      whole milk                  NaN  ...     NaN     NaN     NaN\n",
              "\n",
              "[3 rows x 33 columns]"
            ]
          },
          "metadata": {},
          "execution_count": 3
        }
      ]
    },
    {
      "cell_type": "markdown",
      "source": [
        "## Clean Data"
      ],
      "metadata": {
        "id": "K8u4zzendgS7"
      }
    },
    {
      "cell_type": "markdown",
      "source": [
        "Clean and format the data so that it can be used as input for the algorithms"
      ],
      "metadata": {
        "id": "3SjQ5WBYdieq"
      }
    },
    {
      "cell_type": "code",
      "source": [
        "def clean_data(df):\n",
        "  df_temp = df.copy()\n",
        "\n",
        "  # Fill in missing values\n",
        "  df_temp = df_temp.fillna('')\n",
        "\n",
        "  # Drop Items col\n",
        "  df_temp.drop(columns=['Item(s)'],inplace=True)\n",
        "\n",
        "  return df_temp"
      ],
      "metadata": {
        "id": "4IiG-n-NdveW"
      },
      "execution_count": 4,
      "outputs": []
    },
    {
      "cell_type": "markdown",
      "source": [
        "Clean the data with the above function"
      ],
      "metadata": {
        "id": "rcWD3nOteLLp"
      }
    },
    {
      "cell_type": "code",
      "source": [
        "df = clean_data(df)\n",
        "df.head()"
      ],
      "metadata": {
        "colab": {
          "base_uri": "https://localhost:8080/",
          "height": 347
        },
        "id": "ll3kQ1HcdvcJ",
        "outputId": "32306eb4-fe01-47c1-dc4b-e6b4f95c9258"
      },
      "execution_count": 5,
      "outputs": [
        {
          "output_type": "execute_result",
          "data": {
            "text/html": [
              "<div>\n",
              "<style scoped>\n",
              "    .dataframe tbody tr th:only-of-type {\n",
              "        vertical-align: middle;\n",
              "    }\n",
              "\n",
              "    .dataframe tbody tr th {\n",
              "        vertical-align: top;\n",
              "    }\n",
              "\n",
              "    .dataframe thead th {\n",
              "        text-align: right;\n",
              "    }\n",
              "</style>\n",
              "<table border=\"1\" class=\"dataframe\">\n",
              "  <thead>\n",
              "    <tr style=\"text-align: right;\">\n",
              "      <th></th>\n",
              "      <th>Item 1</th>\n",
              "      <th>Item 2</th>\n",
              "      <th>Item 3</th>\n",
              "      <th>Item 4</th>\n",
              "      <th>Item 5</th>\n",
              "      <th>Item 6</th>\n",
              "      <th>Item 7</th>\n",
              "      <th>Item 8</th>\n",
              "      <th>Item 9</th>\n",
              "      <th>Item 10</th>\n",
              "      <th>Item 11</th>\n",
              "      <th>Item 12</th>\n",
              "      <th>Item 13</th>\n",
              "      <th>Item 14</th>\n",
              "      <th>Item 15</th>\n",
              "      <th>Item 16</th>\n",
              "      <th>Item 17</th>\n",
              "      <th>Item 18</th>\n",
              "      <th>Item 19</th>\n",
              "      <th>Item 20</th>\n",
              "      <th>Item 21</th>\n",
              "      <th>Item 22</th>\n",
              "      <th>Item 23</th>\n",
              "      <th>Item 24</th>\n",
              "      <th>Item 25</th>\n",
              "      <th>Item 26</th>\n",
              "      <th>Item 27</th>\n",
              "      <th>Item 28</th>\n",
              "      <th>Item 29</th>\n",
              "      <th>Item 30</th>\n",
              "      <th>Item 31</th>\n",
              "      <th>Item 32</th>\n",
              "    </tr>\n",
              "  </thead>\n",
              "  <tbody>\n",
              "    <tr>\n",
              "      <th>0</th>\n",
              "      <td>citrus fruit</td>\n",
              "      <td>semi-finished bread</td>\n",
              "      <td>margarine</td>\n",
              "      <td>ready soups</td>\n",
              "      <td></td>\n",
              "      <td></td>\n",
              "      <td></td>\n",
              "      <td></td>\n",
              "      <td></td>\n",
              "      <td></td>\n",
              "      <td></td>\n",
              "      <td></td>\n",
              "      <td></td>\n",
              "      <td></td>\n",
              "      <td></td>\n",
              "      <td></td>\n",
              "      <td></td>\n",
              "      <td></td>\n",
              "      <td></td>\n",
              "      <td></td>\n",
              "      <td></td>\n",
              "      <td></td>\n",
              "      <td></td>\n",
              "      <td></td>\n",
              "      <td></td>\n",
              "      <td></td>\n",
              "      <td></td>\n",
              "      <td></td>\n",
              "      <td></td>\n",
              "      <td></td>\n",
              "      <td></td>\n",
              "      <td></td>\n",
              "    </tr>\n",
              "    <tr>\n",
              "      <th>1</th>\n",
              "      <td>tropical fruit</td>\n",
              "      <td>yogurt</td>\n",
              "      <td>coffee</td>\n",
              "      <td></td>\n",
              "      <td></td>\n",
              "      <td></td>\n",
              "      <td></td>\n",
              "      <td></td>\n",
              "      <td></td>\n",
              "      <td></td>\n",
              "      <td></td>\n",
              "      <td></td>\n",
              "      <td></td>\n",
              "      <td></td>\n",
              "      <td></td>\n",
              "      <td></td>\n",
              "      <td></td>\n",
              "      <td></td>\n",
              "      <td></td>\n",
              "      <td></td>\n",
              "      <td></td>\n",
              "      <td></td>\n",
              "      <td></td>\n",
              "      <td></td>\n",
              "      <td></td>\n",
              "      <td></td>\n",
              "      <td></td>\n",
              "      <td></td>\n",
              "      <td></td>\n",
              "      <td></td>\n",
              "      <td></td>\n",
              "      <td></td>\n",
              "    </tr>\n",
              "    <tr>\n",
              "      <th>2</th>\n",
              "      <td>whole milk</td>\n",
              "      <td></td>\n",
              "      <td></td>\n",
              "      <td></td>\n",
              "      <td></td>\n",
              "      <td></td>\n",
              "      <td></td>\n",
              "      <td></td>\n",
              "      <td></td>\n",
              "      <td></td>\n",
              "      <td></td>\n",
              "      <td></td>\n",
              "      <td></td>\n",
              "      <td></td>\n",
              "      <td></td>\n",
              "      <td></td>\n",
              "      <td></td>\n",
              "      <td></td>\n",
              "      <td></td>\n",
              "      <td></td>\n",
              "      <td></td>\n",
              "      <td></td>\n",
              "      <td></td>\n",
              "      <td></td>\n",
              "      <td></td>\n",
              "      <td></td>\n",
              "      <td></td>\n",
              "      <td></td>\n",
              "      <td></td>\n",
              "      <td></td>\n",
              "      <td></td>\n",
              "      <td></td>\n",
              "    </tr>\n",
              "    <tr>\n",
              "      <th>3</th>\n",
              "      <td>pip fruit</td>\n",
              "      <td>yogurt</td>\n",
              "      <td>cream cheese</td>\n",
              "      <td>meat spreads</td>\n",
              "      <td></td>\n",
              "      <td></td>\n",
              "      <td></td>\n",
              "      <td></td>\n",
              "      <td></td>\n",
              "      <td></td>\n",
              "      <td></td>\n",
              "      <td></td>\n",
              "      <td></td>\n",
              "      <td></td>\n",
              "      <td></td>\n",
              "      <td></td>\n",
              "      <td></td>\n",
              "      <td></td>\n",
              "      <td></td>\n",
              "      <td></td>\n",
              "      <td></td>\n",
              "      <td></td>\n",
              "      <td></td>\n",
              "      <td></td>\n",
              "      <td></td>\n",
              "      <td></td>\n",
              "      <td></td>\n",
              "      <td></td>\n",
              "      <td></td>\n",
              "      <td></td>\n",
              "      <td></td>\n",
              "      <td></td>\n",
              "    </tr>\n",
              "    <tr>\n",
              "      <th>4</th>\n",
              "      <td>other vegetables</td>\n",
              "      <td>whole milk</td>\n",
              "      <td>condensed milk</td>\n",
              "      <td>long life bakery product</td>\n",
              "      <td></td>\n",
              "      <td></td>\n",
              "      <td></td>\n",
              "      <td></td>\n",
              "      <td></td>\n",
              "      <td></td>\n",
              "      <td></td>\n",
              "      <td></td>\n",
              "      <td></td>\n",
              "      <td></td>\n",
              "      <td></td>\n",
              "      <td></td>\n",
              "      <td></td>\n",
              "      <td></td>\n",
              "      <td></td>\n",
              "      <td></td>\n",
              "      <td></td>\n",
              "      <td></td>\n",
              "      <td></td>\n",
              "      <td></td>\n",
              "      <td></td>\n",
              "      <td></td>\n",
              "      <td></td>\n",
              "      <td></td>\n",
              "      <td></td>\n",
              "      <td></td>\n",
              "      <td></td>\n",
              "      <td></td>\n",
              "    </tr>\n",
              "  </tbody>\n",
              "</table>\n",
              "</div>"
            ],
            "text/plain": [
              "             Item 1               Item 2  ... Item 31 Item 32\n",
              "0      citrus fruit  semi-finished bread  ...                \n",
              "1    tropical fruit               yogurt  ...                \n",
              "2        whole milk                       ...                \n",
              "3         pip fruit               yogurt  ...                \n",
              "4  other vegetables           whole milk  ...                \n",
              "\n",
              "[5 rows x 32 columns]"
            ]
          },
          "metadata": {},
          "execution_count": 5
        }
      ]
    },
    {
      "cell_type": "markdown",
      "source": [
        "Further format the data with onehot encoding"
      ],
      "metadata": {
        "id": "HplwrbO4fZNC"
      }
    },
    {
      "cell_type": "code",
      "source": [
        "df.shape"
      ],
      "metadata": {
        "colab": {
          "base_uri": "https://localhost:8080/"
        },
        "id": "hh_5axK-fnd6",
        "outputId": "18a28dbc-d661-4da5-9a6b-dd186995a64c"
      },
      "execution_count": 6,
      "outputs": [
        {
          "output_type": "execute_result",
          "data": {
            "text/plain": [
              "(9835, 32)"
            ]
          },
          "metadata": {},
          "execution_count": 6
        }
      ]
    },
    {
      "cell_type": "markdown",
      "source": [
        "Create a list of transactions"
      ],
      "metadata": {
        "id": "No6HofKpf3Yb"
      }
    },
    {
      "cell_type": "code",
      "metadata": {
        "id": "kMRG0WOf4ckm"
      },
      "source": [
        "list_of_transactions = []\n",
        "for i in range(0, df.shape[0] ):\n",
        "     list_of_transactions.append([str(df.values[i,j]) for j in range(0, df.shape[1])])"
      ],
      "execution_count": 7,
      "outputs": []
    },
    {
      "cell_type": "markdown",
      "source": [
        "Apply one hot encoding as a dataframe"
      ],
      "metadata": {
        "id": "saOBII8cf6iC"
      }
    },
    {
      "cell_type": "code",
      "metadata": {
        "id": "Kw8-MKaS4jMh"
      },
      "source": [
        "te = TransactionEncoder()\n",
        "df_onehot = te.fit_transform(list_of_transactions)\n",
        "df_onehot = pd.DataFrame(df_onehot, columns = te.columns_)\n",
        "df_onehot.drop(columns=[''],inplace=True)"
      ],
      "execution_count": 8,
      "outputs": []
    },
    {
      "cell_type": "code",
      "metadata": {
        "colab": {
          "base_uri": "https://localhost:8080/"
        },
        "id": "6SwXNb4L4qgB",
        "outputId": "8d0876cb-a9f6-43aa-e001-2bf658902e3f"
      },
      "source": [
        "print(f'Shape of encoded data: {df_onehot.shape[0]} rows and {df_onehot.shape[1]} columns')"
      ],
      "execution_count": 9,
      "outputs": [
        {
          "output_type": "stream",
          "name": "stdout",
          "text": [
            "Shape of encoded data: 9835 rows and 169 columns\n"
          ]
        }
      ]
    },
    {
      "cell_type": "markdown",
      "source": [
        "## Plot Data"
      ],
      "metadata": {
        "id": "zTYuztsmeeQJ"
      }
    },
    {
      "cell_type": "markdown",
      "source": [
        ""
      ],
      "metadata": {
        "id": "ZgbWh7nhel8p"
      }
    },
    {
      "cell_type": "code",
      "source": [
        "#Top 20 frequently buying items by customer\n",
        "plt.rcParams['figure.figsize']=20,7\n",
        "sns.countplot(data=df, x=df['Item 1'],\n",
        "             order = df['Item 1'].value_counts().head(20).index,\n",
        "             palette='flare')\n",
        "plt.xticks(rotation=90)\n",
        "plt.xlabel('Product')\n",
        "plt.title('Top 20 Frequently Bought Products')\n",
        "plt.show()"
      ],
      "metadata": {
        "colab": {
          "base_uri": "https://localhost:8080/",
          "height": 515
        },
        "id": "myR7JLIRdvaJ",
        "outputId": "5ccb22cb-e0ff-48e0-832c-e7b235921aee"
      },
      "execution_count": 10,
      "outputs": [
        {
          "output_type": "display_data",
          "data": {
            "image/png": "[encoded data removed]",
            "text/plain": [
              "<Figure size 1440x504 with 1 Axes>"
            ]
          },
          "metadata": {}
        }
      ]
    },
    {
      "cell_type": "markdown",
      "source": [
        "# Apply Apriori Algorithm"
      ],
      "metadata": {
        "id": "QD4ASXldgEID"
      }
    },
    {
      "cell_type": "markdown",
      "source": [
        "Use the onehot encoded transaction data as input to the Apriori algorithm"
      ],
      "metadata": {
        "id": "ZUFEvUNpgG-W"
      }
    },
    {
      "cell_type": "code",
      "source": [
        "itemsets = apriori(df_onehot, min_support = 0.02, use_colnames = True)\n",
        "itemsets"
      ],
      "metadata": {
        "colab": {
          "base_uri": "https://localhost:8080/",
          "height": 423
        },
        "id": "_n9PcaDTdvX1",
        "outputId": "faa35e42-b4bf-452d-f40c-6d8ad28ea3e8"
      },
      "execution_count": 11,
      "outputs": [
        {
          "output_type": "execute_result",
          "data": {
            "text/html": [
              "<div>\n",
              "<style scoped>\n",
              "    .dataframe tbody tr th:only-of-type {\n",
              "        vertical-align: middle;\n",
              "    }\n",
              "\n",
              "    .dataframe tbody tr th {\n",
              "        vertical-align: top;\n",
              "    }\n",
              "\n",
              "    .dataframe thead th {\n",
              "        text-align: right;\n",
              "    }\n",
              "</style>\n",
              "<table border=\"1\" class=\"dataframe\">\n",
              "  <thead>\n",
              "    <tr style=\"text-align: right;\">\n",
              "      <th></th>\n",
              "      <th>support</th>\n",
              "      <th>itemsets</th>\n",
              "    </tr>\n",
              "  </thead>\n",
              "  <tbody>\n",
              "    <tr>\n",
              "      <th>0</th>\n",
              "      <td>0.033452</td>\n",
              "      <td>(UHT-milk)</td>\n",
              "    </tr>\n",
              "    <tr>\n",
              "      <th>1</th>\n",
              "      <td>0.052466</td>\n",
              "      <td>(beef)</td>\n",
              "    </tr>\n",
              "    <tr>\n",
              "      <th>2</th>\n",
              "      <td>0.033249</td>\n",
              "      <td>(berries)</td>\n",
              "    </tr>\n",
              "    <tr>\n",
              "      <th>3</th>\n",
              "      <td>0.026029</td>\n",
              "      <td>(beverages)</td>\n",
              "    </tr>\n",
              "    <tr>\n",
              "      <th>4</th>\n",
              "      <td>0.080529</td>\n",
              "      <td>(bottled beer)</td>\n",
              "    </tr>\n",
              "    <tr>\n",
              "      <th>...</th>\n",
              "      <td>...</td>\n",
              "      <td>...</td>\n",
              "    </tr>\n",
              "    <tr>\n",
              "      <th>117</th>\n",
              "      <td>0.032232</td>\n",
              "      <td>(whole milk, whipped/sour cream)</td>\n",
              "    </tr>\n",
              "    <tr>\n",
              "      <th>118</th>\n",
              "      <td>0.020742</td>\n",
              "      <td>(whipped/sour cream, yogurt)</td>\n",
              "    </tr>\n",
              "    <tr>\n",
              "      <th>119</th>\n",
              "      <td>0.056024</td>\n",
              "      <td>(whole milk, yogurt)</td>\n",
              "    </tr>\n",
              "    <tr>\n",
              "      <th>120</th>\n",
              "      <td>0.023183</td>\n",
              "      <td>(whole milk, root vegetables, other vegetables)</td>\n",
              "    </tr>\n",
              "    <tr>\n",
              "      <th>121</th>\n",
              "      <td>0.022267</td>\n",
              "      <td>(whole milk, yogurt, other vegetables)</td>\n",
              "    </tr>\n",
              "  </tbody>\n",
              "</table>\n",
              "<p>122 rows × 2 columns</p>\n",
              "</div>"
            ],
            "text/plain": [
              "      support                                         itemsets\n",
              "0    0.033452                                       (UHT-milk)\n",
              "1    0.052466                                           (beef)\n",
              "2    0.033249                                        (berries)\n",
              "3    0.026029                                      (beverages)\n",
              "4    0.080529                                   (bottled beer)\n",
              "..        ...                                              ...\n",
              "117  0.032232                 (whole milk, whipped/sour cream)\n",
              "118  0.020742                     (whipped/sour cream, yogurt)\n",
              "119  0.056024                             (whole milk, yogurt)\n",
              "120  0.023183  (whole milk, root vegetables, other vegetables)\n",
              "121  0.022267           (whole milk, yogurt, other vegetables)\n",
              "\n",
              "[122 rows x 2 columns]"
            ]
          },
          "metadata": {},
          "execution_count": 11
        }
      ]
    },
    {
      "cell_type": "markdown",
      "source": [
        "Show the top 10 frequent item sets"
      ],
      "metadata": {
        "id": "efVvymmWg89E"
      }
    },
    {
      "cell_type": "code",
      "source": [
        "frequent_itemsets = itemsets.sort_values(by=['support'], ascending=False)\n",
        "top_ten_frequent_itemsets = frequent_itemsets[:10]\n",
        "top_ten_frequent_itemsets"
      ],
      "metadata": {
        "colab": {
          "base_uri": "https://localhost:8080/",
          "height": 363
        },
        "id": "iVi2u-Q0dvSv",
        "outputId": "947ae372-e1b0-4c92-ec7f-69f1754988a4"
      },
      "execution_count": 13,
      "outputs": [
        {
          "output_type": "execute_result",
          "data": {
            "text/html": [
              "<div>\n",
              "<style scoped>\n",
              "    .dataframe tbody tr th:only-of-type {\n",
              "        vertical-align: middle;\n",
              "    }\n",
              "\n",
              "    .dataframe tbody tr th {\n",
              "        vertical-align: top;\n",
              "    }\n",
              "\n",
              "    .dataframe thead th {\n",
              "        text-align: right;\n",
              "    }\n",
              "</style>\n",
              "<table border=\"1\" class=\"dataframe\">\n",
              "  <thead>\n",
              "    <tr style=\"text-align: right;\">\n",
              "      <th></th>\n",
              "      <th>support</th>\n",
              "      <th>itemsets</th>\n",
              "    </tr>\n",
              "  </thead>\n",
              "  <tbody>\n",
              "    <tr>\n",
              "      <th>57</th>\n",
              "      <td>0.255516</td>\n",
              "      <td>(whole milk)</td>\n",
              "    </tr>\n",
              "    <tr>\n",
              "      <th>39</th>\n",
              "      <td>0.193493</td>\n",
              "      <td>(other vegetables)</td>\n",
              "    </tr>\n",
              "    <tr>\n",
              "      <th>43</th>\n",
              "      <td>0.183935</td>\n",
              "      <td>(rolls/buns)</td>\n",
              "    </tr>\n",
              "    <tr>\n",
              "      <th>49</th>\n",
              "      <td>0.174377</td>\n",
              "      <td>(soda)</td>\n",
              "    </tr>\n",
              "    <tr>\n",
              "      <th>58</th>\n",
              "      <td>0.139502</td>\n",
              "      <td>(yogurt)</td>\n",
              "    </tr>\n",
              "    <tr>\n",
              "      <th>5</th>\n",
              "      <td>0.110524</td>\n",
              "      <td>(bottled water)</td>\n",
              "    </tr>\n",
              "    <tr>\n",
              "      <th>44</th>\n",
              "      <td>0.108998</td>\n",
              "      <td>(root vegetables)</td>\n",
              "    </tr>\n",
              "    <tr>\n",
              "      <th>53</th>\n",
              "      <td>0.104931</td>\n",
              "      <td>(tropical fruit)</td>\n",
              "    </tr>\n",
              "    <tr>\n",
              "      <th>47</th>\n",
              "      <td>0.098526</td>\n",
              "      <td>(shopping bags)</td>\n",
              "    </tr>\n",
              "    <tr>\n",
              "      <th>46</th>\n",
              "      <td>0.093950</td>\n",
              "      <td>(sausage)</td>\n",
              "    </tr>\n",
              "  </tbody>\n",
              "</table>\n",
              "</div>"
            ],
            "text/plain": [
              "     support            itemsets\n",
              "57  0.255516        (whole milk)\n",
              "39  0.193493  (other vegetables)\n",
              "43  0.183935        (rolls/buns)\n",
              "49  0.174377              (soda)\n",
              "58  0.139502            (yogurt)\n",
              "5   0.110524     (bottled water)\n",
              "44  0.108998   (root vegetables)\n",
              "53  0.104931    (tropical fruit)\n",
              "47  0.098526     (shopping bags)\n",
              "46  0.093950           (sausage)"
            ]
          },
          "metadata": {},
          "execution_count": 13
        }
      ]
    },
    {
      "cell_type": "markdown",
      "source": [
        "Generate association rules"
      ],
      "metadata": {
        "id": "UUbRwa5nhUsi"
      }
    },
    {
      "cell_type": "code",
      "source": [
        "from mlxtend.frequent_patterns import association_rules\n",
        "rules = association_rules(frequent_itemsets, metric = \"confidence\", min_threshold = 0.2)\n",
        "rules.head()"
      ],
      "metadata": {
        "colab": {
          "base_uri": "https://localhost:8080/",
          "height": 206
        },
        "id": "MDyTY4P_hTUX",
        "outputId": "b65f1497-fb89-467c-9d24-6e8a617c8119"
      },
      "execution_count": 14,
      "outputs": [
        {
          "output_type": "execute_result",
          "data": {
            "text/html": [
              "<div>\n",
              "<style scoped>\n",
              "    .dataframe tbody tr th:only-of-type {\n",
              "        vertical-align: middle;\n",
              "    }\n",
              "\n",
              "    .dataframe tbody tr th {\n",
              "        vertical-align: top;\n",
              "    }\n",
              "\n",
              "    .dataframe thead th {\n",
              "        text-align: right;\n",
              "    }\n",
              "</style>\n",
              "<table border=\"1\" class=\"dataframe\">\n",
              "  <thead>\n",
              "    <tr style=\"text-align: right;\">\n",
              "      <th></th>\n",
              "      <th>antecedents</th>\n",
              "      <th>consequents</th>\n",
              "      <th>antecedent support</th>\n",
              "      <th>consequent support</th>\n",
              "      <th>support</th>\n",
              "      <th>confidence</th>\n",
              "      <th>lift</th>\n",
              "      <th>leverage</th>\n",
              "      <th>conviction</th>\n",
              "    </tr>\n",
              "  </thead>\n",
              "  <tbody>\n",
              "    <tr>\n",
              "      <th>0</th>\n",
              "      <td>(whole milk)</td>\n",
              "      <td>(other vegetables)</td>\n",
              "      <td>0.255516</td>\n",
              "      <td>0.193493</td>\n",
              "      <td>0.074835</td>\n",
              "      <td>0.292877</td>\n",
              "      <td>1.513634</td>\n",
              "      <td>0.025394</td>\n",
              "      <td>1.140548</td>\n",
              "    </tr>\n",
              "    <tr>\n",
              "      <th>1</th>\n",
              "      <td>(other vegetables)</td>\n",
              "      <td>(whole milk)</td>\n",
              "      <td>0.193493</td>\n",
              "      <td>0.255516</td>\n",
              "      <td>0.074835</td>\n",
              "      <td>0.386758</td>\n",
              "      <td>1.513634</td>\n",
              "      <td>0.025394</td>\n",
              "      <td>1.214013</td>\n",
              "    </tr>\n",
              "    <tr>\n",
              "      <th>2</th>\n",
              "      <td>(whole milk)</td>\n",
              "      <td>(rolls/buns)</td>\n",
              "      <td>0.255516</td>\n",
              "      <td>0.183935</td>\n",
              "      <td>0.056634</td>\n",
              "      <td>0.221647</td>\n",
              "      <td>1.205032</td>\n",
              "      <td>0.009636</td>\n",
              "      <td>1.048452</td>\n",
              "    </tr>\n",
              "    <tr>\n",
              "      <th>3</th>\n",
              "      <td>(rolls/buns)</td>\n",
              "      <td>(whole milk)</td>\n",
              "      <td>0.183935</td>\n",
              "      <td>0.255516</td>\n",
              "      <td>0.056634</td>\n",
              "      <td>0.307905</td>\n",
              "      <td>1.205032</td>\n",
              "      <td>0.009636</td>\n",
              "      <td>1.075696</td>\n",
              "    </tr>\n",
              "    <tr>\n",
              "      <th>4</th>\n",
              "      <td>(whole milk)</td>\n",
              "      <td>(yogurt)</td>\n",
              "      <td>0.255516</td>\n",
              "      <td>0.139502</td>\n",
              "      <td>0.056024</td>\n",
              "      <td>0.219260</td>\n",
              "      <td>1.571735</td>\n",
              "      <td>0.020379</td>\n",
              "      <td>1.102157</td>\n",
              "    </tr>\n",
              "  </tbody>\n",
              "</table>\n",
              "</div>"
            ],
            "text/plain": [
              "          antecedents         consequents  ...  leverage  conviction\n",
              "0        (whole milk)  (other vegetables)  ...  0.025394    1.140548\n",
              "1  (other vegetables)        (whole milk)  ...  0.025394    1.214013\n",
              "2        (whole milk)        (rolls/buns)  ...  0.009636    1.048452\n",
              "3        (rolls/buns)        (whole milk)  ...  0.009636    1.075696\n",
              "4        (whole milk)            (yogurt)  ...  0.020379    1.102157\n",
              "\n",
              "[5 rows x 9 columns]"
            ]
          },
          "metadata": {},
          "execution_count": 14
        }
      ]
    },
    {
      "cell_type": "markdown",
      "source": [
        "In general, the antecedent is the product that is purchased first and the consequent is the second product purchased given the first one has already been purchased."
      ],
      "metadata": {
        "id": "Ik-0LPDblYmk"
      }
    },
    {
      "cell_type": "markdown",
      "source": [
        "Display top results based on the lift"
      ],
      "metadata": {
        "id": "qrpU9ncBl-gN"
      }
    },
    {
      "cell_type": "code",
      "source": [
        "top_rules_by_list = rules.sort_values(by=['lift'], ascending=False)\n",
        "top_rules_by_list[:10]"
      ],
      "metadata": {
        "colab": {
          "base_uri": "https://localhost:8080/",
          "height": 450
        },
        "id": "hPxzhW4ghTRq",
        "outputId": "1759ec7b-5a96-4e54-d25a-41b6c46630d1"
      },
      "execution_count": 15,
      "outputs": [
        {
          "output_type": "execute_result",
          "data": {
            "text/html": [
              "<div>\n",
              "<style scoped>\n",
              "    .dataframe tbody tr th:only-of-type {\n",
              "        vertical-align: middle;\n",
              "    }\n",
              "\n",
              "    .dataframe tbody tr th {\n",
              "        vertical-align: top;\n",
              "    }\n",
              "\n",
              "    .dataframe thead th {\n",
              "        text-align: right;\n",
              "    }\n",
              "</style>\n",
              "<table border=\"1\" class=\"dataframe\">\n",
              "  <thead>\n",
              "    <tr style=\"text-align: right;\">\n",
              "      <th></th>\n",
              "      <th>antecedents</th>\n",
              "      <th>consequents</th>\n",
              "      <th>antecedent support</th>\n",
              "      <th>consequent support</th>\n",
              "      <th>support</th>\n",
              "      <th>confidence</th>\n",
              "      <th>lift</th>\n",
              "      <th>leverage</th>\n",
              "      <th>conviction</th>\n",
              "    </tr>\n",
              "  </thead>\n",
              "  <tbody>\n",
              "    <tr>\n",
              "      <th>52</th>\n",
              "      <td>(root vegetables)</td>\n",
              "      <td>(whole milk, other vegetables)</td>\n",
              "      <td>0.108998</td>\n",
              "      <td>0.074835</td>\n",
              "      <td>0.023183</td>\n",
              "      <td>0.212687</td>\n",
              "      <td>2.842082</td>\n",
              "      <td>0.015026</td>\n",
              "      <td>1.175091</td>\n",
              "    </tr>\n",
              "    <tr>\n",
              "      <th>50</th>\n",
              "      <td>(whole milk, other vegetables)</td>\n",
              "      <td>(root vegetables)</td>\n",
              "      <td>0.074835</td>\n",
              "      <td>0.108998</td>\n",
              "      <td>0.023183</td>\n",
              "      <td>0.309783</td>\n",
              "      <td>2.842082</td>\n",
              "      <td>0.015026</td>\n",
              "      <td>1.290900</td>\n",
              "    </tr>\n",
              "    <tr>\n",
              "      <th>71</th>\n",
              "      <td>(pip fruit)</td>\n",
              "      <td>(tropical fruit)</td>\n",
              "      <td>0.075648</td>\n",
              "      <td>0.104931</td>\n",
              "      <td>0.020437</td>\n",
              "      <td>0.270161</td>\n",
              "      <td>2.574648</td>\n",
              "      <td>0.012499</td>\n",
              "      <td>1.226392</td>\n",
              "    </tr>\n",
              "    <tr>\n",
              "      <th>49</th>\n",
              "      <td>(whole milk, root vegetables)</td>\n",
              "      <td>(other vegetables)</td>\n",
              "      <td>0.048907</td>\n",
              "      <td>0.193493</td>\n",
              "      <td>0.023183</td>\n",
              "      <td>0.474012</td>\n",
              "      <td>2.449770</td>\n",
              "      <td>0.013719</td>\n",
              "      <td>1.533320</td>\n",
              "    </tr>\n",
              "    <tr>\n",
              "      <th>8</th>\n",
              "      <td>(other vegetables)</td>\n",
              "      <td>(root vegetables)</td>\n",
              "      <td>0.193493</td>\n",
              "      <td>0.108998</td>\n",
              "      <td>0.047382</td>\n",
              "      <td>0.244877</td>\n",
              "      <td>2.246605</td>\n",
              "      <td>0.026291</td>\n",
              "      <td>1.179941</td>\n",
              "    </tr>\n",
              "    <tr>\n",
              "      <th>7</th>\n",
              "      <td>(root vegetables)</td>\n",
              "      <td>(other vegetables)</td>\n",
              "      <td>0.108998</td>\n",
              "      <td>0.193493</td>\n",
              "      <td>0.047382</td>\n",
              "      <td>0.434701</td>\n",
              "      <td>2.246605</td>\n",
              "      <td>0.026291</td>\n",
              "      <td>1.426693</td>\n",
              "    </tr>\n",
              "    <tr>\n",
              "      <th>56</th>\n",
              "      <td>(whole milk, other vegetables)</td>\n",
              "      <td>(yogurt)</td>\n",
              "      <td>0.074835</td>\n",
              "      <td>0.139502</td>\n",
              "      <td>0.022267</td>\n",
              "      <td>0.297554</td>\n",
              "      <td>2.132979</td>\n",
              "      <td>0.011828</td>\n",
              "      <td>1.225003</td>\n",
              "    </tr>\n",
              "    <tr>\n",
              "      <th>30</th>\n",
              "      <td>(whipped/sour cream)</td>\n",
              "      <td>(other vegetables)</td>\n",
              "      <td>0.071683</td>\n",
              "      <td>0.193493</td>\n",
              "      <td>0.028876</td>\n",
              "      <td>0.402837</td>\n",
              "      <td>2.081924</td>\n",
              "      <td>0.015006</td>\n",
              "      <td>1.350565</td>\n",
              "    </tr>\n",
              "    <tr>\n",
              "      <th>67</th>\n",
              "      <td>(whipped/sour cream)</td>\n",
              "      <td>(yogurt)</td>\n",
              "      <td>0.071683</td>\n",
              "      <td>0.139502</td>\n",
              "      <td>0.020742</td>\n",
              "      <td>0.289362</td>\n",
              "      <td>2.074251</td>\n",
              "      <td>0.010742</td>\n",
              "      <td>1.210881</td>\n",
              "    </tr>\n",
              "    <tr>\n",
              "      <th>55</th>\n",
              "      <td>(whole milk, yogurt)</td>\n",
              "      <td>(other vegetables)</td>\n",
              "      <td>0.056024</td>\n",
              "      <td>0.193493</td>\n",
              "      <td>0.022267</td>\n",
              "      <td>0.397459</td>\n",
              "      <td>2.054131</td>\n",
              "      <td>0.011427</td>\n",
              "      <td>1.338511</td>\n",
              "    </tr>\n",
              "  </tbody>\n",
              "</table>\n",
              "</div>"
            ],
            "text/plain": [
              "                       antecedents  ... conviction\n",
              "52               (root vegetables)  ...   1.175091\n",
              "50  (whole milk, other vegetables)  ...   1.290900\n",
              "71                     (pip fruit)  ...   1.226392\n",
              "49   (whole milk, root vegetables)  ...   1.533320\n",
              "8               (other vegetables)  ...   1.179941\n",
              "7                (root vegetables)  ...   1.426693\n",
              "56  (whole milk, other vegetables)  ...   1.225003\n",
              "30            (whipped/sour cream)  ...   1.350565\n",
              "67            (whipped/sour cream)  ...   1.210881\n",
              "55            (whole milk, yogurt)  ...   1.338511\n",
              "\n",
              "[10 rows x 9 columns]"
            ]
          },
          "metadata": {},
          "execution_count": 15
        }
      ]
    },
    {
      "cell_type": "markdown",
      "source": [
        "# Apply FP Growth"
      ],
      "metadata": {
        "id": "tbYiHm6XmNIk"
      }
    },
    {
      "cell_type": "markdown",
      "source": [
        "One negative point with the Apriori algorithm is that it needs multiple scans of the dataset in order to generate the association rules and the compound with very large data sets. \n",
        "\n",
        "In contrast the FP Growth algorithm constructs an FP tree by generating singletons, pairs, and triplets. The association rules can then be read directly from the FP tree and cut down on computation time."
      ],
      "metadata": {
        "id": "N8bS2n6bmZEa"
      }
    },
    {
      "cell_type": "markdown",
      "source": [
        "Compute the frequent itemsets using FP Growth"
      ],
      "metadata": {
        "id": "4KEPkEY-nQyz"
      }
    },
    {
      "cell_type": "code",
      "source": [
        "from mlxtend.frequent_patterns.fpgrowth import fpgrowth\n",
        "frequent_itemsets_fp = fpgrowth(df_onehot, min_support=0.02, use_colnames = True)\n",
        "\n",
        "frequent_itemsets_fp.head()"
      ],
      "metadata": {
        "colab": {
          "base_uri": "https://localhost:8080/",
          "height": 206
        },
        "id": "93Vs0GnPhTNg",
        "outputId": "8b36ece4-9279-482b-d2d7-8e3c703e83c4"
      },
      "execution_count": 16,
      "outputs": [
        {
          "output_type": "execute_result",
          "data": {
            "text/html": [
              "<div>\n",
              "<style scoped>\n",
              "    .dataframe tbody tr th:only-of-type {\n",
              "        vertical-align: middle;\n",
              "    }\n",
              "\n",
              "    .dataframe tbody tr th {\n",
              "        vertical-align: top;\n",
              "    }\n",
              "\n",
              "    .dataframe thead th {\n",
              "        text-align: right;\n",
              "    }\n",
              "</style>\n",
              "<table border=\"1\" class=\"dataframe\">\n",
              "  <thead>\n",
              "    <tr style=\"text-align: right;\">\n",
              "      <th></th>\n",
              "      <th>support</th>\n",
              "      <th>itemsets</th>\n",
              "    </tr>\n",
              "  </thead>\n",
              "  <tbody>\n",
              "    <tr>\n",
              "      <th>0</th>\n",
              "      <td>0.082766</td>\n",
              "      <td>(citrus fruit)</td>\n",
              "    </tr>\n",
              "    <tr>\n",
              "      <th>1</th>\n",
              "      <td>0.058566</td>\n",
              "      <td>(margarine)</td>\n",
              "    </tr>\n",
              "    <tr>\n",
              "      <th>2</th>\n",
              "      <td>0.139502</td>\n",
              "      <td>(yogurt)</td>\n",
              "    </tr>\n",
              "    <tr>\n",
              "      <th>3</th>\n",
              "      <td>0.104931</td>\n",
              "      <td>(tropical fruit)</td>\n",
              "    </tr>\n",
              "    <tr>\n",
              "      <th>4</th>\n",
              "      <td>0.058058</td>\n",
              "      <td>(coffee)</td>\n",
              "    </tr>\n",
              "  </tbody>\n",
              "</table>\n",
              "</div>"
            ],
            "text/plain": [
              "    support          itemsets\n",
              "0  0.082766    (citrus fruit)\n",
              "1  0.058566       (margarine)\n",
              "2  0.139502          (yogurt)\n",
              "3  0.104931  (tropical fruit)\n",
              "4  0.058058          (coffee)"
            ]
          },
          "metadata": {},
          "execution_count": 16
        }
      ]
    },
    {
      "cell_type": "markdown",
      "source": [
        "Show the top 10 results"
      ],
      "metadata": {
        "id": "Y7fp44yqnwx6"
      }
    },
    {
      "cell_type": "code",
      "source": [
        "frequent_itemsets_fp= frequent_itemsets_fp.sort_values(by=['support'], ascending=False)\n",
        "top_ten_frequent_itemsets_fp = frequent_itemsets_fp[:10]\n",
        "top_ten_frequent_itemsets_fp"
      ],
      "metadata": {
        "colab": {
          "base_uri": "https://localhost:8080/",
          "height": 363
        },
        "id": "I-XeKUGinwer",
        "outputId": "189a8016-599c-46f2-95ac-273801c10c38"
      },
      "execution_count": 17,
      "outputs": [
        {
          "output_type": "execute_result",
          "data": {
            "text/html": [
              "<div>\n",
              "<style scoped>\n",
              "    .dataframe tbody tr th:only-of-type {\n",
              "        vertical-align: middle;\n",
              "    }\n",
              "\n",
              "    .dataframe tbody tr th {\n",
              "        vertical-align: top;\n",
              "    }\n",
              "\n",
              "    .dataframe thead th {\n",
              "        text-align: right;\n",
              "    }\n",
              "</style>\n",
              "<table border=\"1\" class=\"dataframe\">\n",
              "  <thead>\n",
              "    <tr style=\"text-align: right;\">\n",
              "      <th></th>\n",
              "      <th>support</th>\n",
              "      <th>itemsets</th>\n",
              "    </tr>\n",
              "  </thead>\n",
              "  <tbody>\n",
              "    <tr>\n",
              "      <th>5</th>\n",
              "      <td>0.255516</td>\n",
              "      <td>(whole milk)</td>\n",
              "    </tr>\n",
              "    <tr>\n",
              "      <th>8</th>\n",
              "      <td>0.193493</td>\n",
              "      <td>(other vegetables)</td>\n",
              "    </tr>\n",
              "    <tr>\n",
              "      <th>11</th>\n",
              "      <td>0.183935</td>\n",
              "      <td>(rolls/buns)</td>\n",
              "    </tr>\n",
              "    <tr>\n",
              "      <th>19</th>\n",
              "      <td>0.174377</td>\n",
              "      <td>(soda)</td>\n",
              "    </tr>\n",
              "    <tr>\n",
              "      <th>2</th>\n",
              "      <td>0.139502</td>\n",
              "      <td>(yogurt)</td>\n",
              "    </tr>\n",
              "    <tr>\n",
              "      <th>14</th>\n",
              "      <td>0.110524</td>\n",
              "      <td>(bottled water)</td>\n",
              "    </tr>\n",
              "    <tr>\n",
              "      <th>28</th>\n",
              "      <td>0.108998</td>\n",
              "      <td>(root vegetables)</td>\n",
              "    </tr>\n",
              "    <tr>\n",
              "      <th>3</th>\n",
              "      <td>0.104931</td>\n",
              "      <td>(tropical fruit)</td>\n",
              "    </tr>\n",
              "    <tr>\n",
              "      <th>34</th>\n",
              "      <td>0.098526</td>\n",
              "      <td>(shopping bags)</td>\n",
              "    </tr>\n",
              "    <tr>\n",
              "      <th>33</th>\n",
              "      <td>0.093950</td>\n",
              "      <td>(sausage)</td>\n",
              "    </tr>\n",
              "  </tbody>\n",
              "</table>\n",
              "</div>"
            ],
            "text/plain": [
              "     support            itemsets\n",
              "5   0.255516        (whole milk)\n",
              "8   0.193493  (other vegetables)\n",
              "11  0.183935        (rolls/buns)\n",
              "19  0.174377              (soda)\n",
              "2   0.139502            (yogurt)\n",
              "14  0.110524     (bottled water)\n",
              "28  0.108998   (root vegetables)\n",
              "3   0.104931    (tropical fruit)\n",
              "34  0.098526     (shopping bags)\n",
              "33  0.093950           (sausage)"
            ]
          },
          "metadata": {},
          "execution_count": 17
        }
      ]
    },
    {
      "cell_type": "markdown",
      "source": [
        "Calculate the association rules"
      ],
      "metadata": {
        "id": "YiDEf3SwoYDc"
      }
    },
    {
      "cell_type": "code",
      "source": [
        "rules_fp = association_rules(frequent_itemsets_fp, metric = \"confidence\", min_threshold = 0.2)\n",
        "rules_fp.head()"
      ],
      "metadata": {
        "colab": {
          "base_uri": "https://localhost:8080/",
          "height": 206
        },
        "id": "__eZAk3fobH4",
        "outputId": "cc6ca351-387f-41cd-af0b-0422fec93b28"
      },
      "execution_count": 18,
      "outputs": [
        {
          "output_type": "execute_result",
          "data": {
            "text/html": [
              "<div>\n",
              "<style scoped>\n",
              "    .dataframe tbody tr th:only-of-type {\n",
              "        vertical-align: middle;\n",
              "    }\n",
              "\n",
              "    .dataframe tbody tr th {\n",
              "        vertical-align: top;\n",
              "    }\n",
              "\n",
              "    .dataframe thead th {\n",
              "        text-align: right;\n",
              "    }\n",
              "</style>\n",
              "<table border=\"1\" class=\"dataframe\">\n",
              "  <thead>\n",
              "    <tr style=\"text-align: right;\">\n",
              "      <th></th>\n",
              "      <th>antecedents</th>\n",
              "      <th>consequents</th>\n",
              "      <th>antecedent support</th>\n",
              "      <th>consequent support</th>\n",
              "      <th>support</th>\n",
              "      <th>confidence</th>\n",
              "      <th>lift</th>\n",
              "      <th>leverage</th>\n",
              "      <th>conviction</th>\n",
              "    </tr>\n",
              "  </thead>\n",
              "  <tbody>\n",
              "    <tr>\n",
              "      <th>0</th>\n",
              "      <td>(whole milk)</td>\n",
              "      <td>(other vegetables)</td>\n",
              "      <td>0.255516</td>\n",
              "      <td>0.193493</td>\n",
              "      <td>0.074835</td>\n",
              "      <td>0.292877</td>\n",
              "      <td>1.513634</td>\n",
              "      <td>0.025394</td>\n",
              "      <td>1.140548</td>\n",
              "    </tr>\n",
              "    <tr>\n",
              "      <th>1</th>\n",
              "      <td>(other vegetables)</td>\n",
              "      <td>(whole milk)</td>\n",
              "      <td>0.193493</td>\n",
              "      <td>0.255516</td>\n",
              "      <td>0.074835</td>\n",
              "      <td>0.386758</td>\n",
              "      <td>1.513634</td>\n",
              "      <td>0.025394</td>\n",
              "      <td>1.214013</td>\n",
              "    </tr>\n",
              "    <tr>\n",
              "      <th>2</th>\n",
              "      <td>(whole milk)</td>\n",
              "      <td>(rolls/buns)</td>\n",
              "      <td>0.255516</td>\n",
              "      <td>0.183935</td>\n",
              "      <td>0.056634</td>\n",
              "      <td>0.221647</td>\n",
              "      <td>1.205032</td>\n",
              "      <td>0.009636</td>\n",
              "      <td>1.048452</td>\n",
              "    </tr>\n",
              "    <tr>\n",
              "      <th>3</th>\n",
              "      <td>(rolls/buns)</td>\n",
              "      <td>(whole milk)</td>\n",
              "      <td>0.183935</td>\n",
              "      <td>0.255516</td>\n",
              "      <td>0.056634</td>\n",
              "      <td>0.307905</td>\n",
              "      <td>1.205032</td>\n",
              "      <td>0.009636</td>\n",
              "      <td>1.075696</td>\n",
              "    </tr>\n",
              "    <tr>\n",
              "      <th>4</th>\n",
              "      <td>(whole milk)</td>\n",
              "      <td>(yogurt)</td>\n",
              "      <td>0.255516</td>\n",
              "      <td>0.139502</td>\n",
              "      <td>0.056024</td>\n",
              "      <td>0.219260</td>\n",
              "      <td>1.571735</td>\n",
              "      <td>0.020379</td>\n",
              "      <td>1.102157</td>\n",
              "    </tr>\n",
              "  </tbody>\n",
              "</table>\n",
              "</div>"
            ],
            "text/plain": [
              "          antecedents         consequents  ...  leverage  conviction\n",
              "0        (whole milk)  (other vegetables)  ...  0.025394    1.140548\n",
              "1  (other vegetables)        (whole milk)  ...  0.025394    1.214013\n",
              "2        (whole milk)        (rolls/buns)  ...  0.009636    1.048452\n",
              "3        (rolls/buns)        (whole milk)  ...  0.009636    1.075696\n",
              "4        (whole milk)            (yogurt)  ...  0.020379    1.102157\n",
              "\n",
              "[5 rows x 9 columns]"
            ]
          },
          "metadata": {},
          "execution_count": 18
        }
      ]
    },
    {
      "cell_type": "markdown",
      "source": [
        "Display top results based on the lift"
      ],
      "metadata": {
        "id": "0-kvdccgojhE"
      }
    },
    {
      "cell_type": "code",
      "source": [
        "top_rules_by_list_fp = rules_fp.sort_values(by=['lift'], ascending=False)\n",
        "top_rules_by_list_fp[:10]"
      ],
      "metadata": {
        "colab": {
          "base_uri": "https://localhost:8080/",
          "height": 450
        },
        "outputId": "8f787ef8-3830-42e3-b8b9-63842092c5c7",
        "id": "DUWu07TZojhF"
      },
      "execution_count": 19,
      "outputs": [
        {
          "output_type": "execute_result",
          "data": {
            "text/html": [
              "<div>\n",
              "<style scoped>\n",
              "    .dataframe tbody tr th:only-of-type {\n",
              "        vertical-align: middle;\n",
              "    }\n",
              "\n",
              "    .dataframe tbody tr th {\n",
              "        vertical-align: top;\n",
              "    }\n",
              "\n",
              "    .dataframe thead th {\n",
              "        text-align: right;\n",
              "    }\n",
              "</style>\n",
              "<table border=\"1\" class=\"dataframe\">\n",
              "  <thead>\n",
              "    <tr style=\"text-align: right;\">\n",
              "      <th></th>\n",
              "      <th>antecedents</th>\n",
              "      <th>consequents</th>\n",
              "      <th>antecedent support</th>\n",
              "      <th>consequent support</th>\n",
              "      <th>support</th>\n",
              "      <th>confidence</th>\n",
              "      <th>lift</th>\n",
              "      <th>leverage</th>\n",
              "      <th>conviction</th>\n",
              "    </tr>\n",
              "  </thead>\n",
              "  <tbody>\n",
              "    <tr>\n",
              "      <th>51</th>\n",
              "      <td>(root vegetables)</td>\n",
              "      <td>(whole milk, other vegetables)</td>\n",
              "      <td>0.108998</td>\n",
              "      <td>0.074835</td>\n",
              "      <td>0.023183</td>\n",
              "      <td>0.212687</td>\n",
              "      <td>2.842082</td>\n",
              "      <td>0.015026</td>\n",
              "      <td>1.175091</td>\n",
              "    </tr>\n",
              "    <tr>\n",
              "      <th>49</th>\n",
              "      <td>(whole milk, other vegetables)</td>\n",
              "      <td>(root vegetables)</td>\n",
              "      <td>0.074835</td>\n",
              "      <td>0.108998</td>\n",
              "      <td>0.023183</td>\n",
              "      <td>0.309783</td>\n",
              "      <td>2.842082</td>\n",
              "      <td>0.015026</td>\n",
              "      <td>1.290900</td>\n",
              "    </tr>\n",
              "    <tr>\n",
              "      <th>70</th>\n",
              "      <td>(pip fruit)</td>\n",
              "      <td>(tropical fruit)</td>\n",
              "      <td>0.075648</td>\n",
              "      <td>0.104931</td>\n",
              "      <td>0.020437</td>\n",
              "      <td>0.270161</td>\n",
              "      <td>2.574648</td>\n",
              "      <td>0.012499</td>\n",
              "      <td>1.226392</td>\n",
              "    </tr>\n",
              "    <tr>\n",
              "      <th>48</th>\n",
              "      <td>(whole milk, root vegetables)</td>\n",
              "      <td>(other vegetables)</td>\n",
              "      <td>0.048907</td>\n",
              "      <td>0.193493</td>\n",
              "      <td>0.023183</td>\n",
              "      <td>0.474012</td>\n",
              "      <td>2.449770</td>\n",
              "      <td>0.013719</td>\n",
              "      <td>1.533320</td>\n",
              "    </tr>\n",
              "    <tr>\n",
              "      <th>8</th>\n",
              "      <td>(other vegetables)</td>\n",
              "      <td>(root vegetables)</td>\n",
              "      <td>0.193493</td>\n",
              "      <td>0.108998</td>\n",
              "      <td>0.047382</td>\n",
              "      <td>0.244877</td>\n",
              "      <td>2.246605</td>\n",
              "      <td>0.026291</td>\n",
              "      <td>1.179941</td>\n",
              "    </tr>\n",
              "    <tr>\n",
              "      <th>7</th>\n",
              "      <td>(root vegetables)</td>\n",
              "      <td>(other vegetables)</td>\n",
              "      <td>0.108998</td>\n",
              "      <td>0.193493</td>\n",
              "      <td>0.047382</td>\n",
              "      <td>0.434701</td>\n",
              "      <td>2.246605</td>\n",
              "      <td>0.026291</td>\n",
              "      <td>1.426693</td>\n",
              "    </tr>\n",
              "    <tr>\n",
              "      <th>57</th>\n",
              "      <td>(whole milk, other vegetables)</td>\n",
              "      <td>(yogurt)</td>\n",
              "      <td>0.074835</td>\n",
              "      <td>0.139502</td>\n",
              "      <td>0.022267</td>\n",
              "      <td>0.297554</td>\n",
              "      <td>2.132979</td>\n",
              "      <td>0.011828</td>\n",
              "      <td>1.225003</td>\n",
              "    </tr>\n",
              "    <tr>\n",
              "      <th>30</th>\n",
              "      <td>(whipped/sour cream)</td>\n",
              "      <td>(other vegetables)</td>\n",
              "      <td>0.071683</td>\n",
              "      <td>0.193493</td>\n",
              "      <td>0.028876</td>\n",
              "      <td>0.402837</td>\n",
              "      <td>2.081924</td>\n",
              "      <td>0.015006</td>\n",
              "      <td>1.350565</td>\n",
              "    </tr>\n",
              "    <tr>\n",
              "      <th>67</th>\n",
              "      <td>(whipped/sour cream)</td>\n",
              "      <td>(yogurt)</td>\n",
              "      <td>0.071683</td>\n",
              "      <td>0.139502</td>\n",
              "      <td>0.020742</td>\n",
              "      <td>0.289362</td>\n",
              "      <td>2.074251</td>\n",
              "      <td>0.010742</td>\n",
              "      <td>1.210881</td>\n",
              "    </tr>\n",
              "    <tr>\n",
              "      <th>56</th>\n",
              "      <td>(whole milk, yogurt)</td>\n",
              "      <td>(other vegetables)</td>\n",
              "      <td>0.056024</td>\n",
              "      <td>0.193493</td>\n",
              "      <td>0.022267</td>\n",
              "      <td>0.397459</td>\n",
              "      <td>2.054131</td>\n",
              "      <td>0.011427</td>\n",
              "      <td>1.338511</td>\n",
              "    </tr>\n",
              "  </tbody>\n",
              "</table>\n",
              "</div>"
            ],
            "text/plain": [
              "                       antecedents  ... conviction\n",
              "51               (root vegetables)  ...   1.175091\n",
              "49  (whole milk, other vegetables)  ...   1.290900\n",
              "70                     (pip fruit)  ...   1.226392\n",
              "48   (whole milk, root vegetables)  ...   1.533320\n",
              "8               (other vegetables)  ...   1.179941\n",
              "7                (root vegetables)  ...   1.426693\n",
              "57  (whole milk, other vegetables)  ...   1.225003\n",
              "30            (whipped/sour cream)  ...   1.350565\n",
              "67            (whipped/sour cream)  ...   1.210881\n",
              "56            (whole milk, yogurt)  ...   1.338511\n",
              "\n",
              "[10 rows x 9 columns]"
            ]
          },
          "metadata": {},
          "execution_count": 19
        }
      ]
    },
    {
      "cell_type": "markdown",
      "source": [
        "# Concluding Note"
      ],
      "metadata": {
        "id": "nyOjJO2Ro0qr"
      }
    },
    {
      "cell_type": "markdown",
      "source": [
        "Lets re-run the Apriori Algorithm and the FP Growth algorithm and compare the time to run."
      ],
      "metadata": {
        "id": "YE-IsdUio5yq"
      }
    },
    {
      "cell_type": "code",
      "source": [
        "%%time\n",
        "temp_01 = apriori(df_onehot, min_support = 0.02, use_colnames = True)"
      ],
      "metadata": {
        "colab": {
          "base_uri": "https://localhost:8080/"
        },
        "id": "qG8vaucUhTLW",
        "outputId": "99e5d716-191b-41c5-b0a8-9a0ad903eb4a"
      },
      "execution_count": 20,
      "outputs": [
        {
          "output_type": "stream",
          "name": "stdout",
          "text": [
            "CPU times: user 157 ms, sys: 6.39 ms, total: 163 ms\n",
            "Wall time: 166 ms\n"
          ]
        }
      ]
    },
    {
      "cell_type": "code",
      "source": [
        "%%time\n",
        "temp_02 = fpgrowth(df_onehot, min_support=0.02, use_colnames = True)"
      ],
      "metadata": {
        "colab": {
          "base_uri": "https://localhost:8080/"
        },
        "id": "cyS_fqLrhTIu",
        "outputId": "7bec9fb1-9fec-462c-ea84-fc5d7a89b8bf"
      },
      "execution_count": 21,
      "outputs": [
        {
          "output_type": "stream",
          "name": "stdout",
          "text": [
            "CPU times: user 255 ms, sys: 11 ms, total: 266 ms\n",
            "Wall time: 274 ms\n"
          ]
        }
      ]
    },
    {
      "cell_type": "markdown",
      "source": [
        "In this case, both methods took about the same amount of time, but if the dataset size were to increase dramatically then the FP Growth method should start to show significantly less time to calculate."
      ],
      "metadata": {
        "id": "5VvJFto8pU5A"
      }
    }
  ]
}